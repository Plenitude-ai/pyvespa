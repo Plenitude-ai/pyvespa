{
 "cells": [
  {
   "cell_type": "markdown",
   "id": "given-adoption",
   "metadata": {
    "pycharm": {
     "name": "#%% md\n"
    }
   },
   "source": [
    "<picture>\n",
    "  <source media=\"(prefers-color-scheme: dark)\" srcset=\"https://assets.vespa.ai/logos/Vespa-logo-green-RGB.svg\">\n",
    "  <source media=\"(prefers-color-scheme: light)\" srcset=\"https://assets.vespa.ai/logos/Vespa-logo-dark-RGB.svg\">\n",
    "  <img alt=\"#Vespa\" width=\"200\" src=\"https://assets.vespa.ai/logos/Vespa-logo-dark-RGB.svg\" style=\"margin-bottom: 25px;\">\n",
    "</picture>\n",
    "\n",
    "# Evaluating a Vespa Application\n",
    "\n",
    "We are often asked by users and customers what is the best retrieval and ranking strategy for a given use case. And even though we might sometimes have an intuition, we always recommend to set up experiments and do a proper quantitative evaluation.\n",
    "\n",
    "This guide will show how you easily can evaluate a Vespa application using pyvespa's `VespaEvaluator` class.\n",
    "\n",
    "We will define and compare 3 different ranking strategies in this guide:\n",
    "\n",
    "1. BM25 (The solid baseline)\n",
    "2. Semantic (using https://huggingface.co/intfloat/e5-small-v2)\n",
    "3. Fusion (Combining BM25 and Semantic with [reciprocal rank fusion](https://docs.vespa.ai/en/phased-ranking.html#cross-hit-normalization-including-reciprocal-rank-fusion))"
   ]
  },
  {
   "cell_type": "markdown",
   "id": "4f8c1448",
   "metadata": {},
   "source": [
    "<div class=\"alert alert-info\">\n",
    "    Refer to <a href=\"https://pyvespa.readthedocs.io/en/latest/troubleshooting.html\">troubleshooting</a>\n",
    "    for any problem when running this guide.\n",
    "</div>\n"
   ]
  },
  {
   "cell_type": "markdown",
   "id": "148d275b",
   "metadata": {},
   "source": [
    "**Pre-requisite**: Create a tenant at [cloud.vespa.ai](https://cloud.vespa.ai/), save the tenant name.\n",
    "\n",
    "[![Open In Colab](https://colab.research.google.com/assets/colab-badge.svg)](https://colab.research.google.com/github/vespa-engine/pyvespa/blob/master/docs/sphinx/source/getting-started-pyvespa-cloud.ipynb)\n"
   ]
  },
  {
   "cell_type": "markdown",
   "id": "366b0d83",
   "metadata": {},
   "source": [
    "## Install\n",
    "\n",
    "Install [pyvespa](https://pyvespa.readthedocs.io/) >= 0.53.0\n",
    "and the [Vespa CLI](https://docs.vespa.ai/en/vespa-cli.html).\n",
    "The Vespa CLI is used for data and control plane key management ([Vespa Cloud Security Guide](https://cloud.vespa.ai/en/security/guide)).\n"
   ]
  },
  {
   "cell_type": "code",
   "execution_count": 1,
   "id": "136750de",
   "metadata": {},
   "outputs": [],
   "source": [
    "#!pip3 install pyvespa vespacli datasets pandas"
   ]
  },
  {
   "cell_type": "markdown",
   "id": "02f706ff",
   "metadata": {},
   "source": [
    "## Configure application\n"
   ]
  },
  {
   "cell_type": "code",
   "execution_count": 2,
   "id": "9ca4da83",
   "metadata": {},
   "outputs": [],
   "source": [
    "# Replace with your tenant name from the Vespa Cloud Console\n",
    "tenant_name = \"vespa-team\"\n",
    "# Replace with your application name (does not need to exist yet)\n",
    "application = \"evaluation\"\n",
    "schema_name = \"doc\""
   ]
  },
  {
   "cell_type": "markdown",
   "id": "db637322",
   "metadata": {},
   "source": [
    "## Create an application package\n",
    "\n",
    "The [application package](https://pyvespa.readthedocs.io/en/latest/reference-api.html#vespa.package.ApplicationPackage)\n",
    "has all the Vespa configuration files -\n",
    "create one from scratch:\n"
   ]
  },
  {
   "cell_type": "code",
   "execution_count": 3,
   "id": "bd5c2629",
   "metadata": {},
   "outputs": [],
   "source": [
    "from vespa.package import (\n",
    "    ApplicationPackage,\n",
    "    Field,\n",
    "    Schema,\n",
    "    Document,\n",
    "    HNSW,\n",
    "    RankProfile,\n",
    "    Component,\n",
    "    Parameter,\n",
    "    FieldSet,\n",
    "    GlobalPhaseRanking,\n",
    "    Function,\n",
    ")\n",
    "\n",
    "package = ApplicationPackage(\n",
    "    name=application,\n",
    "    schema=[\n",
    "        Schema(\n",
    "            name=schema_name,\n",
    "            document=Document(\n",
    "                fields=[\n",
    "                    Field(name=\"id\", type=\"string\", indexing=[\"summary\"]),\n",
    "                    Field(\n",
    "                        name=\"text\",\n",
    "                        type=\"string\",\n",
    "                        indexing=[\"index\", \"summary\"],\n",
    "                        index=\"enable-bm25\",\n",
    "                        bolding=True,\n",
    "                    ),\n",
    "                    Field(\n",
    "                        name=\"embedding\",\n",
    "                        type=\"tensor<float>(x[384])\",\n",
    "                        indexing=[\n",
    "                            \"input text\",\n",
    "                            \"embed\",  # uses default model\n",
    "                            \"index\",\n",
    "                            \"attribute\",\n",
    "                        ],\n",
    "                        ann=HNSW(distance_metric=\"angular\"),\n",
    "                        is_document_field=False,\n",
    "                    ),\n",
    "                ]\n",
    "            ),\n",
    "            fieldsets=[FieldSet(name=\"default\", fields=[\"text\"])],\n",
    "            rank_profiles=[\n",
    "                RankProfile(\n",
    "                    name=\"bm25\",\n",
    "                    inputs=[(\"query(q)\", \"tensor<float>(x[384])\")],\n",
    "                    functions=[Function(name=\"bm25sum\", expression=\"bm25(text)\")],\n",
    "                    first_phase=\"bm25sum\",\n",
    "                ),\n",
    "                RankProfile(\n",
    "                    name=\"semantic\",\n",
    "                    inputs=[(\"query(q)\", \"tensor<float>(x[384])\")],\n",
    "                    first_phase=\"closeness(field, embedding)\",\n",
    "                ),\n",
    "                RankProfile(\n",
    "                    name=\"fusion\",\n",
    "                    inherits=\"bm25\",\n",
    "                    inputs=[(\"query(q)\", \"tensor<float>(x[384])\")],\n",
    "                    first_phase=\"closeness(field, embedding)\",\n",
    "                    global_phase=GlobalPhaseRanking(\n",
    "                        expression=\"reciprocal_rank_fusion(bm25sum, closeness(field, embedding))\",\n",
    "                        rerank_count=1000,\n",
    "                    ),\n",
    "                ),\n",
    "            ],\n",
    "        )\n",
    "    ],\n",
    "    components=[\n",
    "        Component(\n",
    "            id=\"e5\",\n",
    "            type=\"hugging-face-embedder\",\n",
    "            parameters=[\n",
    "                Parameter(\n",
    "                    \"transformer-model\",\n",
    "                    {\n",
    "                        \"url\": \"https://huggingface.co/intfloat/e5-small-v2/resolve/main/model.onnx\"\n",
    "                    },\n",
    "                ),\n",
    "                Parameter(\n",
    "                    \"tokenizer-model\",\n",
    "                    {\n",
    "                        \"url\": \"https://huggingface.co/intfloat/e5-small-v2/resolve/main/tokenizer.json\"\n",
    "                    },\n",
    "                ),\n",
    "            ],\n",
    "        )\n",
    "    ],\n",
    ")"
   ]
  },
  {
   "cell_type": "markdown",
   "id": "2c5e2943",
   "metadata": {},
   "source": [
    "Note that the name cannot have `-` or `_`.\n"
   ]
  },
  {
   "cell_type": "markdown",
   "id": "careful-savage",
   "metadata": {},
   "source": [
    "## Deploy to Vespa Cloud\n",
    "\n",
    "The app is now defined and ready to deploy to Vespa Cloud.\n",
    "\n",
    "Deploy `package` to Vespa Cloud, by creating an instance of\n",
    "[VespaCloud](https://pyvespa.readthedocs.io/en/latest/reference-api.html#vespa.deployment.VespaCloud):\n"
   ]
  },
  {
   "cell_type": "code",
   "execution_count": 4,
   "id": "canadian-blood",
   "metadata": {},
   "outputs": [
    {
     "name": "stdout",
     "output_type": "stream",
     "text": [
      "Setting application...\n",
      "Running: vespa config set application vespa-team.evaluation\n",
      "Setting target cloud...\n",
      "Running: vespa config set target cloud\n",
      "\n",
      "Api-key found for control plane access. Using api-key.\n"
     ]
    }
   ],
   "source": [
    "from vespa.deployment import VespaCloud\n",
    "import os\n",
    "\n",
    "# Key is only used for CI/CD. Can be removed if logging in interactively\n",
    "\n",
    "vespa_cloud = VespaCloud(\n",
    "    tenant=tenant_name,\n",
    "    application=application,\n",
    "    key_content=os.getenv(\n",
    "        \"VESPA_TEAM_API_KEY\", None\n",
    "    ),  # Key is only used for CI/CD. Can be removed if logging in interactively\n",
    "    application_package=package,\n",
    ")"
   ]
  },
  {
   "cell_type": "markdown",
   "id": "197c0a27",
   "metadata": {},
   "source": [
    "For more details on different authentication options and methods, see [authenticating-to-vespa-cloud](https://pyvespa.readthedocs.io/en/latest/authenticating-to-vespa-cloud.html).\n",
    "\n",
    "The following will upload the application package to Vespa Cloud Dev Zone (`aws-us-east-1c`), read more about [Vespa Zones](https://cloud.vespa.ai/en/reference/zones.html).\n",
    "The Vespa Cloud Dev Zone is considered as a sandbox environment where resources are down-scaled and idle deployments are expired automatically.\n",
    "For information about production deployments, see the following [method](https://pyvespa.readthedocs.io/en/latest/reference-api.html#vespa.deployment.VespaCloud.deploy_to_prod).\n",
    "\n",
    "> Note: Deployments to dev and perf expire after 7 days of inactivity, i.e., 7 days after running deploy. This applies to all plans, not only the Free Trial. Use the Vespa Console to extend the expiry period, or redeploy the application to add 7 more days.\n"
   ]
  },
  {
   "cell_type": "markdown",
   "id": "fb2ba0e1",
   "metadata": {},
   "source": [
    "Now deploy the app to Vespa Cloud dev zone.\n",
    "\n",
    "The first deployment typically takes 2 minutes until the endpoint is up. (Applications that for example refer to large onnx-models may take a bit longer.)\n"
   ]
  },
  {
   "cell_type": "code",
   "execution_count": 5,
   "id": "337d9b05",
   "metadata": {},
   "outputs": [
    {
     "name": "stdout",
     "output_type": "stream",
     "text": [
      "Deployment started in run 3 of dev-aws-us-east-1c for vespa-team.evaluation. This may take a few minutes the first time.\n",
      "INFO    [16:08:38]  Deploying platform version 8.470.28 and application dev build 3 for dev-aws-us-east-1c of default ...\n",
      "INFO    [16:08:38]  Using CA signed certificate version 1\n",
      "INFO    [16:08:38]  Using 1 nodes in container cluster 'evaluation_container'\n",
      "INFO    [16:08:41]  Session 332716 for tenant 'vespa-team' prepared and activated.\n",
      "INFO    [16:08:41]  ######## Details for all nodes ########\n",
      "INFO    [16:08:41]  h97566f.dev.us-east-1c.aws.vespa-cloud.net: expected to be UP\n",
      "INFO    [16:08:41]  --- platform vespa/cloud-tenant-rhel8:8.470.28\n",
      "INFO    [16:08:41]  --- container-clustercontroller on port 19050 has config generation 332716, wanted is 332716\n",
      "INFO    [16:08:41]  --- metricsproxy-container on port 19092 has config generation 332716, wanted is 332716\n",
      "INFO    [16:08:41]  h107774a.dev.us-east-1c.aws.vespa-cloud.net: expected to be UP\n",
      "INFO    [16:08:41]  --- platform vespa/cloud-tenant-rhel8:8.470.28\n",
      "INFO    [16:08:41]  --- container on port 4080 has config generation 332707, wanted is 332716\n",
      "INFO    [16:08:41]  --- metricsproxy-container on port 19092 has config generation 332707, wanted is 332716\n",
      "INFO    [16:08:41]  h97482a.dev.us-east-1c.aws.vespa-cloud.net: expected to be UP\n",
      "INFO    [16:08:41]  --- platform vespa/cloud-tenant-rhel8:8.470.28\n",
      "INFO    [16:08:41]  --- storagenode on port 19102 has config generation 332716, wanted is 332716\n",
      "INFO    [16:08:41]  --- searchnode on port 19107 has config generation 332716, wanted is 332716\n",
      "INFO    [16:08:41]  --- distributor on port 19111 has config generation 332707, wanted is 332716\n",
      "INFO    [16:08:41]  --- metricsproxy-container on port 19092 has config generation 332716, wanted is 332716\n",
      "INFO    [16:08:41]  h97530a.dev.us-east-1c.aws.vespa-cloud.net: expected to be UP\n",
      "INFO    [16:08:41]  --- platform vespa/cloud-tenant-rhel8:8.470.28\n",
      "INFO    [16:08:41]  --- logserver-container on port 4080 has config generation 332716, wanted is 332716\n",
      "INFO    [16:08:41]  --- metricsproxy-container on port 19092 has config generation 332716, wanted is 332716\n",
      "INFO    [16:08:45]  Found endpoints:\n",
      "INFO    [16:08:45]  - dev.aws-us-east-1c\n",
      "INFO    [16:08:45]   |-- https://ee8bb9d9.ccc9bd09.z.vespa-app.cloud/ (cluster 'evaluation_container')\n",
      "INFO    [16:08:45]  Deployment of new application complete!\n",
      "Only region: aws-us-east-1c available in dev environment.\n",
      "Found mtls endpoint for evaluation_container\n",
      "URL: https://ee8bb9d9.ccc9bd09.z.vespa-app.cloud/\n",
      "Application is up!\n"
     ]
    }
   ],
   "source": [
    "from vespa.application import Vespa\n",
    "\n",
    "app: Vespa = vespa_cloud.deploy()"
   ]
  },
  {
   "cell_type": "markdown",
   "id": "aaae2f91",
   "metadata": {},
   "source": [
    "If the deployment failed, it is possible you forgot to add the key in the Vespa Cloud Console in the `vespa auth api-key` step above.\n",
    "\n",
    "If you can authenticate, you should see lines like the following\n",
    "\n",
    "```\n",
    " Deployment started in run 1 of dev-aws-us-east-1c for mytenant.hybridsearch.\n",
    "```\n",
    "\n",
    "The deployment takes a few minutes the first time while Vespa Cloud sets up the resources for your Vespa application\n",
    "\n",
    "`app` now holds a reference to a [Vespa](https://pyvespa.readthedocs.io/en/latest/reference-api.html#vespa.application.Vespa) instance. We can access the\n",
    "mTLS protected endpoint name using the control-plane (vespa_cloud) instance. This endpoint we can query and feed to (data plane access) using the\n",
    "mTLS certificate generated in previous steps.\n",
    "\n",
    "See [Authenticating to Vespa Cloud](https://pyvespa.readthedocs.io/en/latest/authenticating-to-vespa-cloud.html) for details on using token authentication instead of mTLS.\n"
   ]
  },
  {
   "cell_type": "markdown",
   "id": "sealed-mustang",
   "metadata": {},
   "source": [
    "## Getting your evaluation data\n",
    "\n",
    "For evaluating information retrieval methods, in addition to the document corpus, we also need a set of queries and a mapping from queries to relevant documents.\n",
    "\n",
    "For this guide, we will use the [NanoMSMARCO](https://huggingface.co/datasets/zeta-alpha-ai/NanoMSMARCO) dataset, made available on huggingface by [Zeta Alpha](https://zeta-alpha.com/).\n",
    "\n",
    "This dataset is a subset of their 🍺[NanoBEIR](https://huggingface.co/collections/zeta-alpha-ai/nanobeir-66e1a0af21dfd93e620cd9f6)-collection, with 50 queries and up to 10K documents each. \n",
    "\n",
    "This is a great dataset for testing and evaluating information retrieval methods quickly, as it is small and easy to work with. \n",
    "\n",
    "Note that for almost any real-world use case, we would recommend you to create your own evaluation dataset. See [Vespa blog post](https://blog.vespa.ai/improving-retrieval-with-llm-as-a-judge/) on how you can get help from an LLM for this. "
   ]
  },
  {
   "cell_type": "code",
   "execution_count": 6,
   "id": "executed-reservoir",
   "metadata": {},
   "outputs": [],
   "source": [
    "from datasets import load_dataset\n",
    "\n",
    "dataset_id = \"zeta-alpha-ai/NanoMSMARCO\"\n",
    "\n",
    "dataset = load_dataset(dataset_id, \"corpus\", split=\"train\", streaming=True)\n",
    "vespa_feed = dataset.map(\n",
    "    lambda x: {\n",
    "        \"id\": x[\"_id\"],\n",
    "        \"fields\": {\"text\": x[\"text\"], \"id\": x[\"_id\"]},\n",
    "    }\n",
    ")"
   ]
  },
  {
   "cell_type": "code",
   "execution_count": 7,
   "id": "8d6353a8",
   "metadata": {},
   "outputs": [],
   "source": [
    "query_ds = load_dataset(dataset_id, \"queries\", split=\"train\")\n",
    "qrels = load_dataset(dataset_id, \"qrels\", split=\"train\")"
   ]
  },
  {
   "cell_type": "code",
   "execution_count": 8,
   "id": "eec1debe",
   "metadata": {},
   "outputs": [],
   "source": [
    "ids_to_query = dict(zip(query_ds[\"_id\"], query_ds[\"text\"]))"
   ]
  },
  {
   "cell_type": "markdown",
   "id": "45af2e3f",
   "metadata": {},
   "source": [
    "Let us print the first 5 queries:"
   ]
  },
  {
   "cell_type": "code",
   "execution_count": 9,
   "id": "da912bcb",
   "metadata": {},
   "outputs": [
    {
     "name": "stdout",
     "output_type": "stream",
     "text": [
      "qid: 994479, query: which health care system provides all citizens or residents with equal access to health care services\n",
      "qid: 1009388, query: what's right in health care\n",
      "qid: 1088332, query: weather in oran\n",
      "qid: 265729, query: how long keep financial records\n",
      "qid: 1099433, query: how do hoa fees work\n",
      "qid: 200600, query: heels or heal\n"
     ]
    }
   ],
   "source": [
    "for idx, (qid, q) in enumerate(ids_to_query.items()):\n",
    "    print(f\"qid: {qid}, query: {q}\")\n",
    "    if idx == 5:\n",
    "        break"
   ]
  },
  {
   "cell_type": "code",
   "execution_count": 10,
   "id": "aec77319",
   "metadata": {},
   "outputs": [],
   "source": [
    "relevant_docs = dict(zip(qrels[\"query-id\"], qrels[\"corpus-id\"]))"
   ]
  },
  {
   "cell_type": "markdown",
   "id": "b96ecf9a",
   "metadata": {},
   "source": [
    "Let us print the first 5 query ids and their relevant documents:"
   ]
  },
  {
   "cell_type": "code",
   "execution_count": 11,
   "id": "b3d10538",
   "metadata": {},
   "outputs": [
    {
     "name": "stdout",
     "output_type": "stream",
     "text": [
      "qid: 994479, doc_id: 7275120\n",
      "qid: 1009388, doc_id: 7248824\n",
      "qid: 1088332, doc_id: 7094398\n",
      "qid: 265729, doc_id: 7369987\n",
      "qid: 1099433, doc_id: 7255675\n",
      "qid: 200600, doc_id: 7929603\n"
     ]
    }
   ],
   "source": [
    "for idx, (qid, doc_id) in enumerate(relevant_docs.items()):\n",
    "    print(f\"qid: {qid}, doc_id: {doc_id}\")\n",
    "    if idx == 5:\n",
    "        break"
   ]
  },
  {
   "cell_type": "markdown",
   "id": "2fc82e1c",
   "metadata": {},
   "source": [
    "We can see that this dataset only has one relevant document per query.\n",
    "The `VespaEvaluator` class handles this just fine, but you could also provide a set of relevant documents per query if there are multiple relevant docs.\n",
    "\n",
    "```python\n",
    "qrels = {\n",
    "    \"q1\": {\"doc1\", \"doc2\"},\n",
    "    \"q2\": {\"doc3\", \"doc4\"},\n",
    "    # etc. \n",
    "}\n",
    "```"
   ]
  },
  {
   "cell_type": "markdown",
   "id": "4f0ca33f",
   "metadata": {},
   "source": [
    "Now we can feed to Vespa using `feed_iterable` which accepts any `Iterable` and an optional callback function where we can\n",
    "check the outcome of each operation. The application is configured to use [embedding](https://docs.vespa.ai/en/embedding.html)\n",
    "functionality, that produce a vector embedding using a concatenation of the title and the body input fields. This step may be resource intensive, depending on the model size.\n",
    "\n",
    "Read more about embedding inference in Vespa in the [Accelerating Transformer-based Embedding Retrieval with Vespa](https://blog.vespa.ai/accelerating-transformer-based-embedding-retrieval-with-vespa/)\n",
    "blog post.\n",
    "\n",
    "Default node resources in Vespa Cloud have 2 v-cpu for the Dev Zone.\n"
   ]
  },
  {
   "cell_type": "code",
   "execution_count": 12,
   "id": "bottom-memorabilia",
   "metadata": {},
   "outputs": [],
   "source": [
    "from vespa.io import VespaResponse\n",
    "\n",
    "\n",
    "def callback(response: VespaResponse, id: str):\n",
    "    if not response.is_successful():\n",
    "        print(f\"Error when feeding document {id}: {response.get_json()}\")\n",
    "\n",
    "\n",
    "app.feed_iterable(vespa_feed, schema=\"doc\", namespace=\"tutorial\", callback=callback)"
   ]
  },
  {
   "cell_type": "code",
   "execution_count": 13,
   "id": "f4af03f7",
   "metadata": {},
   "outputs": [],
   "source": [
    "from vespa.evaluation import VespaEvaluator\n",
    "import vespa.querybuilder as qb\n",
    "\n",
    "\n",
    "def semantic_query_fn(query_text: str, top_k: int) -> dict:\n",
    "    \"\"\"\n",
    "    Convert a plain text user query to a Vespa query body dict.\n",
    "    The example below uses a YQL statement and requests a fixed number of hits.\n",
    "    Adapt this for your ranking profile, filters, etc.\n",
    "    \"\"\"\n",
    "    return {\n",
    "        \"yql\": str(\n",
    "            qb.select(\"*\")\n",
    "            .from_(schema_name)\n",
    "            .where(\n",
    "                qb.nearestNeighbor(\n",
    "                    field=\"embedding\",\n",
    "                    query_vector=\"q\",\n",
    "                    annotations={\"targetHits\": 1000},\n",
    "                )\n",
    "            )\n",
    "        ),\n",
    "        \"query\": query_text,\n",
    "        \"ranking\": \"semantic\",\n",
    "        \"input.query(q)\": f\"embed({query_text})\",\n",
    "        \"hits\": top_k,\n",
    "        \"presentation.timing\": True,\n",
    "    }\n",
    "\n",
    "\n",
    "def bm25_query_fn(query_text: str, top_k: int) -> dict:\n",
    "    \"\"\"\n",
    "    Convert a plain text user query to a Vespa query body dict.\n",
    "    The example below uses a YQL statement and requests a fixed number of hits.\n",
    "    Adapt this for your ranking profile, filters, etc.\n",
    "    \"\"\"\n",
    "    return {\n",
    "        \"yql\": \"select * from sources * where userQuery();\",\n",
    "        \"query\": query_text,\n",
    "        \"ranking\": \"bm25\",\n",
    "        \"hits\": top_k,\n",
    "        \"presentation.timing\": True,\n",
    "    }\n",
    "\n",
    "\n",
    "def fusion_query_fn(query_text: str, top_k: int) -> dict:\n",
    "    \"\"\"\n",
    "    Convert a plain text user query to a Vespa query body dict.\n",
    "    The example below uses a YQL statement and requests a fixed number of hits.\n",
    "    Adapt this for your ranking profile, filters, etc.\n",
    "    \"\"\"\n",
    "    return {\n",
    "        \"yql\": str(\n",
    "            qb.select(\"*\")\n",
    "            .from_(schema_name)\n",
    "            .where(\n",
    "                qb.nearestNeighbor(\n",
    "                    field=\"embedding\",\n",
    "                    query_vector=\"q\",\n",
    "                    annotations={\"targetHits\": 1000},\n",
    "                )\n",
    "                | qb.userQuery(query_text)\n",
    "            )\n",
    "        ),\n",
    "        # \"select * from sources * where userQuery() OR ({targetHits:1000}nearestNeighbor(embedding,q));\",\n",
    "        \"query\": query_text,\n",
    "        \"ranking\": \"fusion\",\n",
    "        \"input.query(q)\": f\"embed({query_text})\",\n",
    "        \"hits\": top_k,\n",
    "        \"presentation.timing\": True,\n",
    "    }"
   ]
  },
  {
   "cell_type": "code",
   "execution_count": 15,
   "id": "b304dd4b",
   "metadata": {},
   "outputs": [
    {
     "name": "stdout",
     "output_type": "stream",
     "text": [
      "Evaluating semantic...\n",
      "Evaluating bm25...\n",
      "Evaluating fusion...\n"
     ]
    }
   ],
   "source": [
    "all_results = {}\n",
    "for evaluator_name, query_fn in [\n",
    "    (\"semantic\", semantic_query_fn),\n",
    "    (\"bm25\", bm25_query_fn),\n",
    "    (\"fusion\", fusion_query_fn),\n",
    "]:\n",
    "    print(f\"Evaluating {evaluator_name}...\")\n",
    "    evaluator = VespaEvaluator(\n",
    "        queries=ids_to_query,\n",
    "        relevant_docs=relevant_docs,\n",
    "        vespa_query_fn=query_fn,\n",
    "        app=app,\n",
    "        name=evaluator_name,\n",
    "        write_csv=True,  # optionally write metrics to CSV\n",
    "    )\n",
    "\n",
    "    results = evaluator()\n",
    "    all_results[evaluator_name] = results"
   ]
  },
  {
   "cell_type": "code",
   "execution_count": 16,
   "id": "b700831d",
   "metadata": {},
   "outputs": [
    {
     "data": {
      "text/html": [
       "<div>\n",
       "<style scoped>\n",
       "    .dataframe tbody tr th:only-of-type {\n",
       "        vertical-align: middle;\n",
       "    }\n",
       "\n",
       "    .dataframe tbody tr th {\n",
       "        vertical-align: top;\n",
       "    }\n",
       "\n",
       "    .dataframe thead th {\n",
       "        text-align: right;\n",
       "    }\n",
       "</style>\n",
       "<table border=\"1\" class=\"dataframe\">\n",
       "  <thead>\n",
       "    <tr style=\"text-align: right;\">\n",
       "      <th></th>\n",
       "      <th>semantic</th>\n",
       "      <th>bm25</th>\n",
       "      <th>fusion</th>\n",
       "    </tr>\n",
       "  </thead>\n",
       "  <tbody>\n",
       "    <tr>\n",
       "      <th>accuracy@1</th>\n",
       "      <td>0.380000</td>\n",
       "      <td>0.300000</td>\n",
       "      <td>0.440000</td>\n",
       "    </tr>\n",
       "    <tr>\n",
       "      <th>accuracy@3</th>\n",
       "      <td>0.640000</td>\n",
       "      <td>0.600000</td>\n",
       "      <td>0.680000</td>\n",
       "    </tr>\n",
       "    <tr>\n",
       "      <th>accuracy@5</th>\n",
       "      <td>0.720000</td>\n",
       "      <td>0.660000</td>\n",
       "      <td>0.720000</td>\n",
       "    </tr>\n",
       "    <tr>\n",
       "      <th>accuracy@10</th>\n",
       "      <td>0.820000</td>\n",
       "      <td>0.740000</td>\n",
       "      <td>0.800000</td>\n",
       "    </tr>\n",
       "    <tr>\n",
       "      <th>precision@1</th>\n",
       "      <td>0.380000</td>\n",
       "      <td>0.300000</td>\n",
       "      <td>0.440000</td>\n",
       "    </tr>\n",
       "    <tr>\n",
       "      <th>recall@1</th>\n",
       "      <td>0.380000</td>\n",
       "      <td>0.300000</td>\n",
       "      <td>0.440000</td>\n",
       "    </tr>\n",
       "    <tr>\n",
       "      <th>precision@3</th>\n",
       "      <td>0.213333</td>\n",
       "      <td>0.200000</td>\n",
       "      <td>0.226667</td>\n",
       "    </tr>\n",
       "    <tr>\n",
       "      <th>recall@3</th>\n",
       "      <td>0.640000</td>\n",
       "      <td>0.600000</td>\n",
       "      <td>0.680000</td>\n",
       "    </tr>\n",
       "    <tr>\n",
       "      <th>precision@5</th>\n",
       "      <td>0.144000</td>\n",
       "      <td>0.132000</td>\n",
       "      <td>0.144000</td>\n",
       "    </tr>\n",
       "    <tr>\n",
       "      <th>recall@5</th>\n",
       "      <td>0.720000</td>\n",
       "      <td>0.660000</td>\n",
       "      <td>0.720000</td>\n",
       "    </tr>\n",
       "    <tr>\n",
       "      <th>precision@10</th>\n",
       "      <td>0.082000</td>\n",
       "      <td>0.074000</td>\n",
       "      <td>0.080000</td>\n",
       "    </tr>\n",
       "    <tr>\n",
       "      <th>recall@10</th>\n",
       "      <td>0.820000</td>\n",
       "      <td>0.740000</td>\n",
       "      <td>0.800000</td>\n",
       "    </tr>\n",
       "    <tr>\n",
       "      <th>mrr@10</th>\n",
       "      <td>0.530857</td>\n",
       "      <td>0.450079</td>\n",
       "      <td>0.553167</td>\n",
       "    </tr>\n",
       "    <tr>\n",
       "      <th>ndcg@10</th>\n",
       "      <td>0.600740</td>\n",
       "      <td>0.520629</td>\n",
       "      <td>0.612877</td>\n",
       "    </tr>\n",
       "    <tr>\n",
       "      <th>map@100</th>\n",
       "      <td>0.539349</td>\n",
       "      <td>0.459419</td>\n",
       "      <td>0.563385</td>\n",
       "    </tr>\n",
       "    <tr>\n",
       "      <th>searchtime_avg</th>\n",
       "      <td>0.027400</td>\n",
       "      <td>0.016460</td>\n",
       "      <td>0.028160</td>\n",
       "    </tr>\n",
       "    <tr>\n",
       "      <th>searchtime_q50</th>\n",
       "      <td>0.013000</td>\n",
       "      <td>0.015500</td>\n",
       "      <td>0.023000</td>\n",
       "    </tr>\n",
       "    <tr>\n",
       "      <th>searchtime_q90</th>\n",
       "      <td>0.084600</td>\n",
       "      <td>0.019000</td>\n",
       "      <td>0.037200</td>\n",
       "    </tr>\n",
       "    <tr>\n",
       "      <th>searchtime_q95</th>\n",
       "      <td>0.096550</td>\n",
       "      <td>0.028650</td>\n",
       "      <td>0.051800</td>\n",
       "    </tr>\n",
       "  </tbody>\n",
       "</table>\n",
       "</div>"
      ],
      "text/plain": [
       "                semantic      bm25    fusion\n",
       "accuracy@1      0.380000  0.300000  0.440000\n",
       "accuracy@3      0.640000  0.600000  0.680000\n",
       "accuracy@5      0.720000  0.660000  0.720000\n",
       "accuracy@10     0.820000  0.740000  0.800000\n",
       "precision@1     0.380000  0.300000  0.440000\n",
       "recall@1        0.380000  0.300000  0.440000\n",
       "precision@3     0.213333  0.200000  0.226667\n",
       "recall@3        0.640000  0.600000  0.680000\n",
       "precision@5     0.144000  0.132000  0.144000\n",
       "recall@5        0.720000  0.660000  0.720000\n",
       "precision@10    0.082000  0.074000  0.080000\n",
       "recall@10       0.820000  0.740000  0.800000\n",
       "mrr@10          0.530857  0.450079  0.553167\n",
       "ndcg@10         0.600740  0.520629  0.612877\n",
       "map@100         0.539349  0.459419  0.563385\n",
       "searchtime_avg  0.027400  0.016460  0.028160\n",
       "searchtime_q50  0.013000  0.015500  0.023000\n",
       "searchtime_q90  0.084600  0.019000  0.037200\n",
       "searchtime_q95  0.096550  0.028650  0.051800"
      ]
     },
     "execution_count": 16,
     "metadata": {},
     "output_type": "execute_result"
    }
   ],
   "source": [
    "import pandas as pd\n",
    "\n",
    "results = pd.DataFrame(all_results)\n",
    "results"
   ]
  },
  {
   "cell_type": "code",
   "execution_count": 17,
   "id": "e9096818",
   "metadata": {},
   "outputs": [
    {
     "data": {
      "text/plain": [
       "<Axes: >"
      ]
     },
     "execution_count": 17,
     "metadata": {},
     "output_type": "execute_result"
    },
    {
     "data": {
      "image/png": "[encoded data removed]",
      "text/plain": [
       "<Figure size 1200x600 with 1 Axes>"
      ]
     },
     "metadata": {},
     "output_type": "display_data"
    }
   ],
   "source": [
    "# take out all rows with \"searchtime\" to a separate dataframe\n",
    "searchtime = results[results.index.str.contains(\"searchtime\")]\n",
    "results = results[~results.index.str.contains(\"searchtime\")]\n",
    "results.plot(kind=\"bar\", figsize=(12, 6))"
   ]
  },
  {
   "cell_type": "code",
   "execution_count": 18,
   "id": "88ebc721",
   "metadata": {},
   "outputs": [
    {
     "data": {
      "text/plain": [
       "<Axes: >"
      ]
     },
     "execution_count": 18,
     "metadata": {},
     "output_type": "execute_result"
    },
    {
     "data": {
      "image/png": "[encoded data removed]",
      "text/plain": [
       "<Figure size 1200x600 with 1 Axes>"
      ]
     },
     "metadata": {},
     "output_type": "display_data"
    }
   ],
   "source": [
    "searchtime.plot(kind=\"bar\", figsize=(12, 6))"
   ]
  },
  {
   "cell_type": "markdown",
   "id": "f37d454f",
   "metadata": {},
   "source": [
    "## Cleanup"
   ]
  },
  {
   "cell_type": "code",
   "execution_count": 19,
   "id": "66354a53",
   "metadata": {},
   "outputs": [
    {
     "name": "stdout",
     "output_type": "stream",
     "text": [
      "Deactivated vespa-team.evaluation in dev.aws-us-east-1c\n",
      "Deleted instance vespa-team.evaluation.default\n"
     ]
    }
   ],
   "source": [
    "vespa_cloud.delete()"
   ]
  },
  {
   "cell_type": "code",
   "execution_count": null,
   "id": "3d2411b0",
   "metadata": {},
   "outputs": [],
   "source": []
  }
 ],
 "metadata": {
  "kernelspec": {
   "display_name": ".venv",
   "language": "python",
   "name": "python3"
  },
  "language_info": {
   "codemirror_mode": {
    "name": "ipython",
    "version": 3
   },
   "file_extension": ".py",
   "mimetype": "text/x-python",
   "name": "python",
   "nbconvert_exporter": "python",
   "pygments_lexer": "ipython3",
   "version": "3.10.14"
  },
  "nbsphinx": {
   "allow_errors": true
  }
 },
 "nbformat": 4,
 "nbformat_minor": 5
}
