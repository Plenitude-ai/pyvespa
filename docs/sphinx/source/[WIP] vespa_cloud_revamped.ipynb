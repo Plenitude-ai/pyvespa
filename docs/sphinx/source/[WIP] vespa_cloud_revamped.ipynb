{
 "cells": [
  {
   "cell_type": "code",
   "execution_count": null,
   "metadata": {},
   "outputs": [],
   "source": [
    "%load_ext autoreload\n",
    "%autoreload 2\n",
    "import os\n",
    "\n",
    "from vespa.deployment import VespaCloud\n",
    "from vespa.package import (\n",
    "    ApplicationPackage,\n",
    "    ContainerCluster,\n",
    "    ContentCluster,\n",
    "    DeploymentConfiguration,\n",
    "    Document,\n",
    "    Field,\n",
    "    FieldSet,\n",
    "    Nodes,\n",
    "    Schema,\n",
    ")\n",
    "\n",
    "package = ApplicationPackage(\n",
    "    name=\"testapp\",\n",
    "    schema=[\n",
    "        Schema(\n",
    "            name=\"doc\",\n",
    "            document=Document(\n",
    "                fields=[\n",
    "                    Field(name=\"id\", type=\"string\", indexing=[\"summary\"]),\n",
    "                    Field(name=\"text\", type=\"string\", indexing=[\"summary\"]),\n",
    "                ]\n",
    "            ),\n",
    "            fieldsets=[FieldSet(name=\"default\", fields=[\"text\"])],\n",
    "        )\n",
    "    ],\n",
    ")\n",
    "package.clusters = [\n",
    "    ContentCluster(\n",
    "        id=\"doc_content\",\n",
    "        nodes=Nodes(count=\"2\"),\n",
    "        document_name=\"doc\",\n",
    "        min_redundancy=\"2\",\n",
    "    ),\n",
    "    ContainerCluster(\n",
    "        id=\"doc_container\",\n",
    "        nodes=Nodes(count=\"2\"),\n",
    "    ),\n",
    "]\n",
    "package.deployment_config = DeploymentConfiguration(\n",
    "    environment=\"prod\", regions=[\"aws-us-east-1c\"]\n",
    ")"
   ]
  },
  {
   "cell_type": "code",
   "execution_count": null,
   "metadata": {},
   "outputs": [],
   "source": [
    "vespa_cloud = VespaCloud(\n",
    "    tenant=os.environ[\"TENANT_NAME\"],\n",
    "    application=\"testapp\",\n",
    "    application_package=package,\n",
    ")"
   ]
  },
  {
   "cell_type": "code",
   "execution_count": null,
   "metadata": {},
   "outputs": [],
   "source": [
    "vespa_cloud.deploy_to_prod()"
   ]
  },
  {
   "cell_type": "code",
   "execution_count": null,
   "metadata": {},
   "outputs": [],
   "source": [
    "import time\n",
    "\n",
    "instance_name = \"default\"\n",
    "build_no = vespa_cloud.deploy_to_prod()\n",
    "# Wait until buildstatus is succeeded\n",
    "max_wait = 600  # 10 minutes\n",
    "start = time.time()\n",
    "while time.time() - start < max_wait:\n",
    "    build_status = vespa_cloud.check_production_build_status(build_no=build_no)\n",
    "    if (\n",
    "        build_status[f\"production-{vespa_cloud.get_prod_region()}\"][\"status\"]\n",
    "        == \"success\"\n",
    "    ):\n",
    "        print(\"Deployment succeeded\")\n",
    "        break\n",
    "        app = vespa_cloud.get_application()"
   ]
  },
  {
   "cell_type": "code",
   "execution_count": null,
   "metadata": {},
   "outputs": [],
   "source": [
    "app = vespa_cloud.get_application()"
   ]
  },
  {
   "cell_type": "code",
   "execution_count": null,
   "metadata": {},
   "outputs": [],
   "source": [
    "status = app.get_application_status()"
   ]
  }
 ],
 "metadata": {
  "kernelspec": {
   "display_name": "pyvespa-build",
   "language": "python",
   "name": "python3"
  },
  "language_info": {
   "codemirror_mode": {
    "name": "ipython",
    "version": 3
   },
   "file_extension": ".py",
   "mimetype": "text/x-python",
   "name": "python",
   "nbconvert_exporter": "python",
   "pygments_lexer": "ipython3",
   "version": "3.9.6"
  }
 },
 "nbformat": 4,
 "nbformat_minor": 2
}
