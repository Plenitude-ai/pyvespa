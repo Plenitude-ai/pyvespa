{
 "cells": [
  {
   "cell_type": "markdown",
   "id": "given-adoption",
   "metadata": {
    "pycharm": {
     "name": "#%% md\n"
    }
   },
   "source": [
    "<picture>\n",
    "  <source media=\"(prefers-color-scheme: dark)\" srcset=\"https://vespa.ai/assets/vespa-ai-logo-heather.svg\">\n",
    "  <source media=\"(prefers-color-scheme: light)\" srcset=\"https://vespa.ai/assets/vespa-ai-logo-rock.svg\">\n",
    "  <img alt=\"#Vespa\" width=\"200\" src=\"https://vespa.ai/assets/vespa-ai-logo-rock.svg\" style=\"margin-bottom: 25px;\">\n",
    "</picture>\n",
    "\n",
    "# Authenticating to Vespa Cloud\n",
    "\n",
    "Security is a top priority for the Vespa Team.\n",
    "We understand that as a newcomer to Vespa, the different authentication methods may not always be immediately clear.\n",
    "\n",
    "This notebook is intended to provide some clarity on the different authentication methods needing when interacting with Vespa Cloud for different purposes.\n"
   ]
  },
  {
   "cell_type": "markdown",
   "id": "4f8c1448",
   "metadata": {},
   "source": [
    "<div class=\"alert alert-info\">\n",
    "    Refer to <a href=\"https://pyvespa.readthedocs.io/en/latest/troubleshooting.html\">troubleshooting</a>\n",
    "    for any problem when running this guide.\n",
    "</div>\n"
   ]
  },
  {
   "cell_type": "markdown",
   "id": "148d275b",
   "metadata": {},
   "source": [
    "**Pre-requisite**: Create a tenant at [cloud.vespa.ai](https://cloud.vespa.ai/), save the tenant name.\n",
    "\n",
    "[![Open In Colab](https://colab.research.google.com/assets/colab-badge.svg)](https://colab.research.google.com/github/vespa-engine/pyvespa/blob/master/docs/sphinx/source/getting-started-pyvespa-cloud.ipynb)\n"
   ]
  },
  {
   "cell_type": "markdown",
   "id": "366b0d83",
   "metadata": {},
   "source": [
    "## Install\n",
    "\n",
    "Install [pyvespa](https://pyvespa.readthedocs.io/) >= 0.45\n",
    "and the [Vespa CLI](https://docs.vespa.ai/en/vespa-cli.html).\n"
   ]
  },
  {
   "cell_type": "code",
   "execution_count": null,
   "id": "136750de",
   "metadata": {},
   "outputs": [],
   "source": [
    "!pip3 install pyvespa vespacli"
   ]
  },
  {
   "cell_type": "markdown",
   "id": "0229ff0e",
   "metadata": {},
   "source": [
    "For background context, it is useful to read the [Vespa Cloud Security Guide](https://cloud.vespa.ai/en/security/guide).\n",
    "\n",
    "## Control-plane vs Data-plane\n",
    "\n",
    "|                                                                                              | Control-plane | Data-plane | Comments                                                                                   |\n",
    "| -------------------------------------------------------------------------------------------- | ------------- | ---------- | ------------------------------------------------------------------------------------------ |\n",
    "| Deploy application                                                                           | ✅            | ❌         |                                                                                            |\n",
    "| Modify application (re-deploy)                                                               | ✅            | ❌         |                                                                                            |\n",
    "| Add or modify data-plane certs or token(s)                                                   | ✅            | ❌         |                                                                                            |\n",
    "| Feed data                                                                                    | ❌            | ✅         |                                                                                            |\n",
    "| Query data                                                                                   | ❌            | ✅         |                                                                                            |\n",
    "| Delete data                                                                                  | ❌            | ✅         |                                                                                            |\n",
    "| [Visiting](https://docs.vespa.ai/en/visiting.html)                                           | ❌            | ✅         |                                                                                            |\n",
    "| Get application package                                                                      | ✅            | ❌         |                                                                                            |\n",
    "| [`vespa auth login`](https://docs.vespa.ai/en/reference/vespa-cli/vespa_auth_login.html)     | ✅            | ❌         | Interactive control-plane login in browser                                                 |\n",
    "| [`vespa auth api-key`](https://docs.vespa.ai/en/reference/vespa-cli/vespa_auth_api-key.html) | ✅            | ❌         | Headless control-plane authentication with an API key generated in the Vespa Cloud console |\n",
    "| [`vespa auth cert`](https://docs.vespa.ai/en/reference/vespa-cli/vespa_auth_cert.html)       | ❌            | ✅         | Used to generate a certificate for a data-plane connection                                 |\n",
    "| [`VespaCloud`](https://pyvespa.readthedocs.io/en/latest/reference-api.html#vespacloud)       | ✅            | ❌         | `VespaCloud` is a control-plane connection to Vespa Cloud                                  |\n",
    "| [`VespaDocker`](https://pyvespa.readthedocs.io/en/latest/reference-api.html#vespadocker)     | ✅            | ❌         | `VespaDocker` is a control-plane connection to a Vespa server running in Docker            |\n",
    "| [`Vespa`](https://pyvespa.readthedocs.io/en/latest/reference-api.html#vespa)                 | ❌            | ✅         | `Vespa` is a data-plane connection to an existing Vespa application                        |\n"
   ]
  },
  {
   "cell_type": "markdown",
   "id": "301360d5",
   "metadata": {},
   "source": [
    "## Defining your application\n",
    "\n",
    "To initialize a connection to Vespa Cloud, you need to define your tenant name and application name.\n"
   ]
  },
  {
   "cell_type": "code",
   "execution_count": 3,
   "id": "9ca4da83",
   "metadata": {},
   "outputs": [],
   "source": [
    "# Replace with your tenant name from the Vespa Cloud Console\n",
    "tenant_name = \"vespa-team\"\n",
    "# Replace with your application name (does not need to exist yet)\n",
    "application = \"authdemo\""
   ]
  },
  {
   "cell_type": "markdown",
   "id": "bfc6b343",
   "metadata": {},
   "source": [
    "## Defining your application package\n",
    "\n",
    "An [application package](https://docs.vespa.ai/en/application-packages.html) is the whole Vespa application configuration.\n",
    "It can either be constructed directly from python (as we will do below) or initalized from a path, for example by cloning a sample application from the [Vespa sample apps](https://github.com/vespa-engine/sample-apps).\n",
    "\n",
    "<div class=\"alert alert-info\">\n",
    "    Tip: You can use the command <a href=\"https://docs.vespa.ai/en/reference/vespa-cli/vespa_clone.html#examples\">vespa clone album-recommendation my-app</a> to clone a single sample app if you have the Vespa CLI installed.\n",
    "</div>\n",
    "\n",
    "For this guide, we will create a minimal application package. See other guides for more complex examples.\n"
   ]
  },
  {
   "cell_type": "code",
   "execution_count": 5,
   "id": "c405f35c",
   "metadata": {},
   "outputs": [],
   "source": [
    "from vespa.package import ApplicationPackage, Field, Schema, Document\n",
    "\n",
    "package = ApplicationPackage(\n",
    "    name=application,\n",
    "    schema=[\n",
    "        Schema(\n",
    "            name=\"doc\",\n",
    "            document=Document(\n",
    "                fields=[\n",
    "                    Field(name=\"id\", type=\"string\", indexing=[\"summary\"]),\n",
    "                    Field(\n",
    "                        name=\"title\",\n",
    "                        type=\"string\",\n",
    "                        indexing=[\"index\", \"summary\"],\n",
    "                        index=\"enable-bm25\",\n",
    "                    ),\n",
    "                    Field(\n",
    "                        name=\"body\",\n",
    "                        type=\"string\",\n",
    "                        indexing=[\"index\", \"summary\"],\n",
    "                        index=\"enable-bm25\",\n",
    "                    ),\n",
    "                ]\n",
    "            ),\n",
    "        )\n",
    "    ],\n",
    ")"
   ]
  },
  {
   "cell_type": "markdown",
   "id": "03d2c531",
   "metadata": {},
   "source": [
    "## Control-plane authentication\n",
    "\n",
    "Next, we need to authenticate to the Vespa Cloud control-plane.\n",
    "There are two ways to authenticate to the control-plane:\n",
    "\n",
    "### 1. **Interactive login**:\n",
    "\n",
    "This is the recommended way to authenticate to the control-plane. It opens a browser window for you to authenticate with either google or github.\n",
    "\n",
    "This method does not work on windows, currently. You can run `vespa auth login` in a terminal to authenticate first, and then use this method (which will then reuse the generated token).\n",
    "\n",
    "(We will not run this method here, as the notebook is run in CI, but you should run it in your local environment)\n",
    "\n",
    "```python\n",
    "from vespa.deployment import VespaCloud\n",
    "\n",
    "vespa_cloud = VespaCloud(\n",
    "    tenant=tenant_name,\n",
    "    application=application,\n",
    "    application_package=package, # Could also initialize from application_root (path to application package)\n",
    ")\n",
    "```\n",
    "\n",
    "You should see something similar to this:\n",
    "\n",
    "```log\n",
    "Checking for access token in auth.json...\n",
    "Access token expired. Please re-authenticate.\n",
    "Your Device Confirmation code is: DRDT-ZZDC\n",
    "Automatically open confirmation page in your default browser? [Y/n] y\n",
    "Opened link in your browser: https://vespa.auth0.com/activate?user_code=DRDT-ZZDC\n",
    "Waiting for login to complete in browser ... done;1m⣯\n",
    "Success: Logged in\n",
    " auth.json created at /Users/thomas/.vespa/auth.json\n",
    "Successfully obtained access token for control plane access.\n",
    "```\n"
   ]
  },
  {
   "cell_type": "markdown",
   "id": "63f1dd3d",
   "metadata": {},
   "source": [
    "### 2. **API-key authentication**\n",
    "\n",
    "This is a headless way to authenticate to the control-plane.\n",
    "\n",
    "Note that the key must be generated, either with `vespa auth api-key` or in the Vespa Cloud console directly.\n"
   ]
  },
  {
   "cell_type": "code",
   "execution_count": 6,
   "id": "136b884e",
   "metadata": {},
   "outputs": [
    {
     "name": "stdout",
     "output_type": "stream",
     "text": [
      "Setting application...\n",
      "Running: vespa config set application vespa-team.authdemo\n",
      "Setting target cloud...\n",
      "Running: vespa config set target cloud\n",
      "\n",
      "Api-key found for control plane access. Using api-key.\n",
      "Certificate and key not found in /Users/thomas/Repos/pyvespa/docs/sphinx/source/.vespa or /Users/thomas/.vespa/vespa-team.authdemo.default: Creating new cert/key pair with vespa CLI.\n",
      "Generating certificate and key...\n",
      "Running: vespa auth cert -N\n",
      "Success: Certificate written to '/Users/thomas/.vespa/vespa-team.authdemo.default/data-plane-public-cert.pem'\n",
      "Success: Private key written to '/Users/thomas/.vespa/vespa-team.authdemo.default/data-plane-private-key.pem'\n",
      "\n"
     ]
    }
   ],
   "source": [
    "from vespa.deployment import VespaCloud\n",
    "import os\n",
    "\n",
    "# Key is only used for CI/CD. Can be removed if logging in interactively\n",
    "key = os.getenv(\"VESPA_TEAM_API_KEY\", None)\n",
    "if key is not None:\n",
    "    key = key.replace(r\"\\n\", \"\\n\")  # To parse key correctly\n",
    "\n",
    "\n",
    "vespa_cloud = VespaCloud(\n",
    "    tenant=tenant_name,  # Note that the name cannot contain the characters `-` or `_`.\n",
    "    application=application,\n",
    "    key_content=key,  # Prefer to use  key_location=\"<path-to-key-file.pem>\"\n",
    "    application_package=package,\n",
    ")"
   ]
  },
  {
   "cell_type": "markdown",
   "id": "dec50045",
   "metadata": {},
   "source": [
    "When you have authenticated to the control-plane of Vespa Cloud, key/cert for data-plane authentication will be generated automatically for you, if none exists.\n",
    "These will be a part of the application package that will be deployed, and you should keep them safe, as other users also will need them to authenticate to the data-plane of your Vespa application.\n",
    "\n",
    "For `dev`-deployments, we allow redeploying an application with a different key/cert, than the previous deployment, but for `prod`-deployments, this is not allowed, and will require a `validation-overrides`-specification in the application package.\n"
   ]
  },
  {
   "cell_type": "markdown",
   "id": "careful-savage",
   "metadata": {},
   "source": [
    "## Deploy to Vespa Cloud\n",
    "\n",
    "The app is now defined and ready to deploy to Vespa Cloud.\n",
    "\n",
    "Deploy `package` to Vespa Cloud, by creating an instance of\n",
    "[VespaCloud](https://pyvespa.readthedocs.io/en/latest/reference-api.html#vespa.deployment.VespaCloud):\n"
   ]
  },
  {
   "cell_type": "markdown",
   "id": "197c0a27",
   "metadata": {},
   "source": [
    "The following will upload the application package to Vespa Cloud Dev Zone (`aws-us-east-1c`), read more about [Vespa Zones](https://cloud.vespa.ai/en/reference/zones.html).\n",
    "The Vespa Cloud Dev Zone is considered as a sandbox environment where resources are down-scaled and idle deployments are expired automatically.\n",
    "For information about production deployments, see the following [example](https://pyvespa.readthedocs.io/en/latest/getting-started-pyvespa-cloud.html#Example:-Deploy-the-app-to-the-prod-environment).\n",
    "\n",
    "> Note: Deployments to dev and perf expire after 7 days of inactivity, i.e., 7 days after running deploy. This applies to all plans, not only the Free Trial. Use the Vespa Console to extend the expiry period, or redeploy the application to add 7 more days.\n"
   ]
  },
  {
   "cell_type": "code",
   "execution_count": 8,
   "id": "337d9b05",
   "metadata": {},
   "outputs": [
    {
     "name": "stdout",
     "output_type": "stream",
     "text": [
      "Deployment started in run 1 of dev-aws-us-east-1c for vespa-team.authdemo. This may take a few minutes the first time.\n",
      "INFO    [09:14:37]  Deploying platform version 8.387.10 and application dev build 1 for dev-aws-us-east-1c of default ...\n",
      "INFO    [09:14:37]  Using CA signed certificate version 1\n",
      "INFO    [09:14:37]  Using 1 nodes in container cluster 'authdemo_container'\n",
      "INFO    [09:14:39]  Using 1 nodes in container cluster 'authdemo_container'\n",
      "INFO    [09:14:41]  Session 303896 for tenant 'vespa-team' prepared, but activation failed: 1/2 application hosts and 2/2 admin hosts for vespa-team.authdemo have completed provisioning and bootstrapping, still waiting for h95769.dev.aws-us-east-1c.vespa-external.aws.oath.cloud\n",
      "INFO    [09:14:43]  Deploying platform version 8.387.10 and application dev build 1 for dev-aws-us-east-1c of default ...\n",
      "INFO    [09:14:43]  1/2 application hosts and 2/2 admin hosts for vespa-team.authdemo have completed provisioning and bootstrapping, still waiting for h95769.dev.aws-us-east-1c.vespa-external.aws.oath.cloud\n",
      "INFO    [09:14:52]  Deploying platform version 8.387.10 and application dev build 1 for dev-aws-us-east-1c of default ...\n",
      "INFO    [09:14:52]  1/2 application hosts and 2/2 admin hosts for vespa-team.authdemo have completed provisioning and bootstrapping, still waiting for h95769.dev.aws-us-east-1c.vespa-external.aws.oath.cloud\n",
      "INFO    [09:15:02]  Deploying platform version 8.387.10 and application dev build 1 for dev-aws-us-east-1c of default ...\n",
      "INFO    [09:15:03]  1/2 application hosts and 2/2 admin hosts for vespa-team.authdemo have completed provisioning and bootstrapping, still waiting for h95769.dev.aws-us-east-1c.vespa-external.aws.oath.cloud\n",
      "INFO    [09:15:12]  Deploying platform version 8.387.10 and application dev build 1 for dev-aws-us-east-1c of default ...\n",
      "INFO    [09:15:12]  1/2 application hosts and 2/2 admin hosts for vespa-team.authdemo have completed provisioning and bootstrapping, still waiting for h95769.dev.aws-us-east-1c.vespa-external.aws.oath.cloud\n",
      "INFO    [09:15:22]  Deploying platform version 8.387.10 and application dev build 1 for dev-aws-us-east-1c of default ...\n",
      "INFO    [09:15:22]  1/2 application hosts and 2/2 admin hosts for vespa-team.authdemo have completed provisioning and bootstrapping, still waiting for h95769.dev.aws-us-east-1c.vespa-external.aws.oath.cloud\n",
      "INFO    [09:15:32]  Deploying platform version 8.387.10 and application dev build 1 for dev-aws-us-east-1c of default ...\n",
      "INFO    [09:15:32]  1/2 application hosts and 2/2 admin hosts for vespa-team.authdemo have completed provisioning and bootstrapping, still waiting for h95769.dev.aws-us-east-1c.vespa-external.aws.oath.cloud\n",
      "INFO    [09:15:42]  Deploying platform version 8.387.10 and application dev build 1 for dev-aws-us-east-1c of default ...\n",
      "INFO    [09:15:42]  1/2 application hosts and 2/2 admin hosts for vespa-team.authdemo have completed provisioning and bootstrapping, still waiting for h95769.dev.aws-us-east-1c.vespa-external.aws.oath.cloud\n",
      "INFO    [09:15:52]  Deploying platform version 8.387.10 and application dev build 1 for dev-aws-us-east-1c of default ...\n",
      "INFO    [09:15:52]  1/2 application hosts and 2/2 admin hosts for vespa-team.authdemo have completed provisioning and bootstrapping, still waiting for h95769.dev.aws-us-east-1c.vespa-external.aws.oath.cloud\n",
      "INFO    [09:16:02]  Deploying platform version 8.387.10 and application dev build 1 for dev-aws-us-east-1c of default ...\n",
      "INFO    [09:16:02]  1/2 application hosts and 2/2 admin hosts for vespa-team.authdemo have completed provisioning and bootstrapping, still waiting for h95769.dev.aws-us-east-1c.vespa-external.aws.oath.cloud\n",
      "INFO    [09:16:12]  Deploying platform version 8.387.10 and application dev build 1 for dev-aws-us-east-1c of default ...\n",
      "INFO    [09:16:12]  1/2 application hosts and 2/2 admin hosts for vespa-team.authdemo have completed provisioning and bootstrapping, still waiting for h95769.dev.aws-us-east-1c.vespa-external.aws.oath.cloud\n",
      "INFO    [09:16:22]  Deploying platform version 8.387.10 and application dev build 1 for dev-aws-us-east-1c of default ...\n",
      "INFO    [09:16:22]  1/2 application hosts and 2/2 admin hosts for vespa-team.authdemo have completed provisioning and bootstrapping, still waiting for h95769.dev.aws-us-east-1c.vespa-external.aws.oath.cloud\n",
      "INFO    [09:16:32]  Deploying platform version 8.387.10 and application dev build 1 for dev-aws-us-east-1c of default ...\n",
      "INFO    [09:16:32]  1/2 application hosts and 2/2 admin hosts for vespa-team.authdemo have completed provisioning and bootstrapping, still waiting for h95769.dev.aws-us-east-1c.vespa-external.aws.oath.cloud\n",
      "INFO    [09:16:42]  Deploying platform version 8.387.10 and application dev build 1 for dev-aws-us-east-1c of default ...\n",
      "INFO    [09:16:42]  1/2 application hosts and 2/2 admin hosts for vespa-team.authdemo have completed provisioning and bootstrapping, still waiting for h95769.dev.aws-us-east-1c.vespa-external.aws.oath.cloud\n",
      "INFO    [09:16:52]  Deploying platform version 8.387.10 and application dev build 1 for dev-aws-us-east-1c of default ...\n",
      "INFO    [09:16:52]  1/2 application hosts and 2/2 admin hosts for vespa-team.authdemo have completed provisioning and bootstrapping, still waiting for h95769.dev.aws-us-east-1c.vespa-external.aws.oath.cloud\n",
      "INFO    [09:17:02]  Deploying platform version 8.387.10 and application dev build 1 for dev-aws-us-east-1c of default ...\n",
      "INFO    [09:17:02]  1/2 application hosts and 2/2 admin hosts for vespa-team.authdemo have completed provisioning and bootstrapping, still waiting for h95769.dev.aws-us-east-1c.vespa-external.aws.oath.cloud\n",
      "INFO    [09:17:12]  Deploying platform version 8.387.10 and application dev build 1 for dev-aws-us-east-1c of default ...\n",
      "INFO    [09:17:13]  1/2 application hosts and 2/2 admin hosts for vespa-team.authdemo have completed provisioning and bootstrapping, still waiting for h95769.dev.aws-us-east-1c.vespa-external.aws.oath.cloud\n",
      "INFO    [09:17:22]  Deploying platform version 8.387.10 and application dev build 1 for dev-aws-us-east-1c of default ...\n",
      "INFO    [09:17:22]  1/2 application hosts and 2/2 admin hosts for vespa-team.authdemo have completed provisioning and bootstrapping, still waiting for h95769.dev.aws-us-east-1c.vespa-external.aws.oath.cloud\n",
      "INFO    [09:17:33]  Deploying platform version 8.387.10 and application dev build 1 for dev-aws-us-east-1c of default ...\n",
      "INFO    [09:17:33]  1/2 application hosts and 2/2 admin hosts for vespa-team.authdemo have completed provisioning and bootstrapping, still waiting for h95769.dev.aws-us-east-1c.vespa-external.aws.oath.cloud\n",
      "INFO    [09:17:42]  Deploying platform version 8.387.10 and application dev build 1 for dev-aws-us-east-1c of default ...\n",
      "INFO    [09:17:42]  1/2 application hosts and 2/2 admin hosts for vespa-team.authdemo have completed provisioning and bootstrapping, still waiting for h95769.dev.aws-us-east-1c.vespa-external.aws.oath.cloud\n",
      "INFO    [09:17:53]  Deploying platform version 8.387.10 and application dev build 1 for dev-aws-us-east-1c of default ...\n",
      "INFO    [09:17:54]  1/2 application hosts and 2/2 admin hosts for vespa-team.authdemo have completed provisioning and bootstrapping, still waiting for h95769.dev.aws-us-east-1c.vespa-external.aws.oath.cloud\n",
      "INFO    [09:18:02]  Deploying platform version 8.387.10 and application dev build 1 for dev-aws-us-east-1c of default ...\n",
      "INFO    [09:18:03]  1/2 application hosts and 2/2 admin hosts for vespa-team.authdemo have completed provisioning and bootstrapping, still waiting for h95769.dev.aws-us-east-1c.vespa-external.aws.oath.cloud\n",
      "INFO    [09:18:12]  Deploying platform version 8.387.10 and application dev build 1 for dev-aws-us-east-1c of default ...\n",
      "INFO    [09:18:13]  1/2 application hosts and 2/2 admin hosts for vespa-team.authdemo have completed provisioning and bootstrapping, still waiting for h95769.dev.aws-us-east-1c.vespa-external.aws.oath.cloud\n"
     ]
    }
   ],
   "source": [
    "app = vespa_cloud.deploy()"
   ]
  },
  {
   "cell_type": "markdown",
   "id": "aaae2f91",
   "metadata": {},
   "source": [
    "If the deployment failed, it is possible you forgot to add the key in the Vespa Cloud Console in the `vespa auth api-key` step above.\n",
    "\n",
    "If you can authenticate, you should see lines like the following\n",
    "\n",
    "```\n",
    " Deployment started in run 1 of dev-aws-us-east-1c for mytenant.hybridsearch.\n",
    "```\n",
    "\n",
    "The deployment takes a few minutes the first time while Vespa Cloud sets up the resources for your Vespa application\n",
    "\n",
    "`app` now holds a reference to a [Vespa](https://pyvespa.readthedocs.io/en/latest/reference-api.html#vespa.application.Vespa) instance. We can access the\n",
    "mTLS protected endpoint name using the control-plane (vespa_cloud) instance. This endpoint we can query and feed to (data plane access) using the\n",
    "mTLS certificate generated in previous steps.\n"
   ]
  },
  {
   "cell_type": "code",
   "execution_count": 6,
   "id": "afa0d69d",
   "metadata": {},
   "outputs": [
    {
     "name": "stdout",
     "output_type": "stream",
     "text": [
      "Found mtls endpoint for hybridsearch_container\n",
      "URL: https://f7f73182.eb1181f2.z.vespa-app.cloud/\n"
     ]
    },
    {
     "data": {
      "text/plain": [
       "'https://f7f73182.eb1181f2.z.vespa-app.cloud/'"
      ]
     },
     "execution_count": 6,
     "metadata": {},
     "output_type": "execute_result"
    }
   ],
   "source": [
    "endpoint = vespa_cloud.get_mtls_endpoint()\n",
    "endpoint"
   ]
  },
  {
   "cell_type": "markdown",
   "id": "6fa8a717",
   "metadata": {},
   "source": [
    "## Connect to a previously deployed application\n"
   ]
  },
  {
   "cell_type": "markdown",
   "id": "sealed-mustang",
   "metadata": {},
   "source": [
    "### Feeding documents to Vespa\n",
    "\n",
    "In this example we use the [HF Datasets](https://huggingface.co/docs/datasets/index) library to stream the\n",
    "[BeIR/nfcorpus](https://huggingface.co/datasets/BeIR/nfcorpus) dataset and index in our newly deployed Vespa instance. Read\n",
    "more about the [NFCorpus](https://www.cl.uni-heidelberg.de/statnlpgroup/nfcorpus/):\n",
    "\n",
    "> NFCorpus is a full-text English retrieval data set for Medical Information Retrieval.\n",
    "\n",
    "The following uses the [stream](https://huggingface.co/docs/datasets/stream) option of datasets to stream the data without\n",
    "downloading all the contents locally. The `map` functionality allows us to convert the\n",
    "dataset fields into the expected feed format for `pyvespa` which expects a dict with the keys `id` and `fields`:\n",
    "\n",
    "`{ \"id\": \"vespa-document-id\", \"fields\": {\"vespa_field\": \"vespa-field-value\"}}`\n"
   ]
  },
  {
   "cell_type": "code",
   "execution_count": 7,
   "id": "executed-reservoir",
   "metadata": {},
   "outputs": [],
   "source": [
    "from datasets import load_dataset\n",
    "\n",
    "dataset = load_dataset(\"BeIR/nfcorpus\", \"corpus\", split=\"corpus\", streaming=True)\n",
    "vespa_feed = dataset.map(\n",
    "    lambda x: {\n",
    "        \"id\": x[\"_id\"],\n",
    "        \"fields\": {\"title\": x[\"title\"], \"body\": x[\"text\"], \"id\": x[\"_id\"]},\n",
    "    }\n",
    ")"
   ]
  },
  {
   "cell_type": "markdown",
   "id": "4f0ca33f",
   "metadata": {},
   "source": [
    "Now we can feed to Vespa using `feed_iterable` which accepts any `Iterable` and an optional callback function where we can\n",
    "check the outcome of each operation. The application is configured to use [embedding](https://docs.vespa.ai/en/embedding.html)\n",
    "functionality, that produce a vector embedding using a concatenation of the title and the body input fields. This step is resource intensive.\n",
    "\n",
    "Read more about embedding inference in Vespa in the [Accelerating Transformer-based Embedding Retrieval with Vespa](https://blog.vespa.ai/accelerating-transformer-based-embedding-retrieval-with-vespa/)\n",
    "blog post.\n",
    "\n",
    "Default node resources in Vespa Cloud have 2 v-cpu for the Dev Zone.\n"
   ]
  },
  {
   "cell_type": "code",
   "execution_count": 8,
   "id": "bottom-memorabilia",
   "metadata": {},
   "outputs": [
    {
     "name": "stdout",
     "output_type": "stream",
     "text": [
      "Using mtls_key_cert Authentication against endpoint https://f7f73182.eb1181f2.z.vespa-app.cloud//ApplicationStatus\n"
     ]
    }
   ],
   "source": [
    "from vespa.io import VespaResponse, VespaQueryResponse\n",
    "\n",
    "\n",
    "def callback(response: VespaResponse, id: str):\n",
    "    if not response.is_successful():\n",
    "        print(f\"Error when feeding document {id}: {response.get_json()}\")\n",
    "\n",
    "\n",
    "app.feed_iterable(vespa_feed, schema=\"doc\", namespace=\"tutorial\", callback=callback)"
   ]
  },
  {
   "cell_type": "markdown",
   "id": "separated-insertion",
   "metadata": {},
   "source": [
    "## Querying Vespa\n",
    "\n",
    "Using the [Vespa Query language](https://docs.vespa.ai/en/query-language.html) we can query the indexed data.\n",
    "\n",
    "- Using a context manager `with app.syncio() as session` to handle connection pooling ([best practices](https://cloud.vespa.ai/en/http-best-practices))\n",
    "- The query method accepts any valid Vespa [query api parameter](https://docs.vespa.ai/en/reference/query-api-reference.html) in `**kwargs`\n",
    "- Vespa api parameter names that contains `.` must be sent as `dict` parameters in the `body` method argument\n",
    "\n",
    "The following searches for `How Fruits and Vegetables Can Treat Asthma?` using different retrieval and [ranking](https://docs.vespa.ai/en/ranking.html) strategies.\n",
    "\n",
    "Query the text search app using the [Vespa Query language](https://docs.vespa.ai/en/query-language.html)\n",
    "by sending the parameters to the body argument of\n",
    "[Vespa.query](https://pyvespa.readthedocs.io/en/latest/reference-api.html#vespa.application.Vespa.query).\n",
    "\n",
    "First we define a simple routine that will return a dataframe of the results for prettier display in the notebook.\n"
   ]
  },
  {
   "cell_type": "code",
   "execution_count": 9,
   "id": "82b5f6fe",
   "metadata": {},
   "outputs": [],
   "source": [
    "import pandas as pd\n",
    "\n",
    "\n",
    "def display_hits_as_df(response: VespaQueryResponse, fields) -> pd.DataFrame:\n",
    "    records = []\n",
    "    for hit in response.hits:\n",
    "        record = {}\n",
    "        for field in fields:\n",
    "            record[field] = hit[\"fields\"][field]\n",
    "        records.append(record)\n",
    "    return pd.DataFrame(records)"
   ]
  },
  {
   "cell_type": "markdown",
   "id": "7daa47df",
   "metadata": {},
   "source": [
    "### Plain Keyword search\n",
    "\n",
    "The following uses plain keyword search functionality with [bm25](https://docs.vespa.ai/en/reference/bm25.html) ranking, the `bm25` rank-profile was configured in the\n",
    "application package to use a linear combination of the bm25 score of the query terms against the title and the body field.\n"
   ]
  },
  {
   "cell_type": "code",
   "execution_count": 10,
   "id": "bc32d29b",
   "metadata": {},
   "outputs": [
    {
     "name": "stdout",
     "output_type": "stream",
     "text": [
      "         id                                              title\n",
      "0  MED-2450  Protective effect of fruits, vegetables and th...\n",
      "1  MED-2464  Low vegetable intake is associated with allerg...\n",
      "2  MED-1162  Pesticide residues in imported, organic, and \"...\n",
      "3  MED-2461  The association of diet with respiratory sympt...\n",
      "4  MED-2085  Antiplatelet, anticoagulant, and fibrinolytic ...\n"
     ]
    }
   ],
   "source": [
    "with app.syncio(connections=1) as session:\n",
    "    query = \"How Fruits and Vegetables Can Treat Asthma?\"\n",
    "    response: VespaQueryResponse = session.query(\n",
    "        yql=\"select * from sources * where userQuery() limit 5\",\n",
    "        query=query,\n",
    "        ranking=\"bm25\",\n",
    "    )\n",
    "    assert response.is_successful()\n",
    "    print(display_hits_as_df(response, [\"id\", \"title\"]))"
   ]
  },
  {
   "cell_type": "markdown",
   "id": "9aef8aa8",
   "metadata": {},
   "source": [
    "### Plain Semantic Search\n",
    "\n",
    "The following uses dense vector representations of the query and the document and matching is performed and accelerated by Vespa's support for\n",
    "[approximate nearest neighbor search](https://docs.vespa.ai/en/approximate-nn-hnsw.html).\n",
    "The vector embedding representation of the text is obtained using Vespa's [embedder functionality](https://docs.vespa.ai/en/embedding.html#embedding-a-query-text).\n"
   ]
  },
  {
   "cell_type": "code",
   "execution_count": 11,
   "id": "b32d70ae",
   "metadata": {},
   "outputs": [
    {
     "name": "stdout",
     "output_type": "stream",
     "text": [
      "         id                                              title\n",
      "0  MED-5072  Lycopene-rich treatments modify noneosinophili...\n",
      "1  MED-2472  Vegan regimen with reduced medication in the t...\n",
      "2  MED-2464  Low vegetable intake is associated with allerg...\n",
      "3  MED-2458  Manipulating antioxidant intake in asthma: a r...\n",
      "4  MED-2450  Protective effect of fruits, vegetables and th...\n"
     ]
    }
   ],
   "source": [
    "with app.syncio(connections=1) as session:\n",
    "    query = \"How Fruits and Vegetables Can Treat Asthma?\"\n",
    "    response: VespaQueryResponse = session.query(\n",
    "        yql=\"select * from sources * where ({targetHits:5}nearestNeighbor(embedding,q)) limit 5\",\n",
    "        query=query,\n",
    "        ranking=\"semantic\",\n",
    "        body={\"input.query(q)\": f\"embed({query})\"},\n",
    "    )\n",
    "    assert response.is_successful()\n",
    "    print(display_hits_as_df(response, [\"id\", \"title\"]))"
   ]
  },
  {
   "cell_type": "markdown",
   "id": "762e40eb",
   "metadata": {},
   "source": [
    "### Hybrid Search\n",
    "\n",
    "This is one approach to combine the two retrieval strategies and where we use Vespa's support for\n",
    "[cross-hits feature normalization and reciprocal rank fusion](https://docs.vespa.ai/en/phased-ranking.html#cross-hit-normalization-including-reciprocal-rank-fusion). This\n",
    "functionality is exposed in the context of `global` re-ranking, after the distributed query retrieval execution which might span 1000s of nodes.\n",
    "\n",
    "#### Hybrid search with the OR query operator\n",
    "\n",
    "This combines the two methods using logical disjunction (OR). Note that the first-phase expression in our `fusion` expression is only using the semantic score, this\n",
    "because usually semantic search provides better recall than sparse keyword search alone.\n"
   ]
  },
  {
   "cell_type": "code",
   "execution_count": 12,
   "id": "11faeacf",
   "metadata": {},
   "outputs": [
    {
     "name": "stdout",
     "output_type": "stream",
     "text": [
      "         id                                              title\n",
      "0  MED-2464  Low vegetable intake is associated with allerg...\n",
      "1  MED-2450  Protective effect of fruits, vegetables and th...\n",
      "2  MED-2458  Manipulating antioxidant intake in asthma: a r...\n",
      "3  MED-2461  The association of diet with respiratory sympt...\n",
      "4  MED-5072  Lycopene-rich treatments modify noneosinophili...\n"
     ]
    }
   ],
   "source": [
    "with app.syncio(connections=1) as session:\n",
    "    query = \"How Fruits and Vegetables Can Treat Asthma?\"\n",
    "    response: VespaQueryResponse = session.query(\n",
    "        yql=\"select * from sources * where userQuery() or ({targetHits:1000}nearestNeighbor(embedding,q)) limit 5\",\n",
    "        query=query,\n",
    "        ranking=\"fusion\",\n",
    "        body={\"input.query(q)\": f\"embed({query})\"},\n",
    "    )\n",
    "    assert response.is_successful()\n",
    "    print(display_hits_as_df(response, [\"id\", \"title\"]))"
   ]
  },
  {
   "cell_type": "markdown",
   "id": "8d811509",
   "metadata": {},
   "source": [
    "#### Hybrid search with the RANK query operator\n",
    "\n",
    "This combines the two methods using the [rank](https://docs.vespa.ai/en/reference/query-language-reference.html#rank) query operator. In this case\n",
    "we express that we want to retrieve the top-1000 documents using vector search, and then have sparse features like BM25 calculated as well (second operand\n",
    "of the rank operator). Finally the hits are re-ranked using the reciprocal rank fusion\n"
   ]
  },
  {
   "cell_type": "code",
   "execution_count": 13,
   "id": "13fe1ef0",
   "metadata": {},
   "outputs": [
    {
     "name": "stdout",
     "output_type": "stream",
     "text": [
      "         id                                              title\n",
      "0  MED-2464  Low vegetable intake is associated with allerg...\n",
      "1  MED-2450  Protective effect of fruits, vegetables and th...\n",
      "2  MED-2458  Manipulating antioxidant intake in asthma: a r...\n",
      "3  MED-2461  The association of diet with respiratory sympt...\n",
      "4  MED-5072  Lycopene-rich treatments modify noneosinophili...\n"
     ]
    }
   ],
   "source": [
    "with app.syncio(connections=1) as session:\n",
    "    query = \"How Fruits and Vegetables Can Treat Asthma?\"\n",
    "    response: VespaQueryResponse = session.query(\n",
    "        yql=\"select * from sources * where rank({targetHits:1000}nearestNeighbor(embedding,q), userQuery()) limit 5\",\n",
    "        query=query,\n",
    "        ranking=\"fusion\",\n",
    "        body={\"input.query(q)\": f\"embed({query})\"},\n",
    "    )\n",
    "    assert response.is_successful()\n",
    "    print(display_hits_as_df(response, [\"id\", \"title\"]))"
   ]
  },
  {
   "cell_type": "markdown",
   "id": "b544ef07",
   "metadata": {},
   "source": [
    "#### Hybrid search with filters\n",
    "\n",
    "In this example we add another query term to the yql, restricting the nearest neighbor search to only consider documents that have vegetable in the title.\n"
   ]
  },
  {
   "cell_type": "code",
   "execution_count": 14,
   "id": "36c96921",
   "metadata": {},
   "outputs": [
    {
     "name": "stdout",
     "output_type": "stream",
     "text": [
      "         id                                              title\n",
      "0  MED-2464  Low vegetable intake is associated with allerg...\n",
      "1  MED-2450  Protective effect of fruits, vegetables and th...\n",
      "2  MED-3199  Potential risks resulting from fruit/vegetable...\n",
      "3  MED-2085  Antiplatelet, anticoagulant, and fibrinolytic ...\n",
      "4  MED-4496  The effect of fruit and vegetable intake on ri...\n"
     ]
    }
   ],
   "source": [
    "with app.syncio(connections=1) as session:\n",
    "    query = \"How Fruits and Vegetables Can Treat Asthma?\"\n",
    "    response: VespaQueryResponse = session.query(\n",
    "        yql='select * from sources * where title contains \"vegetable\" and rank({targetHits:1000}nearestNeighbor(embedding,q), userQuery()) limit 5',\n",
    "        query=query,\n",
    "        ranking=\"fusion\",\n",
    "        body={\"input.query(q)\": f\"embed({query})\"},\n",
    "    )\n",
    "    assert response.is_successful()\n",
    "    print(display_hits_as_df(response, [\"id\", \"title\"]))"
   ]
  },
  {
   "cell_type": "markdown",
   "id": "d1872b31",
   "metadata": {},
   "source": [
    "## Next steps\n",
    "\n",
    "This is just an intro into the capabilities of Vespa and pyvespa.\n",
    "Browse the site to learn more about schemas, feeding and queries -\n",
    "find more complex applications in\n",
    "[examples](https://pyvespa.readthedocs.io/en/latest/examples.html).\n"
   ]
  },
  {
   "cell_type": "markdown",
   "id": "89400281",
   "metadata": {},
   "source": [
    "## Example: Document operations using cert/key pair\n",
    "\n",
    "Above, we deployed to Vespa Cloud, and as part of that, generated a data-plane mTLS cert/key pair.\n",
    "\n",
    "This pair can be used to access the dataplane for reads/writes to documents and running queries from many different clients. The following\n",
    "demonstrates that using the `requests` library.\n"
   ]
  },
  {
   "cell_type": "markdown",
   "id": "562ac505",
   "metadata": {},
   "source": [
    "Set up a dataplane connection using the cert/key pair:\n"
   ]
  },
  {
   "cell_type": "code",
   "execution_count": 15,
   "id": "ff72148c",
   "metadata": {},
   "outputs": [],
   "source": [
    "import requests\n",
    "\n",
    "cert_path = app.cert\n",
    "key_path = app.key\n",
    "session = requests.Session()\n",
    "session.cert = (cert_path, key_path)"
   ]
  },
  {
   "cell_type": "markdown",
   "id": "7b69ff0d",
   "metadata": {},
   "source": [
    "Get a document from the endpoint returned when we deployed to Vespa Cloud above. PyVespa wraps the Vespa [document api](https://docs.vespa.ai/en/document-v1-api-guide.html)\n",
    "internally and in these examples we use the document api directly, but with the mTLS key/cert pair we used when deploying the app.\n"
   ]
  },
  {
   "cell_type": "code",
   "execution_count": 16,
   "id": "79f7d12c",
   "metadata": {},
   "outputs": [
    {
     "data": {
      "text/plain": [
       "{'pathId': '/document/v1/tutorial/doc/docid/MED-10',\n",
       " 'id': 'id:tutorial:doc::MED-10',\n",
       " 'fields': {'body': 'Recent studies have suggested that statins, an established drug group in the prevention of cardiovascular mortality, could delay or prevent breast cancer recurrence but the effect on disease-specific mortality remains unclear. We evaluated risk of breast cancer death among statin users in a population-based cohort of breast cancer patients. The study cohort included all newly diagnosed breast cancer patients in Finland during 1995–2003 (31,236 cases), identified from the Finnish Cancer Registry. Information on statin use before and after the diagnosis was obtained from a national prescription database. We used the Cox proportional hazards regression method to estimate mortality among statin users with statin use as time-dependent variable. A total of 4,151 participants had used statins. During the median follow-up of 3.25 years after the diagnosis (range 0.08–9.0 years) 6,011 participants died, of which 3,619 (60.2%) was due to breast cancer. After adjustment for age, tumor characteristics, and treatment selection, both post-diagnostic and pre-diagnostic statin use were associated with lowered risk of breast cancer death (HR 0.46, 95% CI 0.38–0.55 and HR 0.54, 95% CI 0.44–0.67, respectively). The risk decrease by post-diagnostic statin use was likely affected by healthy adherer bias; that is, the greater likelihood of dying cancer patients to discontinue statin use as the association was not clearly dose-dependent and observed already at low-dose/short-term use. The dose- and time-dependence of the survival benefit among pre-diagnostic statin users suggests a possible causal effect that should be evaluated further in a clinical trial testing statins’ effect on survival in breast cancer patients.',\n",
       "  'title': 'Statin Use and Breast Cancer Survival: A Nationwide Cohort Study from Finland',\n",
       "  'id': 'MED-10'}}"
      ]
     },
     "execution_count": 16,
     "metadata": {},
     "output_type": "execute_result"
    }
   ],
   "source": [
    "url = \"{0}/document/v1/{1}/{2}/docid/{3}\".format(endpoint, \"tutorial\", \"doc\", \"MED-10\")\n",
    "doc = session.get(url).json()\n",
    "doc"
   ]
  },
  {
   "cell_type": "markdown",
   "id": "82888987",
   "metadata": {},
   "source": [
    "Update the title and post the new version:\n"
   ]
  },
  {
   "cell_type": "code",
   "execution_count": 17,
   "id": "21c7c399",
   "metadata": {},
   "outputs": [
    {
     "data": {
      "text/plain": [
       "{'pathId': '/document/v1/tutorial/doc/docid/MED-10',\n",
       " 'id': 'id:tutorial:doc::MED-10'}"
      ]
     },
     "execution_count": 17,
     "metadata": {},
     "output_type": "execute_result"
    }
   ],
   "source": [
    "doc[\"fields\"][\"title\"] = \"Can you eat lobster?\"\n",
    "response = session.post(url, json=doc).json()\n",
    "response"
   ]
  },
  {
   "cell_type": "markdown",
   "id": "68ae7225",
   "metadata": {},
   "source": [
    "Get the doc again to see the new title:\n"
   ]
  },
  {
   "cell_type": "code",
   "execution_count": 18,
   "id": "2e3d560b",
   "metadata": {},
   "outputs": [
    {
     "data": {
      "text/plain": [
       "{'pathId': '/document/v1/tutorial/doc/docid/MED-10',\n",
       " 'id': 'id:tutorial:doc::MED-10',\n",
       " 'fields': {'body': 'Recent studies have suggested that statins, an established drug group in the prevention of cardiovascular mortality, could delay or prevent breast cancer recurrence but the effect on disease-specific mortality remains unclear. We evaluated risk of breast cancer death among statin users in a population-based cohort of breast cancer patients. The study cohort included all newly diagnosed breast cancer patients in Finland during 1995–2003 (31,236 cases), identified from the Finnish Cancer Registry. Information on statin use before and after the diagnosis was obtained from a national prescription database. We used the Cox proportional hazards regression method to estimate mortality among statin users with statin use as time-dependent variable. A total of 4,151 participants had used statins. During the median follow-up of 3.25 years after the diagnosis (range 0.08–9.0 years) 6,011 participants died, of which 3,619 (60.2%) was due to breast cancer. After adjustment for age, tumor characteristics, and treatment selection, both post-diagnostic and pre-diagnostic statin use were associated with lowered risk of breast cancer death (HR 0.46, 95% CI 0.38–0.55 and HR 0.54, 95% CI 0.44–0.67, respectively). The risk decrease by post-diagnostic statin use was likely affected by healthy adherer bias; that is, the greater likelihood of dying cancer patients to discontinue statin use as the association was not clearly dose-dependent and observed already at low-dose/short-term use. The dose- and time-dependence of the survival benefit among pre-diagnostic statin users suggests a possible causal effect that should be evaluated further in a clinical trial testing statins’ effect on survival in breast cancer patients.',\n",
       "  'title': 'Can you eat lobster?',\n",
       "  'id': 'MED-10'}}"
      ]
     },
     "execution_count": 18,
     "metadata": {},
     "output_type": "execute_result"
    }
   ],
   "source": [
    "doc = session.get(url).json()\n",
    "doc"
   ]
  },
  {
   "cell_type": "markdown",
   "id": "e2480213",
   "metadata": {},
   "source": [
    "## Example: Reconnect pyvespa using cert/key pair\n",
    "\n",
    "Above, we stored the dataplane credentials for later use. Deployment of an application usually happens when the schema changes, whereas accessing the dataplane is for document updates and user queries.\n",
    "\n",
    "One only needs to know the endpoint and the cert/key pair to enable a connection to a Vespa Cloud application:\n"
   ]
  },
  {
   "cell_type": "code",
   "execution_count": 19,
   "id": "c87da6cf",
   "metadata": {},
   "outputs": [
    {
     "name": "stdout",
     "output_type": "stream",
     "text": [
      "Using mtls_key_cert Authentication against endpoint https://f7f73182.eb1181f2.z.vespa-app.cloud//ApplicationStatus\n"
     ]
    },
    {
     "data": {
      "text/plain": [
       "{'id': 'id:tutorial:doc::MED-10',\n",
       " 'relevance': 25.27992205160453,\n",
       " 'source': 'hybridsearch_content',\n",
       " 'fields': {'documentid': 'id:tutorial:doc::MED-10',\n",
       "  'id': 'MED-10',\n",
       "  'title': 'Can you eat lobster?'}}"
      ]
     },
     "execution_count": 19,
     "metadata": {},
     "output_type": "execute_result"
    }
   ],
   "source": [
    "# cert_path = \"/Users/me/.vespa/mytenant.hybridsearch.default/data-plane-public-cert.pem\"\n",
    "# key_path  = \"/Users/me/.vespa/mytenant.hybridsearch.default/data-plane-private-key.pem\"\n",
    "\n",
    "from vespa.application import Vespa\n",
    "\n",
    "the_app = Vespa(endpoint, cert=cert_path, key=key_path)\n",
    "\n",
    "res = the_app.query(\n",
    "    yql=\"select documentid, id, title from sources * where userQuery()\",\n",
    "    query=\"Can you eat lobster?\",\n",
    "    ranking=\"bm25\",\n",
    ")\n",
    "res.hits[0]"
   ]
  },
  {
   "cell_type": "markdown",
   "id": "183bff2b",
   "metadata": {},
   "source": [
    "A common problem is a cert mismatch - the cert/key pair used when deployed is different than the pair used when making requests against Vespa. This\n",
    "will cause 40x errors.\n",
    "\n",
    "Make sure it is the same pair / re-create with `vespa auth cert -f` AND redeploy.\n",
    "\n",
    "If you re-generate a mTLS certificate pair, and use that when connecting to Vespa cloud endpoint, it will fail until you have updaded the deployment with the new public certificate.\n",
    "\n",
    "### Delete application\n",
    "\n",
    "The following will delete the application and data from the dev environment.\n"
   ]
  },
  {
   "cell_type": "code",
   "execution_count": 20,
   "id": "66354a53",
   "metadata": {},
   "outputs": [
    {
     "name": "stdout",
     "output_type": "stream",
     "text": [
      "Deactivated vespa-team.hybridsearch in dev.aws-us-east-1c\n",
      "Deleted instance vespa-team.hybridsearch.default\n"
     ]
    }
   ],
   "source": [
    "vespa_cloud.delete()"
   ]
  }
 ],
 "metadata": {
  "kernelspec": {
   "display_name": "Python 3 (ipykernel)",
   "language": "python",
   "name": "python3"
  },
  "language_info": {
   "codemirror_mode": {
    "name": "ipython",
    "version": 3
   },
   "file_extension": ".py",
   "mimetype": "text/x-python",
   "name": "python",
   "nbconvert_exporter": "python",
   "pygments_lexer": "ipython3",
   "version": "3.9.19"
  },
  "nbsphinx": {
   "allow_errors": true
  },
  "vscode": {
   "interpreter": {
    "hash": "b0fa6594d8f4cbf19f97940f81e996739fb7646882a419484c72d19e05852a7e"
   }
  }
 },
 "nbformat": 4,
 "nbformat_minor": 5
}
