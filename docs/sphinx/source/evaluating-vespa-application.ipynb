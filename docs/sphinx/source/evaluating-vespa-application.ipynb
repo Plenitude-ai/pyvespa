{
 "cells": [
  {
   "cell_type": "markdown",
   "id": "given-adoption",
   "metadata": {
    "pycharm": {
     "name": "#%% md\n"
    }
   },
   "source": [
    "<picture>\n",
    "  <source media=\"(prefers-color-scheme: dark)\" srcset=\"https://assets.vespa.ai/logos/Vespa-logo-green-RGB.svg\">\n",
    "  <source media=\"(prefers-color-scheme: light)\" srcset=\"https://assets.vespa.ai/logos/Vespa-logo-dark-RGB.svg\">\n",
    "  <img alt=\"#Vespa\" width=\"200\" src=\"https://assets.vespa.ai/logos/Vespa-logo-dark-RGB.svg\" style=\"margin-bottom: 25px;\">\n",
    "</picture>\n",
    "\n",
    "# Evaluating a Vespa Application\n",
    "\n",
    "This guide will show how you easily can evaluate a Vespa application using pyvespa's `VespaEvaluator` class. "
   ]
  },
  {
   "cell_type": "markdown",
   "id": "4f8c1448",
   "metadata": {},
   "source": [
    "<div class=\"alert alert-info\">\n",
    "    Refer to <a href=\"https://pyvespa.readthedocs.io/en/latest/troubleshooting.html\">troubleshooting</a>\n",
    "    for any problem when running this guide.\n",
    "</div>\n"
   ]
  },
  {
   "cell_type": "markdown",
   "id": "148d275b",
   "metadata": {},
   "source": [
    "**Pre-requisite**: Create a tenant at [cloud.vespa.ai](https://cloud.vespa.ai/), save the tenant name.\n",
    "\n",
    "[![Open In Colab](https://colab.research.google.com/assets/colab-badge.svg)](https://colab.research.google.com/github/vespa-engine/pyvespa/blob/master/docs/sphinx/source/getting-started-pyvespa-cloud.ipynb)\n"
   ]
  },
  {
   "cell_type": "markdown",
   "id": "366b0d83",
   "metadata": {},
   "source": [
    "## Install\n",
    "\n",
    "Install [pyvespa](https://pyvespa.readthedocs.io/) >= 0.45\n",
    "and the [Vespa CLI](https://docs.vespa.ai/en/vespa-cli.html).\n",
    "The Vespa CLI is used for data and control plane key management ([Vespa Cloud Security Guide](https://cloud.vespa.ai/en/security/guide)).\n"
   ]
  },
  {
   "cell_type": "code",
   "execution_count": 1,
   "id": "136750de",
   "metadata": {},
   "outputs": [],
   "source": [
    "#!pip3 install pyvespa vespacli"
   ]
  },
  {
   "cell_type": "markdown",
   "id": "02f706ff",
   "metadata": {},
   "source": [
    "## Configure application\n"
   ]
  },
  {
   "cell_type": "code",
   "execution_count": 2,
   "id": "9ca4da83",
   "metadata": {},
   "outputs": [],
   "source": [
    "# Replace with your tenant name from the Vespa Cloud Console\n",
    "tenant_name = \"scoober\"\n",
    "# Replace with your application name (does not need to exist yet)\n",
    "application = \"evaluation\""
   ]
  },
  {
   "cell_type": "markdown",
   "id": "db637322",
   "metadata": {},
   "source": [
    "## Create an application package\n",
    "\n",
    "The [application package](https://pyvespa.readthedocs.io/en/latest/reference-api.html#vespa.package.ApplicationPackage)\n",
    "has all the Vespa configuration files -\n",
    "create one from scratch:\n"
   ]
  },
  {
   "cell_type": "code",
   "execution_count": 3,
   "id": "bd5c2629",
   "metadata": {},
   "outputs": [],
   "source": [
    "from vespa.package import (\n",
    "    ApplicationPackage,\n",
    "    Field,\n",
    "    Schema,\n",
    "    Document,\n",
    "    HNSW,\n",
    "    RankProfile,\n",
    "    Component,\n",
    "    Parameter,\n",
    "    FieldSet,\n",
    "    GlobalPhaseRanking,\n",
    "    Function,\n",
    ")\n",
    "\n",
    "package = ApplicationPackage(\n",
    "    name=application,\n",
    "    schema=[\n",
    "        Schema(\n",
    "            name=\"doc\",\n",
    "            document=Document(\n",
    "                fields=[\n",
    "                    Field(name=\"id\", type=\"string\", indexing=[\"summary\"]),\n",
    "                    Field(\n",
    "                        name=\"text\",\n",
    "                        type=\"string\",\n",
    "                        indexing=[\"index\", \"summary\"],\n",
    "                        index=\"enable-bm25\",\n",
    "                        bolding=True,\n",
    "                    ),\n",
    "                    Field(\n",
    "                        name=\"embedding\",\n",
    "                        type=\"tensor<float>(x[384])\",\n",
    "                        indexing=[\n",
    "                            \"input text\",\n",
    "                            \"embed\",  # uses default model\n",
    "                            \"index\",\n",
    "                            \"attribute\",\n",
    "                        ],\n",
    "                        ann=HNSW(distance_metric=\"angular\"),\n",
    "                        is_document_field=False,\n",
    "                    ),\n",
    "                ]\n",
    "            ),\n",
    "            fieldsets=[FieldSet(name=\"default\", fields=[\"text\"])],\n",
    "            rank_profiles=[\n",
    "                RankProfile(\n",
    "                    name=\"bm25\",\n",
    "                    inputs=[(\"query(q)\", \"tensor<float>(x[384])\")],\n",
    "                    functions=[Function(name=\"bm25sum\", expression=\"bm25(text)\")],\n",
    "                    first_phase=\"bm25sum\",\n",
    "                ),\n",
    "                RankProfile(\n",
    "                    name=\"semantic\",\n",
    "                    inputs=[(\"query(q)\", \"tensor<float>(x[384])\")],\n",
    "                    first_phase=\"closeness(field, embedding)\",\n",
    "                ),\n",
    "                RankProfile(\n",
    "                    name=\"fusion\",\n",
    "                    inherits=\"bm25\",\n",
    "                    inputs=[(\"query(q)\", \"tensor<float>(x[384])\")],\n",
    "                    first_phase=\"closeness(field, embedding)\",\n",
    "                    global_phase=GlobalPhaseRanking(\n",
    "                        expression=\"reciprocal_rank_fusion(bm25sum, closeness(field, embedding))\",\n",
    "                        rerank_count=1000,\n",
    "                    ),\n",
    "                ),\n",
    "            ],\n",
    "        )\n",
    "    ],\n",
    "    components=[\n",
    "        Component(\n",
    "            id=\"e5\",\n",
    "            type=\"hugging-face-embedder\",\n",
    "            parameters=[\n",
    "                Parameter(\n",
    "                    \"transformer-model\",\n",
    "                    {\n",
    "                        \"url\": \"https://huggingface.co/intfloat/e5-small-v2/resolve/main/model.onnx\"\n",
    "                    },\n",
    "                ),\n",
    "                Parameter(\n",
    "                    \"tokenizer-model\",\n",
    "                    {\n",
    "                        \"url\": \"https://huggingface.co/intfloat/e5-small-v2/resolve/main/tokenizer.json\"\n",
    "                    },\n",
    "                ),\n",
    "            ],\n",
    "        )\n",
    "    ],\n",
    ")"
   ]
  },
  {
   "cell_type": "markdown",
   "id": "2c5e2943",
   "metadata": {},
   "source": [
    "Note that the name cannot have `-` or `_`.\n"
   ]
  },
  {
   "cell_type": "markdown",
   "id": "careful-savage",
   "metadata": {},
   "source": [
    "## Deploy to Vespa Cloud\n",
    "\n",
    "The app is now defined and ready to deploy to Vespa Cloud.\n",
    "\n",
    "Deploy `package` to Vespa Cloud, by creating an instance of\n",
    "[VespaCloud](https://pyvespa.readthedocs.io/en/latest/reference-api.html#vespa.deployment.VespaCloud):\n"
   ]
  },
  {
   "cell_type": "code",
   "execution_count": 4,
   "id": "canadian-blood",
   "metadata": {},
   "outputs": [
    {
     "name": "stdout",
     "output_type": "stream",
     "text": [
      "Setting application...\n",
      "Running: vespa config set application scoober.evaluation\n",
      "Setting target cloud...\n",
      "Running: vespa config set target cloud\n",
      "\n",
      "Api-key found for control plane access. Using api-key.\n"
     ]
    }
   ],
   "source": [
    "from vespa.deployment import VespaCloud\n",
    "import os\n",
    "\n",
    "# Key is only used for CI/CD. Can be removed if logging in interactively\n",
    "\n",
    "vespa_cloud = VespaCloud(\n",
    "    tenant=tenant_name,\n",
    "    application=application,\n",
    "    key_content=os.getenv(\n",
    "        \"VESPA_TEAM_API_KEY\", None\n",
    "    ),  # Key is only used for CI/CD. Can be removed if logging in interactively\n",
    "    application_package=package,\n",
    ")"
   ]
  },
  {
   "cell_type": "markdown",
   "id": "197c0a27",
   "metadata": {},
   "source": [
    "For more details on different authentication options and methods, see [authenticating-to-vespa-cloud](https://pyvespa.readthedocs.io/en/latest/authenticating-to-vespa-cloud.html).\n",
    "\n",
    "The following will upload the application package to Vespa Cloud Dev Zone (`aws-us-east-1c`), read more about [Vespa Zones](https://cloud.vespa.ai/en/reference/zones.html).\n",
    "The Vespa Cloud Dev Zone is considered as a sandbox environment where resources are down-scaled and idle deployments are expired automatically.\n",
    "For information about production deployments, see the following [method](https://pyvespa.readthedocs.io/en/latest/reference-api.html#vespa.deployment.VespaCloud.deploy_to_prod).\n",
    "\n",
    "> Note: Deployments to dev and perf expire after 7 days of inactivity, i.e., 7 days after running deploy. This applies to all plans, not only the Free Trial. Use the Vespa Console to extend the expiry period, or redeploy the application to add 7 more days.\n"
   ]
  },
  {
   "cell_type": "markdown",
   "id": "fb2ba0e1",
   "metadata": {},
   "source": [
    "Now deploy the app to Vespa Cloud dev zone.\n",
    "\n",
    "The first deployment typically takes 2 minutes until the endpoint is up. (Applications that for example refer to large onnx-models may take a bit longer.)\n"
   ]
  },
  {
   "cell_type": "code",
   "execution_count": null,
   "id": "337d9b05",
   "metadata": {},
   "outputs": [
    {
     "name": "stdout",
     "output_type": "stream",
     "text": [
      "Waiting for configuration server, 0/60 seconds...\n",
      "Waiting for configuration server, 5/60 seconds...\n",
      "Waiting for application to come up, 0/300 seconds.\n",
      "Waiting for application to come up, 5/300 seconds.\n",
      "Waiting for application to come up, 10/300 seconds.\n",
      "Waiting for application to come up, 15/300 seconds.\n",
      "Waiting for application to come up, 20/300 seconds.\n",
      "Waiting for application to come up, 25/300 seconds.\n"
     ]
    }
   ],
   "source": [
    "from vespa.deployment import VespaDocker\n",
    "\n",
    "vespa_docker = VespaDocker()\n",
    "\n",
    "app = vespa_docker.deploy(application_package=package)"
   ]
  },
  {
   "cell_type": "markdown",
   "id": "aaae2f91",
   "metadata": {},
   "source": [
    "If the deployment failed, it is possible you forgot to add the key in the Vespa Cloud Console in the `vespa auth api-key` step above.\n",
    "\n",
    "If you can authenticate, you should see lines like the following\n",
    "\n",
    "```\n",
    " Deployment started in run 1 of dev-aws-us-east-1c for mytenant.hybridsearch.\n",
    "```\n",
    "\n",
    "The deployment takes a few minutes the first time while Vespa Cloud sets up the resources for your Vespa application\n",
    "\n",
    "`app` now holds a reference to a [Vespa](https://pyvespa.readthedocs.io/en/latest/reference-api.html#vespa.application.Vespa) instance. We can access the\n",
    "mTLS protected endpoint name using the control-plane (vespa_cloud) instance. This endpoint we can query and feed to (data plane access) using the\n",
    "mTLS certificate generated in previous steps.\n"
   ]
  },
  {
   "cell_type": "code",
   "execution_count": null,
   "id": "afa0d69d",
   "metadata": {},
   "outputs": [
    {
     "ename": "HTTPError",
     "evalue": "HTTP 401 reason: Unauthorized error_text: {\n  \"code\" : 401,\n  \"message\" : \"Access denied - not authenticated\"\n} for /application/v4/tenant/scoober/application/evaluation/instance/default/environment/dev/region/aws-us-east-1c",
     "output_type": "error",
     "traceback": [
      "\u001b[0;31m---------------------------------------------------------------------------\u001b[0m",
      "\u001b[0;31mHTTPError\u001b[0m                                 Traceback (most recent call last)",
      "Cell \u001b[0;32mIn[6], line 1\u001b[0m\n\u001b[0;32m----> 1\u001b[0m endpoint \u001b[38;5;241m=\u001b[39m \u001b[43mvespa_cloud\u001b[49m\u001b[38;5;241;43m.\u001b[39;49m\u001b[43mget_mtls_endpoint\u001b[49m\u001b[43m(\u001b[49m\u001b[43m)\u001b[49m\n\u001b[1;32m      2\u001b[0m endpoint\n",
      "File \u001b[0;32m~/Repos/pyvespa/vespa/deployment.py:1424\u001b[0m, in \u001b[0;36mVespaCloud.get_mtls_endpoint\u001b[0;34m(self, instance, region, environment)\u001b[0m\n\u001b[1;32m   1418\u001b[0m \u001b[38;5;28;01mdef\u001b[39;00m \u001b[38;5;21mget_mtls_endpoint\u001b[39m(\n\u001b[1;32m   1419\u001b[0m     \u001b[38;5;28mself\u001b[39m,\n\u001b[1;32m   1420\u001b[0m     instance: Optional[\u001b[38;5;28mstr\u001b[39m] \u001b[38;5;241m=\u001b[39m \u001b[38;5;124m\"\u001b[39m\u001b[38;5;124mdefault\u001b[39m\u001b[38;5;124m\"\u001b[39m,\n\u001b[1;32m   1421\u001b[0m     region: Optional[\u001b[38;5;28mstr\u001b[39m] \u001b[38;5;241m=\u001b[39m \u001b[38;5;28;01mNone\u001b[39;00m,\n\u001b[1;32m   1422\u001b[0m     environment: Optional[\u001b[38;5;28mstr\u001b[39m] \u001b[38;5;241m=\u001b[39m \u001b[38;5;124m\"\u001b[39m\u001b[38;5;124mdev\u001b[39m\u001b[38;5;124m\"\u001b[39m,\n\u001b[1;32m   1423\u001b[0m ) \u001b[38;5;241m-\u001b[39m\u001b[38;5;241m>\u001b[39m \u001b[38;5;28mstr\u001b[39m:\n\u001b[0;32m-> 1424\u001b[0m     \u001b[38;5;28;01mreturn\u001b[39;00m \u001b[38;5;28;43mself\u001b[39;49m\u001b[38;5;241;43m.\u001b[39;49m\u001b[43mget_endpoint\u001b[49m\u001b[43m(\u001b[49m\u001b[38;5;124;43m\"\u001b[39;49m\u001b[38;5;124;43mmtls\u001b[39;49m\u001b[38;5;124;43m\"\u001b[39;49m\u001b[43m,\u001b[49m\u001b[43m \u001b[49m\u001b[43minstance\u001b[49m\u001b[43m,\u001b[49m\u001b[43m \u001b[49m\u001b[43mregion\u001b[49m\u001b[43m,\u001b[49m\u001b[43m \u001b[49m\u001b[43menvironment\u001b[49m\u001b[43m)\u001b[49m\n",
      "File \u001b[0;32m~/Repos/pyvespa/vespa/deployment.py:1392\u001b[0m, in \u001b[0;36mVespaCloud.get_endpoint\u001b[0;34m(self, auth_method, instance, region, environment, cluster)\u001b[0m\n\u001b[1;32m   1382\u001b[0m \u001b[38;5;28;01mdef\u001b[39;00m \u001b[38;5;21mget_endpoint\u001b[39m(\n\u001b[1;32m   1383\u001b[0m     \u001b[38;5;28mself\u001b[39m,\n\u001b[1;32m   1384\u001b[0m     auth_method: \u001b[38;5;28mstr\u001b[39m,\n\u001b[0;32m   (...)\u001b[0m\n\u001b[1;32m   1389\u001b[0m ) \u001b[38;5;241m-\u001b[39m\u001b[38;5;241m>\u001b[39m \u001b[38;5;28mstr\u001b[39m:\n\u001b[1;32m   1390\u001b[0m     \u001b[38;5;66;03m# TODO: Support multiple endpoints.\u001b[39;00m\n\u001b[1;32m   1391\u001b[0m     auth_endpoints \u001b[38;5;241m=\u001b[39m []\n\u001b[0;32m-> 1392\u001b[0m     endpoints \u001b[38;5;241m=\u001b[39m \u001b[38;5;28;43mself\u001b[39;49m\u001b[38;5;241;43m.\u001b[39;49m\u001b[43mget_all_endpoints\u001b[49m\u001b[43m(\u001b[49m\u001b[43minstance\u001b[49m\u001b[43m,\u001b[49m\u001b[43m \u001b[49m\u001b[43mregion\u001b[49m\u001b[43m,\u001b[49m\u001b[43m \u001b[49m\u001b[43menvironment\u001b[49m\u001b[43m)\u001b[49m\n\u001b[1;32m   1393\u001b[0m     \u001b[38;5;28;01mfor\u001b[39;00m endpoint \u001b[38;5;129;01min\u001b[39;00m endpoints:\n\u001b[1;32m   1394\u001b[0m         endpoint_cluster \u001b[38;5;241m=\u001b[39m endpoint\u001b[38;5;241m.\u001b[39mget(\u001b[38;5;124m\"\u001b[39m\u001b[38;5;124mcluster\u001b[39m\u001b[38;5;124m\"\u001b[39m, \u001b[38;5;28;01mNone\u001b[39;00m)\n",
      "File \u001b[0;32m~/Repos/pyvespa/vespa/deployment.py:1360\u001b[0m, in \u001b[0;36mVespaCloud.get_all_endpoints\u001b[0;34m(self, instance, region, environment)\u001b[0m\n\u001b[1;32m   1357\u001b[0m     \u001b[38;5;28;01melse\u001b[39;00m:\n\u001b[1;32m   1358\u001b[0m         \u001b[38;5;28;01mraise\u001b[39;00m \u001b[38;5;167;01mValueError\u001b[39;00m(\u001b[38;5;124m\"\u001b[39m\u001b[38;5;124mInvalid environment. Must be \u001b[39m\u001b[38;5;124m'\u001b[39m\u001b[38;5;124mdev\u001b[39m\u001b[38;5;124m'\u001b[39m\u001b[38;5;124m or \u001b[39m\u001b[38;5;124m'\u001b[39m\u001b[38;5;124mprod\u001b[39m\u001b[38;5;124m'\u001b[39m\u001b[38;5;124m\"\u001b[39m)\n\u001b[0;32m-> 1360\u001b[0m endpoints \u001b[38;5;241m=\u001b[39m \u001b[38;5;28;43mself\u001b[39;49m\u001b[38;5;241;43m.\u001b[39;49m\u001b[43m_request\u001b[49m\u001b[43m(\u001b[49m\n\u001b[1;32m   1361\u001b[0m \u001b[43m    \u001b[49m\u001b[38;5;124;43m\"\u001b[39;49m\u001b[38;5;124;43mGET\u001b[39;49m\u001b[38;5;124;43m\"\u001b[39;49m\u001b[43m,\u001b[49m\n\u001b[1;32m   1362\u001b[0m \u001b[43m    \u001b[49m\u001b[38;5;124;43m\"\u001b[39;49m\u001b[38;5;124;43m/application/v4/tenant/\u001b[39;49m\u001b[38;5;132;43;01m{}\u001b[39;49;00m\u001b[38;5;124;43m/application/\u001b[39;49m\u001b[38;5;132;43;01m{}\u001b[39;49;00m\u001b[38;5;124;43m/instance/\u001b[39;49m\u001b[38;5;132;43;01m{}\u001b[39;49;00m\u001b[38;5;124;43m/environment/\u001b[39;49m\u001b[38;5;132;43;01m{}\u001b[39;49;00m\u001b[38;5;124;43m/region/\u001b[39;49m\u001b[38;5;132;43;01m{}\u001b[39;49;00m\u001b[38;5;124;43m\"\u001b[39;49m\u001b[38;5;241;43m.\u001b[39;49m\u001b[43mformat\u001b[49m\u001b[43m(\u001b[49m\n\u001b[1;32m   1363\u001b[0m \u001b[43m        \u001b[49m\u001b[38;5;28;43mself\u001b[39;49m\u001b[38;5;241;43m.\u001b[39;49m\u001b[43mtenant\u001b[49m\u001b[43m,\u001b[49m\u001b[43m \u001b[49m\u001b[38;5;28;43mself\u001b[39;49m\u001b[38;5;241;43m.\u001b[39;49m\u001b[43mapplication\u001b[49m\u001b[43m,\u001b[49m\u001b[43m \u001b[49m\u001b[43minstance\u001b[49m\u001b[43m,\u001b[49m\u001b[43m \u001b[49m\u001b[43menvironment\u001b[49m\u001b[43m,\u001b[49m\u001b[43m \u001b[49m\u001b[43mregion\u001b[49m\n\u001b[1;32m   1364\u001b[0m \u001b[43m    \u001b[49m\u001b[43m)\u001b[49m\u001b[43m,\u001b[49m\n\u001b[1;32m   1365\u001b[0m \u001b[43m\u001b[49m\u001b[43m)\u001b[49m[\u001b[38;5;124m\"\u001b[39m\u001b[38;5;124mendpoints\u001b[39m\u001b[38;5;124m\"\u001b[39m]\n\u001b[1;32m   1366\u001b[0m \u001b[38;5;28;01mreturn\u001b[39;00m endpoints\n",
      "File \u001b[0;32m~/Repos/pyvespa/vespa/deployment.py:1287\u001b[0m, in \u001b[0;36mVespaCloud._request\u001b[0;34m(self, method, path, body, headers)\u001b[0m\n\u001b[1;32m   1285\u001b[0m     \u001b[38;5;28;01mreturn\u001b[39;00m \u001b[38;5;28mself\u001b[39m\u001b[38;5;241m.\u001b[39m_request_with_access_token(method, path, body, headers)\n\u001b[1;32m   1286\u001b[0m \u001b[38;5;28;01melif\u001b[39;00m \u001b[38;5;28mself\u001b[39m\u001b[38;5;241m.\u001b[39mcontrol_plane_auth_method \u001b[38;5;241m==\u001b[39m \u001b[38;5;124m\"\u001b[39m\u001b[38;5;124mapi_key\u001b[39m\u001b[38;5;124m\"\u001b[39m:\n\u001b[0;32m-> 1287\u001b[0m     \u001b[38;5;28;01mreturn\u001b[39;00m \u001b[38;5;28;43mself\u001b[39;49m\u001b[38;5;241;43m.\u001b[39;49m\u001b[43m_request_with_api_key\u001b[49m\u001b[43m(\u001b[49m\u001b[43mmethod\u001b[49m\u001b[43m,\u001b[49m\u001b[43m \u001b[49m\u001b[43mpath\u001b[49m\u001b[43m,\u001b[49m\u001b[43m \u001b[49m\u001b[43mbody\u001b[49m\u001b[43m,\u001b[49m\u001b[43m \u001b[49m\u001b[43mheaders\u001b[49m\u001b[43m)\u001b[49m\n\u001b[1;32m   1288\u001b[0m \u001b[38;5;28;01melse\u001b[39;00m:\n\u001b[1;32m   1289\u001b[0m     \u001b[38;5;28;01mraise\u001b[39;00m \u001b[38;5;167;01mValueError\u001b[39;00m(\n\u001b[1;32m   1290\u001b[0m         \u001b[38;5;124m\"\u001b[39m\u001b[38;5;124mControl plane auth method not inferred. Should be either api_key or access_token.\u001b[39m\u001b[38;5;124m\"\u001b[39m\n\u001b[1;32m   1291\u001b[0m     )\n",
      "File \u001b[0;32m~/Repos/pyvespa/vespa/deployment.py:1341\u001b[0m, in \u001b[0;36mVespaCloud._request_with_api_key\u001b[0;34m(self, method, path, body, headers, return_raw_response)\u001b[0m\n\u001b[1;32m   1330\u001b[0m signature_b64 \u001b[38;5;241m=\u001b[39m standard_b64encode(signature)\u001b[38;5;241m.\u001b[39mdecode(\u001b[38;5;124m\"\u001b[39m\u001b[38;5;124mUTF-8\u001b[39m\u001b[38;5;124m\"\u001b[39m)\n\u001b[1;32m   1332\u001b[0m headers \u001b[38;5;241m=\u001b[39m {\n\u001b[1;32m   1333\u001b[0m     \u001b[38;5;124m\"\u001b[39m\u001b[38;5;124mX-Timestamp\u001b[39m\u001b[38;5;124m\"\u001b[39m: timestamp,\n\u001b[1;32m   1334\u001b[0m     \u001b[38;5;124m\"\u001b[39m\u001b[38;5;124mX-Content-Hash\u001b[39m\u001b[38;5;124m\"\u001b[39m: content_hash,\n\u001b[0;32m   (...)\u001b[0m\n\u001b[1;32m   1338\u001b[0m     \u001b[38;5;241m*\u001b[39m\u001b[38;5;241m*\u001b[39mheaders,\n\u001b[1;32m   1339\u001b[0m }\n\u001b[0;32m-> 1341\u001b[0m response \u001b[38;5;241m=\u001b[39m \u001b[38;5;28;43mself\u001b[39;49m\u001b[38;5;241;43m.\u001b[39;49m\u001b[43mget_connection_response_with_retry\u001b[49m\u001b[43m(\u001b[49m\n\u001b[1;32m   1342\u001b[0m \u001b[43m    \u001b[49m\u001b[43mmethod\u001b[49m\u001b[43m,\u001b[49m\u001b[43m \u001b[49m\u001b[43mpath\u001b[49m\u001b[43m,\u001b[49m\u001b[43m \u001b[49m\u001b[43mbody_data\u001b[49m\u001b[43m,\u001b[49m\u001b[43m \u001b[49m\u001b[43mheaders\u001b[49m\n\u001b[1;32m   1343\u001b[0m \u001b[43m\u001b[49m\u001b[43m)\u001b[49m\n\u001b[1;32m   1344\u001b[0m \u001b[38;5;28;01mreturn\u001b[39;00m \u001b[38;5;28mself\u001b[39m\u001b[38;5;241m.\u001b[39m_handle_response(response, return_raw_response, path)\n",
      "File \u001b[0;32m~/Repos/pyvespa/.venv/lib/python3.10/site-packages/tenacity/__init__.py:336\u001b[0m, in \u001b[0;36mBaseRetrying.wraps.<locals>.wrapped_f\u001b[0;34m(*args, **kw)\u001b[0m\n\u001b[1;32m    334\u001b[0m copy \u001b[38;5;241m=\u001b[39m \u001b[38;5;28mself\u001b[39m\u001b[38;5;241m.\u001b[39mcopy()\n\u001b[1;32m    335\u001b[0m wrapped_f\u001b[38;5;241m.\u001b[39mstatistics \u001b[38;5;241m=\u001b[39m copy\u001b[38;5;241m.\u001b[39mstatistics  \u001b[38;5;66;03m# type: ignore[attr-defined]\u001b[39;00m\n\u001b[0;32m--> 336\u001b[0m \u001b[38;5;28;01mreturn\u001b[39;00m \u001b[43mcopy\u001b[49m\u001b[43m(\u001b[49m\u001b[43mf\u001b[49m\u001b[43m,\u001b[49m\u001b[43m \u001b[49m\u001b[38;5;241;43m*\u001b[39;49m\u001b[43margs\u001b[49m\u001b[43m,\u001b[49m\u001b[43m \u001b[49m\u001b[38;5;241;43m*\u001b[39;49m\u001b[38;5;241;43m*\u001b[39;49m\u001b[43mkw\u001b[49m\u001b[43m)\u001b[49m\n",
      "File \u001b[0;32m~/Repos/pyvespa/.venv/lib/python3.10/site-packages/tenacity/__init__.py:475\u001b[0m, in \u001b[0;36mRetrying.__call__\u001b[0;34m(self, fn, *args, **kwargs)\u001b[0m\n\u001b[1;32m    473\u001b[0m retry_state \u001b[38;5;241m=\u001b[39m RetryCallState(retry_object\u001b[38;5;241m=\u001b[39m\u001b[38;5;28mself\u001b[39m, fn\u001b[38;5;241m=\u001b[39mfn, args\u001b[38;5;241m=\u001b[39margs, kwargs\u001b[38;5;241m=\u001b[39mkwargs)\n\u001b[1;32m    474\u001b[0m \u001b[38;5;28;01mwhile\u001b[39;00m \u001b[38;5;28;01mTrue\u001b[39;00m:\n\u001b[0;32m--> 475\u001b[0m     do \u001b[38;5;241m=\u001b[39m \u001b[38;5;28;43mself\u001b[39;49m\u001b[38;5;241;43m.\u001b[39;49m\u001b[43miter\u001b[49m\u001b[43m(\u001b[49m\u001b[43mretry_state\u001b[49m\u001b[38;5;241;43m=\u001b[39;49m\u001b[43mretry_state\u001b[49m\u001b[43m)\u001b[49m\n\u001b[1;32m    476\u001b[0m     \u001b[38;5;28;01mif\u001b[39;00m \u001b[38;5;28misinstance\u001b[39m(do, DoAttempt):\n\u001b[1;32m    477\u001b[0m         \u001b[38;5;28;01mtry\u001b[39;00m:\n",
      "File \u001b[0;32m~/Repos/pyvespa/.venv/lib/python3.10/site-packages/tenacity/__init__.py:376\u001b[0m, in \u001b[0;36mBaseRetrying.iter\u001b[0;34m(self, retry_state)\u001b[0m\n\u001b[1;32m    374\u001b[0m result \u001b[38;5;241m=\u001b[39m \u001b[38;5;28;01mNone\u001b[39;00m\n\u001b[1;32m    375\u001b[0m \u001b[38;5;28;01mfor\u001b[39;00m action \u001b[38;5;129;01min\u001b[39;00m \u001b[38;5;28mself\u001b[39m\u001b[38;5;241m.\u001b[39miter_state\u001b[38;5;241m.\u001b[39mactions:\n\u001b[0;32m--> 376\u001b[0m     result \u001b[38;5;241m=\u001b[39m \u001b[43maction\u001b[49m\u001b[43m(\u001b[49m\u001b[43mretry_state\u001b[49m\u001b[43m)\u001b[49m\n\u001b[1;32m    377\u001b[0m \u001b[38;5;28;01mreturn\u001b[39;00m result\n",
      "File \u001b[0;32m~/Repos/pyvespa/.venv/lib/python3.10/site-packages/tenacity/__init__.py:418\u001b[0m, in \u001b[0;36mBaseRetrying._post_stop_check_actions.<locals>.exc_check\u001b[0;34m(rs)\u001b[0m\n\u001b[1;32m    416\u001b[0m retry_exc \u001b[38;5;241m=\u001b[39m \u001b[38;5;28mself\u001b[39m\u001b[38;5;241m.\u001b[39mretry_error_cls(fut)\n\u001b[1;32m    417\u001b[0m \u001b[38;5;28;01mif\u001b[39;00m \u001b[38;5;28mself\u001b[39m\u001b[38;5;241m.\u001b[39mreraise:\n\u001b[0;32m--> 418\u001b[0m     \u001b[38;5;28;01mraise\u001b[39;00m \u001b[43mretry_exc\u001b[49m\u001b[38;5;241;43m.\u001b[39;49m\u001b[43mreraise\u001b[49m\u001b[43m(\u001b[49m\u001b[43m)\u001b[49m\n\u001b[1;32m    419\u001b[0m \u001b[38;5;28;01mraise\u001b[39;00m retry_exc \u001b[38;5;28;01mfrom\u001b[39;00m \u001b[38;5;21;01mfut\u001b[39;00m\u001b[38;5;21;01m.\u001b[39;00m\u001b[38;5;21;01mexception\u001b[39;00m()\n",
      "File \u001b[0;32m~/Repos/pyvespa/.venv/lib/python3.10/site-packages/tenacity/__init__.py:185\u001b[0m, in \u001b[0;36mRetryError.reraise\u001b[0;34m(self)\u001b[0m\n\u001b[1;32m    183\u001b[0m \u001b[38;5;28;01mdef\u001b[39;00m \u001b[38;5;21mreraise\u001b[39m(\u001b[38;5;28mself\u001b[39m) \u001b[38;5;241m-\u001b[39m\u001b[38;5;241m>\u001b[39m t\u001b[38;5;241m.\u001b[39mNoReturn:\n\u001b[1;32m    184\u001b[0m     \u001b[38;5;28;01mif\u001b[39;00m \u001b[38;5;28mself\u001b[39m\u001b[38;5;241m.\u001b[39mlast_attempt\u001b[38;5;241m.\u001b[39mfailed:\n\u001b[0;32m--> 185\u001b[0m         \u001b[38;5;28;01mraise\u001b[39;00m \u001b[38;5;28;43mself\u001b[39;49m\u001b[38;5;241;43m.\u001b[39;49m\u001b[43mlast_attempt\u001b[49m\u001b[38;5;241;43m.\u001b[39;49m\u001b[43mresult\u001b[49m\u001b[43m(\u001b[49m\u001b[43m)\u001b[49m\n\u001b[1;32m    186\u001b[0m     \u001b[38;5;28;01mraise\u001b[39;00m \u001b[38;5;28mself\u001b[39m\n",
      "File \u001b[0;32m~/.local/share/uv/python/cpython-3.10.14-macos-aarch64-none/lib/python3.10/concurrent/futures/_base.py:451\u001b[0m, in \u001b[0;36mFuture.result\u001b[0;34m(self, timeout)\u001b[0m\n\u001b[1;32m    449\u001b[0m     \u001b[38;5;28;01mraise\u001b[39;00m CancelledError()\n\u001b[1;32m    450\u001b[0m \u001b[38;5;28;01melif\u001b[39;00m \u001b[38;5;28mself\u001b[39m\u001b[38;5;241m.\u001b[39m_state \u001b[38;5;241m==\u001b[39m FINISHED:\n\u001b[0;32m--> 451\u001b[0m     \u001b[38;5;28;01mreturn\u001b[39;00m \u001b[38;5;28;43mself\u001b[39;49m\u001b[38;5;241;43m.\u001b[39;49m\u001b[43m__get_result\u001b[49m\u001b[43m(\u001b[49m\u001b[43m)\u001b[49m\n\u001b[1;32m    453\u001b[0m \u001b[38;5;28mself\u001b[39m\u001b[38;5;241m.\u001b[39m_condition\u001b[38;5;241m.\u001b[39mwait(timeout)\n\u001b[1;32m    455\u001b[0m \u001b[38;5;28;01mif\u001b[39;00m \u001b[38;5;28mself\u001b[39m\u001b[38;5;241m.\u001b[39m_state \u001b[38;5;129;01min\u001b[39;00m [CANCELLED, CANCELLED_AND_NOTIFIED]:\n",
      "File \u001b[0;32m~/.local/share/uv/python/cpython-3.10.14-macos-aarch64-none/lib/python3.10/concurrent/futures/_base.py:403\u001b[0m, in \u001b[0;36mFuture.__get_result\u001b[0;34m(self)\u001b[0m\n\u001b[1;32m    401\u001b[0m \u001b[38;5;28;01mif\u001b[39;00m \u001b[38;5;28mself\u001b[39m\u001b[38;5;241m.\u001b[39m_exception:\n\u001b[1;32m    402\u001b[0m     \u001b[38;5;28;01mtry\u001b[39;00m:\n\u001b[0;32m--> 403\u001b[0m         \u001b[38;5;28;01mraise\u001b[39;00m \u001b[38;5;28mself\u001b[39m\u001b[38;5;241m.\u001b[39m_exception\n\u001b[1;32m    404\u001b[0m     \u001b[38;5;28;01mfinally\u001b[39;00m:\n\u001b[1;32m    405\u001b[0m         \u001b[38;5;66;03m# Break a reference cycle with the exception in self._exception\u001b[39;00m\n\u001b[1;32m    406\u001b[0m         \u001b[38;5;28mself\u001b[39m \u001b[38;5;241m=\u001b[39m \u001b[38;5;28;01mNone\u001b[39;00m\n",
      "File \u001b[0;32m~/Repos/pyvespa/.venv/lib/python3.10/site-packages/tenacity/__init__.py:478\u001b[0m, in \u001b[0;36mRetrying.__call__\u001b[0;34m(self, fn, *args, **kwargs)\u001b[0m\n\u001b[1;32m    476\u001b[0m \u001b[38;5;28;01mif\u001b[39;00m \u001b[38;5;28misinstance\u001b[39m(do, DoAttempt):\n\u001b[1;32m    477\u001b[0m     \u001b[38;5;28;01mtry\u001b[39;00m:\n\u001b[0;32m--> 478\u001b[0m         result \u001b[38;5;241m=\u001b[39m \u001b[43mfn\u001b[49m\u001b[43m(\u001b[49m\u001b[38;5;241;43m*\u001b[39;49m\u001b[43margs\u001b[49m\u001b[43m,\u001b[49m\u001b[43m \u001b[49m\u001b[38;5;241;43m*\u001b[39;49m\u001b[38;5;241;43m*\u001b[39;49m\u001b[43mkwargs\u001b[49m\u001b[43m)\u001b[49m\n\u001b[1;32m    479\u001b[0m     \u001b[38;5;28;01mexcept\u001b[39;00m \u001b[38;5;167;01mBaseException\u001b[39;00m:  \u001b[38;5;66;03m# noqa: B902\u001b[39;00m\n\u001b[1;32m    480\u001b[0m         retry_state\u001b[38;5;241m.\u001b[39mset_exception(sys\u001b[38;5;241m.\u001b[39mexc_info())  \u001b[38;5;66;03m# type: ignore[arg-type]\u001b[39;00m\n",
      "File \u001b[0;32m~/Repos/pyvespa/vespa/deployment.py:1178\u001b[0m, in \u001b[0;36mVespaCloud.get_connection_response_with_retry\u001b[0;34m(self, method, path, body, headers)\u001b[0m\n\u001b[1;32m   1174\u001b[0m     response \u001b[38;5;241m=\u001b[39m client\u001b[38;5;241m.\u001b[39mrequest(\n\u001b[1;32m   1175\u001b[0m         method, path, data\u001b[38;5;241m=\u001b[39mdata, content\u001b[38;5;241m=\u001b[39mcontent, headers\u001b[38;5;241m=\u001b[39mheaders\n\u001b[1;32m   1176\u001b[0m     )\n\u001b[1;32m   1177\u001b[0m     \u001b[38;5;28;01mif\u001b[39;00m response\u001b[38;5;241m.\u001b[39mstatus_code \u001b[38;5;241m!=\u001b[39m \u001b[38;5;241m200\u001b[39m:\n\u001b[0;32m-> 1178\u001b[0m         \u001b[38;5;28;01mraise\u001b[39;00m HTTPError(\n\u001b[1;32m   1179\u001b[0m             \u001b[38;5;124mf\u001b[39m\u001b[38;5;124m\"\u001b[39m\u001b[38;5;124mHTTP \u001b[39m\u001b[38;5;132;01m{\u001b[39;00mresponse\u001b[38;5;241m.\u001b[39mstatus_code\u001b[38;5;132;01m}\u001b[39;00m\u001b[38;5;124m reason: \u001b[39m\u001b[38;5;132;01m{\u001b[39;00mresponse\u001b[38;5;241m.\u001b[39mreason_phrase\u001b[38;5;132;01m}\u001b[39;00m\u001b[38;5;124m error_text: \u001b[39m\u001b[38;5;132;01m{\u001b[39;00mresponse\u001b[38;5;241m.\u001b[39mtext\u001b[38;5;132;01m}\u001b[39;00m\u001b[38;5;124m for \u001b[39m\u001b[38;5;132;01m{\u001b[39;00mpath\u001b[38;5;132;01m}\u001b[39;00m\u001b[38;5;124m\"\u001b[39m\n\u001b[1;32m   1180\u001b[0m         )\n\u001b[1;32m   1181\u001b[0m \u001b[38;5;28;01mreturn\u001b[39;00m response\n",
      "\u001b[0;31mHTTPError\u001b[0m: HTTP 401 reason: Unauthorized error_text: {\n  \"code\" : 401,\n  \"message\" : \"Access denied - not authenticated\"\n} for /application/v4/tenant/scoober/application/evaluation/instance/default/environment/dev/region/aws-us-east-1c"
     ]
    }
   ],
   "source": [
    "# endpoint = vespa_cloud.get_mtls_endpoint()\n",
    "# endpoint"
   ]
  },
  {
   "cell_type": "markdown",
   "id": "sealed-mustang",
   "metadata": {},
   "source": [
    "## Feeding documents to Vespa\n",
    "\n",
    "In this example we use the [HF Datasets](https://huggingface.co/docs/datasets/index) library to stream the\n",
    "[BeIR/nfcorpus](https://huggingface.co/datasets/BeIR/nfcorpus) dataset and index in our newly deployed Vespa instance. Read\n",
    "more about the [NFCorpus](https://www.cl.uni-heidelberg.de/statnlpgroup/nfcorpus/):\n",
    "\n",
    "> NFCorpus is a full-text English retrieval data set for Medical Information Retrieval.\n",
    "\n",
    "The following uses the [stream](https://huggingface.co/docs/datasets/stream) option of datasets to stream the data without\n",
    "downloading all the contents locally. The `map` functionality allows us to convert the\n",
    "dataset fields into the expected feed format for `pyvespa` which expects a dict with the keys `id` and `fields`:\n",
    "\n",
    "`{ \"id\": \"vespa-document-id\", \"fields\": {\"vespa_field\": \"vespa-field-value\"}}`\n"
   ]
  },
  {
   "cell_type": "code",
   "execution_count": 7,
   "id": "executed-reservoir",
   "metadata": {},
   "outputs": [],
   "source": [
    "from datasets import load_dataset\n",
    "\n",
    "dataset_id = \"zeta-alpha-ai/NanoMSMARCO\"\n",
    "\n",
    "dataset = load_dataset(dataset_id, \"corpus\", split=\"train\", streaming=True)\n",
    "vespa_feed = dataset.map(\n",
    "    lambda x: {\n",
    "        \"id\": x[\"_id\"],\n",
    "        \"fields\": {\"text\": x[\"text\"], \"id\": x[\"_id\"]},\n",
    "    }\n",
    ")"
   ]
  },
  {
   "cell_type": "code",
   "execution_count": null,
   "id": "8d6353a8",
   "metadata": {},
   "outputs": [],
   "source": [
    "query_ds = load_dataset(dataset_id, \"queries\", split=\"train\")\n",
    "qrels = load_dataset(dataset_id, \"qrels\", split=\"train\")"
   ]
  },
  {
   "cell_type": "code",
   "execution_count": 9,
   "id": "eec1debe",
   "metadata": {},
   "outputs": [],
   "source": [
    "_ids, _texts = query_ds[\"_id\"], query_ds[\"text\"]\n",
    "ids_to_query = dict(zip(_ids, _texts))"
   ]
  },
  {
   "cell_type": "code",
   "execution_count": 10,
   "id": "da912bcb",
   "metadata": {},
   "outputs": [
    {
     "name": "stdout",
     "output_type": "stream",
     "text": [
      "qid: 994479, query: which health care system provides all citizens or residents with equal access to health care services\n",
      "qid: 1009388, query: what's right in health care\n",
      "qid: 1088332, query: weather in oran\n",
      "qid: 265729, query: how long keep financial records\n",
      "qid: 1099433, query: how do hoa fees work\n",
      "qid: 200600, query: heels or heal\n"
     ]
    }
   ],
   "source": [
    "for idx, (qid, q) in enumerate(ids_to_query.items()):\n",
    "    print(f\"qid: {qid}, query: {q}\")\n",
    "    if idx == 5:\n",
    "        break"
   ]
  },
  {
   "cell_type": "code",
   "execution_count": 11,
   "id": "aec77319",
   "metadata": {},
   "outputs": [
    {
     "data": {
      "text/plain": [
       "{'994479': '7275120',\n",
       " '1009388': '7248824',\n",
       " '1088332': '7094398',\n",
       " '265729': '7369987',\n",
       " '1099433': '7255675',\n",
       " '200600': '7929603',\n",
       " '924398': '7813557',\n",
       " '531490': '3550561',\n",
       " '408563': '2322244',\n",
       " '1048359': '7187663',\n",
       " '603050': '7707024',\n",
       " '1060040': '7168976',\n",
       " '96749': '7301814',\n",
       " '792789': '7970736',\n",
       " '1067764': '7160805',\n",
       " '1029003': '7220310',\n",
       " '1091973': '7870707',\n",
       " '865660': '7948042',\n",
       " '804996': '7958943',\n",
       " '527568': '7503570',\n",
       " '1059045': '7170234',\n",
       " '570070': '7623736',\n",
       " '429675': '7689707',\n",
       " '242107': '92150',\n",
       " '721409': '7424964',\n",
       " '601684': '7527096',\n",
       " '825954': '7741548',\n",
       " '866251': '7810605',\n",
       " '988540': '7288502',\n",
       " '1074807': '7154587',\n",
       " '1028652': '7833608',\n",
       " '497757': '7526867',\n",
       " '1086384': '7110606',\n",
       " '538333': '7672042',\n",
       " '1092161': '7853304',\n",
       " '971233': '4589415',\n",
       " '1067640': '7161101',\n",
       " '1093082': '7778956',\n",
       " '1027209': '7831679',\n",
       " '47864': '1867101',\n",
       " '643572': '7420248',\n",
       " '544319': '7562624',\n",
       " '1039495': '7856346',\n",
       " '1093172': '7770963',\n",
       " '558548': '6212597',\n",
       " '1045374': '7193888',\n",
       " '140921': '7511875',\n",
       " '51090': '7395888',\n",
       " '536995': '7589844',\n",
       " '1049867': '7946528'}"
      ]
     },
     "execution_count": 11,
     "metadata": {},
     "output_type": "execute_result"
    }
   ],
   "source": [
    "query_ids, doc_ids = qrels[\"query-id\"], qrels[\"corpus-id\"]\n",
    "relevant_docs = dict(zip(query_ids, doc_ids))\n",
    "relevant_docs"
   ]
  },
  {
   "cell_type": "markdown",
   "id": "4f0ca33f",
   "metadata": {},
   "source": [
    "Now we can feed to Vespa using `feed_iterable` which accepts any `Iterable` and an optional callback function where we can\n",
    "check the outcome of each operation. The application is configured to use [embedding](https://docs.vespa.ai/en/embedding.html)\n",
    "functionality, that produce a vector embedding using a concatenation of the title and the body input fields. This step is resource intensive.\n",
    "\n",
    "Read more about embedding inference in Vespa in the [Accelerating Transformer-based Embedding Retrieval with Vespa](https://blog.vespa.ai/accelerating-transformer-based-embedding-retrieval-with-vespa/)\n",
    "blog post.\n",
    "\n",
    "Default node resources in Vespa Cloud have 2 v-cpu for the Dev Zone.\n"
   ]
  },
  {
   "cell_type": "code",
   "execution_count": 12,
   "id": "bottom-memorabilia",
   "metadata": {},
   "outputs": [],
   "source": [
    "from vespa.io import VespaResponse\n",
    "\n",
    "\n",
    "def callback(response: VespaResponse, id: str):\n",
    "    if not response.is_successful():\n",
    "        print(f\"Error when feeding document {id}: {response.get_json()}\")\n",
    "\n",
    "\n",
    "app.feed_iterable(vespa_feed, schema=\"doc\", namespace=\"tutorial\", callback=callback)"
   ]
  },
  {
   "cell_type": "code",
   "execution_count": 13,
   "id": "f4af03f7",
   "metadata": {},
   "outputs": [],
   "source": [
    "%load_ext autoreload\n",
    "%autoreload 2\n",
    "\n",
    "from vespa.evaluation import VespaEvaluator\n",
    "\n",
    "\n",
    "def semantic_query_fn(query_text: str, top_k: int) -> dict:\n",
    "    \"\"\"\n",
    "    Convert a plain text user query to a Vespa query body dict.\n",
    "    The example below uses a YQL statement and requests a fixed number of hits.\n",
    "    Adapt this for your ranking profile, filters, etc.\n",
    "    \"\"\"\n",
    "    return {\n",
    "        \"yql\": \"select * from sources * where ({targetHits:1000}nearestNeighbor(embedding,q))\",\n",
    "        \"query\": query_text,\n",
    "        \"ranking\": \"semantic\",\n",
    "        \"input.query(q)\": f\"embed({query_text})\",\n",
    "        \"hits\": top_k,\n",
    "    }\n",
    "\n",
    "\n",
    "def bm25_query_fn(query_text: str, top_k: int) -> dict:\n",
    "    \"\"\"\n",
    "    Convert a plain text user query to a Vespa query body dict.\n",
    "    The example below uses a YQL statement and requests a fixed number of hits.\n",
    "    Adapt this for your ranking profile, filters, etc.\n",
    "    \"\"\"\n",
    "    return {\n",
    "        \"yql\": \"select * from sources * where userQuery();\",\n",
    "        \"query\": query_text,\n",
    "        \"ranking\": \"bm25\",\n",
    "        \"hits\": top_k,\n",
    "    }\n",
    "\n",
    "\n",
    "def fusion_query_fn(query_text: str, top_k: int) -> dict:\n",
    "    \"\"\"\n",
    "    Convert a plain text user query to a Vespa query body dict.\n",
    "    The example below uses a YQL statement and requests a fixed number of hits.\n",
    "    Adapt this for your ranking profile, filters, etc.\n",
    "    \"\"\"\n",
    "    return {\n",
    "        \"yql\": \"select * from sources * where userQuery() OR ({targetHits:1000}nearestNeighbor(embedding,q));\",\n",
    "        \"query\": query_text,\n",
    "        \"ranking\": \"fusion\",\n",
    "        \"input.query(q)\": f\"embed({query_text})\",\n",
    "        \"hits\": top_k,\n",
    "    }\n",
    "\n",
    "\n",
    "#\n",
    "# 3) Instantiate the evaluator with the chosen IR metrics and run it.\n",
    "#\n",
    "\n",
    "# app = Vespa(url=\"http://localhost\", port=8080)  # or your Vespa endpoint"
   ]
  },
  {
   "cell_type": "code",
   "execution_count": 14,
   "id": "b304dd4b",
   "metadata": {},
   "outputs": [
    {
     "name": "stdout",
     "output_type": "stream",
     "text": [
      "Evaluating semantic...\n",
      "Evaluating bm25...\n",
      "Evaluating fusion...\n"
     ]
    }
   ],
   "source": [
    "all_results = {}\n",
    "for evaluator_name, query_fn in [\n",
    "    (\"semantic\", semantic_query_fn),\n",
    "    (\"bm25\", bm25_query_fn),\n",
    "    (\"fusion\", fusion_query_fn),\n",
    "]:\n",
    "    print(f\"Evaluating {evaluator_name}...\")\n",
    "    evaluator = VespaEvaluator(\n",
    "        queries=ids_to_query,\n",
    "        relevant_docs=relevant_docs,\n",
    "        vespa_query_fn=query_fn,\n",
    "        app=app,\n",
    "        name=evaluator_name,\n",
    "        write_csv=True,  # optionally write metrics to CSV\n",
    "    )\n",
    "\n",
    "    results = evaluator()\n",
    "    all_results[evaluator_name] = results"
   ]
  },
  {
   "cell_type": "code",
   "execution_count": 15,
   "id": "d86c6ddc",
   "metadata": {},
   "outputs": [
    {
     "data": {
      "text/plain": [
       "{'semantic': {'accuracy@1': 0.38,\n",
       "  'accuracy@3': 0.64,\n",
       "  'accuracy@5': 0.72,\n",
       "  'accuracy@10': 0.82,\n",
       "  'precision@1': 0.38,\n",
       "  'precision@3': 0.21333333333333332,\n",
       "  'precision@5': 0.14400000000000002,\n",
       "  'precision@10': 0.08199999999999999,\n",
       "  'recall@1': 0.38,\n",
       "  'recall@3': 0.64,\n",
       "  'recall@5': 0.72,\n",
       "  'recall@10': 0.82,\n",
       "  'mrr@10': 0.5308571428571428,\n",
       "  'ndcg@10': 0.6007397354752749,\n",
       "  'map@100': 0.5393493336728631},\n",
       " 'bm25': {'accuracy@1': 0.3,\n",
       "  'accuracy@3': 0.6,\n",
       "  'accuracy@5': 0.66,\n",
       "  'accuracy@10': 0.76,\n",
       "  'precision@1': 0.3,\n",
       "  'precision@3': 0.2,\n",
       "  'precision@5': 0.132,\n",
       "  'precision@10': 0.07600000000000001,\n",
       "  'recall@1': 0.3,\n",
       "  'recall@3': 0.6,\n",
       "  'recall@5': 0.66,\n",
       "  'recall@10': 0.76,\n",
       "  'mrr@10': 0.4520793650793651,\n",
       "  'ndcg@10': 0.526410407397105,\n",
       "  'map@100': 0.45999902392693265},\n",
       " 'fusion': {'accuracy@1': 0.44,\n",
       "  'accuracy@3': 0.7,\n",
       "  'accuracy@5': 0.72,\n",
       "  'accuracy@10': 0.8,\n",
       "  'precision@1': 0.44,\n",
       "  'precision@3': 0.2333333333333333,\n",
       "  'precision@5': 0.14400000000000002,\n",
       "  'precision@10': 0.08,\n",
       "  'recall@1': 0.44,\n",
       "  'recall@3': 0.7,\n",
       "  'recall@5': 0.72,\n",
       "  'recall@10': 0.8,\n",
       "  'mrr@10': 0.5581666666666666,\n",
       "  'ndcg@10': 0.6168820678511407,\n",
       "  'map@100': 0.5684773550036707}}"
      ]
     },
     "execution_count": 15,
     "metadata": {},
     "output_type": "execute_result"
    }
   ],
   "source": [
    "all_results"
   ]
  },
  {
   "cell_type": "code",
   "execution_count": 17,
   "id": "e9096818",
   "metadata": {},
   "outputs": [
    {
     "ename": "ImportError",
     "evalue": "matplotlib is required for plotting when the default backend \"matplotlib\" is selected.",
     "output_type": "error",
     "traceback": [
      "\u001b[0;31m---------------------------------------------------------------------------\u001b[0m",
      "\u001b[0;31mImportError\u001b[0m                               Traceback (most recent call last)",
      "Cell \u001b[0;32mIn[17], line 6\u001b[0m\n\u001b[1;32m      3\u001b[0m \u001b[38;5;28;01mimport\u001b[39;00m \u001b[38;5;21;01mpandas\u001b[39;00m \u001b[38;5;28;01mas\u001b[39;00m \u001b[38;5;21;01mpd\u001b[39;00m\n\u001b[1;32m      5\u001b[0m results \u001b[38;5;241m=\u001b[39m pd\u001b[38;5;241m.\u001b[39mDataFrame(all_results)\n\u001b[0;32m----> 6\u001b[0m \u001b[43mresults\u001b[49m\u001b[38;5;241;43m.\u001b[39;49m\u001b[43mplot\u001b[49m\u001b[43m(\u001b[49m\u001b[43mkind\u001b[49m\u001b[38;5;241;43m=\u001b[39;49m\u001b[38;5;124;43m\"\u001b[39;49m\u001b[38;5;124;43mbar\u001b[39;49m\u001b[38;5;124;43m\"\u001b[39;49m\u001b[43m,\u001b[49m\u001b[43m \u001b[49m\u001b[43mfigsize\u001b[49m\u001b[38;5;241;43m=\u001b[39;49m\u001b[43m(\u001b[49m\u001b[38;5;241;43m12\u001b[39;49m\u001b[43m,\u001b[49m\u001b[43m \u001b[49m\u001b[38;5;241;43m6\u001b[39;49m\u001b[43m)\u001b[49m\u001b[43m)\u001b[49m\n",
      "File \u001b[0;32m~/Repos/pyvespa/.venv/lib/python3.10/site-packages/pandas/plotting/_core.py:895\u001b[0m, in \u001b[0;36mPlotAccessor.__call__\u001b[0;34m(self, *args, **kwargs)\u001b[0m\n\u001b[1;32m    894\u001b[0m \u001b[38;5;28;01mdef\u001b[39;00m \u001b[38;5;21m__call__\u001b[39m(\u001b[38;5;28mself\u001b[39m, \u001b[38;5;241m*\u001b[39margs, \u001b[38;5;241m*\u001b[39m\u001b[38;5;241m*\u001b[39mkwargs):\n\u001b[0;32m--> 895\u001b[0m     plot_backend \u001b[38;5;241m=\u001b[39m \u001b[43m_get_plot_backend\u001b[49m\u001b[43m(\u001b[49m\u001b[43mkwargs\u001b[49m\u001b[38;5;241;43m.\u001b[39;49m\u001b[43mpop\u001b[49m\u001b[43m(\u001b[49m\u001b[38;5;124;43m\"\u001b[39;49m\u001b[38;5;124;43mbackend\u001b[39;49m\u001b[38;5;124;43m\"\u001b[39;49m\u001b[43m,\u001b[49m\u001b[43m \u001b[49m\u001b[38;5;28;43;01mNone\u001b[39;49;00m\u001b[43m)\u001b[49m\u001b[43m)\u001b[49m\n\u001b[1;32m    897\u001b[0m     x, y, kind, kwargs \u001b[38;5;241m=\u001b[39m \u001b[38;5;28mself\u001b[39m\u001b[38;5;241m.\u001b[39m_get_call_args(\n\u001b[1;32m    898\u001b[0m         plot_backend\u001b[38;5;241m.\u001b[39m\u001b[38;5;18m__name__\u001b[39m, \u001b[38;5;28mself\u001b[39m\u001b[38;5;241m.\u001b[39m_parent, args, kwargs\n\u001b[1;32m    899\u001b[0m     )\n\u001b[1;32m    901\u001b[0m     kind \u001b[38;5;241m=\u001b[39m \u001b[38;5;28mself\u001b[39m\u001b[38;5;241m.\u001b[39m_kind_aliases\u001b[38;5;241m.\u001b[39mget(kind, kind)\n",
      "File \u001b[0;32m~/Repos/pyvespa/.venv/lib/python3.10/site-packages/pandas/plotting/_core.py:1862\u001b[0m, in \u001b[0;36m_get_plot_backend\u001b[0;34m(backend)\u001b[0m\n\u001b[1;32m   1859\u001b[0m \u001b[38;5;28;01mif\u001b[39;00m backend_str \u001b[38;5;129;01min\u001b[39;00m _backends:\n\u001b[1;32m   1860\u001b[0m     \u001b[38;5;28;01mreturn\u001b[39;00m _backends[backend_str]\n\u001b[0;32m-> 1862\u001b[0m module \u001b[38;5;241m=\u001b[39m \u001b[43m_load_backend\u001b[49m\u001b[43m(\u001b[49m\u001b[43mbackend_str\u001b[49m\u001b[43m)\u001b[49m\n\u001b[1;32m   1863\u001b[0m _backends[backend_str] \u001b[38;5;241m=\u001b[39m module\n\u001b[1;32m   1864\u001b[0m \u001b[38;5;28;01mreturn\u001b[39;00m module\n",
      "File \u001b[0;32m~/Repos/pyvespa/.venv/lib/python3.10/site-packages/pandas/plotting/_core.py:1794\u001b[0m, in \u001b[0;36m_load_backend\u001b[0;34m(backend)\u001b[0m\n\u001b[1;32m   1792\u001b[0m         module \u001b[38;5;241m=\u001b[39m importlib\u001b[38;5;241m.\u001b[39mimport_module(\u001b[38;5;124m\"\u001b[39m\u001b[38;5;124mpandas.plotting._matplotlib\u001b[39m\u001b[38;5;124m\"\u001b[39m)\n\u001b[1;32m   1793\u001b[0m     \u001b[38;5;28;01mexcept\u001b[39;00m \u001b[38;5;167;01mImportError\u001b[39;00m:\n\u001b[0;32m-> 1794\u001b[0m         \u001b[38;5;28;01mraise\u001b[39;00m \u001b[38;5;167;01mImportError\u001b[39;00m(\n\u001b[1;32m   1795\u001b[0m             \u001b[38;5;124m\"\u001b[39m\u001b[38;5;124mmatplotlib is required for plotting when the \u001b[39m\u001b[38;5;124m\"\u001b[39m\n\u001b[1;32m   1796\u001b[0m             \u001b[38;5;124m'\u001b[39m\u001b[38;5;124mdefault backend \u001b[39m\u001b[38;5;124m\"\u001b[39m\u001b[38;5;124mmatplotlib\u001b[39m\u001b[38;5;124m\"\u001b[39m\u001b[38;5;124m is selected.\u001b[39m\u001b[38;5;124m'\u001b[39m\n\u001b[1;32m   1797\u001b[0m         ) \u001b[38;5;28;01mfrom\u001b[39;00m \u001b[38;5;28;01mNone\u001b[39;00m\n\u001b[1;32m   1798\u001b[0m     \u001b[38;5;28;01mreturn\u001b[39;00m module\n\u001b[1;32m   1800\u001b[0m found_backend \u001b[38;5;241m=\u001b[39m \u001b[38;5;28;01mFalse\u001b[39;00m\n",
      "\u001b[0;31mImportError\u001b[0m: matplotlib is required for plotting when the default backend \"matplotlib\" is selected."
     ]
    }
   ],
   "source": [
    "# Nice plot of the results\n",
    "\n",
    "import pandas as pd\n",
    "\n",
    "results = pd.DataFrame(all_results)\n",
    "results.plot(kind=\"bar\", figsize=(12, 6))"
   ]
  },
  {
   "cell_type": "code",
   "execution_count": 71,
   "id": "88ebc721",
   "metadata": {},
   "outputs": [
    {
     "data": {
      "text/plain": [
       "{'accuracy@1': 0.38,\n",
       " 'accuracy@3': 0.64,\n",
       " 'accuracy@5': 0.72,\n",
       " 'precision@1': 0.38,\n",
       " 'precision@3': 0.21333333333333332,\n",
       " 'precision@5': 0.14400000000000002,\n",
       " 'recall@1': 0.38,\n",
       " 'recall@3': 0.64,\n",
       " 'recall@5': 0.72,\n",
       " 'mrr@10': 0.5308571428571428,\n",
       " 'ndcg@10': 0.6007397354752749,\n",
       " 'map@100': 0.5393493336728631}"
      ]
     },
     "execution_count": 71,
     "metadata": {},
     "output_type": "execute_result"
    }
   ],
   "source": [
    "results"
   ]
  },
  {
   "cell_type": "code",
   "execution_count": 68,
   "id": "8eedfc47",
   "metadata": {},
   "outputs": [
    {
     "data": {
      "text/plain": [
       "{'accuracy@1': 0.38,\n",
       " 'accuracy@3': 0.64,\n",
       " 'accuracy@5': 0.72,\n",
       " 'precision@1': 0.38,\n",
       " 'precision@3': 0.21333333333333332,\n",
       " 'precision@5': 0.14400000000000002,\n",
       " 'recall@1': 0.38,\n",
       " 'recall@3': 0.64,\n",
       " 'recall@5': 0.72,\n",
       " 'mrr@10': 0.5308571428571428,\n",
       " 'ndcg@10': 0.6007397354752749,\n",
       " 'map@100': 0.5393493336728631}"
      ]
     },
     "execution_count": 68,
     "metadata": {},
     "output_type": "execute_result"
    }
   ],
   "source": [
    "results"
   ]
  },
  {
   "cell_type": "code",
   "execution_count": null,
   "id": "087da64c",
   "metadata": {},
   "outputs": [],
   "source": [
    "# Results from sentence transformers\n",
    "{\n",
    "    \"accuracy@1\": 0.38,\n",
    "    \"accuracy@3\": 0.64,\n",
    "    \"accuracy@5\": 0.72,\n",
    "    \"accuracy@10\": 0.82,\n",
    "    \"precision@1\": 0.38,\n",
    "    \"precision@3\": 0.21333333333333332,\n",
    "    \"precision@5\": 0.14400000000000002,\n",
    "    \"precision@10\": 0.08199999999999999,\n",
    "    \"recall@1\": 0.38,\n",
    "    \"recall@3\": 0.64,\n",
    "    \"recall@5\": 0.72,\n",
    "    \"recall@10\": 0.82,\n",
    "    \"ndcg@10\": 0.6007397354752749,\n",
    "    \"mrr@10\": 0.5308571428571428,\n",
    "    \"map@100\": 0.5393493336728631,\n",
    "}"
   ]
  },
  {
   "cell_type": "code",
   "execution_count": 20,
   "id": "66354a53",
   "metadata": {},
   "outputs": [
    {
     "name": "stdout",
     "output_type": "stream",
     "text": [
      "Deactivated vespa-team.hybridsearch in dev.aws-us-east-1c\n",
      "Deleted instance vespa-team.hybridsearch.default\n"
     ]
    }
   ],
   "source": [
    "vespa_cloud.delete()"
   ]
  }
 ],
 "metadata": {
  "kernelspec": {
   "display_name": ".venv",
   "language": "python",
   "name": "python3"
  },
  "language_info": {
   "codemirror_mode": {
    "name": "ipython",
    "version": 3
   },
   "file_extension": ".py",
   "mimetype": "text/x-python",
   "name": "python",
   "nbconvert_exporter": "python",
   "pygments_lexer": "ipython3",
   "version": "3.10.14"
  },
  "nbsphinx": {
   "allow_errors": true
  }
 },
 "nbformat": 4,
 "nbformat_minor": 5
}
