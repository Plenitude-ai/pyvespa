{
 "cells": [
  {
   "cell_type": "markdown",
   "id": "given-adoption",
   "metadata": {},
   "source": [
    "<picture>\n",
    "  <source media=\"(prefers-color-scheme: dark)\" srcset=\"https://assets.vespa.ai/logos/Vespa-logo-green-RGB.svg\">\n",
    "  <source media=\"(prefers-color-scheme: light)\" srcset=\"https://assets.vespa.ai/logos/Vespa-logo-dark-RGB.svg\">\n",
    "  <img alt=\"#Vespa\" width=\"200\" src=\"https://assets.vespa.ai/logos/Vespa-logo-dark-RGB.svg\" style=\"margin-bottom: 25px;\">\n",
    "</picture>\n",
    "\n",
    "# Advanced Configuration\n",
    "\n",
    "Vespa support a wide range of configuration options to customize the behavior of the system through the `services.xml`-[file](https://docs.vespa.ai/en/reference/services.html). Until pyvespa version 0.50.0, only a limited subset of these configurations were available in pyvespa.\n",
    "\n",
    "Now, we have added support for passing a `ServiceConfiguration` object to your `ApplicationPackage` that allows you to define any configuration you want. This notebook demonstrates how to use this new feature if you have the need for more advanced configurations.\n",
    "\n",
    "Note that it is not required to provide a `ServiceConfiguration` feature, and if not passed, the default configuration will still be created for you.\n",
    "\n",
    "There are some slight differences in which configuration options are available when running self-hosted (Docker) and when running on the cloud (Vespa Cloud). For details, see [Vespa Cloud services.xml-reference](https://cloud.vespa.ai/en/reference/services) This notebook demonstrates how to use the `ServiceConfiguration` object to configure a Vespa application for some common use cases, with options that are available in both environments.\n"
   ]
  },
  {
   "cell_type": "markdown",
   "id": "8c967bd2",
   "metadata": {},
   "source": [
    "<div class=\"alert alert-info\">\n",
    "    Refer to <a href=\"https://pyvespa.readthedocs.io/en/latest/troubleshooting.html\">troubleshooting</a>\n",
    "    for any problem when running this guide.\n",
    "</div>\n"
   ]
  },
  {
   "cell_type": "markdown",
   "id": "8345b2fe",
   "metadata": {},
   "source": [
    "[Install pyvespa](https://pyvespa.readthedocs.io/) and start Docker Daemon, validate minimum 6G available:\n"
   ]
  },
  {
   "cell_type": "code",
   "execution_count": 1,
   "id": "03f3d0f2",
   "metadata": {},
   "outputs": [],
   "source": [
    "!pip3 install pyvespa\n",
    "!docker info | grep \"Total Memory\""
   ]
  },
  {
   "cell_type": "markdown",
   "id": "db637322",
   "metadata": {},
   "source": [
    "## Setting up document-expiry\n",
    "\n",
    "As an example of a common use case for advanced configuration, we will configure document-expiry. This feature allows you to set a time-to-live for documents in your Vespa application. This is useful when you have documents that are only relevant for a certain period of time, and you want to avoid serving stale data.\n",
    "\n",
    "For reference, see the [docs on document-expiry](https://docs.vespa.ai/en/documents.html#document-expiry).\n"
   ]
  },
  {
   "cell_type": "markdown",
   "id": "a3619ad1",
   "metadata": {},
   "source": [
    "### Define a schema\n",
    "\n",
    "We define a simple schema, with a timestamp field that we will use in the document selection expression to set the document-expiry.\n",
    "\n",
    "Note that the fields that are referenced in the selection expression should be attributes(in-memory).\n",
    "\n",
    "Also, either the fields should be set with `fast-access` or the number of searchable copies in the content cluster should be the same as the redundancy. Otherwise, the document selection maintenance will be slow and have a major performance impact on the system.\n"
   ]
  },
  {
   "cell_type": "code",
   "execution_count": 1,
   "id": "bd5c2629",
   "metadata": {},
   "outputs": [],
   "source": [
    "from vespa.package import Document, Field, Schema, ApplicationPackage\n",
    "\n",
    "application_name = \"music\"\n",
    "music_schema = Schema(\n",
    "    name=application_name,\n",
    "    document=Document(\n",
    "        fields=[\n",
    "            Field(\n",
    "                name=\"artist\",\n",
    "                type=\"string\",\n",
    "                indexing=[\"attribute\", \"summary\"],\n",
    "            ),\n",
    "            Field(\n",
    "                name=\"title\",\n",
    "                type=\"string\",\n",
    "                indexing=[\"attribute\", \"summary\"],\n",
    "            ),\n",
    "            Field(\n",
    "                name=\"timestamp\",\n",
    "                type=\"long\",\n",
    "                indexing=[\"attribute\", \"summary\"],\n",
    "                attribute=[\"fast-access\"],\n",
    "            ),\n",
    "        ]\n",
    "    ),\n",
    ")"
   ]
  },
  {
   "cell_type": "markdown",
   "id": "5be18383",
   "metadata": {},
   "source": [
    "## The `ServiceConfiguration` object\n",
    "\n",
    "The `ServiceConfiguration` object allows you to define any configuration you want in the `services.xml` file.\n",
    "\n",
    "The syntax is as follows:\n"
   ]
  },
  {
   "cell_type": "code",
   "execution_count": 2,
   "id": "05318c34",
   "metadata": {},
   "outputs": [],
   "source": [
    "from vespa.package import ServicesConfiguration\n",
    "from vespa.configuration.services import (\n",
    "    services,\n",
    "    container,\n",
    "    search,\n",
    "    document_api,\n",
    "    document_processing,\n",
    "    content,\n",
    "    redundancy,\n",
    "    documents,\n",
    "    document,\n",
    "    node,\n",
    "    nodes,\n",
    ")\n",
    "\n",
    "# Create a ServicesConfiguration with document-expiry set to 1 day (timestamp > now() - 86400)\n",
    "services_config = ServicesConfiguration(\n",
    "    application_name=application_name,\n",
    "    services_config=services(\n",
    "        container(\n",
    "            search(),\n",
    "            document_api(),\n",
    "            document_processing(),\n",
    "            id=f\"{application_name}_container\",\n",
    "            version=\"1.0\",\n",
    "        ),\n",
    "        content(\n",
    "            redundancy(\"1\"),\n",
    "            documents(\n",
    "                document(\n",
    "                    type=application_name,\n",
    "                    mode=\"index\",\n",
    "                    # Note that the selection-expression does not need to be escaped, as it will be automatically escaped during xml-serialization\n",
    "                    selection=\"music.timestamp > now() - 86400\",\n",
    "                ),\n",
    "                garbage_collection=\"true\",\n",
    "            ),\n",
    "            nodes(node(distribution_key=\"0\", hostalias=\"node1\")),\n",
    "            id=f\"{application_name}_content\",\n",
    "            version=\"1.0\",\n",
    "        ),\n",
    "    ),\n",
    ")\n",
    "application_package = ApplicationPackage(\n",
    "    name=application_name,\n",
    "    schema=[music_schema],\n",
    "    services_config=services_config,\n",
    ")"
   ]
  },
  {
   "cell_type": "markdown",
   "id": "aa40c0ce",
   "metadata": {},
   "source": [
    "There are some useful gotchas to keep in mind when constructing the `ServiceConfiguration` object.\n",
    "\n",
    "First, let's establish a common vocabulary through an example. Consider the following `services.xml` file, which is what we are actually representing with the `ServiceConfiguration` object from the previous cell:\n",
    "\n",
    "```xml\n",
    "<?xml version=\"1.0\" encoding=\"UTF-8\" ?>\n",
    "<services>\n",
    "  <container id=\"music_container\" version=\"1.0\">\n",
    "    <search></search>\n",
    "    <document-api></document-api>\n",
    "    <document-processing></document-processing>\n",
    "  </container>\n",
    "  <content id=\"music_content\" version=\"1.0\">\n",
    "    <redundancy>1</redundancy>\n",
    "    <documents garbage-collection=\"true\">\n",
    "      <document type=\"music\" mode=\"index\" selection=\"music.timestamp &gt; now() - 86400\"></document>\n",
    "    </documents>\n",
    "    <nodes>\n",
    "      <node distribution-key=\"0\" hostalias=\"node1\"></node>\n",
    "    </nodes>\n",
    "  </content>\n",
    "</services>\n",
    "```\n",
    "\n",
    "In this example, `services`, `container`, `search`, `document-api`, `document-processing`, `content`, `redundancy`, `documents`, `document`, and `nodes` are _tags_. The `id`, `version`, `type`, `mode`, `selection`, `distribution-key`, `hostalias`, and `garbage-collection` are _attributes_, with a corresponding _value_.\n",
    "\n",
    "### Tag names\n",
    "\n",
    "All tags as referenced in the [Vespa documentation](https://docs.vespa.ai/en/reference/services.html) are available in `vespa.configuration.services` module with the following modifications:\n",
    "\n",
    "- All `-` in the tag names are replaced by `_` to avoid conflicts with Python syntax.\n",
    "- Some tags that are Python reserved words (or commonly used objects) are constructed by adding a `_` at the end of the tag name. These are:\n",
    "  - `type_`\n",
    "  - `class_`\n",
    "  - `for_`\n",
    "  - `time_`\n",
    "  - `io_`\n",
    "\n",
    "Only valid tags are exported by the `vespa.configuration.services` module.\n",
    "\n",
    "### Attributes\n",
    "\n",
    "- _any_ attribute can be passed to the tag constructor (no validation at construction time).\n",
    "- The attribute name should be the same as in the Vespa documentation, but with `-` replaced by `_`. For example, the `garbage-collection` attribute in the `query` tag should be passed as `garbage_collection`.\n",
    "- In case the attribute name is a Python reserved word, the same rule as for the tag names applies (add `_` at the end). An example of this is the `global` attribute which should be passed as `global_`.\n",
    "- Some attributes, such as `id`, in the `container` tag, are mandatory and should be passed as positional arguments to the tag constructor.\n",
    "\n",
    "### Values\n",
    "\n",
    "- The value of an attribute can be a string, an integer, or a boolean. For types `bool` and `int`, the value is converted to a string (lowercased for `bool`). If you need to pass a float, you should convert it to a string before passing it to the tag constructor, e.g. `container(version=\"1.0\")`.\n",
    "- Note that we are _not_ escaping the values. In the xml file, the value of the `selection` attribute in the `document` tag is `music.timestamp &gt; now() - 86400`. (`&gt;` is the escaped form of `>`.) When passing this value to the `document` tag constructor in python, we should _not_ escape the `>` character, i.e. `document(selection=\"music.timestamp > now() - 86400\")`.\n"
   ]
  },
  {
   "cell_type": "markdown",
   "id": "careful-savage",
   "metadata": {},
   "source": [
    "## Deploy the Vespa application\n",
    "\n",
    "Deploy `package` on the local machine using Docker,\n",
    "without leaving the notebook, by creating an instance of\n",
    "[VespaDocker](https://pyvespa.readthedocs.io/en/latest/reference-api.html#vespa.deployment.VespaDocker). `VespaDocker` connects\n",
    "to the local Docker daemon socket and starts the [Vespa docker image](https://hub.docker.com/r/vespaengine/vespa/).\n",
    "\n",
    "If this step fails, please check\n",
    "that the Docker daemon is running, and that the Docker daemon socket can be used by clients (Configurable under advanced settings in Docker Desktop).\n"
   ]
  },
  {
   "cell_type": "code",
   "execution_count": 4,
   "id": "canadian-blood",
   "metadata": {},
   "outputs": [
    {
     "name": "stdout",
     "output_type": "stream",
     "text": [
      "Waiting for configuration server, 0/60 seconds...\n",
      "Waiting for application to come up, 0/300 seconds.\n",
      "Application is up!\n",
      "Finished deployment.\n"
     ]
    }
   ],
   "source": [
    "from vespa.deployment import VespaDocker\n",
    "\n",
    "vespa_docker = VespaDocker()\n",
    "app = vespa_docker.deploy(application_package=application_package)"
   ]
  },
  {
   "cell_type": "markdown",
   "id": "aaae2f91",
   "metadata": {},
   "source": [
    "`app` now holds a reference to a [Vespa](https://pyvespa.readthedocs.io/en/latest/reference-api.html#vespa.application.Vespa) instance.\n",
    "see this [notebook](https://pyvespa.readthedocs.io/en/latest/examples/authenticating-to-vespa-cloud.html) for details on authenticating to Vespa Cloud.\n"
   ]
  },
  {
   "cell_type": "markdown",
   "id": "sealed-mustang",
   "metadata": {},
   "source": [
    "## Feeding documents to Vespa\n",
    "\n",
    "Now, let us feed some documents to Vespa. We will feed one document with a timestamp of 24 hours (+1 sec (86401)) ago and another document with a timestamp of the current time. We will then query the documents to check verify that the document-expiry is working as expected.\n"
   ]
  },
  {
   "cell_type": "code",
   "execution_count": 5,
   "id": "e9d3facd",
   "metadata": {},
   "outputs": [],
   "source": [
    "import time\n",
    "\n",
    "docs_to_feed = [\n",
    "    {\n",
    "        \"id\": \"1\",\n",
    "        \"fields\": {\n",
    "            \"artist\": \"Snoop Dogg\",\n",
    "            \"title\": \"Gin and Juice\",\n",
    "            \"timestamp\": int(time.time()) - 86401,\n",
    "        },\n",
    "    },\n",
    "    {\n",
    "        \"id\": \"2\",\n",
    "        \"fields\": {\n",
    "            \"artist\": \"Dr.Dre\",\n",
    "            \"title\": \"Still D.R.E\",\n",
    "            \"timestamp\": int(time.time()),\n",
    "        },\n",
    "    },\n",
    "]"
   ]
  },
  {
   "cell_type": "code",
   "execution_count": 6,
   "id": "6185fbce",
   "metadata": {},
   "outputs": [],
   "source": [
    "from vespa.io import VespaResponse\n",
    "\n",
    "\n",
    "def callback(response: VespaResponse, id: str):\n",
    "    if not response.is_successful():\n",
    "        print(f\"Error when feeding document {id}: {response.get_json()}\")\n",
    "\n",
    "\n",
    "app.feed_iterable(docs_to_feed, schema=application_name, callback=callback)"
   ]
  },
  {
   "cell_type": "markdown",
   "id": "8430dd98",
   "metadata": {},
   "source": [
    "## Visiting\n",
    "\n",
    "[Visiting](https://docs.vespa.ai/en/visiting.html) is a feature to efficiently get or process a set of documents, identified by a [document selection](https://docs.vespa.ai/en/reference/document-select-language.html) expression.\n",
    "Here is how you can use visiting in pyvespa:\n"
   ]
  },
  {
   "cell_type": "code",
   "execution_count": 7,
   "id": "450a925f",
   "metadata": {},
   "outputs": [
    {
     "data": {
      "text/plain": [
       "[{'pathId': '/document/v1/music/music/docid/',\n",
       "  'documents': [{'id': 'id:music:music::2',\n",
       "    'fields': {'artist': 'Dr.Dre',\n",
       "     'title': 'Still D.R.E',\n",
       "     'timestamp': 1727086244}}],\n",
       "  'documentCount': 1}]"
      ]
     },
     "execution_count": 7,
     "metadata": {},
     "output_type": "execute_result"
    }
   ],
   "source": [
    "visit_results = []\n",
    "for slice_ in app.visit(\n",
    "    schema=application_name,\n",
    "    content_cluster_name=f\"{application_name}_content\",\n",
    "    timeout=\"5s\",\n",
    "):\n",
    "    for response in slice_:\n",
    "        visit_results.append(response.json)\n",
    "visit_results"
   ]
  },
  {
   "cell_type": "markdown",
   "id": "7e8fefc9",
   "metadata": {},
   "source": [
    "We can see that the document with the timestamp of 24 hours ago is not returned by the query, while the document with the current timestamp is returned.\n"
   ]
  },
  {
   "cell_type": "markdown",
   "id": "28591491",
   "metadata": {},
   "source": [
    "## Cleanup\n"
   ]
  },
  {
   "cell_type": "code",
   "execution_count": 8,
   "id": "e5064bd2",
   "metadata": {},
   "outputs": [],
   "source": [
    "vespa_docker.container.stop()\n",
    "vespa_docker.container.remove()"
   ]
  },
  {
   "cell_type": "markdown",
   "id": "d1872b31",
   "metadata": {},
   "source": [
    "## Next steps\n",
    "\n",
    "This is just an intro into to the advanced configuration options available in Vespa. For more details, see the [Vespa documentation](https://docs.vespa.ai/en/reference/services.html).\n"
   ]
  }
 ],
 "metadata": {
  "kernelspec": {
   "display_name": "Python 3.11.4 64-bit",
   "language": "python",
   "name": "python3"
  },
  "language_info": {
   "codemirror_mode": {
    "name": "ipython",
    "version": 3
   },
   "file_extension": ".py",
   "mimetype": "text/x-python",
   "name": "python",
   "nbconvert_exporter": "python",
   "pygments_lexer": "ipython3",
   "version": "3.9.19"
  },
  "vscode": {
   "interpreter": {
    "hash": "b0fa6594d8f4cbf19f97940f81e996739fb7646882a419484c72d19e05852a7e"
   }
  }
 },
 "nbformat": 4,
 "nbformat_minor": 5
}
