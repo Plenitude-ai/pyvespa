{
 "cells": [
  {
   "cell_type": "markdown",
   "id": "given-adoption",
   "metadata": {},
   "source": [
    "<picture>\n",
    "  <source media=\"(prefers-color-scheme: dark)\" srcset=\"https://vespa.ai/assets/vespa-ai-logo-heather.svg\">\n",
    "  <source media=\"(prefers-color-scheme: light)\" srcset=\"https://vespa.ai/assets/vespa-ai-logo-rock.svg\">\n",
    "  <img alt=\"#Vespa\" width=\"200\" src=\"https://vespa.ai/assets/vespa-ai-logo-rock.svg\" style=\"margin-bottom: 25px;\">\n",
    "</picture>\n",
    "\n",
    "# Feeding to Vespa Cloud\n",
    "\n",
    "Our previous notebook illustrated one way of benchmarking feed performance to a local Vespa instance running in Docker.\n",
    "In this notebook, we will llok at the same methods, but how feeding to [Vespa Cloud](https://cloud.vespa.ai) affects performance of the different methods.\n",
    "\n",
    "The key difference between feeding to a local Vespa instance and a Vespa Cloud instance is the network latency.\n",
    "Additionally, we will introduce embedding in Vespa at feed time, which is a realistic scenario for many use-cases.\n",
    "\n",
    "We will look at these 4 different methods:\n",
    "\n",
    "1. Using `VespaSync`.\n",
    "2. Using `VespaAsync`.\n",
    "3. Using `feed_iterable()`\n",
    "4. Using [Vespa CLI](https://docs.vespa.ai/en/vespa-cli)\n"
   ]
  },
  {
   "cell_type": "markdown",
   "id": "8c967bd2",
   "metadata": {},
   "source": [
    "<div class=\"alert alert-info\">\n",
    "    Refer to <a href=\"https://pyvespa.readthedocs.io/en/latest/troubleshooting.html\">troubleshooting</a>\n",
    "    for any problem when running this guide.\n",
    "</div>\n"
   ]
  },
  {
   "cell_type": "markdown",
   "id": "8345b2fe",
   "metadata": {},
   "source": [
    "Install [Vespa CLI](https://docs.vespa.ai/en/vespa-cli.html).\n",
    "The `vespacli` python package is just a thin wrapper, allowing for installation through pypi.\n",
    "\n",
    "> Do NOT install if you already have the Vespa CLI installed.\n"
   ]
  },
  {
   "cell_type": "code",
   "execution_count": 1,
   "id": "03f3d0f2",
   "metadata": {},
   "outputs": [],
   "source": [
    "# !pip3 install vespacli"
   ]
  },
  {
   "cell_type": "markdown",
   "id": "dd96cdce-e2d1-48fe-a2cd-451b638afe97",
   "metadata": {},
   "source": [
    "[Install pyvespa](https://pyvespa.readthedocs.io/), other dependencies, and start the Docker Daemon.\n"
   ]
  },
  {
   "cell_type": "code",
   "execution_count": 2,
   "id": "d9ed0a15-a5b1-4d9b-86ec-febdda0879fe",
   "metadata": {},
   "outputs": [],
   "source": [
    "# !pip3 install pyvespa datasets plotly>=5.20"
   ]
  },
  {
   "cell_type": "markdown",
   "id": "db637322",
   "metadata": {},
   "source": [
    "## Create an application package\n",
    "\n",
    "The [application package](https://pyvespa.readthedocs.io/en/latest/reference-api.html#vespa.package.ApplicationPackage)\n",
    "has all the Vespa configuration files.\n",
    "\n",
    "For this demo, we will use a simple application package\n"
   ]
  },
  {
   "cell_type": "code",
   "execution_count": 3,
   "id": "bd5c2629",
   "metadata": {},
   "outputs": [],
   "source": [
    "from vespa.package import (\n",
    "    ApplicationPackage,\n",
    "    Field,\n",
    "    Schema,\n",
    "    Document,\n",
    "    FieldSet,\n",
    "    HNSW,\n",
    ")\n",
    "\n",
    "# Define the application name (can NOT contain `_` or `-`)\n",
    "\n",
    "application = \"feedperformancecloud\"\n",
    "\n",
    "\n",
    "package = ApplicationPackage(\n",
    "    name=application,\n",
    "    schema=[\n",
    "        Schema(\n",
    "            name=\"doc\",\n",
    "            document=Document(\n",
    "                fields=[\n",
    "                    Field(name=\"id\", type=\"string\", indexing=[\"summary\"]),\n",
    "                    Field(name=\"text\", type=\"string\", indexing=[\"index\", \"summary\"]),\n",
    "                    Field(\n",
    "                        name=\"embedding\",\n",
    "                        type=\"tensor<float>(x[1024])\",\n",
    "                        # Note that we are NOT embedding with a vespa model here, but that is also possible.\n",
    "                        indexing=[\"summary\", \"attribute\", \"index\"],\n",
    "                        ann=HNSW(distance_metric=\"angular\"),\n",
    "                    ),\n",
    "                ]\n",
    "            ),\n",
    "            fieldsets=[FieldSet(name=\"default\", fields=[\"text\"])],\n",
    "        )\n",
    "    ],\n",
    ")"
   ]
  },
  {
   "cell_type": "markdown",
   "id": "2c5e2943",
   "metadata": {},
   "source": [
    "Note that the `ApplicationPackage` name cannot have `-` or `_`.\n"
   ]
  },
  {
   "cell_type": "markdown",
   "id": "careful-savage",
   "metadata": {},
   "source": [
    "## Deploy the Vespa application\n",
    "\n",
    "Deploy `package` on the local machine using Docker,\n",
    "without leaving the notebook, by creating an instance of\n",
    "[VespaDocker](https://pyvespa.readthedocs.io/en/latest/reference-api.html#vespa.deployment.VespaDocker). `VespaDocker` connects\n",
    "to the local Docker daemon socket and starts the [Vespa docker image](https://hub.docker.com/r/vespaengine/vespa/).\n",
    "\n",
    "If this step fails, please check\n",
    "that the Docker daemon is running, and that the Docker daemon socket can be used by clients (Configurable under advanced settings in Docker Desktop).\n"
   ]
  },
  {
   "cell_type": "markdown",
   "id": "6f74324a",
   "metadata": {},
   "source": [
    "Follow the instrauctions from the output above and add the control-plane key in the console at `https://console.vespa-cloud.com/tenant/TENANT_NAME/account/keys`\n",
    "(replace TENANT_NAME with your tenant name).\n"
   ]
  },
  {
   "cell_type": "code",
   "execution_count": 4,
   "id": "canadian-blood",
   "metadata": {},
   "outputs": [
    {
     "name": "stdout",
     "output_type": "stream",
     "text": [
      "Setting application...\n",
      "Running: vespa config set application vespa-team.feedperformancecloud\n",
      "Setting target cloud...\n",
      "Running: vespa config set target cloud\n",
      "\n",
      "Api-key found for control plane access. Using api-key.\n"
     ]
    }
   ],
   "source": [
    "from vespa.deployment import VespaCloud\n",
    "from vespa.application import Vespa\n",
    "import os\n",
    "\n",
    "\n",
    "def read_secret():\n",
    "    \"\"\"Read the API key from the environment variable. This is\n",
    "    only used for CI/CD purposes.\"\"\"\n",
    "    t = os.getenv(\"VESPA_TEAM_API_KEY\")\n",
    "    if t:\n",
    "        return t.replace(r\"\\n\", \"\\n\")\n",
    "    else:\n",
    "        return t\n",
    "\n",
    "\n",
    "vespa_cloud = VespaCloud(\n",
    "    tenant=\"vespa-team\",\n",
    "    application=application,\n",
    "    key_content=read_secret() if read_secret() else None,\n",
    "    application_package=package,\n",
    ")"
   ]
  },
  {
   "cell_type": "markdown",
   "id": "aaae2f91",
   "metadata": {},
   "source": [
    "`app` now holds a reference to a [VespaCloud](https://pyvespa.readthedocs.io/en/latest/reference-api.html#vespa.deployment.VespaCloud) instance.\n"
   ]
  },
  {
   "cell_type": "code",
   "execution_count": 5,
   "id": "471c2da7",
   "metadata": {},
   "outputs": [
    {
     "name": "stdout",
     "output_type": "stream",
     "text": [
      "Only region: aws-us-east-1c available in dev environment.\n",
      "Found mtls endpoint for feedperformancecloud_container\n",
      "URL: https://bf40f77a.bc737822.z.vespa-app.cloud/\n",
      "Connecting to https://bf40f77a.bc737822.z.vespa-app.cloud/\n"
     ]
    }
   ],
   "source": [
    "app: Vespa = vespa_cloud.get_application()"
   ]
  },
  {
   "cell_type": "code",
   "execution_count": 6,
   "id": "570cfbd3",
   "metadata": {},
   "outputs": [
    {
     "name": "stdout",
     "output_type": "stream",
     "text": [
      "Only region: aws-us-east-1c available in dev environment.\n",
      "Found mtls endpoint for feedperformancecloud_container\n",
      "URL: https://bf40f77a.bc737822.z.vespa-app.cloud/\n",
      "Connecting to https://bf40f77a.bc737822.z.vespa-app.cloud/\n"
     ]
    }
   ],
   "source": [
    "vcapp = vespa_cloud.get_application()"
   ]
  },
  {
   "cell_type": "code",
   "execution_count": 7,
   "id": "3bdbbb47",
   "metadata": {},
   "outputs": [
    {
     "name": "stdout",
     "output_type": "stream",
     "text": [
      "Using mtls_key_cert Authentication against endpoint https://bf40f77a.bc737822.z.vespa-app.cloud//ApplicationStatus\n"
     ]
    },
    {
     "data": {
      "text/plain": [
       "<Response [200]>"
      ]
     },
     "execution_count": 7,
     "metadata": {},
     "output_type": "execute_result"
    }
   ],
   "source": [
    "vcapp.get_application_status()"
   ]
  },
  {
   "cell_type": "code",
   "execution_count": null,
   "id": "15e1d427",
   "metadata": {},
   "outputs": [],
   "source": []
  },
  {
   "cell_type": "code",
   "execution_count": 8,
   "id": "3c0764f5",
   "metadata": {},
   "outputs": [
    {
     "data": {
      "text/plain": [
       "('/Users/thomas/.vespa/vespa-team.feedperformancecloud.default/data-plane-private-key.pem',\n",
       " '/Users/thomas/.vespa/vespa-team.feedperformancecloud.default/data-plane-public-cert.pem')"
      ]
     },
     "execution_count": 8,
     "metadata": {},
     "output_type": "execute_result"
    }
   ],
   "source": [
    "app.key, app.cert"
   ]
  },
  {
   "cell_type": "markdown",
   "id": "sealed-mustang",
   "metadata": {},
   "source": [
    "## Preparing the data\n",
    "\n",
    "In this example we use [HF Datasets](https://huggingface.co/docs/datasets/index) library to stream the\n",
    "[\"Cohere/wikipedia-2023-11-embed-multilingual-v3\"](https://huggingface.co/datasets/Cohere/wikipedia-2023-11-embed-multilingual-v3) dataset and index in our newly deployed Vespa instance.\n",
    "\n",
    "The dataset contains wikipedia-pages, and their corresponding embeddings.\n",
    "\n",
    "> For this exploration we will use the `id` , `text` and `embedding`-fields\n",
    "\n",
    "The following uses the [stream](https://huggingface.co/docs/datasets/stream) option of datasets to stream the data without\n",
    "downloading all the contents locally.\n",
    "\n",
    "The `map` functionality allows us to convert the\n",
    "dataset fields into the expected feed format for `pyvespa` which expects a dict with the keys `id` and `fields`:\n",
    "\n",
    "`{ \"id\": \"vespa-document-id\", \"fields\": {\"vespa_field\": \"vespa-field-value\"}}`\n"
   ]
  },
  {
   "cell_type": "code",
   "execution_count": 9,
   "id": "e9d3facd",
   "metadata": {},
   "outputs": [
    {
     "name": "stderr",
     "output_type": "stream",
     "text": [
      "/Users/thomas/.pyenv/versions/3.9.19/envs/pyvespa-dev/lib/python3.9/site-packages/tqdm/auto.py:21: TqdmWarning: IProgress not found. Please update jupyter and ipywidgets. See https://ipywidgets.readthedocs.io/en/stable/user_install.html\n",
      "  from .autonotebook import tqdm as notebook_tqdm\n"
     ]
    }
   ],
   "source": [
    "from datasets import load_dataset"
   ]
  },
  {
   "cell_type": "markdown",
   "id": "e2b68592",
   "metadata": {},
   "source": [
    "## Utility function to create dataset with different number of documents\n"
   ]
  },
  {
   "cell_type": "code",
   "execution_count": 10,
   "id": "60772727",
   "metadata": {},
   "outputs": [],
   "source": [
    "def get_dataset(n_docs: int = 1000):\n",
    "    dataset = load_dataset(\n",
    "        \"Cohere/wikipedia-2023-11-embed-multilingual-v3\",\n",
    "        \"simple\",\n",
    "        split=f\"train[:{n_docs}]\",\n",
    "    )\n",
    "    dataset = dataset.map(\n",
    "        lambda x: {\n",
    "            \"id\": x[\"_id\"] + \"-iter\",\n",
    "            \"fields\": {\"text\": x[\"text\"], \"embedding\": x[\"emb\"]},\n",
    "        }\n",
    "    ).select_columns([\"id\", \"fields\"])\n",
    "    return dataset"
   ]
  },
  {
   "cell_type": "markdown",
   "id": "5e3f0d0f",
   "metadata": {},
   "source": [
    "### A dataclass to store the parameters and results of the different feeding methods\n"
   ]
  },
  {
   "cell_type": "code",
   "execution_count": 11,
   "id": "b6ab7b70",
   "metadata": {},
   "outputs": [],
   "source": [
    "from dataclasses import dataclass\n",
    "from typing import Callable, Optional, Iterable, Dict\n",
    "\n",
    "\n",
    "@dataclass\n",
    "class FeedParams:\n",
    "    name: str\n",
    "    num_docs: int\n",
    "    max_connections: int\n",
    "    function_name: str\n",
    "    max_keepalive_connections: int = None\n",
    "    max_workers: Optional[int] = None\n",
    "    max_queue_size: Optional[int] = None\n",
    "    num_concurrent_requests: Optional[int] = None\n",
    "\n",
    "\n",
    "@dataclass\n",
    "class FeedResult(FeedParams):\n",
    "    feed_time: Optional[float] = None"
   ]
  },
  {
   "cell_type": "markdown",
   "id": "f865e5c7",
   "metadata": {},
   "source": [
    "### A common callback function to notify if something goes wrong\n"
   ]
  },
  {
   "cell_type": "code",
   "execution_count": 12,
   "id": "ab4c02b9",
   "metadata": {},
   "outputs": [],
   "source": [
    "from vespa.io import VespaResponse\n",
    "\n",
    "\n",
    "def callback(response: VespaResponse, id: str):\n",
    "    if not response.is_successful():\n",
    "        print(\n",
    "            f\"Failed to feed document {id} with status code {response.status_code}: Reason {response.get_json()}\"\n",
    "        )"
   ]
  },
  {
   "cell_type": "markdown",
   "id": "aa3e99e3",
   "metadata": {},
   "source": [
    "### Defining our feeding functions\n"
   ]
  },
  {
   "cell_type": "code",
   "execution_count": 13,
   "id": "9b70bde7",
   "metadata": {},
   "outputs": [],
   "source": [
    "import time\n",
    "import asyncio\n",
    "import httpx\n",
    "from vespa.application import Vespa\n",
    "from tenacity import retry, stop_after_attempt, wait_random\n",
    "\n",
    "\n",
    "async def feed_async(\n",
    "    app: Vespa, params: FeedParams, data: Iterable[Dict]\n",
    ") -> FeedResult:\n",
    "    start_time = time.time()\n",
    "    queue = asyncio.Queue()\n",
    "    # Increased from 3000 to 5000 to allow more concurrent operations\n",
    "    semaphore = asyncio.Semaphore(5000)\n",
    "    progress_interval = 100\n",
    "    total_docs = len(data)\n",
    "\n",
    "    # Optimized connection pooling\n",
    "    limits = httpx.Limits(\n",
    "        max_keepalive_connections=params.max_keepalive_connections,  # Keeps connections alive for reuse\n",
    "        max_connections=params.max_connections,  # Limits total number of concurrent connections\n",
    "        keepalive_expiry=10,  # Increased from 5 to 10 seconds to keep connections alive longer\n",
    "    )\n",
    "\n",
    "    sslcontext = httpx.create_ssl_context(cert=(app.cert, app.key))\n",
    "    schema = \"doc\"\n",
    "    namespace = \"pyvespa-feed\"\n",
    "\n",
    "    # Increased timeouts to allow for potential network latency\n",
    "    timeout = httpx.Timeout(pool=2, connect=3, read=3, write=3)\n",
    "\n",
    "    async with httpx.AsyncClient(\n",
    "        timeout=timeout,\n",
    "        headers=None,\n",
    "        verify=sslcontext,\n",
    "        http2=True,\n",
    "        http1=False,\n",
    "        limits=limits,\n",
    "    ) as httpx_client:\n",
    "        # Enqueue all documents\n",
    "        for doc in data:\n",
    "            await queue.put(doc)\n",
    "\n",
    "        async def worker():\n",
    "            while True:\n",
    "                try:\n",
    "                    doc = queue.get_nowait()\n",
    "                except asyncio.QueueEmpty:\n",
    "                    break\n",
    "                await process_document(\n",
    "                    httpx_client, app, doc, schema, namespace, semaphore\n",
    "                )\n",
    "                queue.task_done()\n",
    "                if queue.qsize() % progress_interval == 0:\n",
    "                    completed = total_docs - queue.qsize()\n",
    "                    print(f\"Progress: {completed}/{total_docs} docs processed\")\n",
    "\n",
    "        # Increased number of workers to 2 * max_connections for better parallelism\n",
    "        worker_count = 2 * params.max_connections\n",
    "        tasks = [asyncio.create_task(worker()) for _ in range(worker_count)]\n",
    "        await asyncio.gather(*tasks)\n",
    "\n",
    "    end_time = time.time()\n",
    "    return FeedResult(\n",
    "        **params.__dict__,\n",
    "        feed_time=end_time - start_time,\n",
    "    )\n",
    "\n",
    "\n",
    "@retry(stop=stop_after_attempt(5), wait=wait_random(min=1, max=3))\n",
    "async def process_document(httpx_client, app, doc, schema, namespace, semaphore):\n",
    "    async with semaphore:\n",
    "        data_id = doc[\"id\"]\n",
    "        fields = doc[\"fields\"]\n",
    "        path = app.get_document_v1_path(\n",
    "            id=data_id, schema=schema, namespace=namespace, group=None\n",
    "        )\n",
    "        end_point = f\"{app.end_point}{path}\"\n",
    "        vespa_format = {\"fields\": fields}\n",
    "        response = await httpx_client.post(end_point, json=vespa_format)\n",
    "        response.raise_for_status()\n",
    "    return response"
   ]
  },
  {
   "cell_type": "code",
   "execution_count": 14,
   "id": "1fe15cec",
   "metadata": {},
   "outputs": [],
   "source": [
    "def feed_iterable(app: Vespa, params: FeedParams, data: Iterable[Dict]) -> FeedResult:\n",
    "    start = time.time()\n",
    "    app.feed_iterable(\n",
    "        data,\n",
    "        schema=\"doc\",\n",
    "        namespace=\"pyvespa-feed\",\n",
    "        operation_type=\"feed\",\n",
    "        max_queue_size=params.max_queue_size,\n",
    "        max_workers=params.max_workers,\n",
    "        max_connections=params.max_connections,\n",
    "        callback=callback,\n",
    "    )\n",
    "    end = time.time()\n",
    "    sync_feed_time = end - start\n",
    "    return FeedResult(\n",
    "        **params.__dict__,\n",
    "        feed_time=sync_feed_time,\n",
    "    )\n",
    "\n",
    "\n",
    "def feed_aiterable(app: Vespa, params: FeedParams, data: Iterable[Dict]) -> FeedResult:\n",
    "    start = time.time()\n",
    "    app.feed_async_iterable(\n",
    "        data,\n",
    "        schema=\"doc\",\n",
    "        namespace=\"pyvespa-feed\",\n",
    "        operation_type=\"feed\",\n",
    "        max_queue_size=params.max_queue_size,\n",
    "        max_workers=params.max_workers,\n",
    "        max_connections=params.max_connections,\n",
    "        callback=callback,\n",
    "    )\n",
    "    end = time.time()\n",
    "    sync_feed_time = end - start\n",
    "    return FeedResult(\n",
    "        **params.__dict__,\n",
    "        feed_time=sync_feed_time,\n",
    "    )\n",
    "\n",
    "\n",
    "def feed_aiterable2(app: Vespa, params: FeedParams, data: Iterable[Dict]) -> FeedResult:\n",
    "    start = time.time()\n",
    "    app.feed_async_iterable2(\n",
    "        data,\n",
    "        schema=\"doc\",\n",
    "        namespace=\"pyvespa-feed\",\n",
    "        operation_type=\"feed\",\n",
    "        max_queue_size=params.max_queue_size,\n",
    "        max_workers=params.max_workers,\n",
    "        max_connections=params.max_connections,\n",
    "        callback=callback,\n",
    "    )\n",
    "    end = time.time()\n",
    "    sync_feed_time = end - start\n",
    "    return FeedResult(\n",
    "        **params.__dict__,\n",
    "        feed_time=sync_feed_time,\n",
    "    )"
   ]
  },
  {
   "cell_type": "markdown",
   "id": "43614eb0",
   "metadata": {},
   "source": [
    "## Defining our hyperparameters\n"
   ]
  },
  {
   "cell_type": "code",
   "execution_count": 15,
   "id": "a22fe87e",
   "metadata": {},
   "outputs": [
    {
     "name": "stdout",
     "output_type": "stream",
     "text": [
      "Function: feed_aiterable\n",
      "{'num_docs': 1000, 'max_connections': 64, 'max_workers': 64, 'max_queue_size': 3000}\n",
      "{'num_docs': 5000, 'max_connections': 64, 'max_workers': 64, 'max_queue_size': 3000}\n",
      "\n",
      "\n",
      "Function: feed_aiterable2\n",
      "{'num_docs': 1000, 'max_connections': 64, 'max_workers': 64, 'max_queue_size': 3000}\n",
      "{'num_docs': 5000, 'max_connections': 64, 'max_workers': 64, 'max_queue_size': 3000}\n",
      "\n",
      "\n",
      "Function: feed_async\n",
      "{'num_docs': 1000, 'max_keepalive_connections': None, 'max_connections': 16}\n",
      "{'num_docs': 1000, 'max_keepalive_connections': None, 'max_connections': 64}\n",
      "{'num_docs': 5000, 'max_keepalive_connections': None, 'max_connections': 16}\n",
      "{'num_docs': 5000, 'max_keepalive_connections': None, 'max_connections': 64}\n",
      "\n",
      "\n",
      "Function: feed_iterable\n",
      "{'num_docs': 1000, 'max_connections': 64, 'max_workers': 64, 'max_queue_size': 1000}\n",
      "{'num_docs': 1000, 'max_connections': 64, 'max_workers': 64, 'max_queue_size': 10000}\n",
      "{'num_docs': 5000, 'max_connections': 64, 'max_workers': 64, 'max_queue_size': 1000}\n",
      "{'num_docs': 5000, 'max_connections': 64, 'max_workers': 64, 'max_queue_size': 10000}\n",
      "\n",
      "\n"
     ]
    }
   ],
   "source": [
    "from itertools import product\n",
    "\n",
    "# We will only run for 1000 documents here as notebook is run as part of CI.\n",
    "# But you will see some plots when run with 100k documents as well.\n",
    "\n",
    "num_docs = [1000, 5_000, 10_000]\n",
    "\n",
    "params_by_function = {\n",
    "    \"feed_aiterable\": {\n",
    "        \"num_docs\": num_docs,\n",
    "        \"max_connections\": [64],\n",
    "        \"max_workers\": [64, 128],\n",
    "        \"max_queue_size\": [3000, 5000],\n",
    "    },\n",
    "    # \"feed_aiterable2\": {\n",
    "    #     \"num_docs\": num_docs,\n",
    "    #     \"max_connections\": [64],\n",
    "    #     \"max_workers\": [64],\n",
    "    #     \"max_queue_size\": [3000],\n",
    "    # },\n",
    "    \"feed_async\": {\n",
    "        \"num_docs\": num_docs,\n",
    "        \"max_keepalive_connections\": [None],\n",
    "        \"max_connections\": [16, 64],\n",
    "    },\n",
    "    \"feed_iterable\": {\n",
    "        \"num_docs\": num_docs,\n",
    "        \"max_connections\": [64],\n",
    "        \"max_workers\": [64],\n",
    "        \"max_queue_size\": [1000, 10_000],\n",
    "    },\n",
    "}\n",
    "\n",
    "feed_params = []\n",
    "# Create one FeedParams instance of each permutation\n",
    "for func, parameters in params_by_function.items():\n",
    "    print(f\"Function: {func}\")\n",
    "    keys, values = zip(*parameters.items())\n",
    "    for combination in product(*values):\n",
    "        settings = dict(zip(keys, combination))\n",
    "        print(settings)\n",
    "        feed_params.append(\n",
    "            FeedParams(\n",
    "                name=f\"{settings['num_docs']}_{settings['max_connections']}_{settings.get('max_workers', 0)}_{func}\",\n",
    "                function_name=func,\n",
    "                **settings,\n",
    "            )\n",
    "        )\n",
    "    print(\"\\n\")  # Just to add space between different functions"
   ]
  },
  {
   "cell_type": "code",
   "execution_count": 16,
   "id": "2b3f067c",
   "metadata": {},
   "outputs": [
    {
     "name": "stdout",
     "output_type": "stream",
     "text": [
      "Total number of feed_params: 12\n"
     ]
    }
   ],
   "source": [
    "print(f\"Total number of feed_params: {len(feed_params)}\")"
   ]
  },
  {
   "cell_type": "markdown",
   "id": "15648d56",
   "metadata": {},
   "source": [
    "Now, we will need a way to retrieve the callable function from the function name.\n"
   ]
  },
  {
   "cell_type": "code",
   "execution_count": 17,
   "id": "22044170",
   "metadata": {},
   "outputs": [],
   "source": [
    "# Get reference to function from string name\n",
    "def get_func_from_str(func_name: str) -> Callable:\n",
    "    return globals()[func_name]"
   ]
  },
  {
   "cell_type": "markdown",
   "id": "79f3f550",
   "metadata": {},
   "source": [
    "### Function to clean up after each feed\n",
    "\n",
    "For a fair comparison, we will delete the data before feeding it again.\n"
   ]
  },
  {
   "cell_type": "code",
   "execution_count": 18,
   "id": "1da9d3f9",
   "metadata": {},
   "outputs": [],
   "source": [
    "from typing import Iterable, Dict\n",
    "from vespa.application import Vespa\n",
    "\n",
    "\n",
    "def delete_data(app: Vespa, data: Iterable[Dict]):\n",
    "    app.feed_iterable(\n",
    "        iter=data,\n",
    "        schema=\"doc\",\n",
    "        namespace=\"pyvespa-feed\",\n",
    "        operation_type=\"delete\",\n",
    "        callback=callback,\n",
    "        max_workers=16,\n",
    "        max_connections=16,\n",
    "    )"
   ]
  },
  {
   "cell_type": "markdown",
   "id": "e081bf94",
   "metadata": {},
   "source": [
    "## Main experiment loop\n"
   ]
  },
  {
   "cell_type": "markdown",
   "id": "87c8700c",
   "metadata": {},
   "source": [
    "The line below is used to make the code run in Jupyter, as it is already running an event loop\n"
   ]
  },
  {
   "cell_type": "code",
   "execution_count": 19,
   "id": "aaa8f920",
   "metadata": {},
   "outputs": [],
   "source": [
    "import nest_asyncio\n",
    "\n",
    "nest_asyncio.apply()"
   ]
  },
  {
   "cell_type": "code",
   "execution_count": 20,
   "id": "7a55e1c9",
   "metadata": {},
   "outputs": [
    {
     "name": "stdout",
     "output_type": "stream",
     "text": [
      "--------------------------------------------------\n",
      "Starting feed with params:\n",
      "FeedParams(name='1000_64_64_feed_aiterable', num_docs=1000, max_connections=64, function_name='feed_aiterable', max_keepalive_connections=None, max_workers=64, max_queue_size=3000, num_concurrent_requests=None)\n"
     ]
    },
    {
     "name": "stdout",
     "output_type": "stream",
     "text": [
      "Using mtls_key_cert Authentication against endpoint https://bf40f77a.bc737822.z.vespa-app.cloud//ApplicationStatus\n",
      "Opening httpx client\n",
      "13.976394891738892\n",
      "Deleting data\n",
      "--------------------------------------------------\n",
      "Starting feed with params:\n",
      "FeedParams(name='5000_64_64_feed_aiterable', num_docs=5000, max_connections=64, function_name='feed_aiterable', max_keepalive_connections=None, max_workers=64, max_queue_size=3000, num_concurrent_requests=None)\n",
      "Opening httpx client\n",
      "67.80138516426086\n",
      "Deleting data\n",
      "--------------------------------------------------\n",
      "Starting feed with params:\n",
      "FeedParams(name='1000_64_64_feed_aiterable2', num_docs=1000, max_connections=64, function_name='feed_aiterable2', max_keepalive_connections=None, max_workers=64, max_queue_size=3000, num_concurrent_requests=None)\n"
     ]
    },
    {
     "name": "stderr",
     "output_type": "stream",
     "text": [
      "Error processing document 20231101.simple_39_9-iter: Client error '429 Too Many Requests' for url 'https://bf40f77a.bc737822.z.vespa-app.cloud//document/v1/pyvespa-feed/doc/docid/20231101.simple_39_9-iter'\n",
      "For more information check: https://developer.mozilla.org/en-US/docs/Web/HTTP/Status/429\n",
      "Error processing document 20231101.simple_37_22-iter: Client error '429 Too Many Requests' for url 'https://bf40f77a.bc737822.z.vespa-app.cloud//document/v1/pyvespa-feed/doc/docid/20231101.simple_37_22-iter'\n",
      "For more information check: https://developer.mozilla.org/en-US/docs/Web/HTTP/Status/429\n",
      "Error processing document 20231101.simple_39_0-iter: Client error '429 Too Many Requests' for url 'https://bf40f77a.bc737822.z.vespa-app.cloud//document/v1/pyvespa-feed/doc/docid/20231101.simple_39_0-iter'\n",
      "For more information check: https://developer.mozilla.org/en-US/docs/Web/HTTP/Status/429\n",
      "Error processing document 20231101.simple_39_1-iter: Client error '429 Too Many Requests' for url 'https://bf40f77a.bc737822.z.vespa-app.cloud//document/v1/pyvespa-feed/doc/docid/20231101.simple_39_1-iter'\n",
      "For more information check: https://developer.mozilla.org/en-US/docs/Web/HTTP/Status/429\n",
      "Error processing document 20231101.simple_39_2-iter: Client error '429 Too Many Requests' for url 'https://bf40f77a.bc737822.z.vespa-app.cloud//document/v1/pyvespa-feed/doc/docid/20231101.simple_39_2-iter'\n",
      "For more information check: https://developer.mozilla.org/en-US/docs/Web/HTTP/Status/429\n",
      "Error processing document 20231101.simple_39_3-iter: Client error '429 Too Many Requests' for url 'https://bf40f77a.bc737822.z.vespa-app.cloud//document/v1/pyvespa-feed/doc/docid/20231101.simple_39_3-iter'\n",
      "For more information check: https://developer.mozilla.org/en-US/docs/Web/HTTP/Status/429\n",
      "Error processing document 20231101.simple_39_4-iter: Client error '429 Too Many Requests' for url 'https://bf40f77a.bc737822.z.vespa-app.cloud//document/v1/pyvespa-feed/doc/docid/20231101.simple_39_4-iter'\n",
      "For more information check: https://developer.mozilla.org/en-US/docs/Web/HTTP/Status/429\n",
      "Error processing document 20231101.simple_39_5-iter: Client error '429 Too Many Requests' for url 'https://bf40f77a.bc737822.z.vespa-app.cloud//document/v1/pyvespa-feed/doc/docid/20231101.simple_39_5-iter'\n",
      "For more information check: https://developer.mozilla.org/en-US/docs/Web/HTTP/Status/429\n"
     ]
    },
    {
     "name": "stdout",
     "output_type": "stream",
     "text": [
      "16.264233827590942\n",
      "Deleting data\n",
      "--------------------------------------------------\n",
      "Starting feed with params:\n",
      "FeedParams(name='5000_64_64_feed_aiterable2', num_docs=5000, max_connections=64, function_name='feed_aiterable2', max_keepalive_connections=None, max_workers=64, max_queue_size=3000, num_concurrent_requests=None)\n"
     ]
    },
    {
     "ename": "ReadTimeout",
     "evalue": "",
     "output_type": "error",
     "traceback": [
      "\u001b[0;31m---------------------------------------------------------------------------\u001b[0m",
      "\u001b[0;31mReadTimeout\u001b[0m                               Traceback (most recent call last)",
      "File \u001b[0;32m~/.pyenv/versions/3.9.19/envs/pyvespa-dev/lib/python3.9/site-packages/httpcore/_async/http2.py:148\u001b[0m, in \u001b[0;36mAsyncHTTP2Connection.handle_async_request\u001b[0;34m(self, request)\u001b[0m\n\u001b[1;32m    145\u001b[0m \u001b[38;5;28;01masync\u001b[39;00m \u001b[38;5;28;01mwith\u001b[39;00m Trace(\n\u001b[1;32m    146\u001b[0m     \u001b[38;5;124m\"\u001b[39m\u001b[38;5;124mreceive_response_headers\u001b[39m\u001b[38;5;124m\"\u001b[39m, logger, request, kwargs\n\u001b[1;32m    147\u001b[0m ) \u001b[38;5;28;01mas\u001b[39;00m trace:\n\u001b[0;32m--> 148\u001b[0m     status, headers \u001b[38;5;241m=\u001b[39m \u001b[38;5;28;01mawait\u001b[39;00m \u001b[38;5;28mself\u001b[39m\u001b[38;5;241m.\u001b[39m_receive_response(\n\u001b[1;32m    149\u001b[0m         request\u001b[38;5;241m=\u001b[39mrequest, stream_id\u001b[38;5;241m=\u001b[39mstream_id\n\u001b[1;32m    150\u001b[0m     )\n\u001b[1;32m    151\u001b[0m     trace\u001b[38;5;241m.\u001b[39mreturn_value \u001b[38;5;241m=\u001b[39m (status, headers)\n",
      "File \u001b[0;32m~/.pyenv/versions/3.9.19/envs/pyvespa-dev/lib/python3.9/site-packages/httpcore/_async/http2.py:292\u001b[0m, in \u001b[0;36mAsyncHTTP2Connection._receive_response\u001b[0;34m(self, request, stream_id)\u001b[0m\n\u001b[1;32m    291\u001b[0m \u001b[38;5;28;01mwhile\u001b[39;00m \u001b[38;5;28;01mTrue\u001b[39;00m:\n\u001b[0;32m--> 292\u001b[0m     event \u001b[38;5;241m=\u001b[39m \u001b[38;5;28;01mawait\u001b[39;00m \u001b[38;5;28mself\u001b[39m\u001b[38;5;241m.\u001b[39m_receive_stream_event(request, stream_id)\n\u001b[1;32m    293\u001b[0m     \u001b[38;5;28;01mif\u001b[39;00m \u001b[38;5;28misinstance\u001b[39m(event, h2\u001b[38;5;241m.\u001b[39mevents\u001b[38;5;241m.\u001b[39mResponseReceived):\n",
      "File \u001b[0;32m~/.pyenv/versions/3.9.19/envs/pyvespa-dev/lib/python3.9/site-packages/httpcore/_async/http2.py:333\u001b[0m, in \u001b[0;36mAsyncHTTP2Connection._receive_stream_event\u001b[0;34m(self, request, stream_id)\u001b[0m\n\u001b[1;32m    332\u001b[0m \u001b[38;5;28;01mwhile\u001b[39;00m \u001b[38;5;129;01mnot\u001b[39;00m \u001b[38;5;28mself\u001b[39m\u001b[38;5;241m.\u001b[39m_events\u001b[38;5;241m.\u001b[39mget(stream_id):\n\u001b[0;32m--> 333\u001b[0m     \u001b[38;5;28;01mawait\u001b[39;00m \u001b[38;5;28mself\u001b[39m\u001b[38;5;241m.\u001b[39m_receive_events(request, stream_id)\n\u001b[1;32m    334\u001b[0m event \u001b[38;5;241m=\u001b[39m \u001b[38;5;28mself\u001b[39m\u001b[38;5;241m.\u001b[39m_events[stream_id]\u001b[38;5;241m.\u001b[39mpop(\u001b[38;5;241m0\u001b[39m)\n",
      "File \u001b[0;32m~/.pyenv/versions/3.9.19/envs/pyvespa-dev/lib/python3.9/site-packages/httpcore/_async/http2.py:361\u001b[0m, in \u001b[0;36mAsyncHTTP2Connection._receive_events\u001b[0;34m(self, request, stream_id)\u001b[0m\n\u001b[1;32m    360\u001b[0m \u001b[38;5;28;01mif\u001b[39;00m stream_id \u001b[38;5;129;01mis\u001b[39;00m \u001b[38;5;28;01mNone\u001b[39;00m \u001b[38;5;129;01mor\u001b[39;00m \u001b[38;5;129;01mnot\u001b[39;00m \u001b[38;5;28mself\u001b[39m\u001b[38;5;241m.\u001b[39m_events\u001b[38;5;241m.\u001b[39mget(stream_id):\n\u001b[0;32m--> 361\u001b[0m     events \u001b[38;5;241m=\u001b[39m \u001b[38;5;28;01mawait\u001b[39;00m \u001b[38;5;28mself\u001b[39m\u001b[38;5;241m.\u001b[39m_read_incoming_data(request)\n\u001b[1;32m    362\u001b[0m     \u001b[38;5;28;01mfor\u001b[39;00m event \u001b[38;5;129;01min\u001b[39;00m events:\n",
      "File \u001b[0;32m~/.pyenv/versions/3.9.19/envs/pyvespa-dev/lib/python3.9/site-packages/httpcore/_async/http2.py:435\u001b[0m, in \u001b[0;36mAsyncHTTP2Connection._read_incoming_data\u001b[0;34m(self, request)\u001b[0m\n\u001b[1;32m    434\u001b[0m \u001b[38;5;28;01mif\u001b[39;00m \u001b[38;5;28mself\u001b[39m\u001b[38;5;241m.\u001b[39m_read_exception \u001b[38;5;129;01mis\u001b[39;00m \u001b[38;5;129;01mnot\u001b[39;00m \u001b[38;5;28;01mNone\u001b[39;00m:\n\u001b[0;32m--> 435\u001b[0m     \u001b[38;5;28;01mraise\u001b[39;00m \u001b[38;5;28mself\u001b[39m\u001b[38;5;241m.\u001b[39m_read_exception  \u001b[38;5;66;03m# pragma: nocover\u001b[39;00m\n\u001b[1;32m    437\u001b[0m \u001b[38;5;28;01mtry\u001b[39;00m:\n",
      "File \u001b[0;32m~/.pyenv/versions/3.9.19/envs/pyvespa-dev/lib/python3.9/site-packages/httpx/_transports/default.py:69\u001b[0m, in \u001b[0;36mmap_httpcore_exceptions\u001b[0;34m()\u001b[0m\n\u001b[1;32m     68\u001b[0m \u001b[38;5;28;01mtry\u001b[39;00m:\n\u001b[0;32m---> 69\u001b[0m     \u001b[38;5;28;01myield\u001b[39;00m\n\u001b[1;32m     70\u001b[0m \u001b[38;5;28;01mexcept\u001b[39;00m \u001b[38;5;167;01mException\u001b[39;00m \u001b[38;5;28;01mas\u001b[39;00m exc:\n",
      "File \u001b[0;32m~/.pyenv/versions/3.9.19/envs/pyvespa-dev/lib/python3.9/site-packages/httpx/_transports/default.py:373\u001b[0m, in \u001b[0;36mAsyncHTTPTransport.handle_async_request\u001b[0;34m(self, request)\u001b[0m\n\u001b[1;32m    372\u001b[0m \u001b[38;5;28;01mwith\u001b[39;00m map_httpcore_exceptions():\n\u001b[0;32m--> 373\u001b[0m     resp \u001b[38;5;241m=\u001b[39m \u001b[38;5;28;01mawait\u001b[39;00m \u001b[38;5;28mself\u001b[39m\u001b[38;5;241m.\u001b[39m_pool\u001b[38;5;241m.\u001b[39mhandle_async_request(req)\n\u001b[1;32m    375\u001b[0m \u001b[38;5;28;01massert\u001b[39;00m \u001b[38;5;28misinstance\u001b[39m(resp\u001b[38;5;241m.\u001b[39mstream, typing\u001b[38;5;241m.\u001b[39mAsyncIterable)\n",
      "File \u001b[0;32m~/.pyenv/versions/3.9.19/envs/pyvespa-dev/lib/python3.9/site-packages/httpcore/_async/connection_pool.py:216\u001b[0m, in \u001b[0;36mAsyncConnectionPool.handle_async_request\u001b[0;34m(self, request)\u001b[0m\n\u001b[1;32m    215\u001b[0m     \u001b[38;5;28;01mawait\u001b[39;00m \u001b[38;5;28mself\u001b[39m\u001b[38;5;241m.\u001b[39m_close_connections(closing)\n\u001b[0;32m--> 216\u001b[0m     \u001b[38;5;28;01mraise\u001b[39;00m exc \u001b[38;5;28;01mfrom\u001b[39;00m \u001b[38;5;28;01mNone\u001b[39;00m\n\u001b[1;32m    218\u001b[0m \u001b[38;5;66;03m# Return the response. Note that in this case we still have to manage\u001b[39;00m\n\u001b[1;32m    219\u001b[0m \u001b[38;5;66;03m# the point at which the response is closed.\u001b[39;00m\n",
      "File \u001b[0;32m~/.pyenv/versions/3.9.19/envs/pyvespa-dev/lib/python3.9/site-packages/httpcore/_async/connection_pool.py:196\u001b[0m, in \u001b[0;36mAsyncConnectionPool.handle_async_request\u001b[0;34m(self, request)\u001b[0m\n\u001b[1;32m    194\u001b[0m \u001b[38;5;28;01mtry\u001b[39;00m:\n\u001b[1;32m    195\u001b[0m     \u001b[38;5;66;03m# Send the request on the assigned connection.\u001b[39;00m\n\u001b[0;32m--> 196\u001b[0m     response \u001b[38;5;241m=\u001b[39m \u001b[38;5;28;01mawait\u001b[39;00m connection\u001b[38;5;241m.\u001b[39mhandle_async_request(\n\u001b[1;32m    197\u001b[0m         pool_request\u001b[38;5;241m.\u001b[39mrequest\n\u001b[1;32m    198\u001b[0m     )\n\u001b[1;32m    199\u001b[0m \u001b[38;5;28;01mexcept\u001b[39;00m ConnectionNotAvailable:\n\u001b[1;32m    200\u001b[0m     \u001b[38;5;66;03m# In some cases a connection may initially be available to\u001b[39;00m\n\u001b[1;32m    201\u001b[0m     \u001b[38;5;66;03m# handle a request, but then become unavailable.\u001b[39;00m\n\u001b[1;32m    202\u001b[0m     \u001b[38;5;66;03m#\u001b[39;00m\n\u001b[1;32m    203\u001b[0m     \u001b[38;5;66;03m# In this case we clear the connection and try again.\u001b[39;00m\n",
      "File \u001b[0;32m~/.pyenv/versions/3.9.19/envs/pyvespa-dev/lib/python3.9/site-packages/httpcore/_async/connection.py:101\u001b[0m, in \u001b[0;36mAsyncHTTPConnection.handle_async_request\u001b[0;34m(self, request)\u001b[0m\n\u001b[1;32m     99\u001b[0m     \u001b[38;5;28;01mraise\u001b[39;00m exc\n\u001b[0;32m--> 101\u001b[0m \u001b[38;5;28;01mreturn\u001b[39;00m \u001b[38;5;28;01mawait\u001b[39;00m \u001b[38;5;28mself\u001b[39m\u001b[38;5;241m.\u001b[39m_connection\u001b[38;5;241m.\u001b[39mhandle_async_request(request)\n",
      "File \u001b[0;32m~/.pyenv/versions/3.9.19/envs/pyvespa-dev/lib/python3.9/site-packages/httpcore/_async/http2.py:185\u001b[0m, in \u001b[0;36mAsyncHTTP2Connection.handle_async_request\u001b[0;34m(self, request)\u001b[0m\n\u001b[1;32m    183\u001b[0m     \u001b[38;5;28;01mraise\u001b[39;00m LocalProtocolError(exc)  \u001b[38;5;66;03m# pragma: nocover\u001b[39;00m\n\u001b[0;32m--> 185\u001b[0m \u001b[38;5;28;01mraise\u001b[39;00m exc\n",
      "File \u001b[0;32m~/.pyenv/versions/3.9.19/envs/pyvespa-dev/lib/python3.9/site-packages/httpcore/_async/http2.py:148\u001b[0m, in \u001b[0;36mAsyncHTTP2Connection.handle_async_request\u001b[0;34m(self, request)\u001b[0m\n\u001b[1;32m    145\u001b[0m \u001b[38;5;28;01masync\u001b[39;00m \u001b[38;5;28;01mwith\u001b[39;00m Trace(\n\u001b[1;32m    146\u001b[0m     \u001b[38;5;124m\"\u001b[39m\u001b[38;5;124mreceive_response_headers\u001b[39m\u001b[38;5;124m\"\u001b[39m, logger, request, kwargs\n\u001b[1;32m    147\u001b[0m ) \u001b[38;5;28;01mas\u001b[39;00m trace:\n\u001b[0;32m--> 148\u001b[0m     status, headers \u001b[38;5;241m=\u001b[39m \u001b[38;5;28;01mawait\u001b[39;00m \u001b[38;5;28mself\u001b[39m\u001b[38;5;241m.\u001b[39m_receive_response(\n\u001b[1;32m    149\u001b[0m         request\u001b[38;5;241m=\u001b[39mrequest, stream_id\u001b[38;5;241m=\u001b[39mstream_id\n\u001b[1;32m    150\u001b[0m     )\n\u001b[1;32m    151\u001b[0m     trace\u001b[38;5;241m.\u001b[39mreturn_value \u001b[38;5;241m=\u001b[39m (status, headers)\n",
      "File \u001b[0;32m~/.pyenv/versions/3.9.19/envs/pyvespa-dev/lib/python3.9/site-packages/httpcore/_async/http2.py:292\u001b[0m, in \u001b[0;36mAsyncHTTP2Connection._receive_response\u001b[0;34m(self, request, stream_id)\u001b[0m\n\u001b[1;32m    291\u001b[0m \u001b[38;5;28;01mwhile\u001b[39;00m \u001b[38;5;28;01mTrue\u001b[39;00m:\n\u001b[0;32m--> 292\u001b[0m     event \u001b[38;5;241m=\u001b[39m \u001b[38;5;28;01mawait\u001b[39;00m \u001b[38;5;28mself\u001b[39m\u001b[38;5;241m.\u001b[39m_receive_stream_event(request, stream_id)\n\u001b[1;32m    293\u001b[0m     \u001b[38;5;28;01mif\u001b[39;00m \u001b[38;5;28misinstance\u001b[39m(event, h2\u001b[38;5;241m.\u001b[39mevents\u001b[38;5;241m.\u001b[39mResponseReceived):\n",
      "File \u001b[0;32m~/.pyenv/versions/3.9.19/envs/pyvespa-dev/lib/python3.9/site-packages/httpcore/_async/http2.py:333\u001b[0m, in \u001b[0;36mAsyncHTTP2Connection._receive_stream_event\u001b[0;34m(self, request, stream_id)\u001b[0m\n\u001b[1;32m    332\u001b[0m \u001b[38;5;28;01mwhile\u001b[39;00m \u001b[38;5;129;01mnot\u001b[39;00m \u001b[38;5;28mself\u001b[39m\u001b[38;5;241m.\u001b[39m_events\u001b[38;5;241m.\u001b[39mget(stream_id):\n\u001b[0;32m--> 333\u001b[0m     \u001b[38;5;28;01mawait\u001b[39;00m \u001b[38;5;28mself\u001b[39m\u001b[38;5;241m.\u001b[39m_receive_events(request, stream_id)\n\u001b[1;32m    334\u001b[0m event \u001b[38;5;241m=\u001b[39m \u001b[38;5;28mself\u001b[39m\u001b[38;5;241m.\u001b[39m_events[stream_id]\u001b[38;5;241m.\u001b[39mpop(\u001b[38;5;241m0\u001b[39m)\n",
      "File \u001b[0;32m~/.pyenv/versions/3.9.19/envs/pyvespa-dev/lib/python3.9/site-packages/httpcore/_async/http2.py:361\u001b[0m, in \u001b[0;36mAsyncHTTP2Connection._receive_events\u001b[0;34m(self, request, stream_id)\u001b[0m\n\u001b[1;32m    360\u001b[0m \u001b[38;5;28;01mif\u001b[39;00m stream_id \u001b[38;5;129;01mis\u001b[39;00m \u001b[38;5;28;01mNone\u001b[39;00m \u001b[38;5;129;01mor\u001b[39;00m \u001b[38;5;129;01mnot\u001b[39;00m \u001b[38;5;28mself\u001b[39m\u001b[38;5;241m.\u001b[39m_events\u001b[38;5;241m.\u001b[39mget(stream_id):\n\u001b[0;32m--> 361\u001b[0m     events \u001b[38;5;241m=\u001b[39m \u001b[38;5;28;01mawait\u001b[39;00m \u001b[38;5;28mself\u001b[39m\u001b[38;5;241m.\u001b[39m_read_incoming_data(request)\n\u001b[1;32m    362\u001b[0m     \u001b[38;5;28;01mfor\u001b[39;00m event \u001b[38;5;129;01min\u001b[39;00m events:\n",
      "File \u001b[0;32m~/.pyenv/versions/3.9.19/envs/pyvespa-dev/lib/python3.9/site-packages/httpcore/_async/http2.py:435\u001b[0m, in \u001b[0;36mAsyncHTTP2Connection._read_incoming_data\u001b[0;34m(self, request)\u001b[0m\n\u001b[1;32m    434\u001b[0m \u001b[38;5;28;01mif\u001b[39;00m \u001b[38;5;28mself\u001b[39m\u001b[38;5;241m.\u001b[39m_read_exception \u001b[38;5;129;01mis\u001b[39;00m \u001b[38;5;129;01mnot\u001b[39;00m \u001b[38;5;28;01mNone\u001b[39;00m:\n\u001b[0;32m--> 435\u001b[0m     \u001b[38;5;28;01mraise\u001b[39;00m \u001b[38;5;28mself\u001b[39m\u001b[38;5;241m.\u001b[39m_read_exception  \u001b[38;5;66;03m# pragma: nocover\u001b[39;00m\n\u001b[1;32m    437\u001b[0m \u001b[38;5;28;01mtry\u001b[39;00m:\n",
      "File \u001b[0;32m~/.pyenv/versions/3.9.19/envs/pyvespa-dev/lib/python3.9/site-packages/httpcore/_async/http2.py:148\u001b[0m, in \u001b[0;36mAsyncHTTP2Connection.handle_async_request\u001b[0;34m(self, request)\u001b[0m\n\u001b[1;32m    145\u001b[0m \u001b[38;5;28;01masync\u001b[39;00m \u001b[38;5;28;01mwith\u001b[39;00m Trace(\n\u001b[1;32m    146\u001b[0m     \u001b[38;5;124m\"\u001b[39m\u001b[38;5;124mreceive_response_headers\u001b[39m\u001b[38;5;124m\"\u001b[39m, logger, request, kwargs\n\u001b[1;32m    147\u001b[0m ) \u001b[38;5;28;01mas\u001b[39;00m trace:\n\u001b[0;32m--> 148\u001b[0m     status, headers \u001b[38;5;241m=\u001b[39m \u001b[38;5;28;01mawait\u001b[39;00m \u001b[38;5;28mself\u001b[39m\u001b[38;5;241m.\u001b[39m_receive_response(\n\u001b[1;32m    149\u001b[0m         request\u001b[38;5;241m=\u001b[39mrequest, stream_id\u001b[38;5;241m=\u001b[39mstream_id\n\u001b[1;32m    150\u001b[0m     )\n\u001b[1;32m    151\u001b[0m     trace\u001b[38;5;241m.\u001b[39mreturn_value \u001b[38;5;241m=\u001b[39m (status, headers)\n",
      "File \u001b[0;32m~/.pyenv/versions/3.9.19/envs/pyvespa-dev/lib/python3.9/site-packages/httpcore/_async/http2.py:292\u001b[0m, in \u001b[0;36mAsyncHTTP2Connection._receive_response\u001b[0;34m(self, request, stream_id)\u001b[0m\n\u001b[1;32m    291\u001b[0m \u001b[38;5;28;01mwhile\u001b[39;00m \u001b[38;5;28;01mTrue\u001b[39;00m:\n\u001b[0;32m--> 292\u001b[0m     event \u001b[38;5;241m=\u001b[39m \u001b[38;5;28;01mawait\u001b[39;00m \u001b[38;5;28mself\u001b[39m\u001b[38;5;241m.\u001b[39m_receive_stream_event(request, stream_id)\n\u001b[1;32m    293\u001b[0m     \u001b[38;5;28;01mif\u001b[39;00m \u001b[38;5;28misinstance\u001b[39m(event, h2\u001b[38;5;241m.\u001b[39mevents\u001b[38;5;241m.\u001b[39mResponseReceived):\n",
      "File \u001b[0;32m~/.pyenv/versions/3.9.19/envs/pyvespa-dev/lib/python3.9/site-packages/httpcore/_async/http2.py:333\u001b[0m, in \u001b[0;36mAsyncHTTP2Connection._receive_stream_event\u001b[0;34m(self, request, stream_id)\u001b[0m\n\u001b[1;32m    332\u001b[0m \u001b[38;5;28;01mwhile\u001b[39;00m \u001b[38;5;129;01mnot\u001b[39;00m \u001b[38;5;28mself\u001b[39m\u001b[38;5;241m.\u001b[39m_events\u001b[38;5;241m.\u001b[39mget(stream_id):\n\u001b[0;32m--> 333\u001b[0m     \u001b[38;5;28;01mawait\u001b[39;00m \u001b[38;5;28mself\u001b[39m\u001b[38;5;241m.\u001b[39m_receive_events(request, stream_id)\n\u001b[1;32m    334\u001b[0m event \u001b[38;5;241m=\u001b[39m \u001b[38;5;28mself\u001b[39m\u001b[38;5;241m.\u001b[39m_events[stream_id]\u001b[38;5;241m.\u001b[39mpop(\u001b[38;5;241m0\u001b[39m)\n",
      "File \u001b[0;32m~/.pyenv/versions/3.9.19/envs/pyvespa-dev/lib/python3.9/site-packages/httpcore/_async/http2.py:361\u001b[0m, in \u001b[0;36mAsyncHTTP2Connection._receive_events\u001b[0;34m(self, request, stream_id)\u001b[0m\n\u001b[1;32m    360\u001b[0m \u001b[38;5;28;01mif\u001b[39;00m stream_id \u001b[38;5;129;01mis\u001b[39;00m \u001b[38;5;28;01mNone\u001b[39;00m \u001b[38;5;129;01mor\u001b[39;00m \u001b[38;5;129;01mnot\u001b[39;00m \u001b[38;5;28mself\u001b[39m\u001b[38;5;241m.\u001b[39m_events\u001b[38;5;241m.\u001b[39mget(stream_id):\n\u001b[0;32m--> 361\u001b[0m     events \u001b[38;5;241m=\u001b[39m \u001b[38;5;28;01mawait\u001b[39;00m \u001b[38;5;28mself\u001b[39m\u001b[38;5;241m.\u001b[39m_read_incoming_data(request)\n\u001b[1;32m    362\u001b[0m     \u001b[38;5;28;01mfor\u001b[39;00m event \u001b[38;5;129;01min\u001b[39;00m events:\n",
      "File \u001b[0;32m~/.pyenv/versions/3.9.19/envs/pyvespa-dev/lib/python3.9/site-packages/httpcore/_async/http2.py:435\u001b[0m, in \u001b[0;36mAsyncHTTP2Connection._read_incoming_data\u001b[0;34m(self, request)\u001b[0m\n\u001b[1;32m    434\u001b[0m \u001b[38;5;28;01mif\u001b[39;00m \u001b[38;5;28mself\u001b[39m\u001b[38;5;241m.\u001b[39m_read_exception \u001b[38;5;129;01mis\u001b[39;00m \u001b[38;5;129;01mnot\u001b[39;00m \u001b[38;5;28;01mNone\u001b[39;00m:\n\u001b[0;32m--> 435\u001b[0m     \u001b[38;5;28;01mraise\u001b[39;00m \u001b[38;5;28mself\u001b[39m\u001b[38;5;241m.\u001b[39m_read_exception  \u001b[38;5;66;03m# pragma: nocover\u001b[39;00m\n\u001b[1;32m    437\u001b[0m \u001b[38;5;28;01mtry\u001b[39;00m:\n",
      "File \u001b[0;32m~/.pyenv/versions/3.9.19/envs/pyvespa-dev/lib/python3.9/site-packages/httpx/_transports/default.py:69\u001b[0m, in \u001b[0;36mmap_httpcore_exceptions\u001b[0;34m()\u001b[0m\n\u001b[1;32m     68\u001b[0m \u001b[38;5;28;01mtry\u001b[39;00m:\n\u001b[0;32m---> 69\u001b[0m     \u001b[38;5;28;01myield\u001b[39;00m\n\u001b[1;32m     70\u001b[0m \u001b[38;5;28;01mexcept\u001b[39;00m \u001b[38;5;167;01mException\u001b[39;00m \u001b[38;5;28;01mas\u001b[39;00m exc:\n",
      "File \u001b[0;32m~/.pyenv/versions/3.9.19/envs/pyvespa-dev/lib/python3.9/site-packages/httpx/_transports/default.py:373\u001b[0m, in \u001b[0;36mAsyncHTTPTransport.handle_async_request\u001b[0;34m(self, request)\u001b[0m\n\u001b[1;32m    372\u001b[0m \u001b[38;5;28;01mwith\u001b[39;00m map_httpcore_exceptions():\n\u001b[0;32m--> 373\u001b[0m     resp \u001b[38;5;241m=\u001b[39m \u001b[38;5;28;01mawait\u001b[39;00m \u001b[38;5;28mself\u001b[39m\u001b[38;5;241m.\u001b[39m_pool\u001b[38;5;241m.\u001b[39mhandle_async_request(req)\n\u001b[1;32m    375\u001b[0m \u001b[38;5;28;01massert\u001b[39;00m \u001b[38;5;28misinstance\u001b[39m(resp\u001b[38;5;241m.\u001b[39mstream, typing\u001b[38;5;241m.\u001b[39mAsyncIterable)\n",
      "File \u001b[0;32m~/.pyenv/versions/3.9.19/envs/pyvespa-dev/lib/python3.9/site-packages/httpcore/_async/connection_pool.py:216\u001b[0m, in \u001b[0;36mAsyncConnectionPool.handle_async_request\u001b[0;34m(self, request)\u001b[0m\n\u001b[1;32m    215\u001b[0m     \u001b[38;5;28;01mawait\u001b[39;00m \u001b[38;5;28mself\u001b[39m\u001b[38;5;241m.\u001b[39m_close_connections(closing)\n\u001b[0;32m--> 216\u001b[0m     \u001b[38;5;28;01mraise\u001b[39;00m exc \u001b[38;5;28;01mfrom\u001b[39;00m \u001b[38;5;28;01mNone\u001b[39;00m\n\u001b[1;32m    218\u001b[0m \u001b[38;5;66;03m# Return the response. Note that in this case we still have to manage\u001b[39;00m\n\u001b[1;32m    219\u001b[0m \u001b[38;5;66;03m# the point at which the response is closed.\u001b[39;00m\n",
      "File \u001b[0;32m~/.pyenv/versions/3.9.19/envs/pyvespa-dev/lib/python3.9/site-packages/httpcore/_async/connection_pool.py:196\u001b[0m, in \u001b[0;36mAsyncConnectionPool.handle_async_request\u001b[0;34m(self, request)\u001b[0m\n\u001b[1;32m    194\u001b[0m \u001b[38;5;28;01mtry\u001b[39;00m:\n\u001b[1;32m    195\u001b[0m     \u001b[38;5;66;03m# Send the request on the assigned connection.\u001b[39;00m\n\u001b[0;32m--> 196\u001b[0m     response \u001b[38;5;241m=\u001b[39m \u001b[38;5;28;01mawait\u001b[39;00m connection\u001b[38;5;241m.\u001b[39mhandle_async_request(\n\u001b[1;32m    197\u001b[0m         pool_request\u001b[38;5;241m.\u001b[39mrequest\n\u001b[1;32m    198\u001b[0m     )\n\u001b[1;32m    199\u001b[0m \u001b[38;5;28;01mexcept\u001b[39;00m ConnectionNotAvailable:\n\u001b[1;32m    200\u001b[0m     \u001b[38;5;66;03m# In some cases a connection may initially be available to\u001b[39;00m\n\u001b[1;32m    201\u001b[0m     \u001b[38;5;66;03m# handle a request, but then become unavailable.\u001b[39;00m\n\u001b[1;32m    202\u001b[0m     \u001b[38;5;66;03m#\u001b[39;00m\n\u001b[1;32m    203\u001b[0m     \u001b[38;5;66;03m# In this case we clear the connection and try again.\u001b[39;00m\n",
      "File \u001b[0;32m~/.pyenv/versions/3.9.19/envs/pyvespa-dev/lib/python3.9/site-packages/httpcore/_async/connection.py:101\u001b[0m, in \u001b[0;36mAsyncHTTPConnection.handle_async_request\u001b[0;34m(self, request)\u001b[0m\n\u001b[1;32m     99\u001b[0m     \u001b[38;5;28;01mraise\u001b[39;00m exc\n\u001b[0;32m--> 101\u001b[0m \u001b[38;5;28;01mreturn\u001b[39;00m \u001b[38;5;28;01mawait\u001b[39;00m \u001b[38;5;28mself\u001b[39m\u001b[38;5;241m.\u001b[39m_connection\u001b[38;5;241m.\u001b[39mhandle_async_request(request)\n",
      "File \u001b[0;32m~/.pyenv/versions/3.9.19/envs/pyvespa-dev/lib/python3.9/site-packages/httpcore/_async/http2.py:185\u001b[0m, in \u001b[0;36mAsyncHTTP2Connection.handle_async_request\u001b[0;34m(self, request)\u001b[0m\n\u001b[1;32m    183\u001b[0m     \u001b[38;5;28;01mraise\u001b[39;00m LocalProtocolError(exc)  \u001b[38;5;66;03m# pragma: nocover\u001b[39;00m\n\u001b[0;32m--> 185\u001b[0m \u001b[38;5;28;01mraise\u001b[39;00m exc\n",
      "File \u001b[0;32m~/.pyenv/versions/3.9.19/envs/pyvespa-dev/lib/python3.9/site-packages/httpcore/_async/http2.py:148\u001b[0m, in \u001b[0;36mAsyncHTTP2Connection.handle_async_request\u001b[0;34m(self, request)\u001b[0m\n\u001b[1;32m    145\u001b[0m \u001b[38;5;28;01masync\u001b[39;00m \u001b[38;5;28;01mwith\u001b[39;00m Trace(\n\u001b[1;32m    146\u001b[0m     \u001b[38;5;124m\"\u001b[39m\u001b[38;5;124mreceive_response_headers\u001b[39m\u001b[38;5;124m\"\u001b[39m, logger, request, kwargs\n\u001b[1;32m    147\u001b[0m ) \u001b[38;5;28;01mas\u001b[39;00m trace:\n\u001b[0;32m--> 148\u001b[0m     status, headers \u001b[38;5;241m=\u001b[39m \u001b[38;5;28;01mawait\u001b[39;00m \u001b[38;5;28mself\u001b[39m\u001b[38;5;241m.\u001b[39m_receive_response(\n\u001b[1;32m    149\u001b[0m         request\u001b[38;5;241m=\u001b[39mrequest, stream_id\u001b[38;5;241m=\u001b[39mstream_id\n\u001b[1;32m    150\u001b[0m     )\n\u001b[1;32m    151\u001b[0m     trace\u001b[38;5;241m.\u001b[39mreturn_value \u001b[38;5;241m=\u001b[39m (status, headers)\n",
      "File \u001b[0;32m~/.pyenv/versions/3.9.19/envs/pyvespa-dev/lib/python3.9/site-packages/httpcore/_async/http2.py:292\u001b[0m, in \u001b[0;36mAsyncHTTP2Connection._receive_response\u001b[0;34m(self, request, stream_id)\u001b[0m\n\u001b[1;32m    291\u001b[0m \u001b[38;5;28;01mwhile\u001b[39;00m \u001b[38;5;28;01mTrue\u001b[39;00m:\n\u001b[0;32m--> 292\u001b[0m     event \u001b[38;5;241m=\u001b[39m \u001b[38;5;28;01mawait\u001b[39;00m \u001b[38;5;28mself\u001b[39m\u001b[38;5;241m.\u001b[39m_receive_stream_event(request, stream_id)\n\u001b[1;32m    293\u001b[0m     \u001b[38;5;28;01mif\u001b[39;00m \u001b[38;5;28misinstance\u001b[39m(event, h2\u001b[38;5;241m.\u001b[39mevents\u001b[38;5;241m.\u001b[39mResponseReceived):\n",
      "File \u001b[0;32m~/.pyenv/versions/3.9.19/envs/pyvespa-dev/lib/python3.9/site-packages/httpcore/_async/http2.py:333\u001b[0m, in \u001b[0;36mAsyncHTTP2Connection._receive_stream_event\u001b[0;34m(self, request, stream_id)\u001b[0m\n\u001b[1;32m    332\u001b[0m \u001b[38;5;28;01mwhile\u001b[39;00m \u001b[38;5;129;01mnot\u001b[39;00m \u001b[38;5;28mself\u001b[39m\u001b[38;5;241m.\u001b[39m_events\u001b[38;5;241m.\u001b[39mget(stream_id):\n\u001b[0;32m--> 333\u001b[0m     \u001b[38;5;28;01mawait\u001b[39;00m \u001b[38;5;28mself\u001b[39m\u001b[38;5;241m.\u001b[39m_receive_events(request, stream_id)\n\u001b[1;32m    334\u001b[0m event \u001b[38;5;241m=\u001b[39m \u001b[38;5;28mself\u001b[39m\u001b[38;5;241m.\u001b[39m_events[stream_id]\u001b[38;5;241m.\u001b[39mpop(\u001b[38;5;241m0\u001b[39m)\n",
      "File \u001b[0;32m~/.pyenv/versions/3.9.19/envs/pyvespa-dev/lib/python3.9/site-packages/httpcore/_async/http2.py:361\u001b[0m, in \u001b[0;36mAsyncHTTP2Connection._receive_events\u001b[0;34m(self, request, stream_id)\u001b[0m\n\u001b[1;32m    360\u001b[0m \u001b[38;5;28;01mif\u001b[39;00m stream_id \u001b[38;5;129;01mis\u001b[39;00m \u001b[38;5;28;01mNone\u001b[39;00m \u001b[38;5;129;01mor\u001b[39;00m \u001b[38;5;129;01mnot\u001b[39;00m \u001b[38;5;28mself\u001b[39m\u001b[38;5;241m.\u001b[39m_events\u001b[38;5;241m.\u001b[39mget(stream_id):\n\u001b[0;32m--> 361\u001b[0m     events \u001b[38;5;241m=\u001b[39m \u001b[38;5;28;01mawait\u001b[39;00m \u001b[38;5;28mself\u001b[39m\u001b[38;5;241m.\u001b[39m_read_incoming_data(request)\n\u001b[1;32m    362\u001b[0m     \u001b[38;5;28;01mfor\u001b[39;00m event \u001b[38;5;129;01min\u001b[39;00m events:\n",
      "File \u001b[0;32m~/.pyenv/versions/3.9.19/envs/pyvespa-dev/lib/python3.9/site-packages/httpcore/_async/http2.py:435\u001b[0m, in \u001b[0;36mAsyncHTTP2Connection._read_incoming_data\u001b[0;34m(self, request)\u001b[0m\n\u001b[1;32m    434\u001b[0m \u001b[38;5;28;01mif\u001b[39;00m \u001b[38;5;28mself\u001b[39m\u001b[38;5;241m.\u001b[39m_read_exception \u001b[38;5;129;01mis\u001b[39;00m \u001b[38;5;129;01mnot\u001b[39;00m \u001b[38;5;28;01mNone\u001b[39;00m:\n\u001b[0;32m--> 435\u001b[0m     \u001b[38;5;28;01mraise\u001b[39;00m \u001b[38;5;28mself\u001b[39m\u001b[38;5;241m.\u001b[39m_read_exception  \u001b[38;5;66;03m# pragma: nocover\u001b[39;00m\n\u001b[1;32m    437\u001b[0m \u001b[38;5;28;01mtry\u001b[39;00m:\n",
      "File \u001b[0;32m~/.pyenv/versions/3.9.19/envs/pyvespa-dev/lib/python3.9/site-packages/httpcore/_async/http2.py:148\u001b[0m, in \u001b[0;36mAsyncHTTP2Connection.handle_async_request\u001b[0;34m(self, request)\u001b[0m\n\u001b[1;32m    145\u001b[0m \u001b[38;5;28;01masync\u001b[39;00m \u001b[38;5;28;01mwith\u001b[39;00m Trace(\n\u001b[1;32m    146\u001b[0m     \u001b[38;5;124m\"\u001b[39m\u001b[38;5;124mreceive_response_headers\u001b[39m\u001b[38;5;124m\"\u001b[39m, logger, request, kwargs\n\u001b[1;32m    147\u001b[0m ) \u001b[38;5;28;01mas\u001b[39;00m trace:\n\u001b[0;32m--> 148\u001b[0m     status, headers \u001b[38;5;241m=\u001b[39m \u001b[38;5;28;01mawait\u001b[39;00m \u001b[38;5;28mself\u001b[39m\u001b[38;5;241m.\u001b[39m_receive_response(\n\u001b[1;32m    149\u001b[0m         request\u001b[38;5;241m=\u001b[39mrequest, stream_id\u001b[38;5;241m=\u001b[39mstream_id\n\u001b[1;32m    150\u001b[0m     )\n\u001b[1;32m    151\u001b[0m     trace\u001b[38;5;241m.\u001b[39mreturn_value \u001b[38;5;241m=\u001b[39m (status, headers)\n",
      "File \u001b[0;32m~/.pyenv/versions/3.9.19/envs/pyvespa-dev/lib/python3.9/site-packages/httpcore/_async/http2.py:292\u001b[0m, in \u001b[0;36mAsyncHTTP2Connection._receive_response\u001b[0;34m(self, request, stream_id)\u001b[0m\n\u001b[1;32m    291\u001b[0m \u001b[38;5;28;01mwhile\u001b[39;00m \u001b[38;5;28;01mTrue\u001b[39;00m:\n\u001b[0;32m--> 292\u001b[0m     event \u001b[38;5;241m=\u001b[39m \u001b[38;5;28;01mawait\u001b[39;00m \u001b[38;5;28mself\u001b[39m\u001b[38;5;241m.\u001b[39m_receive_stream_event(request, stream_id)\n\u001b[1;32m    293\u001b[0m     \u001b[38;5;28;01mif\u001b[39;00m \u001b[38;5;28misinstance\u001b[39m(event, h2\u001b[38;5;241m.\u001b[39mevents\u001b[38;5;241m.\u001b[39mResponseReceived):\n",
      "File \u001b[0;32m~/.pyenv/versions/3.9.19/envs/pyvespa-dev/lib/python3.9/site-packages/httpcore/_async/http2.py:333\u001b[0m, in \u001b[0;36mAsyncHTTP2Connection._receive_stream_event\u001b[0;34m(self, request, stream_id)\u001b[0m\n\u001b[1;32m    332\u001b[0m \u001b[38;5;28;01mwhile\u001b[39;00m \u001b[38;5;129;01mnot\u001b[39;00m \u001b[38;5;28mself\u001b[39m\u001b[38;5;241m.\u001b[39m_events\u001b[38;5;241m.\u001b[39mget(stream_id):\n\u001b[0;32m--> 333\u001b[0m     \u001b[38;5;28;01mawait\u001b[39;00m \u001b[38;5;28mself\u001b[39m\u001b[38;5;241m.\u001b[39m_receive_events(request, stream_id)\n\u001b[1;32m    334\u001b[0m event \u001b[38;5;241m=\u001b[39m \u001b[38;5;28mself\u001b[39m\u001b[38;5;241m.\u001b[39m_events[stream_id]\u001b[38;5;241m.\u001b[39mpop(\u001b[38;5;241m0\u001b[39m)\n",
      "File \u001b[0;32m~/.pyenv/versions/3.9.19/envs/pyvespa-dev/lib/python3.9/site-packages/httpcore/_async/http2.py:361\u001b[0m, in \u001b[0;36mAsyncHTTP2Connection._receive_events\u001b[0;34m(self, request, stream_id)\u001b[0m\n\u001b[1;32m    360\u001b[0m \u001b[38;5;28;01mif\u001b[39;00m stream_id \u001b[38;5;129;01mis\u001b[39;00m \u001b[38;5;28;01mNone\u001b[39;00m \u001b[38;5;129;01mor\u001b[39;00m \u001b[38;5;129;01mnot\u001b[39;00m \u001b[38;5;28mself\u001b[39m\u001b[38;5;241m.\u001b[39m_events\u001b[38;5;241m.\u001b[39mget(stream_id):\n\u001b[0;32m--> 361\u001b[0m     events \u001b[38;5;241m=\u001b[39m \u001b[38;5;28;01mawait\u001b[39;00m \u001b[38;5;28mself\u001b[39m\u001b[38;5;241m.\u001b[39m_read_incoming_data(request)\n\u001b[1;32m    362\u001b[0m     \u001b[38;5;28;01mfor\u001b[39;00m event \u001b[38;5;129;01min\u001b[39;00m events:\n",
      "File \u001b[0;32m~/.pyenv/versions/3.9.19/envs/pyvespa-dev/lib/python3.9/site-packages/httpcore/_async/http2.py:452\u001b[0m, in \u001b[0;36mAsyncHTTP2Connection._read_incoming_data\u001b[0;34m(self, request)\u001b[0m\n\u001b[1;32m    451\u001b[0m     \u001b[38;5;28mself\u001b[39m\u001b[38;5;241m.\u001b[39m_connection_error \u001b[38;5;241m=\u001b[39m \u001b[38;5;28;01mTrue\u001b[39;00m\n\u001b[0;32m--> 452\u001b[0m     \u001b[38;5;28;01mraise\u001b[39;00m exc\n\u001b[1;32m    454\u001b[0m events: typing\u001b[38;5;241m.\u001b[39mList[h2\u001b[38;5;241m.\u001b[39mevents\u001b[38;5;241m.\u001b[39mEvent] \u001b[38;5;241m=\u001b[39m \u001b[38;5;28mself\u001b[39m\u001b[38;5;241m.\u001b[39m_h2_state\u001b[38;5;241m.\u001b[39mreceive_data(data)\n",
      "File \u001b[0;32m~/.pyenv/versions/3.9.19/envs/pyvespa-dev/lib/python3.9/site-packages/httpcore/_async/http2.py:438\u001b[0m, in \u001b[0;36mAsyncHTTP2Connection._read_incoming_data\u001b[0;34m(self, request)\u001b[0m\n\u001b[1;32m    437\u001b[0m \u001b[38;5;28;01mtry\u001b[39;00m:\n\u001b[0;32m--> 438\u001b[0m     data \u001b[38;5;241m=\u001b[39m \u001b[38;5;28;01mawait\u001b[39;00m \u001b[38;5;28mself\u001b[39m\u001b[38;5;241m.\u001b[39m_network_stream\u001b[38;5;241m.\u001b[39mread(\u001b[38;5;28mself\u001b[39m\u001b[38;5;241m.\u001b[39mREAD_NUM_BYTES, timeout)\n\u001b[1;32m    439\u001b[0m     \u001b[38;5;28;01mif\u001b[39;00m data \u001b[38;5;241m==\u001b[39m \u001b[38;5;124mb\u001b[39m\u001b[38;5;124m\"\u001b[39m\u001b[38;5;124m\"\u001b[39m:\n",
      "File \u001b[0;32m~/.pyenv/versions/3.9.19/envs/pyvespa-dev/lib/python3.9/site-packages/httpcore/_backends/anyio.py:37\u001b[0m, in \u001b[0;36mAnyIOStream.read\u001b[0;34m(self, max_bytes, timeout)\u001b[0m\n\u001b[1;32m     36\u001b[0m \u001b[38;5;28;01mexcept\u001b[39;00m anyio\u001b[38;5;241m.\u001b[39mEndOfStream:  \u001b[38;5;66;03m# pragma: nocover\u001b[39;00m\n\u001b[0;32m---> 37\u001b[0m     \u001b[38;5;28;01mreturn\u001b[39;00m \u001b[38;5;124mb\u001b[39m\u001b[38;5;124m\"\u001b[39m\u001b[38;5;124m\"\u001b[39m\n",
      "File \u001b[0;32m~/.pyenv/versions/3.9.19/lib/python3.9/contextlib.py:137\u001b[0m, in \u001b[0;36m_GeneratorContextManager.__exit__\u001b[0;34m(self, typ, value, traceback)\u001b[0m\n\u001b[1;32m    136\u001b[0m \u001b[38;5;28;01mtry\u001b[39;00m:\n\u001b[0;32m--> 137\u001b[0m     \u001b[38;5;28;43mself\u001b[39;49m\u001b[38;5;241;43m.\u001b[39;49m\u001b[43mgen\u001b[49m\u001b[38;5;241;43m.\u001b[39;49m\u001b[43mthrow\u001b[49m\u001b[43m(\u001b[49m\u001b[43mtyp\u001b[49m\u001b[43m,\u001b[49m\u001b[43m \u001b[49m\u001b[43mvalue\u001b[49m\u001b[43m,\u001b[49m\u001b[43m \u001b[49m\u001b[43mtraceback\u001b[49m\u001b[43m)\u001b[49m\n\u001b[1;32m    138\u001b[0m \u001b[38;5;28;01mexcept\u001b[39;00m \u001b[38;5;167;01mStopIteration\u001b[39;00m \u001b[38;5;28;01mas\u001b[39;00m exc:\n\u001b[1;32m    139\u001b[0m     \u001b[38;5;66;03m# Suppress StopIteration *unless* it's the same exception that\u001b[39;00m\n\u001b[1;32m    140\u001b[0m     \u001b[38;5;66;03m# was passed to throw().  This prevents a StopIteration\u001b[39;00m\n\u001b[1;32m    141\u001b[0m     \u001b[38;5;66;03m# raised inside the \"with\" statement from being suppressed.\u001b[39;00m\n",
      "File \u001b[0;32m~/.pyenv/versions/3.9.19/envs/pyvespa-dev/lib/python3.9/site-packages/httpcore/_exceptions.py:14\u001b[0m, in \u001b[0;36mmap_exceptions\u001b[0;34m(map)\u001b[0m\n\u001b[1;32m     13\u001b[0m     \u001b[38;5;28;01mif\u001b[39;00m \u001b[38;5;28misinstance\u001b[39m(exc, from_exc):\n\u001b[0;32m---> 14\u001b[0m         \u001b[38;5;28;01mraise\u001b[39;00m to_exc(exc) \u001b[38;5;28;01mfrom\u001b[39;00m \u001b[38;5;21;01mexc\u001b[39;00m\n\u001b[1;32m     15\u001b[0m \u001b[38;5;28;01mraise\u001b[39;00m\n",
      "\u001b[0;31mReadTimeout\u001b[0m: ",
      "\nThe above exception was the direct cause of the following exception:\n",
      "\u001b[0;31mReadTimeout\u001b[0m                               Traceback (most recent call last)",
      "Cell \u001b[0;32mIn[20], line 11\u001b[0m\n\u001b[1;32m      9\u001b[0m         \u001b[38;5;28mprint\u001b[39m(\u001b[38;5;124m\"\u001b[39m\u001b[38;5;124mSkipping feed_sync\u001b[39m\u001b[38;5;124m\"\u001b[39m)\n\u001b[1;32m     10\u001b[0m         \u001b[38;5;28;01mcontinue\u001b[39;00m\n\u001b[0;32m---> 11\u001b[0m     feed_result \u001b[38;5;241m=\u001b[39m \u001b[43mget_func_from_str\u001b[49m\u001b[43m(\u001b[49m\u001b[43mparams\u001b[49m\u001b[38;5;241;43m.\u001b[39;49m\u001b[43mfunction_name\u001b[49m\u001b[43m)\u001b[49m\u001b[43m(\u001b[49m\n\u001b[1;32m     12\u001b[0m \u001b[43m        \u001b[49m\u001b[43mapp\u001b[49m\u001b[38;5;241;43m=\u001b[39;49m\u001b[43mapp\u001b[49m\u001b[43m,\u001b[49m\u001b[43m \u001b[49m\u001b[43mparams\u001b[49m\u001b[38;5;241;43m=\u001b[39;49m\u001b[43mparams\u001b[49m\u001b[43m,\u001b[49m\u001b[43m \u001b[49m\u001b[43mdata\u001b[49m\u001b[38;5;241;43m=\u001b[39;49m\u001b[43mdata\u001b[49m\n\u001b[1;32m     13\u001b[0m \u001b[43m    \u001b[49m\u001b[43m)\u001b[49m\n\u001b[1;32m     14\u001b[0m \u001b[38;5;28;01melse\u001b[39;00m:\n\u001b[1;32m     15\u001b[0m     feed_result \u001b[38;5;241m=\u001b[39m asyncio\u001b[38;5;241m.\u001b[39mrun(\n\u001b[1;32m     16\u001b[0m         get_func_from_str(params\u001b[38;5;241m.\u001b[39mfunction_name)(app\u001b[38;5;241m=\u001b[39mapp, params\u001b[38;5;241m=\u001b[39mparams, data\u001b[38;5;241m=\u001b[39mdata)\n\u001b[1;32m     17\u001b[0m     )\n",
      "Cell \u001b[0;32mIn[14], line 43\u001b[0m, in \u001b[0;36mfeed_aiterable2\u001b[0;34m(app, params, data)\u001b[0m\n\u001b[1;32m     41\u001b[0m \u001b[38;5;28;01mdef\u001b[39;00m \u001b[38;5;21mfeed_aiterable2\u001b[39m(app: Vespa, params: FeedParams, data: Iterable[Dict]) \u001b[38;5;241m-\u001b[39m\u001b[38;5;241m>\u001b[39m FeedResult:\n\u001b[1;32m     42\u001b[0m     start \u001b[38;5;241m=\u001b[39m time\u001b[38;5;241m.\u001b[39mtime()\n\u001b[0;32m---> 43\u001b[0m     \u001b[43mapp\u001b[49m\u001b[38;5;241;43m.\u001b[39;49m\u001b[43mfeed_async_iterable2\u001b[49m\u001b[43m(\u001b[49m\n\u001b[1;32m     44\u001b[0m \u001b[43m        \u001b[49m\u001b[43mdata\u001b[49m\u001b[43m,\u001b[49m\n\u001b[1;32m     45\u001b[0m \u001b[43m        \u001b[49m\u001b[43mschema\u001b[49m\u001b[38;5;241;43m=\u001b[39;49m\u001b[38;5;124;43m\"\u001b[39;49m\u001b[38;5;124;43mdoc\u001b[39;49m\u001b[38;5;124;43m\"\u001b[39;49m\u001b[43m,\u001b[49m\n\u001b[1;32m     46\u001b[0m \u001b[43m        \u001b[49m\u001b[43mnamespace\u001b[49m\u001b[38;5;241;43m=\u001b[39;49m\u001b[38;5;124;43m\"\u001b[39;49m\u001b[38;5;124;43mpyvespa-feed\u001b[39;49m\u001b[38;5;124;43m\"\u001b[39;49m\u001b[43m,\u001b[49m\n\u001b[1;32m     47\u001b[0m \u001b[43m        \u001b[49m\u001b[43moperation_type\u001b[49m\u001b[38;5;241;43m=\u001b[39;49m\u001b[38;5;124;43m\"\u001b[39;49m\u001b[38;5;124;43mfeed\u001b[39;49m\u001b[38;5;124;43m\"\u001b[39;49m\u001b[43m,\u001b[49m\n\u001b[1;32m     48\u001b[0m \u001b[43m        \u001b[49m\u001b[43mmax_queue_size\u001b[49m\u001b[38;5;241;43m=\u001b[39;49m\u001b[43mparams\u001b[49m\u001b[38;5;241;43m.\u001b[39;49m\u001b[43mmax_queue_size\u001b[49m\u001b[43m,\u001b[49m\n\u001b[1;32m     49\u001b[0m \u001b[43m        \u001b[49m\u001b[43mmax_workers\u001b[49m\u001b[38;5;241;43m=\u001b[39;49m\u001b[43mparams\u001b[49m\u001b[38;5;241;43m.\u001b[39;49m\u001b[43mmax_workers\u001b[49m\u001b[43m,\u001b[49m\n\u001b[1;32m     50\u001b[0m \u001b[43m        \u001b[49m\u001b[43mmax_connections\u001b[49m\u001b[38;5;241;43m=\u001b[39;49m\u001b[43mparams\u001b[49m\u001b[38;5;241;43m.\u001b[39;49m\u001b[43mmax_connections\u001b[49m\u001b[43m,\u001b[49m\n\u001b[1;32m     51\u001b[0m \u001b[43m        \u001b[49m\u001b[43mcallback\u001b[49m\u001b[38;5;241;43m=\u001b[39;49m\u001b[43mcallback\u001b[49m\u001b[43m,\u001b[49m\n\u001b[1;32m     52\u001b[0m \u001b[43m    \u001b[49m\u001b[43m)\u001b[49m\n\u001b[1;32m     53\u001b[0m     end \u001b[38;5;241m=\u001b[39m time\u001b[38;5;241m.\u001b[39mtime()\n\u001b[1;32m     54\u001b[0m     sync_feed_time \u001b[38;5;241m=\u001b[39m end \u001b[38;5;241m-\u001b[39m start\n",
      "File \u001b[0;32m~/Repos/pyvespa/vespa/application.py:751\u001b[0m, in \u001b[0;36mVespa.feed_async_iterable2\u001b[0;34m(self, iter, schema, namespace, callback, operation_type, max_queue_size, max_workers, max_connections, **kwargs)\u001b[0m\n\u001b[1;32m    748\u001b[0m         \u001b[38;5;28;01mif\u001b[39;00m tasks:\n\u001b[1;32m    749\u001b[0m             \u001b[38;5;28;01mawait\u001b[39;00m asyncio\u001b[38;5;241m.\u001b[39mgather(\u001b[38;5;241m*\u001b[39mtasks)\n\u001b[0;32m--> 751\u001b[0m \u001b[43masyncio\u001b[49m\u001b[38;5;241;43m.\u001b[39;49m\u001b[43mrun\u001b[49m\u001b[43m(\u001b[49m\u001b[43mrun\u001b[49m\u001b[43m(\u001b[49m\u001b[43m)\u001b[49m\u001b[43m)\u001b[49m\n",
      "File \u001b[0;32m~/.pyenv/versions/3.9.19/envs/pyvespa-dev/lib/python3.9/site-packages/nest_asyncio.py:30\u001b[0m, in \u001b[0;36m_patch_asyncio.<locals>.run\u001b[0;34m(main, debug)\u001b[0m\n\u001b[1;32m     28\u001b[0m task \u001b[38;5;241m=\u001b[39m asyncio\u001b[38;5;241m.\u001b[39mensure_future(main)\n\u001b[1;32m     29\u001b[0m \u001b[38;5;28;01mtry\u001b[39;00m:\n\u001b[0;32m---> 30\u001b[0m     \u001b[38;5;28;01mreturn\u001b[39;00m \u001b[43mloop\u001b[49m\u001b[38;5;241;43m.\u001b[39;49m\u001b[43mrun_until_complete\u001b[49m\u001b[43m(\u001b[49m\u001b[43mtask\u001b[49m\u001b[43m)\u001b[49m\n\u001b[1;32m     31\u001b[0m \u001b[38;5;28;01mfinally\u001b[39;00m:\n\u001b[1;32m     32\u001b[0m     \u001b[38;5;28;01mif\u001b[39;00m \u001b[38;5;129;01mnot\u001b[39;00m task\u001b[38;5;241m.\u001b[39mdone():\n",
      "File \u001b[0;32m~/.pyenv/versions/3.9.19/envs/pyvespa-dev/lib/python3.9/site-packages/nest_asyncio.py:98\u001b[0m, in \u001b[0;36m_patch_loop.<locals>.run_until_complete\u001b[0;34m(self, future)\u001b[0m\n\u001b[1;32m     95\u001b[0m \u001b[38;5;28;01mif\u001b[39;00m \u001b[38;5;129;01mnot\u001b[39;00m f\u001b[38;5;241m.\u001b[39mdone():\n\u001b[1;32m     96\u001b[0m     \u001b[38;5;28;01mraise\u001b[39;00m \u001b[38;5;167;01mRuntimeError\u001b[39;00m(\n\u001b[1;32m     97\u001b[0m         \u001b[38;5;124m'\u001b[39m\u001b[38;5;124mEvent loop stopped before Future completed.\u001b[39m\u001b[38;5;124m'\u001b[39m)\n\u001b[0;32m---> 98\u001b[0m \u001b[38;5;28;01mreturn\u001b[39;00m \u001b[43mf\u001b[49m\u001b[38;5;241;43m.\u001b[39;49m\u001b[43mresult\u001b[49m\u001b[43m(\u001b[49m\u001b[43m)\u001b[49m\n",
      "File \u001b[0;32m~/.pyenv/versions/3.9.19/lib/python3.9/asyncio/futures.py:201\u001b[0m, in \u001b[0;36mFuture.result\u001b[0;34m(self)\u001b[0m\n\u001b[1;32m    199\u001b[0m \u001b[38;5;28mself\u001b[39m\u001b[38;5;241m.\u001b[39m__log_traceback \u001b[38;5;241m=\u001b[39m \u001b[38;5;28;01mFalse\u001b[39;00m\n\u001b[1;32m    200\u001b[0m \u001b[38;5;28;01mif\u001b[39;00m \u001b[38;5;28mself\u001b[39m\u001b[38;5;241m.\u001b[39m_exception \u001b[38;5;129;01mis\u001b[39;00m \u001b[38;5;129;01mnot\u001b[39;00m \u001b[38;5;28;01mNone\u001b[39;00m:\n\u001b[0;32m--> 201\u001b[0m     \u001b[38;5;28;01mraise\u001b[39;00m \u001b[38;5;28mself\u001b[39m\u001b[38;5;241m.\u001b[39m_exception\n\u001b[1;32m    202\u001b[0m \u001b[38;5;28;01mreturn\u001b[39;00m \u001b[38;5;28mself\u001b[39m\u001b[38;5;241m.\u001b[39m_result\n",
      "File \u001b[0;32m~/.pyenv/versions/3.9.19/lib/python3.9/asyncio/tasks.py:256\u001b[0m, in \u001b[0;36mTask.__step\u001b[0;34m(***failed resolving arguments***)\u001b[0m\n\u001b[1;32m    252\u001b[0m \u001b[38;5;28;01mtry\u001b[39;00m:\n\u001b[1;32m    253\u001b[0m     \u001b[38;5;28;01mif\u001b[39;00m exc \u001b[38;5;129;01mis\u001b[39;00m \u001b[38;5;28;01mNone\u001b[39;00m:\n\u001b[1;32m    254\u001b[0m         \u001b[38;5;66;03m# We use the `send` method directly, because coroutines\u001b[39;00m\n\u001b[1;32m    255\u001b[0m         \u001b[38;5;66;03m# don't have `__iter__` and `__next__` methods.\u001b[39;00m\n\u001b[0;32m--> 256\u001b[0m         result \u001b[38;5;241m=\u001b[39m \u001b[43mcoro\u001b[49m\u001b[38;5;241;43m.\u001b[39;49m\u001b[43msend\u001b[49m\u001b[43m(\u001b[49m\u001b[38;5;28;43;01mNone\u001b[39;49;00m\u001b[43m)\u001b[49m\n\u001b[1;32m    257\u001b[0m     \u001b[38;5;28;01melse\u001b[39;00m:\n\u001b[1;32m    258\u001b[0m         result \u001b[38;5;241m=\u001b[39m coro\u001b[38;5;241m.\u001b[39mthrow(exc)\n",
      "File \u001b[0;32m~/Repos/pyvespa/vespa/application.py:746\u001b[0m, in \u001b[0;36mVespa.feed_async_iterable2.<locals>.run\u001b[0;34m()\u001b[0m\n\u001b[1;32m    743\u001b[0m     \u001b[38;5;66;03m# Make sure we don't have too many tasks in flight\u001b[39;00m\n\u001b[1;32m    744\u001b[0m     \u001b[38;5;66;03m# Tried to use queue, but found that batching like this is more efficient\u001b[39;00m\n\u001b[1;32m    745\u001b[0m     \u001b[38;5;28;01mif\u001b[39;00m \u001b[38;5;28mlen\u001b[39m(tasks) \u001b[38;5;241m>\u001b[39m\u001b[38;5;241m=\u001b[39m max_queue_size:\n\u001b[0;32m--> 746\u001b[0m         \u001b[38;5;28;01mawait\u001b[39;00m asyncio\u001b[38;5;241m.\u001b[39mgather(\u001b[38;5;241m*\u001b[39mtasks)\n\u001b[1;32m    747\u001b[0m         tasks \u001b[38;5;241m=\u001b[39m []\n\u001b[1;32m    748\u001b[0m \u001b[38;5;28;01mif\u001b[39;00m tasks:\n",
      "File \u001b[0;32m~/.pyenv/versions/3.9.19/lib/python3.9/asyncio/tasks.py:328\u001b[0m, in \u001b[0;36mTask.__wakeup\u001b[0;34m(self, future)\u001b[0m\n\u001b[1;32m    326\u001b[0m \u001b[38;5;28;01mdef\u001b[39;00m \u001b[38;5;21m__wakeup\u001b[39m(\u001b[38;5;28mself\u001b[39m, future):\n\u001b[1;32m    327\u001b[0m     \u001b[38;5;28;01mtry\u001b[39;00m:\n\u001b[0;32m--> 328\u001b[0m         \u001b[43mfuture\u001b[49m\u001b[38;5;241;43m.\u001b[39;49m\u001b[43mresult\u001b[49m\u001b[43m(\u001b[49m\u001b[43m)\u001b[49m\n\u001b[1;32m    329\u001b[0m     \u001b[38;5;28;01mexcept\u001b[39;00m \u001b[38;5;167;01mBaseException\u001b[39;00m \u001b[38;5;28;01mas\u001b[39;00m exc:\n\u001b[1;32m    330\u001b[0m         \u001b[38;5;66;03m# This may also be a cancellation.\u001b[39;00m\n\u001b[1;32m    331\u001b[0m         \u001b[38;5;28mself\u001b[39m\u001b[38;5;241m.\u001b[39m__step(exc)\n",
      "File \u001b[0;32m~/.pyenv/versions/3.9.19/lib/python3.9/asyncio/tasks.py:256\u001b[0m, in \u001b[0;36mTask.__step\u001b[0;34m(***failed resolving arguments***)\u001b[0m\n\u001b[1;32m    252\u001b[0m \u001b[38;5;28;01mtry\u001b[39;00m:\n\u001b[1;32m    253\u001b[0m     \u001b[38;5;28;01mif\u001b[39;00m exc \u001b[38;5;129;01mis\u001b[39;00m \u001b[38;5;28;01mNone\u001b[39;00m:\n\u001b[1;32m    254\u001b[0m         \u001b[38;5;66;03m# We use the `send` method directly, because coroutines\u001b[39;00m\n\u001b[1;32m    255\u001b[0m         \u001b[38;5;66;03m# don't have `__iter__` and `__next__` methods.\u001b[39;00m\n\u001b[0;32m--> 256\u001b[0m         result \u001b[38;5;241m=\u001b[39m \u001b[43mcoro\u001b[49m\u001b[38;5;241;43m.\u001b[39;49m\u001b[43msend\u001b[49m\u001b[43m(\u001b[49m\u001b[38;5;28;43;01mNone\u001b[39;49;00m\u001b[43m)\u001b[49m\n\u001b[1;32m    257\u001b[0m     \u001b[38;5;28;01melse\u001b[39;00m:\n\u001b[1;32m    258\u001b[0m         result \u001b[38;5;241m=\u001b[39m coro\u001b[38;5;241m.\u001b[39mthrow(exc)\n",
      "File \u001b[0;32m~/Repos/pyvespa/vespa/application.py:705\u001b[0m, in \u001b[0;36mVespa.feed_async_iterable2.<locals>.process_document\u001b[0;34m(client, doc, schema, namespace, semaphore)\u001b[0m\n\u001b[1;32m    703\u001b[0m vespa_format \u001b[38;5;241m=\u001b[39m {\u001b[38;5;124m\"\u001b[39m\u001b[38;5;124mfields\u001b[39m\u001b[38;5;124m\"\u001b[39m: fields}\n\u001b[1;32m    704\u001b[0m \u001b[38;5;28;01mtry\u001b[39;00m:\n\u001b[0;32m--> 705\u001b[0m     response \u001b[38;5;241m=\u001b[39m \u001b[38;5;28;01mawait\u001b[39;00m client\u001b[38;5;241m.\u001b[39mpost(end_point, json\u001b[38;5;241m=\u001b[39mvespa_format)\n\u001b[1;32m    706\u001b[0m     response\u001b[38;5;241m.\u001b[39mraise_for_status()\n\u001b[1;32m    707\u001b[0m     \u001b[38;5;28;01mif\u001b[39;00m callback:\n",
      "File \u001b[0;32m~/.pyenv/versions/3.9.19/envs/pyvespa-dev/lib/python3.9/site-packages/httpx/_client.py:1892\u001b[0m, in \u001b[0;36mAsyncClient.post\u001b[0;34m(self, url, content, data, files, json, params, headers, cookies, auth, follow_redirects, timeout, extensions)\u001b[0m\n\u001b[1;32m   1871\u001b[0m \u001b[38;5;28;01masync\u001b[39;00m \u001b[38;5;28;01mdef\u001b[39;00m \u001b[38;5;21mpost\u001b[39m(\n\u001b[1;32m   1872\u001b[0m     \u001b[38;5;28mself\u001b[39m,\n\u001b[1;32m   1873\u001b[0m     url: URLTypes,\n\u001b[0;32m   (...)\u001b[0m\n\u001b[1;32m   1885\u001b[0m     extensions: RequestExtensions \u001b[38;5;241m|\u001b[39m \u001b[38;5;28;01mNone\u001b[39;00m \u001b[38;5;241m=\u001b[39m \u001b[38;5;28;01mNone\u001b[39;00m,\n\u001b[1;32m   1886\u001b[0m ) \u001b[38;5;241m-\u001b[39m\u001b[38;5;241m>\u001b[39m Response:\n\u001b[1;32m   1887\u001b[0m \u001b[38;5;250m    \u001b[39m\u001b[38;5;124;03m\"\"\"\u001b[39;00m\n\u001b[1;32m   1888\u001b[0m \u001b[38;5;124;03m    Send a `POST` request.\u001b[39;00m\n\u001b[1;32m   1889\u001b[0m \n\u001b[1;32m   1890\u001b[0m \u001b[38;5;124;03m    **Parameters**: See `httpx.request`.\u001b[39;00m\n\u001b[1;32m   1891\u001b[0m \u001b[38;5;124;03m    \"\"\"\u001b[39;00m\n\u001b[0;32m-> 1892\u001b[0m     \u001b[38;5;28;01mreturn\u001b[39;00m \u001b[38;5;28;01mawait\u001b[39;00m \u001b[38;5;28mself\u001b[39m\u001b[38;5;241m.\u001b[39mrequest(\n\u001b[1;32m   1893\u001b[0m         \u001b[38;5;124m\"\u001b[39m\u001b[38;5;124mPOST\u001b[39m\u001b[38;5;124m\"\u001b[39m,\n\u001b[1;32m   1894\u001b[0m         url,\n\u001b[1;32m   1895\u001b[0m         content\u001b[38;5;241m=\u001b[39mcontent,\n\u001b[1;32m   1896\u001b[0m         data\u001b[38;5;241m=\u001b[39mdata,\n\u001b[1;32m   1897\u001b[0m         files\u001b[38;5;241m=\u001b[39mfiles,\n\u001b[1;32m   1898\u001b[0m         json\u001b[38;5;241m=\u001b[39mjson,\n\u001b[1;32m   1899\u001b[0m         params\u001b[38;5;241m=\u001b[39mparams,\n\u001b[1;32m   1900\u001b[0m         headers\u001b[38;5;241m=\u001b[39mheaders,\n\u001b[1;32m   1901\u001b[0m         cookies\u001b[38;5;241m=\u001b[39mcookies,\n\u001b[1;32m   1902\u001b[0m         auth\u001b[38;5;241m=\u001b[39mauth,\n\u001b[1;32m   1903\u001b[0m         follow_redirects\u001b[38;5;241m=\u001b[39mfollow_redirects,\n\u001b[1;32m   1904\u001b[0m         timeout\u001b[38;5;241m=\u001b[39mtimeout,\n\u001b[1;32m   1905\u001b[0m         extensions\u001b[38;5;241m=\u001b[39mextensions,\n\u001b[1;32m   1906\u001b[0m     )\n",
      "File \u001b[0;32m~/.pyenv/versions/3.9.19/envs/pyvespa-dev/lib/python3.9/site-packages/httpx/_client.py:1574\u001b[0m, in \u001b[0;36mAsyncClient.request\u001b[0;34m(self, method, url, content, data, files, json, params, headers, cookies, auth, follow_redirects, timeout, extensions)\u001b[0m\n\u001b[1;32m   1559\u001b[0m     warnings\u001b[38;5;241m.\u001b[39mwarn(message, \u001b[38;5;167;01mDeprecationWarning\u001b[39;00m)\n\u001b[1;32m   1561\u001b[0m request \u001b[38;5;241m=\u001b[39m \u001b[38;5;28mself\u001b[39m\u001b[38;5;241m.\u001b[39mbuild_request(\n\u001b[1;32m   1562\u001b[0m     method\u001b[38;5;241m=\u001b[39mmethod,\n\u001b[1;32m   1563\u001b[0m     url\u001b[38;5;241m=\u001b[39murl,\n\u001b[0;32m   (...)\u001b[0m\n\u001b[1;32m   1572\u001b[0m     extensions\u001b[38;5;241m=\u001b[39mextensions,\n\u001b[1;32m   1573\u001b[0m )\n\u001b[0;32m-> 1574\u001b[0m \u001b[38;5;28;01mreturn\u001b[39;00m \u001b[38;5;28;01mawait\u001b[39;00m \u001b[38;5;28mself\u001b[39m\u001b[38;5;241m.\u001b[39msend(request, auth\u001b[38;5;241m=\u001b[39mauth, follow_redirects\u001b[38;5;241m=\u001b[39mfollow_redirects)\n",
      "File \u001b[0;32m~/.pyenv/versions/3.9.19/envs/pyvespa-dev/lib/python3.9/site-packages/httpx/_client.py:1661\u001b[0m, in \u001b[0;36mAsyncClient.send\u001b[0;34m(self, request, stream, auth, follow_redirects)\u001b[0m\n\u001b[1;32m   1653\u001b[0m follow_redirects \u001b[38;5;241m=\u001b[39m (\n\u001b[1;32m   1654\u001b[0m     \u001b[38;5;28mself\u001b[39m\u001b[38;5;241m.\u001b[39mfollow_redirects\n\u001b[1;32m   1655\u001b[0m     \u001b[38;5;28;01mif\u001b[39;00m \u001b[38;5;28misinstance\u001b[39m(follow_redirects, UseClientDefault)\n\u001b[1;32m   1656\u001b[0m     \u001b[38;5;28;01melse\u001b[39;00m follow_redirects\n\u001b[1;32m   1657\u001b[0m )\n\u001b[1;32m   1659\u001b[0m auth \u001b[38;5;241m=\u001b[39m \u001b[38;5;28mself\u001b[39m\u001b[38;5;241m.\u001b[39m_build_request_auth(request, auth)\n\u001b[0;32m-> 1661\u001b[0m response \u001b[38;5;241m=\u001b[39m \u001b[38;5;28;01mawait\u001b[39;00m \u001b[38;5;28mself\u001b[39m\u001b[38;5;241m.\u001b[39m_send_handling_auth(\n\u001b[1;32m   1662\u001b[0m     request,\n\u001b[1;32m   1663\u001b[0m     auth\u001b[38;5;241m=\u001b[39mauth,\n\u001b[1;32m   1664\u001b[0m     follow_redirects\u001b[38;5;241m=\u001b[39mfollow_redirects,\n\u001b[1;32m   1665\u001b[0m     history\u001b[38;5;241m=\u001b[39m[],\n\u001b[1;32m   1666\u001b[0m )\n\u001b[1;32m   1667\u001b[0m \u001b[38;5;28;01mtry\u001b[39;00m:\n\u001b[1;32m   1668\u001b[0m     \u001b[38;5;28;01mif\u001b[39;00m \u001b[38;5;129;01mnot\u001b[39;00m stream:\n",
      "File \u001b[0;32m~/.pyenv/versions/3.9.19/envs/pyvespa-dev/lib/python3.9/site-packages/httpx/_client.py:1689\u001b[0m, in \u001b[0;36mAsyncClient._send_handling_auth\u001b[0;34m(self, request, auth, follow_redirects, history)\u001b[0m\n\u001b[1;32m   1686\u001b[0m request \u001b[38;5;241m=\u001b[39m \u001b[38;5;28;01mawait\u001b[39;00m auth_flow\u001b[38;5;241m.\u001b[39m\u001b[38;5;21m__anext__\u001b[39m()\n\u001b[1;32m   1688\u001b[0m \u001b[38;5;28;01mwhile\u001b[39;00m \u001b[38;5;28;01mTrue\u001b[39;00m:\n\u001b[0;32m-> 1689\u001b[0m     response \u001b[38;5;241m=\u001b[39m \u001b[38;5;28;01mawait\u001b[39;00m \u001b[38;5;28mself\u001b[39m\u001b[38;5;241m.\u001b[39m_send_handling_redirects(\n\u001b[1;32m   1690\u001b[0m         request,\n\u001b[1;32m   1691\u001b[0m         follow_redirects\u001b[38;5;241m=\u001b[39mfollow_redirects,\n\u001b[1;32m   1692\u001b[0m         history\u001b[38;5;241m=\u001b[39mhistory,\n\u001b[1;32m   1693\u001b[0m     )\n\u001b[1;32m   1694\u001b[0m     \u001b[38;5;28;01mtry\u001b[39;00m:\n\u001b[1;32m   1695\u001b[0m         \u001b[38;5;28;01mtry\u001b[39;00m:\n",
      "File \u001b[0;32m~/.pyenv/versions/3.9.19/envs/pyvespa-dev/lib/python3.9/site-packages/httpx/_client.py:1726\u001b[0m, in \u001b[0;36mAsyncClient._send_handling_redirects\u001b[0;34m(self, request, follow_redirects, history)\u001b[0m\n\u001b[1;32m   1723\u001b[0m \u001b[38;5;28;01mfor\u001b[39;00m hook \u001b[38;5;129;01min\u001b[39;00m \u001b[38;5;28mself\u001b[39m\u001b[38;5;241m.\u001b[39m_event_hooks[\u001b[38;5;124m\"\u001b[39m\u001b[38;5;124mrequest\u001b[39m\u001b[38;5;124m\"\u001b[39m]:\n\u001b[1;32m   1724\u001b[0m     \u001b[38;5;28;01mawait\u001b[39;00m hook(request)\n\u001b[0;32m-> 1726\u001b[0m response \u001b[38;5;241m=\u001b[39m \u001b[38;5;28;01mawait\u001b[39;00m \u001b[38;5;28mself\u001b[39m\u001b[38;5;241m.\u001b[39m_send_single_request(request)\n\u001b[1;32m   1727\u001b[0m \u001b[38;5;28;01mtry\u001b[39;00m:\n\u001b[1;32m   1728\u001b[0m     \u001b[38;5;28;01mfor\u001b[39;00m hook \u001b[38;5;129;01min\u001b[39;00m \u001b[38;5;28mself\u001b[39m\u001b[38;5;241m.\u001b[39m_event_hooks[\u001b[38;5;124m\"\u001b[39m\u001b[38;5;124mresponse\u001b[39m\u001b[38;5;124m\"\u001b[39m]:\n",
      "File \u001b[0;32m~/.pyenv/versions/3.9.19/envs/pyvespa-dev/lib/python3.9/site-packages/httpx/_client.py:1763\u001b[0m, in \u001b[0;36mAsyncClient._send_single_request\u001b[0;34m(self, request)\u001b[0m\n\u001b[1;32m   1758\u001b[0m     \u001b[38;5;28;01mraise\u001b[39;00m \u001b[38;5;167;01mRuntimeError\u001b[39;00m(\n\u001b[1;32m   1759\u001b[0m         \u001b[38;5;124m\"\u001b[39m\u001b[38;5;124mAttempted to send an sync request with an AsyncClient instance.\u001b[39m\u001b[38;5;124m\"\u001b[39m\n\u001b[1;32m   1760\u001b[0m     )\n\u001b[1;32m   1762\u001b[0m \u001b[38;5;28;01mwith\u001b[39;00m request_context(request\u001b[38;5;241m=\u001b[39mrequest):\n\u001b[0;32m-> 1763\u001b[0m     response \u001b[38;5;241m=\u001b[39m \u001b[38;5;28;01mawait\u001b[39;00m transport\u001b[38;5;241m.\u001b[39mhandle_async_request(request)\n\u001b[1;32m   1765\u001b[0m \u001b[38;5;28;01massert\u001b[39;00m \u001b[38;5;28misinstance\u001b[39m(response\u001b[38;5;241m.\u001b[39mstream, AsyncByteStream)\n\u001b[1;32m   1766\u001b[0m response\u001b[38;5;241m.\u001b[39mrequest \u001b[38;5;241m=\u001b[39m request\n",
      "File \u001b[0;32m~/.pyenv/versions/3.9.19/envs/pyvespa-dev/lib/python3.9/site-packages/httpx/_transports/default.py:373\u001b[0m, in \u001b[0;36mAsyncHTTPTransport.handle_async_request\u001b[0;34m(self, request)\u001b[0m\n\u001b[1;32m    360\u001b[0m req \u001b[38;5;241m=\u001b[39m httpcore\u001b[38;5;241m.\u001b[39mRequest(\n\u001b[1;32m    361\u001b[0m     method\u001b[38;5;241m=\u001b[39mrequest\u001b[38;5;241m.\u001b[39mmethod,\n\u001b[1;32m    362\u001b[0m     url\u001b[38;5;241m=\u001b[39mhttpcore\u001b[38;5;241m.\u001b[39mURL(\n\u001b[0;32m   (...)\u001b[0m\n\u001b[1;32m    370\u001b[0m     extensions\u001b[38;5;241m=\u001b[39mrequest\u001b[38;5;241m.\u001b[39mextensions,\n\u001b[1;32m    371\u001b[0m )\n\u001b[1;32m    372\u001b[0m \u001b[38;5;28;01mwith\u001b[39;00m map_httpcore_exceptions():\n\u001b[0;32m--> 373\u001b[0m     resp \u001b[38;5;241m=\u001b[39m \u001b[38;5;28;01mawait\u001b[39;00m \u001b[38;5;28mself\u001b[39m\u001b[38;5;241m.\u001b[39m_pool\u001b[38;5;241m.\u001b[39mhandle_async_request(req)\n\u001b[1;32m    375\u001b[0m \u001b[38;5;28;01massert\u001b[39;00m \u001b[38;5;28misinstance\u001b[39m(resp\u001b[38;5;241m.\u001b[39mstream, typing\u001b[38;5;241m.\u001b[39mAsyncIterable)\n\u001b[1;32m    377\u001b[0m \u001b[38;5;28;01mreturn\u001b[39;00m Response(\n\u001b[1;32m    378\u001b[0m     status_code\u001b[38;5;241m=\u001b[39mresp\u001b[38;5;241m.\u001b[39mstatus,\n\u001b[1;32m    379\u001b[0m     headers\u001b[38;5;241m=\u001b[39mresp\u001b[38;5;241m.\u001b[39mheaders,\n\u001b[1;32m    380\u001b[0m     stream\u001b[38;5;241m=\u001b[39mAsyncResponseStream(resp\u001b[38;5;241m.\u001b[39mstream),\n\u001b[1;32m    381\u001b[0m     extensions\u001b[38;5;241m=\u001b[39mresp\u001b[38;5;241m.\u001b[39mextensions,\n\u001b[1;32m    382\u001b[0m )\n",
      "File \u001b[0;32m~/.pyenv/versions/3.9.19/lib/python3.9/contextlib.py:137\u001b[0m, in \u001b[0;36m_GeneratorContextManager.__exit__\u001b[0;34m(self, typ, value, traceback)\u001b[0m\n\u001b[1;32m    135\u001b[0m     value \u001b[38;5;241m=\u001b[39m typ()\n\u001b[1;32m    136\u001b[0m \u001b[38;5;28;01mtry\u001b[39;00m:\n\u001b[0;32m--> 137\u001b[0m     \u001b[38;5;28;43mself\u001b[39;49m\u001b[38;5;241;43m.\u001b[39;49m\u001b[43mgen\u001b[49m\u001b[38;5;241;43m.\u001b[39;49m\u001b[43mthrow\u001b[49m\u001b[43m(\u001b[49m\u001b[43mtyp\u001b[49m\u001b[43m,\u001b[49m\u001b[43m \u001b[49m\u001b[43mvalue\u001b[49m\u001b[43m,\u001b[49m\u001b[43m \u001b[49m\u001b[43mtraceback\u001b[49m\u001b[43m)\u001b[49m\n\u001b[1;32m    138\u001b[0m \u001b[38;5;28;01mexcept\u001b[39;00m \u001b[38;5;167;01mStopIteration\u001b[39;00m \u001b[38;5;28;01mas\u001b[39;00m exc:\n\u001b[1;32m    139\u001b[0m     \u001b[38;5;66;03m# Suppress StopIteration *unless* it's the same exception that\u001b[39;00m\n\u001b[1;32m    140\u001b[0m     \u001b[38;5;66;03m# was passed to throw().  This prevents a StopIteration\u001b[39;00m\n\u001b[1;32m    141\u001b[0m     \u001b[38;5;66;03m# raised inside the \"with\" statement from being suppressed.\u001b[39;00m\n\u001b[1;32m    142\u001b[0m     \u001b[38;5;28;01mreturn\u001b[39;00m exc \u001b[38;5;129;01mis\u001b[39;00m \u001b[38;5;129;01mnot\u001b[39;00m value\n",
      "File \u001b[0;32m~/.pyenv/versions/3.9.19/envs/pyvespa-dev/lib/python3.9/site-packages/httpx/_transports/default.py:86\u001b[0m, in \u001b[0;36mmap_httpcore_exceptions\u001b[0;34m()\u001b[0m\n\u001b[1;32m     83\u001b[0m     \u001b[38;5;28;01mraise\u001b[39;00m\n\u001b[1;32m     85\u001b[0m message \u001b[38;5;241m=\u001b[39m \u001b[38;5;28mstr\u001b[39m(exc)\n\u001b[0;32m---> 86\u001b[0m \u001b[38;5;28;01mraise\u001b[39;00m mapped_exc(message) \u001b[38;5;28;01mfrom\u001b[39;00m \u001b[38;5;21;01mexc\u001b[39;00m\n",
      "\u001b[0;31mReadTimeout\u001b[0m: "
     ]
    }
   ],
   "source": [
    "results = []\n",
    "for params in feed_params:\n",
    "    print(\"-\" * 50)\n",
    "    print(\"Starting feed with params:\")\n",
    "    print(params)\n",
    "    data = get_dataset(params.num_docs)\n",
    "    if \"async\" not in params.function_name:\n",
    "        if \"feed_sync\" in params.function_name:\n",
    "            print(\"Skipping feed_sync\")\n",
    "            continue\n",
    "        feed_result = get_func_from_str(params.function_name)(\n",
    "            app=app, params=params, data=data\n",
    "        )\n",
    "    else:\n",
    "        feed_result = asyncio.run(\n",
    "            get_func_from_str(params.function_name)(app=app, params=params, data=data)\n",
    "        )\n",
    "    print(feed_result.feed_time)\n",
    "    results.append(feed_result)\n",
    "    print(\"Deleting data\")\n",
    "    time.sleep(3)\n",
    "    delete_data(app, data)"
   ]
  },
  {
   "cell_type": "code",
   "execution_count": null,
   "id": "e4b7f1a4",
   "metadata": {},
   "outputs": [
    {
     "data": {
      "text/html": [
       "<div>\n",
       "<style scoped>\n",
       "    .dataframe tbody tr th:only-of-type {\n",
       "        vertical-align: middle;\n",
       "    }\n",
       "\n",
       "    .dataframe tbody tr th {\n",
       "        vertical-align: top;\n",
       "    }\n",
       "\n",
       "    .dataframe thead th {\n",
       "        text-align: right;\n",
       "    }\n",
       "</style>\n",
       "<table border=\"1\" class=\"dataframe\">\n",
       "  <thead>\n",
       "    <tr style=\"text-align: right;\">\n",
       "      <th></th>\n",
       "      <th>name</th>\n",
       "      <th>num_docs</th>\n",
       "      <th>max_connections</th>\n",
       "      <th>function_name</th>\n",
       "      <th>max_keepalive_connections</th>\n",
       "      <th>max_workers</th>\n",
       "      <th>max_queue_size</th>\n",
       "      <th>num_concurrent_requests</th>\n",
       "      <th>feed_time</th>\n",
       "      <th>requests_per_second</th>\n",
       "    </tr>\n",
       "  </thead>\n",
       "  <tbody>\n",
       "    <tr>\n",
       "      <th>0</th>\n",
       "      <td>1000_64_64_feed_aiterable</td>\n",
       "      <td>1000</td>\n",
       "      <td>64</td>\n",
       "      <td>feed_aiterable</td>\n",
       "      <td>None</td>\n",
       "      <td>64.0</td>\n",
       "      <td>1000.0</td>\n",
       "      <td>None</td>\n",
       "      <td>7.671270</td>\n",
       "      <td>130.356510</td>\n",
       "    </tr>\n",
       "    <tr>\n",
       "      <th>1</th>\n",
       "      <td>1000_64_64_feed_aiterable</td>\n",
       "      <td>1000</td>\n",
       "      <td>64</td>\n",
       "      <td>feed_aiterable</td>\n",
       "      <td>None</td>\n",
       "      <td>64.0</td>\n",
       "      <td>10000.0</td>\n",
       "      <td>None</td>\n",
       "      <td>8.014289</td>\n",
       "      <td>124.777130</td>\n",
       "    </tr>\n",
       "    <tr>\n",
       "      <th>2</th>\n",
       "      <td>10000_64_64_feed_aiterable</td>\n",
       "      <td>10000</td>\n",
       "      <td>64</td>\n",
       "      <td>feed_aiterable</td>\n",
       "      <td>None</td>\n",
       "      <td>64.0</td>\n",
       "      <td>1000.0</td>\n",
       "      <td>None</td>\n",
       "      <td>61.294936</td>\n",
       "      <td>163.145614</td>\n",
       "    </tr>\n",
       "    <tr>\n",
       "      <th>3</th>\n",
       "      <td>10000_64_64_feed_aiterable</td>\n",
       "      <td>10000</td>\n",
       "      <td>64</td>\n",
       "      <td>feed_aiterable</td>\n",
       "      <td>None</td>\n",
       "      <td>64.0</td>\n",
       "      <td>10000.0</td>\n",
       "      <td>None</td>\n",
       "      <td>61.493068</td>\n",
       "      <td>162.619956</td>\n",
       "    </tr>\n",
       "    <tr>\n",
       "      <th>4</th>\n",
       "      <td>1000_16_0_feed_async</td>\n",
       "      <td>1000</td>\n",
       "      <td>16</td>\n",
       "      <td>feed_async</td>\n",
       "      <td>None</td>\n",
       "      <td>NaN</td>\n",
       "      <td>NaN</td>\n",
       "      <td>None</td>\n",
       "      <td>9.748610</td>\n",
       "      <td>102.578726</td>\n",
       "    </tr>\n",
       "    <tr>\n",
       "      <th>5</th>\n",
       "      <td>1000_64_0_feed_async</td>\n",
       "      <td>1000</td>\n",
       "      <td>64</td>\n",
       "      <td>feed_async</td>\n",
       "      <td>None</td>\n",
       "      <td>NaN</td>\n",
       "      <td>NaN</td>\n",
       "      <td>None</td>\n",
       "      <td>8.234380</td>\n",
       "      <td>121.442048</td>\n",
       "    </tr>\n",
       "    <tr>\n",
       "      <th>6</th>\n",
       "      <td>10000_16_0_feed_async</td>\n",
       "      <td>10000</td>\n",
       "      <td>16</td>\n",
       "      <td>feed_async</td>\n",
       "      <td>None</td>\n",
       "      <td>NaN</td>\n",
       "      <td>NaN</td>\n",
       "      <td>None</td>\n",
       "      <td>83.693816</td>\n",
       "      <td>119.483141</td>\n",
       "    </tr>\n",
       "    <tr>\n",
       "      <th>7</th>\n",
       "      <td>10000_64_0_feed_async</td>\n",
       "      <td>10000</td>\n",
       "      <td>64</td>\n",
       "      <td>feed_async</td>\n",
       "      <td>None</td>\n",
       "      <td>NaN</td>\n",
       "      <td>NaN</td>\n",
       "      <td>None</td>\n",
       "      <td>49.860782</td>\n",
       "      <td>200.558426</td>\n",
       "    </tr>\n",
       "    <tr>\n",
       "      <th>8</th>\n",
       "      <td>1000_64_64_feed_iterable</td>\n",
       "      <td>1000</td>\n",
       "      <td>64</td>\n",
       "      <td>feed_iterable</td>\n",
       "      <td>None</td>\n",
       "      <td>64.0</td>\n",
       "      <td>1000.0</td>\n",
       "      <td>None</td>\n",
       "      <td>15.146949</td>\n",
       "      <td>66.019897</td>\n",
       "    </tr>\n",
       "    <tr>\n",
       "      <th>9</th>\n",
       "      <td>1000_64_64_feed_iterable</td>\n",
       "      <td>1000</td>\n",
       "      <td>64</td>\n",
       "      <td>feed_iterable</td>\n",
       "      <td>None</td>\n",
       "      <td>64.0</td>\n",
       "      <td>10000.0</td>\n",
       "      <td>None</td>\n",
       "      <td>15.352570</td>\n",
       "      <td>65.135674</td>\n",
       "    </tr>\n",
       "    <tr>\n",
       "      <th>10</th>\n",
       "      <td>10000_64_64_feed_iterable</td>\n",
       "      <td>10000</td>\n",
       "      <td>64</td>\n",
       "      <td>feed_iterable</td>\n",
       "      <td>None</td>\n",
       "      <td>64.0</td>\n",
       "      <td>1000.0</td>\n",
       "      <td>None</td>\n",
       "      <td>176.401793</td>\n",
       "      <td>56.688766</td>\n",
       "    </tr>\n",
       "    <tr>\n",
       "      <th>11</th>\n",
       "      <td>10000_64_64_feed_iterable</td>\n",
       "      <td>10000</td>\n",
       "      <td>64</td>\n",
       "      <td>feed_iterable</td>\n",
       "      <td>None</td>\n",
       "      <td>64.0</td>\n",
       "      <td>10000.0</td>\n",
       "      <td>None</td>\n",
       "      <td>177.148446</td>\n",
       "      <td>56.449832</td>\n",
       "    </tr>\n",
       "  </tbody>\n",
       "</table>\n",
       "</div>"
      ],
      "text/plain": [
       "                          name  num_docs  max_connections   function_name  \\\n",
       "0    1000_64_64_feed_aiterable      1000               64  feed_aiterable   \n",
       "1    1000_64_64_feed_aiterable      1000               64  feed_aiterable   \n",
       "2   10000_64_64_feed_aiterable     10000               64  feed_aiterable   \n",
       "3   10000_64_64_feed_aiterable     10000               64  feed_aiterable   \n",
       "4         1000_16_0_feed_async      1000               16      feed_async   \n",
       "5         1000_64_0_feed_async      1000               64      feed_async   \n",
       "6        10000_16_0_feed_async     10000               16      feed_async   \n",
       "7        10000_64_0_feed_async     10000               64      feed_async   \n",
       "8     1000_64_64_feed_iterable      1000               64   feed_iterable   \n",
       "9     1000_64_64_feed_iterable      1000               64   feed_iterable   \n",
       "10   10000_64_64_feed_iterable     10000               64   feed_iterable   \n",
       "11   10000_64_64_feed_iterable     10000               64   feed_iterable   \n",
       "\n",
       "   max_keepalive_connections  max_workers  max_queue_size  \\\n",
       "0                       None         64.0          1000.0   \n",
       "1                       None         64.0         10000.0   \n",
       "2                       None         64.0          1000.0   \n",
       "3                       None         64.0         10000.0   \n",
       "4                       None          NaN             NaN   \n",
       "5                       None          NaN             NaN   \n",
       "6                       None          NaN             NaN   \n",
       "7                       None          NaN             NaN   \n",
       "8                       None         64.0          1000.0   \n",
       "9                       None         64.0         10000.0   \n",
       "10                      None         64.0          1000.0   \n",
       "11                      None         64.0         10000.0   \n",
       "\n",
       "   num_concurrent_requests   feed_time  requests_per_second  \n",
       "0                     None    7.671270           130.356510  \n",
       "1                     None    8.014289           124.777130  \n",
       "2                     None   61.294936           163.145614  \n",
       "3                     None   61.493068           162.619956  \n",
       "4                     None    9.748610           102.578726  \n",
       "5                     None    8.234380           121.442048  \n",
       "6                     None   83.693816           119.483141  \n",
       "7                     None   49.860782           200.558426  \n",
       "8                     None   15.146949            66.019897  \n",
       "9                     None   15.352570            65.135674  \n",
       "10                    None  176.401793            56.688766  \n",
       "11                    None  177.148446            56.449832  "
      ]
     },
     "execution_count": 21,
     "metadata": {},
     "output_type": "execute_result"
    }
   ],
   "source": [
    "# Create a pandas DataFrame with the results\n",
    "import pandas as pd\n",
    "\n",
    "df = pd.DataFrame([result.__dict__ for result in results])\n",
    "df[\"requests_per_second\"] = df[\"num_docs\"] / df[\"feed_time\"]\n",
    "df"
   ]
  },
  {
   "cell_type": "code",
   "execution_count": null,
   "id": "b94ef835",
   "metadata": {},
   "outputs": [
    {
     "ename": "ModuleNotFoundError",
     "evalue": "No module named 'plotly'",
     "output_type": "error",
     "traceback": [
      "\u001b[0;31m---------------------------------------------------------------------------\u001b[0m",
      "\u001b[0;31mModuleNotFoundError\u001b[0m                       Traceback (most recent call last)",
      "Cell \u001b[0;32mIn[22], line 1\u001b[0m\n\u001b[0;32m----> 1\u001b[0m \u001b[38;5;28;01mimport\u001b[39;00m \u001b[38;5;21;01mplotly\u001b[39;00m\u001b[38;5;21;01m.\u001b[39;00m\u001b[38;5;21;01mexpress\u001b[39;00m \u001b[38;5;28;01mas\u001b[39;00m \u001b[38;5;21;01mpx\u001b[39;00m\n\u001b[1;32m      4\u001b[0m \u001b[38;5;28;01mdef\u001b[39;00m \u001b[38;5;21mplot_performance\u001b[39m(df: pd\u001b[38;5;241m.\u001b[39mDataFrame):\n\u001b[1;32m      5\u001b[0m     \u001b[38;5;66;03m# Create a scatter plot with logarithmic scale for both axes using Plotly Express\u001b[39;00m\n\u001b[1;32m      6\u001b[0m     fig \u001b[38;5;241m=\u001b[39m px\u001b[38;5;241m.\u001b[39mscatter(\n\u001b[1;32m      7\u001b[0m         df,\n\u001b[1;32m      8\u001b[0m         x\u001b[38;5;241m=\u001b[39m\u001b[38;5;124m\"\u001b[39m\u001b[38;5;124mnum_docs\u001b[39m\u001b[38;5;124m\"\u001b[39m,\n\u001b[0;32m   (...)\u001b[0m\n\u001b[1;32m     28\u001b[0m         ],  \u001b[38;5;66;03m# Additional information to show on hover\u001b[39;00m\n\u001b[1;32m     29\u001b[0m     )\n",
      "\u001b[0;31mModuleNotFoundError\u001b[0m: No module named 'plotly'"
     ]
    }
   ],
   "source": [
    "import plotly.express as px\n",
    "\n",
    "\n",
    "def plot_performance(df: pd.DataFrame):\n",
    "    # Create a scatter plot with logarithmic scale for both axes using Plotly Express\n",
    "    fig = px.scatter(\n",
    "        df,\n",
    "        x=\"num_docs\",\n",
    "        y=\"requests_per_second\",\n",
    "        color=\"function_name\",  # Defines color based on different functions\n",
    "        log_x=True,  # Set x-axis to logarithmic scale\n",
    "        log_y=False,  # If you also want the y-axis in logarithmic scale, set this to True\n",
    "        title=\"Performance: Requests per Second vs. Number of Documents\",\n",
    "        labels={  # Customizing axis labels\n",
    "            \"num_docs\": \"Number of Documents\",\n",
    "            \"requests_per_second\": \"Requests per Second\",\n",
    "            \"max_workers\": \"max_workers\",\n",
    "            \"max_queue_size\": \"max_queue_size\",\n",
    "            \"max_connections\": \"max_connections\",\n",
    "            \"num_concurrent_requests\": \"num_concurrent_requests\",\n",
    "        },\n",
    "        template=\"plotly_white\",  # This sets the style to a white background, adhering to Tufte's minimalist principles\n",
    "        hover_data=[\n",
    "            \"max_workers\",\n",
    "            \"max_queue_size\",\n",
    "            \"max_connections\",\n",
    "            \"num_concurrent_requests\",\n",
    "        ],  # Additional information to show on hover\n",
    "    )\n",
    "\n",
    "    # Update layout for better readability, similar to 'talk' context in Seaborn\n",
    "    fig.update_layout(\n",
    "        font=dict(\n",
    "            size=16,  # Adjusting font size for better visibility, similar to 'talk' context\n",
    "        ),\n",
    "        legend_title_text=\"Function Details\",  # Custom legend title\n",
    "        legend=dict(\n",
    "            title_font_size=16,\n",
    "            x=800,  # Adjusting legend position similar to bbox_to_anchor in Matplotlib\n",
    "            xanchor=\"auto\",\n",
    "            y=1,\n",
    "            yanchor=\"auto\",\n",
    "        ),\n",
    "        width=800,  # Adjusting width of the plot\n",
    "    )\n",
    "    fig.update_xaxes(\n",
    "        tickvals=[1000, 10000, 100000],  # Set specific tick values\n",
    "        ticktext=[\"1k\", \"10k\", \"100k\"],  # Set corresponding tick labels\n",
    "    )\n",
    "\n",
    "    fig.update_traces(\n",
    "        marker=dict(size=12, opacity=0.7)\n",
    "    )  # Adjust marker size and opacity\n",
    "    # Show plot\n",
    "    fig.show()\n",
    "    # Save plot as HTML file\n",
    "    fig.write_html(\"performance.html\")\n",
    "\n",
    "\n",
    "plot_performance(df)"
   ]
  },
  {
   "cell_type": "markdown",
   "id": "87e85696",
   "metadata": {},
   "source": [
    "Here is the corresponding plot when run with 1k, 10k, and 100k documents:\n"
   ]
  },
  {
   "cell_type": "markdown",
   "id": "c585c5e5",
   "metadata": {},
   "source": [
    "![image](../../_static/feed_performance.png)\n"
   ]
  },
  {
   "cell_type": "markdown",
   "id": "46a28331",
   "metadata": {},
   "source": [
    "Interesting. Let's try to summarize the insights we got from this experiment:\n",
    "\n",
    "- The `feed_sync` method is the slowest, and does not benefit much from increasing 'max_connections'.\n",
    "  As there is no concurrency, and each request is blocking, this will be bound by the network latency, which in many cases will be a lot higher than when running against a local VespaDocker instance. For example, if you have 100ms latency against your Vespa instance, you can only feed 10 documents per second using the `VespaSync` method.\n",
    "- The `feed_async` method is the fastest, and benefits slightly from increasing 'max_connections' regardless of the number of documents. This method is non-blocking, and will likely be even more beneficial when running against a remote Vespa instance, such as [Vespa Cloud](https://cloud.vespa.ai/), when network latency is higher.\n",
    "- The `feed_iterable` performance is somewhere in between the other two methods, and benefits a lot from increasing `num_workers` when the number of documents increases.\n",
    "\n",
    "We have not looked at multiprocessing, but there is definitively room to utilize more cores to improve further upon these results.\n",
    "But there is one alternative that it is interesting to compare against, the Vespa CLI.\n"
   ]
  },
  {
   "cell_type": "markdown",
   "id": "5630e540",
   "metadata": {},
   "source": [
    "## Feeding with Vespa CLI\n",
    "\n",
    "[Vespa CLI](https://docs.vespa.ai/en/vespa-cli) is a command-line interface for interacting with Vespa.\n",
    "\n",
    "Among many useful features are a `vespa feed` command that is the recommended way of feeding large datasets into Vespa.\n",
    "This is optimized for high feeding performance, and it will be interesting to get a feel for how performant feeding to a local Vespa instance is using the CLI.\n",
    "\n",
    "Note that comparing feeding with the CLI is not entirely fair, as the CLI relies on prepared data files, while the pyvespa methods are streaming the data before feeding it.\n"
   ]
  },
  {
   "cell_type": "markdown",
   "id": "f82d48fd",
   "metadata": {},
   "source": [
    "## Prepare the data for Vespa CLI\n",
    "\n",
    "Vespa CLI can feed data from either many .json files or a single .jsonl file with many documents.\n",
    "The json format needs to be in the following format:\n",
    "\n",
    "```json\n",
    "{\n",
    "  \"put\": \"id:namespace:document-type::document-id\",\n",
    "  \"fields\": {\n",
    "    \"field1\": \"value1\",\n",
    "    \"field2\": \"value2\"\n",
    "  }\n",
    "}\n",
    "```\n",
    "\n",
    "Where, `put` is the document operation in this case. Other allowed operations are `get`, `update` and `remove`.\n",
    "\n",
    "For reference, see https://docs.vespa.ai/en/vespa-cli#cheat-sheet\n",
    "\n",
    "### Getting the datasets as .jsonl files\n",
    "\n",
    "Now, let`s save the dataset to 3 different jsonl files of 1k, 10k, and 100k documents.\n"
   ]
  },
  {
   "cell_type": "code",
   "execution_count": null,
   "id": "9b377ee3",
   "metadata": {},
   "outputs": [
    {
     "name": "stdout",
     "output_type": "stream",
     "text": [
      "Getting dataset with 10000 docs...\n"
     ]
    },
    {
     "data": {
      "application/vnd.jupyter.widget-view+json": {
       "model_id": "31be2b06551d4d2abd581ca354ee9fd8",
       "version_major": 2,
       "version_minor": 0
      },
      "text/plain": [
       "Creating json from Arrow format:   0%|          | 0/10 [00:00<?, ?ba/s]"
      ]
     },
     "metadata": {},
     "output_type": "display_data"
    }
   ],
   "source": [
    "for n in num_docs:\n",
    "    print(f\"Getting dataset with {n} docs...\")\n",
    "    # First, let's load the dataset in non-streaming mode this time, as we want to save it to a jsonl file\n",
    "    dataset_cli = load_dataset(\n",
    "        \"Cohere/wikipedia-2023-11-embed-multilingual-v3\",\n",
    "        \"simple\",\n",
    "        split=f\"train[:{n}]\",  # Notice the slicing here, see https://huggingface.co/docs/datasets/loading#slice-splits\n",
    "        streaming=False,\n",
    "    )\n",
    "    # Map to the format expected by the CLI.\n",
    "    # Note that this differs a little bit from the format expected by the Python API.\n",
    "    dataset_cli = dataset_cli.map(\n",
    "        lambda x: {\n",
    "            \"put\": f\"id:pyvespa-feed:doc::{x['_id']}-json\",\n",
    "            \"fields\": {\"text\": x[\"text\"]},\n",
    "        }\n",
    "    ).select_columns([\"put\", \"fields\"])\n",
    "    # Save to a jsonl file\n",
    "    assert len(dataset_cli) == n\n",
    "    dataset_cli.to_json(f\"vespa_feed-{n}.json\", orient=\"records\", lines=True)"
   ]
  },
  {
   "cell_type": "markdown",
   "id": "fe173828",
   "metadata": {},
   "source": [
    "Let's look at the first line of one of the saved files to verify the format.\n"
   ]
  },
  {
   "cell_type": "code",
   "execution_count": null,
   "id": "cd95d014",
   "metadata": {},
   "outputs": [
    {
     "name": "stdout",
     "output_type": "stream",
     "text": [
      "{'fields': {'text': 'April (Apr.) is the fourth month of the year in the '\n",
      "                    'Julian and Gregorian calendars, and comes between March '\n",
      "                    'and May. It is one of the four months to have 30 days.'},\n",
      " 'put': 'id:pyvespa-feed:doc::20231101.simple_1_0-json'}\n"
     ]
    }
   ],
   "source": [
    "from pprint import pprint\n",
    "import json\n",
    "\n",
    "with open(\"vespa_feed-1000.json\", \"r\") as f:\n",
    "    sample = f.readline()\n",
    "    pprint(json.loads(sample))"
   ]
  },
  {
   "cell_type": "markdown",
   "id": "68374774",
   "metadata": {},
   "source": [
    "Ok, now we are ready to feed the data using Vespa CLI.\n",
    "We also want to capture the output of feed statistics for each file.\n"
   ]
  },
  {
   "cell_type": "code",
   "execution_count": null,
   "id": "2ea17d30",
   "metadata": {},
   "outputs": [
    {
     "name": "stdout",
     "output_type": "stream",
     "text": [
      "Feeding 10000 docs...\n",
      "{'feeder.error.count': 0,\n",
      " 'feeder.inflight.count': 0,\n",
      " 'feeder.ok.count': 10000,\n",
      " 'feeder.ok.rate': 10000.0,\n",
      " 'feeder.operation.count': 10000,\n",
      " 'feeder.seconds': 0.632,\n",
      " 'http.exception.count': 0,\n",
      " 'http.request.MBps': 2.906,\n",
      " 'http.request.bytes': 2905878,\n",
      " 'http.request.count': 10000,\n",
      " 'http.response.MBps': 1.317,\n",
      " 'http.response.bytes': 1317226,\n",
      " 'http.response.code.counts': {'200': 10000},\n",
      " 'http.response.count': 10000,\n",
      " 'http.response.error.count': 0,\n",
      " 'http.response.latency.millis.avg': 76,\n",
      " 'http.response.latency.millis.max': 123,\n",
      " 'http.response.latency.millis.min': 28}\n"
     ]
    }
   ],
   "source": [
    "cli_results = {}\n",
    "for n in num_docs:\n",
    "    print(f\"Feeding {n} docs...\")\n",
    "    output_list = !vespa feed vespa_feed-{n}.json\n",
    "    results = json.loads(\"\".join(output_list))\n",
    "    pprint(results)\n",
    "    cli_results[n] = results"
   ]
  },
  {
   "cell_type": "code",
   "execution_count": null,
   "id": "be2c18ae",
   "metadata": {},
   "outputs": [
    {
     "data": {
      "text/plain": [
       "{10000: {'feeder.operation.count': 10000,\n",
       "  'feeder.seconds': 0.632,\n",
       "  'feeder.ok.count': 10000,\n",
       "  'feeder.ok.rate': 10000.0,\n",
       "  'feeder.error.count': 0,\n",
       "  'feeder.inflight.count': 0,\n",
       "  'http.request.count': 10000,\n",
       "  'http.request.bytes': 2905878,\n",
       "  'http.request.MBps': 2.906,\n",
       "  'http.exception.count': 0,\n",
       "  'http.response.count': 10000,\n",
       "  'http.response.bytes': 1317226,\n",
       "  'http.response.MBps': 1.317,\n",
       "  'http.response.error.count': 0,\n",
       "  'http.response.latency.millis.min': 28,\n",
       "  'http.response.latency.millis.avg': 76,\n",
       "  'http.response.latency.millis.max': 123,\n",
       "  'http.response.code.counts': {'200': 10000}}}"
      ]
     },
     "execution_count": 25,
     "metadata": {},
     "output_type": "execute_result"
    }
   ],
   "source": [
    "cli_results"
   ]
  },
  {
   "cell_type": "code",
   "execution_count": null,
   "id": "812bac07",
   "metadata": {},
   "outputs": [
    {
     "data": {
      "text/html": [
       "<div>\n",
       "<style scoped>\n",
       "    .dataframe tbody tr th:only-of-type {\n",
       "        vertical-align: middle;\n",
       "    }\n",
       "\n",
       "    .dataframe tbody tr th {\n",
       "        vertical-align: top;\n",
       "    }\n",
       "\n",
       "    .dataframe thead th {\n",
       "        text-align: right;\n",
       "    }\n",
       "</style>\n",
       "<table border=\"1\" class=\"dataframe\">\n",
       "  <thead>\n",
       "    <tr style=\"text-align: right;\">\n",
       "      <th></th>\n",
       "      <th>name</th>\n",
       "      <th>num_docs</th>\n",
       "      <th>max_connections</th>\n",
       "      <th>function_name</th>\n",
       "      <th>max_workers</th>\n",
       "      <th>max_queue_size</th>\n",
       "      <th>feed_time</th>\n",
       "      <th>requests_per_second</th>\n",
       "    </tr>\n",
       "  </thead>\n",
       "  <tbody>\n",
       "    <tr>\n",
       "      <th>0</th>\n",
       "      <td>10000_cli</td>\n",
       "      <td>10000</td>\n",
       "      <td>unknown</td>\n",
       "      <td>cli</td>\n",
       "      <td>unknown</td>\n",
       "      <td>n/a</td>\n",
       "      <td>0.632</td>\n",
       "      <td>15822.78481</td>\n",
       "    </tr>\n",
       "  </tbody>\n",
       "</table>\n",
       "</div>"
      ],
      "text/plain": [
       "        name  num_docs max_connections function_name max_workers  \\\n",
       "0  10000_cli     10000         unknown           cli     unknown   \n",
       "\n",
       "  max_queue_size  feed_time  requests_per_second  \n",
       "0            n/a      0.632          15822.78481  "
      ]
     },
     "execution_count": 26,
     "metadata": {},
     "output_type": "execute_result"
    }
   ],
   "source": [
    "# Let's add the CLI results to the DataFrame\n",
    "df_cli = pd.DataFrame(\n",
    "    [\n",
    "        {\n",
    "            \"name\": f\"{n}_cli\",\n",
    "            \"num_docs\": n,\n",
    "            \"max_connections\": \"unknown\",\n",
    "            \"function_name\": \"cli\",\n",
    "            \"max_workers\": \"unknown\",\n",
    "            \"max_queue_size\": \"n/a\",\n",
    "            \"feed_time\": result[\"feeder.seconds\"],\n",
    "        }\n",
    "        for n, result in cli_results.items()\n",
    "    ]\n",
    ")\n",
    "df_cli[\"requests_per_second\"] = df_cli[\"num_docs\"] / df_cli[\"feed_time\"]\n",
    "df_cli"
   ]
  },
  {
   "cell_type": "code",
   "execution_count": null,
   "id": "b3395710",
   "metadata": {},
   "outputs": [
    {
     "data": {
      "application/vnd.plotly.v1+json": {
       "config": {
        "plotlyServerURL": "https://plot.ly"
       },
       "data": [
        {
         "customdata": [
          [
           null,
           null,
           16,
           null
          ],
          [
           null,
           null,
           64,
           null
          ]
         ],
         "hovertemplate": "function_name=feed_sync<br>Number of Documents=%{x}<br>Requests per Second=%{y}<br>max_workers=%{customdata[0]}<br>max_queue_size=%{customdata[1]}<br>max_connections=%{customdata[2]}<br>num_concurrent_requests=%{customdata[3]}<extra></extra>",
         "legendgroup": "feed_sync",
         "marker": {
          "color": "#636efa",
          "opacity": 0.7,
          "size": 12,
          "symbol": "circle"
         },
         "mode": "markers",
         "name": "feed_sync",
         "orientation": "v",
         "showlegend": true,
         "type": "scatter",
         "x": [
          10000,
          10000
         ],
         "xaxis": "x",
         "y": [
          202.73498088341412,
          250.96825948936063
         ],
         "yaxis": "y"
        },
        {
         "customdata": [
          [
           null,
           null,
           16,
           1000
          ],
          [
           null,
           null,
           16,
           10000
          ],
          [
           null,
           null,
           64,
           1000
          ],
          [
           null,
           null,
           64,
           10000
          ]
         ],
         "hovertemplate": "function_name=feed_async<br>Number of Documents=%{x}<br>Requests per Second=%{y}<br>max_workers=%{customdata[0]}<br>max_queue_size=%{customdata[1]}<br>max_connections=%{customdata[2]}<br>num_concurrent_requests=%{customdata[3]}<extra></extra>",
         "legendgroup": "feed_async",
         "marker": {
          "color": "#EF553B",
          "opacity": 0.7,
          "size": 12,
          "symbol": "circle"
         },
         "mode": "markers",
         "name": "feed_async",
         "orientation": "v",
         "showlegend": true,
         "type": "scatter",
         "x": [
          10000,
          10000,
          10000,
          10000
         ],
         "xaxis": "x",
         "y": [
          308.70118158920656,
          308.20351697184026,
          306.92246895419584,
          308.5124878958632
         ],
         "yaxis": "y"
        },
        {
         "customdata": [
          [
           16,
           1000,
           64,
           null
          ],
          [
           16,
           10000,
           64,
           null
          ],
          [
           64,
           1000,
           64,
           null
          ],
          [
           64,
           10000,
           64,
           null
          ],
          [
           16,
           1000,
           128,
           null
          ],
          [
           16,
           10000,
           128,
           null
          ],
          [
           64,
           1000,
           128,
           null
          ],
          [
           64,
           10000,
           128,
           null
          ]
         ],
         "hovertemplate": "function_name=feed_iterable<br>Number of Documents=%{x}<br>Requests per Second=%{y}<br>max_workers=%{customdata[0]}<br>max_queue_size=%{customdata[1]}<br>max_connections=%{customdata[2]}<br>num_concurrent_requests=%{customdata[3]}<extra></extra>",
         "legendgroup": "feed_iterable",
         "marker": {
          "color": "#00cc96",
          "opacity": 0.7,
          "size": 12,
          "symbol": "circle"
         },
         "mode": "markers",
         "name": "feed_iterable",
         "orientation": "v",
         "showlegend": true,
         "type": "scatter",
         "x": [
          10000,
          10000,
          10000,
          10000,
          10000,
          10000,
          10000,
          10000
         ],
         "xaxis": "x",
         "y": [
          421.93208172507696,
          306.06880675325954,
          494.6538096503478,
          493.5882078579243,
          420.9657631700644,
          326.66915038725676,
          497.3265005893615,
          488.03101101747313
         ],
         "yaxis": "y"
        },
        {
         "customdata": [
          [
           "unknown",
           "n/a",
           "unknown",
           null
          ]
         ],
         "hovertemplate": "function_name=cli<br>Number of Documents=%{x}<br>Requests per Second=%{y}<br>max_workers=%{customdata[0]}<br>max_queue_size=%{customdata[1]}<br>max_connections=%{customdata[2]}<br>num_concurrent_requests=%{customdata[3]}<extra></extra>",
         "legendgroup": "cli",
         "marker": {
          "color": "#ab63fa",
          "opacity": 0.7,
          "size": 12,
          "symbol": "circle"
         },
         "mode": "markers",
         "name": "cli",
         "orientation": "v",
         "showlegend": true,
         "type": "scatter",
         "x": [
          10000
         ],
         "xaxis": "x",
         "y": [
          15822.784810126584
         ],
         "yaxis": "y"
        }
       ],
       "layout": {
        "font": {
         "size": 16
        },
        "legend": {
         "title": {
          "font": {
           "size": 16
          },
          "text": "Function Details"
         },
         "tracegroupgap": 0,
         "x": 800,
         "xanchor": "auto",
         "y": 1,
         "yanchor": "auto"
        },
        "template": {
         "data": {
          "bar": [
           {
            "error_x": {
             "color": "#2a3f5f"
            },
            "error_y": {
             "color": "#2a3f5f"
            },
            "marker": {
             "line": {
              "color": "white",
              "width": 0.5
             },
             "pattern": {
              "fillmode": "overlay",
              "size": 10,
              "solidity": 0.2
             }
            },
            "type": "bar"
           }
          ],
          "barpolar": [
           {
            "marker": {
             "line": {
              "color": "white",
              "width": 0.5
             },
             "pattern": {
              "fillmode": "overlay",
              "size": 10,
              "solidity": 0.2
             }
            },
            "type": "barpolar"
           }
          ],
          "carpet": [
           {
            "aaxis": {
             "endlinecolor": "#2a3f5f",
             "gridcolor": "#C8D4E3",
             "linecolor": "#C8D4E3",
             "minorgridcolor": "#C8D4E3",
             "startlinecolor": "#2a3f5f"
            },
            "baxis": {
             "endlinecolor": "#2a3f5f",
             "gridcolor": "#C8D4E3",
             "linecolor": "#C8D4E3",
             "minorgridcolor": "#C8D4E3",
             "startlinecolor": "#2a3f5f"
            },
            "type": "carpet"
           }
          ],
          "choropleth": [
           {
            "colorbar": {
             "outlinewidth": 0,
             "ticks": ""
            },
            "type": "choropleth"
           }
          ],
          "contour": [
           {
            "colorbar": {
             "outlinewidth": 0,
             "ticks": ""
            },
            "colorscale": [
             [
              0,
              "#0d0887"
             ],
             [
              0.1111111111111111,
              "#46039f"
             ],
             [
              0.2222222222222222,
              "#7201a8"
             ],
             [
              0.3333333333333333,
              "#9c179e"
             ],
             [
              0.4444444444444444,
              "#bd3786"
             ],
             [
              0.5555555555555556,
              "#d8576b"
             ],
             [
              0.6666666666666666,
              "#ed7953"
             ],
             [
              0.7777777777777778,
              "#fb9f3a"
             ],
             [
              0.8888888888888888,
              "#fdca26"
             ],
             [
              1,
              "#f0f921"
             ]
            ],
            "type": "contour"
           }
          ],
          "contourcarpet": [
           {
            "colorbar": {
             "outlinewidth": 0,
             "ticks": ""
            },
            "type": "contourcarpet"
           }
          ],
          "heatmap": [
           {
            "colorbar": {
             "outlinewidth": 0,
             "ticks": ""
            },
            "colorscale": [
             [
              0,
              "#0d0887"
             ],
             [
              0.1111111111111111,
              "#46039f"
             ],
             [
              0.2222222222222222,
              "#7201a8"
             ],
             [
              0.3333333333333333,
              "#9c179e"
             ],
             [
              0.4444444444444444,
              "#bd3786"
             ],
             [
              0.5555555555555556,
              "#d8576b"
             ],
             [
              0.6666666666666666,
              "#ed7953"
             ],
             [
              0.7777777777777778,
              "#fb9f3a"
             ],
             [
              0.8888888888888888,
              "#fdca26"
             ],
             [
              1,
              "#f0f921"
             ]
            ],
            "type": "heatmap"
           }
          ],
          "heatmapgl": [
           {
            "colorbar": {
             "outlinewidth": 0,
             "ticks": ""
            },
            "colorscale": [
             [
              0,
              "#0d0887"
             ],
             [
              0.1111111111111111,
              "#46039f"
             ],
             [
              0.2222222222222222,
              "#7201a8"
             ],
             [
              0.3333333333333333,
              "#9c179e"
             ],
             [
              0.4444444444444444,
              "#bd3786"
             ],
             [
              0.5555555555555556,
              "#d8576b"
             ],
             [
              0.6666666666666666,
              "#ed7953"
             ],
             [
              0.7777777777777778,
              "#fb9f3a"
             ],
             [
              0.8888888888888888,
              "#fdca26"
             ],
             [
              1,
              "#f0f921"
             ]
            ],
            "type": "heatmapgl"
           }
          ],
          "histogram": [
           {
            "marker": {
             "pattern": {
              "fillmode": "overlay",
              "size": 10,
              "solidity": 0.2
             }
            },
            "type": "histogram"
           }
          ],
          "histogram2d": [
           {
            "colorbar": {
             "outlinewidth": 0,
             "ticks": ""
            },
            "colorscale": [
             [
              0,
              "#0d0887"
             ],
             [
              0.1111111111111111,
              "#46039f"
             ],
             [
              0.2222222222222222,
              "#7201a8"
             ],
             [
              0.3333333333333333,
              "#9c179e"
             ],
             [
              0.4444444444444444,
              "#bd3786"
             ],
             [
              0.5555555555555556,
              "#d8576b"
             ],
             [
              0.6666666666666666,
              "#ed7953"
             ],
             [
              0.7777777777777778,
              "#fb9f3a"
             ],
             [
              0.8888888888888888,
              "#fdca26"
             ],
             [
              1,
              "#f0f921"
             ]
            ],
            "type": "histogram2d"
           }
          ],
          "histogram2dcontour": [
           {
            "colorbar": {
             "outlinewidth": 0,
             "ticks": ""
            },
            "colorscale": [
             [
              0,
              "#0d0887"
             ],
             [
              0.1111111111111111,
              "#46039f"
             ],
             [
              0.2222222222222222,
              "#7201a8"
             ],
             [
              0.3333333333333333,
              "#9c179e"
             ],
             [
              0.4444444444444444,
              "#bd3786"
             ],
             [
              0.5555555555555556,
              "#d8576b"
             ],
             [
              0.6666666666666666,
              "#ed7953"
             ],
             [
              0.7777777777777778,
              "#fb9f3a"
             ],
             [
              0.8888888888888888,
              "#fdca26"
             ],
             [
              1,
              "#f0f921"
             ]
            ],
            "type": "histogram2dcontour"
           }
          ],
          "mesh3d": [
           {
            "colorbar": {
             "outlinewidth": 0,
             "ticks": ""
            },
            "type": "mesh3d"
           }
          ],
          "parcoords": [
           {
            "line": {
             "colorbar": {
              "outlinewidth": 0,
              "ticks": ""
             }
            },
            "type": "parcoords"
           }
          ],
          "pie": [
           {
            "automargin": true,
            "type": "pie"
           }
          ],
          "scatter": [
           {
            "fillpattern": {
             "fillmode": "overlay",
             "size": 10,
             "solidity": 0.2
            },
            "type": "scatter"
           }
          ],
          "scatter3d": [
           {
            "line": {
             "colorbar": {
              "outlinewidth": 0,
              "ticks": ""
             }
            },
            "marker": {
             "colorbar": {
              "outlinewidth": 0,
              "ticks": ""
             }
            },
            "type": "scatter3d"
           }
          ],
          "scattercarpet": [
           {
            "marker": {
             "colorbar": {
              "outlinewidth": 0,
              "ticks": ""
             }
            },
            "type": "scattercarpet"
           }
          ],
          "scattergeo": [
           {
            "marker": {
             "colorbar": {
              "outlinewidth": 0,
              "ticks": ""
             }
            },
            "type": "scattergeo"
           }
          ],
          "scattergl": [
           {
            "marker": {
             "colorbar": {
              "outlinewidth": 0,
              "ticks": ""
             }
            },
            "type": "scattergl"
           }
          ],
          "scattermapbox": [
           {
            "marker": {
             "colorbar": {
              "outlinewidth": 0,
              "ticks": ""
             }
            },
            "type": "scattermapbox"
           }
          ],
          "scatterpolar": [
           {
            "marker": {
             "colorbar": {
              "outlinewidth": 0,
              "ticks": ""
             }
            },
            "type": "scatterpolar"
           }
          ],
          "scatterpolargl": [
           {
            "marker": {
             "colorbar": {
              "outlinewidth": 0,
              "ticks": ""
             }
            },
            "type": "scatterpolargl"
           }
          ],
          "scatterternary": [
           {
            "marker": {
             "colorbar": {
              "outlinewidth": 0,
              "ticks": ""
             }
            },
            "type": "scatterternary"
           }
          ],
          "surface": [
           {
            "colorbar": {
             "outlinewidth": 0,
             "ticks": ""
            },
            "colorscale": [
             [
              0,
              "#0d0887"
             ],
             [
              0.1111111111111111,
              "#46039f"
             ],
             [
              0.2222222222222222,
              "#7201a8"
             ],
             [
              0.3333333333333333,
              "#9c179e"
             ],
             [
              0.4444444444444444,
              "#bd3786"
             ],
             [
              0.5555555555555556,
              "#d8576b"
             ],
             [
              0.6666666666666666,
              "#ed7953"
             ],
             [
              0.7777777777777778,
              "#fb9f3a"
             ],
             [
              0.8888888888888888,
              "#fdca26"
             ],
             [
              1,
              "#f0f921"
             ]
            ],
            "type": "surface"
           }
          ],
          "table": [
           {
            "cells": {
             "fill": {
              "color": "#EBF0F8"
             },
             "line": {
              "color": "white"
             }
            },
            "header": {
             "fill": {
              "color": "#C8D4E3"
             },
             "line": {
              "color": "white"
             }
            },
            "type": "table"
           }
          ]
         },
         "layout": {
          "annotationdefaults": {
           "arrowcolor": "#2a3f5f",
           "arrowhead": 0,
           "arrowwidth": 1
          },
          "autotypenumbers": "strict",
          "coloraxis": {
           "colorbar": {
            "outlinewidth": 0,
            "ticks": ""
           }
          },
          "colorscale": {
           "diverging": [
            [
             0,
             "#8e0152"
            ],
            [
             0.1,
             "#c51b7d"
            ],
            [
             0.2,
             "#de77ae"
            ],
            [
             0.3,
             "#f1b6da"
            ],
            [
             0.4,
             "#fde0ef"
            ],
            [
             0.5,
             "#f7f7f7"
            ],
            [
             0.6,
             "#e6f5d0"
            ],
            [
             0.7,
             "#b8e186"
            ],
            [
             0.8,
             "#7fbc41"
            ],
            [
             0.9,
             "#4d9221"
            ],
            [
             1,
             "#276419"
            ]
           ],
           "sequential": [
            [
             0,
             "#0d0887"
            ],
            [
             0.1111111111111111,
             "#46039f"
            ],
            [
             0.2222222222222222,
             "#7201a8"
            ],
            [
             0.3333333333333333,
             "#9c179e"
            ],
            [
             0.4444444444444444,
             "#bd3786"
            ],
            [
             0.5555555555555556,
             "#d8576b"
            ],
            [
             0.6666666666666666,
             "#ed7953"
            ],
            [
             0.7777777777777778,
             "#fb9f3a"
            ],
            [
             0.8888888888888888,
             "#fdca26"
            ],
            [
             1,
             "#f0f921"
            ]
           ],
           "sequentialminus": [
            [
             0,
             "#0d0887"
            ],
            [
             0.1111111111111111,
             "#46039f"
            ],
            [
             0.2222222222222222,
             "#7201a8"
            ],
            [
             0.3333333333333333,
             "#9c179e"
            ],
            [
             0.4444444444444444,
             "#bd3786"
            ],
            [
             0.5555555555555556,
             "#d8576b"
            ],
            [
             0.6666666666666666,
             "#ed7953"
            ],
            [
             0.7777777777777778,
             "#fb9f3a"
            ],
            [
             0.8888888888888888,
             "#fdca26"
            ],
            [
             1,
             "#f0f921"
            ]
           ]
          },
          "colorway": [
           "#636efa",
           "#EF553B",
           "#00cc96",
           "#ab63fa",
           "#FFA15A",
           "#19d3f3",
           "#FF6692",
           "#B6E880",
           "#FF97FF",
           "#FECB52"
          ],
          "font": {
           "color": "#2a3f5f"
          },
          "geo": {
           "bgcolor": "white",
           "lakecolor": "white",
           "landcolor": "white",
           "showlakes": true,
           "showland": true,
           "subunitcolor": "#C8D4E3"
          },
          "hoverlabel": {
           "align": "left"
          },
          "hovermode": "closest",
          "mapbox": {
           "style": "light"
          },
          "paper_bgcolor": "white",
          "plot_bgcolor": "white",
          "polar": {
           "angularaxis": {
            "gridcolor": "#EBF0F8",
            "linecolor": "#EBF0F8",
            "ticks": ""
           },
           "bgcolor": "white",
           "radialaxis": {
            "gridcolor": "#EBF0F8",
            "linecolor": "#EBF0F8",
            "ticks": ""
           }
          },
          "scene": {
           "xaxis": {
            "backgroundcolor": "white",
            "gridcolor": "#DFE8F3",
            "gridwidth": 2,
            "linecolor": "#EBF0F8",
            "showbackground": true,
            "ticks": "",
            "zerolinecolor": "#EBF0F8"
           },
           "yaxis": {
            "backgroundcolor": "white",
            "gridcolor": "#DFE8F3",
            "gridwidth": 2,
            "linecolor": "#EBF0F8",
            "showbackground": true,
            "ticks": "",
            "zerolinecolor": "#EBF0F8"
           },
           "zaxis": {
            "backgroundcolor": "white",
            "gridcolor": "#DFE8F3",
            "gridwidth": 2,
            "linecolor": "#EBF0F8",
            "showbackground": true,
            "ticks": "",
            "zerolinecolor": "#EBF0F8"
           }
          },
          "shapedefaults": {
           "line": {
            "color": "#2a3f5f"
           }
          },
          "ternary": {
           "aaxis": {
            "gridcolor": "#DFE8F3",
            "linecolor": "#A2B1C6",
            "ticks": ""
           },
           "baxis": {
            "gridcolor": "#DFE8F3",
            "linecolor": "#A2B1C6",
            "ticks": ""
           },
           "bgcolor": "white",
           "caxis": {
            "gridcolor": "#DFE8F3",
            "linecolor": "#A2B1C6",
            "ticks": ""
           }
          },
          "title": {
           "x": 0.05
          },
          "xaxis": {
           "automargin": true,
           "gridcolor": "#EBF0F8",
           "linecolor": "#EBF0F8",
           "ticks": "",
           "title": {
            "standoff": 15
           },
           "zerolinecolor": "#EBF0F8",
           "zerolinewidth": 2
          },
          "yaxis": {
           "automargin": true,
           "gridcolor": "#EBF0F8",
           "linecolor": "#EBF0F8",
           "ticks": "",
           "title": {
            "standoff": 15
           },
           "zerolinecolor": "#EBF0F8",
           "zerolinewidth": 2
          }
         }
        },
        "title": {
         "text": "Performance: Requests per Second vs. Number of Documents"
        },
        "width": 800,
        "xaxis": {
         "anchor": "y",
         "domain": [
          0,
          1
         ],
         "ticktext": [
          "1k",
          "10k",
          "100k"
         ],
         "tickvals": [
          1000,
          10000,
          100000
         ],
         "title": {
          "text": "Number of Documents"
         },
         "type": "log"
        },
        "yaxis": {
         "anchor": "x",
         "domain": [
          0,
          1
         ],
         "title": {
          "text": "Requests per Second"
         }
        }
       }
      }
     },
     "metadata": {},
     "output_type": "display_data"
    }
   ],
   "source": [
    "df_total = pd.concat([df, df_cli])\n",
    "\n",
    "plot_performance(df_total)"
   ]
  },
  {
   "cell_type": "markdown",
   "id": "65295a17",
   "metadata": {},
   "source": [
    "And here is the corresponding plot when run with 1k, 10k, and 100k documents:\n"
   ]
  },
  {
   "cell_type": "markdown",
   "id": "0ce5a4ad",
   "metadata": {},
   "source": [
    "![image](../../_static/feed_performance-cli.png)\n"
   ]
  },
  {
   "cell_type": "markdown",
   "id": "1f745d73",
   "metadata": {},
   "source": [
    "As you can tell, the CLI is orders of magnitude faster.\n"
   ]
  },
  {
   "cell_type": "markdown",
   "id": "18fc6282",
   "metadata": {},
   "source": [
    "## Conclusion\n"
   ]
  },
  {
   "cell_type": "markdown",
   "id": "2d91581b",
   "metadata": {},
   "source": [
    "- Prefer to use the CLI if you care about performance. 🚀\n",
    "- If you are using Python, prefer the async method, as it is the fastest way to feed data using `pyvespa`.\n"
   ]
  },
  {
   "cell_type": "markdown",
   "id": "28591491",
   "metadata": {},
   "source": [
    "## Cleanup\n"
   ]
  },
  {
   "cell_type": "code",
   "execution_count": null,
   "id": "e5064bd2",
   "metadata": {},
   "outputs": [],
   "source": [
    "app.delete()"
   ]
  },
  {
   "cell_type": "markdown",
   "id": "d1872b31",
   "metadata": {},
   "source": [
    "## Next steps\n",
    "\n",
    "Check out some of the other\n",
    "[examples](https://pyvespa.readthedocs.io/en/latest/examples.html) in the documentation.\n"
   ]
  }
 ],
 "metadata": {
  "kernelspec": {
   "display_name": "Python 3 (ipykernel)",
   "language": "python",
   "name": "python3"
  },
  "language_info": {
   "codemirror_mode": {
    "name": "ipython",
    "version": 3
   },
   "file_extension": ".py",
   "mimetype": "text/x-python",
   "name": "python",
   "nbconvert_exporter": "python",
   "pygments_lexer": "ipython3",
   "version": "3.9.19"
  },
  "vscode": {
   "interpreter": {
    "hash": "b0fa6594d8f4cbf19f97940f81e996739fb7646882a419484c72d19e05852a7e"
   }
  }
 },
 "nbformat": 4,
 "nbformat_minor": 5
}
