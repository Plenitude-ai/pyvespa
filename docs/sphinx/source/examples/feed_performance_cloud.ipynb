{
 "cells": [
  {
   "cell_type": "markdown",
   "id": "given-adoption",
   "metadata": {},
   "source": [
    "<picture>\n",
    "  <source media=\"(prefers-color-scheme: dark)\" srcset=\"https://vespa.ai/assets/vespa-ai-logo-heather.svg\">\n",
    "  <source media=\"(prefers-color-scheme: light)\" srcset=\"https://vespa.ai/assets/vespa-ai-logo-rock.svg\">\n",
    "  <img alt=\"#Vespa\" width=\"200\" src=\"https://vespa.ai/assets/vespa-ai-logo-rock.svg\" style=\"margin-bottom: 25px;\">\n",
    "</picture>\n",
    "\n",
    "# Feeding to Vespa Cloud\n",
    "\n",
    "Our previous notebook illustrated one way of benchmarking feed performance to a local Vespa instance running in Docker.\n",
    "In this notebook, we will llok at the same methods, but how feeding to [Vespa Cloud](https://cloud.vespa.ai) affects performance of the different methods.\n",
    "\n",
    "The key difference between feeding to a local Vespa instance and a Vespa Cloud instance is the network latency.\n",
    "Additionally, we will introduce embedding in Vespa at feed time, which is a realistic scenario for many use-cases.\n",
    "\n",
    "We will look at these 4 different methods:\n",
    "\n",
    "1. Using `VespaSync`.\n",
    "2. Using `VespaAsync`.\n",
    "3. Using `feed_iterable()`\n",
    "4. Using [Vespa CLI](https://docs.vespa.ai/en/vespa-cli)\n"
   ]
  },
  {
   "cell_type": "markdown",
   "id": "8c967bd2",
   "metadata": {},
   "source": [
    "<div class=\"alert alert-info\">\n",
    "    Refer to <a href=\"https://pyvespa.readthedocs.io/en/latest/troubleshooting.html\">troubleshooting</a>\n",
    "    for any problem when running this guide.\n",
    "</div>\n"
   ]
  },
  {
   "cell_type": "markdown",
   "id": "8345b2fe",
   "metadata": {},
   "source": [
    "Install [Vespa CLI](https://docs.vespa.ai/en/vespa-cli.html).\n",
    "The `vespacli` python package is just a thin wrapper, allowing for installation through pypi.\n",
    "\n",
    "> Do NOT install if you already have the Vespa CLI installed.\n"
   ]
  },
  {
   "cell_type": "code",
   "execution_count": 5,
   "id": "03f3d0f2",
   "metadata": {},
   "outputs": [],
   "source": [
    "# !pip3 install vespacli"
   ]
  },
  {
   "cell_type": "markdown",
   "id": "dd96cdce-e2d1-48fe-a2cd-451b638afe97",
   "metadata": {},
   "source": [
    "[Install pyvespa](https://pyvespa.readthedocs.io/), other dependencies, and start the Docker Daemon.\n"
   ]
  },
  {
   "cell_type": "code",
   "execution_count": 6,
   "id": "d9ed0a15-a5b1-4d9b-86ec-febdda0879fe",
   "metadata": {},
   "outputs": [],
   "source": [
    "# !pip3 install pyvespa datasets plotly>=5.20"
   ]
  },
  {
   "cell_type": "markdown",
   "id": "db637322",
   "metadata": {},
   "source": [
    "## Create an application package\n",
    "\n",
    "The [application package](https://pyvespa.readthedocs.io/en/latest/reference-api.html#vespa.package.ApplicationPackage)\n",
    "has all the Vespa configuration files.\n",
    "\n",
    "For this demo, we will use a simple application package\n"
   ]
  },
  {
   "cell_type": "code",
   "execution_count": 25,
   "id": "bd5c2629",
   "metadata": {},
   "outputs": [],
   "source": [
    "from vespa.package import (\n",
    "    ApplicationPackage,\n",
    "    Field,\n",
    "    Schema,\n",
    "    Document,\n",
    "    FieldSet,\n",
    "    HNSW,\n",
    ")\n",
    "\n",
    "# Define the application name (can NOT contain `_` or `-`)\n",
    "\n",
    "application = \"feedperformancecloud\"\n",
    "\n",
    "\n",
    "package = ApplicationPackage(\n",
    "    name=application,\n",
    "    schema=[\n",
    "        Schema(\n",
    "            name=\"doc\",\n",
    "            document=Document(\n",
    "                fields=[\n",
    "                    Field(name=\"id\", type=\"string\", indexing=[\"summary\"]),\n",
    "                    Field(name=\"text\", type=\"string\", indexing=[\"index\", \"summary\"]),\n",
    "                    Field(\n",
    "                        name=\"embedding\",\n",
    "                        type=\"tensor<float>(x[1024])\",\n",
    "                        # Note that we are NOT embedding with a vespa model here, but that is also possible.\n",
    "                        indexing=[\"summary\", \"attribute\", \"index\"],\n",
    "                        ann=HNSW(distance_metric=\"angular\"),\n",
    "                    ),\n",
    "                ]\n",
    "            ),\n",
    "            fieldsets=[FieldSet(name=\"default\", fields=[\"text\"])],\n",
    "        )\n",
    "    ],\n",
    ")"
   ]
  },
  {
   "cell_type": "markdown",
   "id": "2c5e2943",
   "metadata": {},
   "source": [
    "Note that the `ApplicationPackage` name cannot have `-` or `_`.\n"
   ]
  },
  {
   "cell_type": "markdown",
   "id": "careful-savage",
   "metadata": {},
   "source": [
    "## Deploy the Vespa application\n",
    "\n",
    "Deploy `package` on the local machine using Docker,\n",
    "without leaving the notebook, by creating an instance of\n",
    "[VespaDocker](https://pyvespa.readthedocs.io/en/latest/reference-api.html#vespa.deployment.VespaDocker). `VespaDocker` connects\n",
    "to the local Docker daemon socket and starts the [Vespa docker image](https://hub.docker.com/r/vespaengine/vespa/).\n",
    "\n",
    "If this step fails, please check\n",
    "that the Docker daemon is running, and that the Docker daemon socket can be used by clients (Configurable under advanced settings in Docker Desktop).\n"
   ]
  },
  {
   "cell_type": "code",
   "execution_count": null,
   "id": "65c196b4",
   "metadata": {},
   "outputs": [],
   "source": [
    "# import os\n",
    "# import requests\n",
    "\n",
    "# res = requests.get(\n",
    "#     url=\"https://api.github.com/repos/vespa-engine/vespa/releases/latest\"\n",
    "# ).json()\n",
    "# os.environ[\"VERSION\"] = res[\"tag_name\"].replace(\"v\", \"\")\n",
    "# !curl -fsSL https://github.com/vespa-engine/vespa/releases/download/v${VERSION}/vespa-cli_${VERSION}_linux_amd64.tar.gz | tar -zxf -\n",
    "# !ln -sf /content/vespa-cli_${VERSION}_linux_amd64/bin/vespa /bin/vespa"
   ]
  },
  {
   "cell_type": "markdown",
   "id": "e64dd8ec",
   "metadata": {},
   "source": [
    "## Configure data-plane security\n",
    "\n",
    "Create Vespa Cloud data-plane mTLS cert/key-pair. This mutual certificate pair is used to talk to your Vespa cloud endpoints.\n",
    "See [Vespa Cloud Security Guide](https://cloud.vespa.ai/en/security/guide).\n",
    "\n",
    "We save the paths to the credentials, for later dataplane access without using pyvespa APIs - see example at the end of this notebook.\n"
   ]
  },
  {
   "cell_type": "code",
   "execution_count": 4,
   "id": "0fc94554",
   "metadata": {},
   "outputs": [
    {
     "name": "stdout",
     "output_type": "stream",
     "text": [
      "\u001b[32mSuccess:\u001b[0m Certificate written to \u001b[36m'/Users/thomas/.vespa/vespa-team.feedperformancecloud.default/data-plane-public-cert.pem'\u001b[0m\n",
      "\u001b[32mSuccess:\u001b[0m Private key written to \u001b[36m'/Users/thomas/.vespa/vespa-team.feedperformancecloud.default/data-plane-private-key.pem'\u001b[0m\n"
     ]
    }
   ],
   "source": [
    "import os\n",
    "\n",
    "os.environ[\"TENANT_NAME\"] = \"vespa-team\"  # Replace with your tenant name\n",
    "vespa_cli_command = (\n",
    "    f'vespa config set application {os.environ[\"TENANT_NAME\"]}.{application}'\n",
    ")\n",
    "\n",
    "!vespa config set target cloud\n",
    "!{vespa_cli_command}\n",
    "!vespa auth cert -N"
   ]
  },
  {
   "cell_type": "code",
   "execution_count": 5,
   "id": "233cb5a4",
   "metadata": {},
   "outputs": [],
   "source": [
    "from os.path import exists\n",
    "from pathlib import Path\n",
    "\n",
    "cert_path = (\n",
    "    Path.home()\n",
    "    / \".vespa\"\n",
    "    / f\"{os.environ['TENANT_NAME']}.{application}.default/data-plane-public-cert.pem\"\n",
    ")\n",
    "key_path = (\n",
    "    Path.home()\n",
    "    / \".vespa\"\n",
    "    / f\"{os.environ['TENANT_NAME']}.{application}.default/data-plane-private-key.pem\"\n",
    ")\n",
    "\n",
    "if not exists(cert_path) or not exists(key_path):\n",
    "    print(\n",
    "        \"ERROR: set the correct paths to security credentials. Correct paths above and rerun until you do not see this error\"\n",
    "    )"
   ]
  },
  {
   "cell_type": "markdown",
   "id": "a9acdda0",
   "metadata": {},
   "source": [
    "Note that the subsequent deploy-call below will add `data-plane-public-cert.pem` to the application before deploying it to Vespa Cloud, so that\n",
    "you have access to both the private key and the public certificate, while Vespa Cloud only knows the public certificate.\n",
    "\n",
    "## Configure control-plane security\n",
    "\n",
    "Authenticate to generate a tenant level control-plane API key for deploying the applications to Vespa Cloud, and save the path to it.\n",
    "\n",
    "<div style=\"background-color: #ffcc00; padding: 10px; border: 1px solid #ff9900; font-weight: bold;\">\n",
    "    <strong>Warning:</strong>The generated tenant api key must be added in the Vespa Console before attempting to deploy the application.\n",
    "</div>\n",
    "\n",
    "The following step will print the following message:\n",
    "\n",
    "```\n",
    "To use this key in Vespa Cloud click 'Add custom key' at\n",
    "https://console.vespa-cloud.com/tenant/TENANT_NAME/account/keys\n",
    "and paste the entire public key including the BEGIN and END lines.\n",
    "```\n"
   ]
  },
  {
   "cell_type": "code",
   "execution_count": null,
   "id": "a90ab68c",
   "metadata": {},
   "outputs": [],
   "source": [
    "!vespa auth api-key"
   ]
  },
  {
   "cell_type": "code",
   "execution_count": 7,
   "id": "ab534a1b",
   "metadata": {},
   "outputs": [],
   "source": [
    "from pathlib import Path\n",
    "\n",
    "api_key_path = Path.home() / \".vespa\" / f\"{os.environ['TENANT_NAME']}.api-key.pem\""
   ]
  },
  {
   "cell_type": "markdown",
   "id": "6f74324a",
   "metadata": {},
   "source": [
    "Follow the instrauctions from the output above and add the control-plane key in the console at `https://console.vespa-cloud.com/tenant/TENANT_NAME/account/keys`\n",
    "(replace TENANT_NAME with your tenant name).\n"
   ]
  },
  {
   "cell_type": "code",
   "execution_count": 26,
   "id": "canadian-blood",
   "metadata": {},
   "outputs": [],
   "source": [
    "from vespa.deployment import VespaCloud\n",
    "import os\n",
    "\n",
    "\n",
    "def read_secret():\n",
    "    \"\"\"Read the API key from the environment variable. This is\n",
    "    only used for CI/CD purposes.\"\"\"\n",
    "    t = os.getenv(\"VESPA_TEAM_API_KEY\")\n",
    "    if t:\n",
    "        return t.replace(r\"\\n\", \"\\n\")\n",
    "    else:\n",
    "        return t\n",
    "\n",
    "\n",
    "vespa_cloud = VespaCloud(\n",
    "    tenant=os.environ[\"TENANT_NAME\"],\n",
    "    application=application,\n",
    "    key_content=read_secret() if read_secret() else None,\n",
    "    key_location=api_key_path,\n",
    "    application_package=package,\n",
    ")"
   ]
  },
  {
   "cell_type": "markdown",
   "id": "aaae2f91",
   "metadata": {},
   "source": [
    "`app` now holds a reference to a [VespaCloud](https://pyvespa.readthedocs.io/en/latest/reference-api.html#vespa.deployment.VespaCloud) instance.\n"
   ]
  },
  {
   "cell_type": "code",
   "execution_count": 27,
   "id": "471c2da7",
   "metadata": {},
   "outputs": [
    {
     "name": "stdout",
     "output_type": "stream",
     "text": [
      "Deployment started in run 4 of dev-aws-us-east-1c for vespa-team.feedperformancecloud. This may take a few minutes the first time.\n",
      "INFO    [07:48:08]  Deploying platform version 8.342.20 and application dev build 4 for dev-aws-us-east-1c of default ...\n",
      "INFO    [07:48:08]  Using CA signed certificate version 1\n",
      "INFO    [07:48:09]  Using 1 nodes in container cluster 'feedperformancecloud_container'\n",
      "INFO    [07:48:14]  Session 289370 for tenant 'vespa-team' prepared and activated.\n",
      "INFO    [07:48:18]  ######## Details for all nodes ########\n",
      "INFO    [07:48:23]  h88962a.dev.aws-us-east-1c.vespa-external.aws.oath.cloud: expected to be UP\n",
      "INFO    [07:48:23]  --- platform vespa/cloud-tenant-rhel8:8.342.20 <-- :\n",
      "INFO    [07:48:23]  --- storagenode on port 19102 has not started \n",
      "INFO    [07:48:23]  --- searchnode on port 19107 has not started \n",
      "INFO    [07:48:23]  --- distributor on port 19111 has not started \n",
      "INFO    [07:48:23]  --- metricsproxy-container on port 19092 has not started \n",
      "INFO    [07:48:23]  h88972b.dev.aws-us-east-1c.vespa-external.aws.oath.cloud: expected to be UP\n",
      "INFO    [07:48:23]  --- platform vespa/cloud-tenant-rhel8:8.342.20 <-- :\n",
      "INFO    [07:48:23]  --- container-clustercontroller on port 19050 has not started \n",
      "INFO    [07:48:23]  --- metricsproxy-container on port 19092 has not started \n",
      "INFO    [07:48:23]  h91000c.dev.aws-us-east-1c.vespa-external.aws.oath.cloud: expected to be UP\n",
      "INFO    [07:48:23]  --- platform vespa/cloud-tenant-rhel8:8.342.20 <-- :\n",
      "INFO    [07:48:23]  --- logserver-container on port 4080 has not started \n",
      "INFO    [07:48:23]  --- metricsproxy-container on port 19092 has not started \n",
      "INFO    [07:48:23]  h92981a.dev.aws-us-east-1c.vespa-external.aws.oath.cloud: expected to be UP\n",
      "INFO    [07:48:23]  --- platform vespa/cloud-tenant-rhel8:8.342.20 <-- :\n",
      "INFO    [07:48:23]  --- container on port 4080 has not started \n",
      "INFO    [07:48:23]  --- metricsproxy-container on port 19092 has not started \n",
      "INFO    [07:49:22]  Waiting for convergence of 10 services across 4 nodes\n",
      "INFO    [07:49:22]  1/1 nodes upgrading platform\n",
      "DEBUG   [07:49:22]  h92981a.dev.aws-us-east-1c.vespa-external.aws.oath.cloud: expected to be UP\n",
      "DEBUG   [07:49:22]  --- platform vespa/cloud-tenant-rhel8:8.342.20 <-- :\n",
      "INFO    [07:49:52]  Found endpoints:\n",
      "INFO    [07:49:52]  - dev.aws-us-east-1c\n",
      "INFO    [07:49:52]   |-- https://d676cb7f.de1aad41.z.vespa-app.cloud/ (cluster 'feedperformancecloud_container')\n",
      "INFO    [07:49:52]  Installation succeeded!\n",
      "Using mTLS (key,cert) Authentication against endpoint https://d676cb7f.de1aad41.z.vespa-app.cloud//ApplicationStatus\n",
      "Application is up!\n",
      "Finished deployment.\n"
     ]
    }
   ],
   "source": [
    "app = vespa_cloud.deploy()"
   ]
  },
  {
   "cell_type": "markdown",
   "id": "sealed-mustang",
   "metadata": {},
   "source": [
    "## Preparing the data\n",
    "\n",
    "In this example we use [HF Datasets](https://huggingface.co/docs/datasets/index) library to stream the\n",
    "[\"Cohere/wikipedia-2023-11-embed-multilingual-v3\"](https://huggingface.co/datasets/Cohere/wikipedia-2023-11-embed-multilingual-v3) dataset and index in our newly deployed Vespa instance.\n",
    "\n",
    "The dataset contains wikipedia-pages, and their corresponding embeddings.\n",
    "\n",
    "> For this exploration we will use the `id` , `text` and `embedding`-fields\n",
    "\n",
    "The following uses the [stream](https://huggingface.co/docs/datasets/stream) option of datasets to stream the data without\n",
    "downloading all the contents locally.\n",
    "\n",
    "The `map` functionality allows us to convert the\n",
    "dataset fields into the expected feed format for `pyvespa` which expects a dict with the keys `id` and `fields`:\n",
    "\n",
    "`{ \"id\": \"vespa-document-id\", \"fields\": {\"vespa_field\": \"vespa-field-value\"}}`\n"
   ]
  },
  {
   "cell_type": "code",
   "execution_count": 28,
   "id": "e9d3facd",
   "metadata": {},
   "outputs": [],
   "source": [
    "from datasets import load_dataset\n",
    "\n",
    "dataset = load_dataset(\n",
    "    \"Cohere/wikipedia-2023-11-embed-multilingual-v3\",\n",
    "    \"simple\",\n",
    "    split=\"train\",\n",
    "    streaming=True,\n",
    ")"
   ]
  },
  {
   "cell_type": "markdown",
   "id": "e2b68592",
   "metadata": {},
   "source": [
    "## Utility function to stream different number of documents\n"
   ]
  },
  {
   "cell_type": "code",
   "execution_count": 39,
   "id": "60772727",
   "metadata": {},
   "outputs": [],
   "source": [
    "def get_dataset(n_docs: int = 1000):\n",
    "    return (\n",
    "        dataset.map(\n",
    "            lambda x: {\n",
    "                \"id\": x[\"_id\"] + \"-iter\",\n",
    "                \"fields\": {\"text\": x[\"text\"], \"embedding\": x[\"emb\"]},\n",
    "            }\n",
    "        )\n",
    "        .select_columns([\"id\", \"fields\"])\n",
    "        .take(n_docs)\n",
    "    )"
   ]
  },
  {
   "cell_type": "markdown",
   "id": "5e3f0d0f",
   "metadata": {},
   "source": [
    "### A dataclass to store the parameters and results of the different feeding methods\n"
   ]
  },
  {
   "cell_type": "code",
   "execution_count": 40,
   "id": "b6ab7b70",
   "metadata": {},
   "outputs": [],
   "source": [
    "from dataclasses import dataclass\n",
    "from typing import Callable, Optional, Iterable, Dict\n",
    "\n",
    "\n",
    "@dataclass\n",
    "class FeedParams:\n",
    "    name: str\n",
    "    num_docs: int\n",
    "    max_connections: int\n",
    "    function_name: str\n",
    "    max_workers: Optional[int] = None\n",
    "    max_queue_size: Optional[int] = None\n",
    "    num_concurrent_requests: Optional[int] = None\n",
    "\n",
    "\n",
    "@dataclass\n",
    "class FeedResult(FeedParams):\n",
    "    feed_time: Optional[float] = None"
   ]
  },
  {
   "cell_type": "markdown",
   "id": "f865e5c7",
   "metadata": {},
   "source": [
    "### A common callback function to notify if something goes wrong\n"
   ]
  },
  {
   "cell_type": "code",
   "execution_count": 41,
   "id": "ab4c02b9",
   "metadata": {},
   "outputs": [],
   "source": [
    "from vespa.io import VespaResponse\n",
    "\n",
    "\n",
    "def callback(response: VespaResponse, id: str):\n",
    "    if not response.is_successful():\n",
    "        print(\n",
    "            f\"Failed to feed document {id} with status code {response.status_code}: Reason {response.get_json()}\"\n",
    "        )"
   ]
  },
  {
   "cell_type": "markdown",
   "id": "aa3e99e3",
   "metadata": {},
   "source": [
    "### Defining our feeding functions\n"
   ]
  },
  {
   "cell_type": "code",
   "execution_count": 42,
   "id": "9b70bde7",
   "metadata": {},
   "outputs": [],
   "source": [
    "import time\n",
    "import asyncio\n",
    "\n",
    "\n",
    "def feed_sync(params: FeedParams, data: Iterable[Dict]) -> FeedResult:\n",
    "    start_time = time.time()\n",
    "    with app.syncio(connections=params.max_connections):\n",
    "        for doc in data:\n",
    "            app.feed_data_point(\n",
    "                data_id=doc[\"id\"],\n",
    "                fields=doc[\"fields\"],\n",
    "                schema=\"doc\",\n",
    "                namespace=\"pyvespa-feed\",\n",
    "                callback=callback,\n",
    "            )\n",
    "    end_time = time.time()\n",
    "    return FeedResult(\n",
    "        **params.__dict__,\n",
    "        feed_time=end_time - start_time,\n",
    "    )\n",
    "\n",
    "\n",
    "async def feed_async(params: FeedParams, data: Iterable[Dict]) -> FeedResult:\n",
    "    start_time = time.time()\n",
    "    tasks = []\n",
    "    # We use a semaphore to limit the number of concurrent requests, this is useful to avoid\n",
    "    # running into memory issues when feeding a large number of documents\n",
    "    semaphore = asyncio.Semaphore(params.num_concurrent_requests)\n",
    "\n",
    "    async with app.asyncio(\n",
    "        connections=params.max_connections, total_timeout=params.num_docs // 10\n",
    "    ) as async_app:\n",
    "        for doc in data:\n",
    "            async with semaphore:\n",
    "                task = asyncio.create_task(\n",
    "                    async_app.feed_data_point(\n",
    "                        data_id=doc[\"id\"],\n",
    "                        fields=doc[\"fields\"],\n",
    "                        schema=\"doc\",\n",
    "                        namespace=\"pyvespa-feed\",\n",
    "                        timeout=10,\n",
    "                    )\n",
    "                )\n",
    "                tasks.append(task)\n",
    "\n",
    "        await asyncio.wait(tasks, return_when=asyncio.ALL_COMPLETED)\n",
    "\n",
    "    end_time = time.time()\n",
    "    return FeedResult(\n",
    "        **params.__dict__,\n",
    "        feed_time=end_time - start_time,\n",
    "    )\n",
    "\n",
    "\n",
    "def feed_iterable(params: FeedParams, data: Iterable[Dict]) -> FeedResult:\n",
    "    start = time.time()\n",
    "    app.feed_iterable(\n",
    "        data,\n",
    "        schema=\"doc\",\n",
    "        namespace=\"pyvespa-feed\",\n",
    "        operation_type=\"feed\",\n",
    "        max_queue_size=params.max_queue_size,\n",
    "        max_workers=params.max_workers,\n",
    "        max_connections=params.max_connections,\n",
    "        callback=callback,\n",
    "    )\n",
    "    end = time.time()\n",
    "    sync_feed_time = end - start\n",
    "    return FeedResult(\n",
    "        **params.__dict__,\n",
    "        feed_time=sync_feed_time,\n",
    "    )"
   ]
  },
  {
   "cell_type": "markdown",
   "id": "43614eb0",
   "metadata": {},
   "source": [
    "## Defining our hyperparameters\n"
   ]
  },
  {
   "cell_type": "code",
   "execution_count": 57,
   "id": "a22fe87e",
   "metadata": {},
   "outputs": [
    {
     "name": "stdout",
     "output_type": "stream",
     "text": [
      "Function: feed_sync\n",
      "{'num_docs': 1000, 'max_connections': 16}\n",
      "{'num_docs': 1000, 'max_connections': 64}\n",
      "{'num_docs': 10000, 'max_connections': 16}\n",
      "{'num_docs': 10000, 'max_connections': 64}\n",
      "\n",
      "\n",
      "Function: feed_async\n",
      "{'num_docs': 1000, 'max_connections': 16, 'num_concurrent_requests': 1000}\n",
      "{'num_docs': 10000, 'max_connections': 16, 'num_concurrent_requests': 1000}\n",
      "\n",
      "\n",
      "Function: feed_iterable\n",
      "{'num_docs': 1000, 'max_connections': 64, 'max_workers': 64, 'max_queue_size': 1000}\n",
      "{'num_docs': 10000, 'max_connections': 64, 'max_workers': 64, 'max_queue_size': 1000}\n",
      "\n",
      "\n"
     ]
    }
   ],
   "source": [
    "from itertools import product\n",
    "\n",
    "# We will only run for 1000 documents here as notebook is run as part of CI.\n",
    "# But you will see some plots when run with 100k documents as well.\n",
    "\n",
    "num_docs = [1000, 10_000]\n",
    "\n",
    "params_by_function = {\n",
    "    \"feed_sync\": {\n",
    "        \"num_docs\": num_docs,\n",
    "        \"max_connections\": [16, 64],\n",
    "    },\n",
    "    \"feed_async\": {\n",
    "        \"num_docs\": num_docs,\n",
    "        \"max_connections\": [16],\n",
    "        \"num_concurrent_requests\": [1000],\n",
    "    },\n",
    "    \"feed_iterable\": {\n",
    "        \"num_docs\": num_docs,\n",
    "        \"max_connections\": [64],\n",
    "        \"max_workers\": [64],\n",
    "        \"max_queue_size\": [1000],\n",
    "    },\n",
    "}\n",
    "\n",
    "feed_params = []\n",
    "# Create one FeedParams instance of each permutation\n",
    "for func, parameters in params_by_function.items():\n",
    "    print(f\"Function: {func}\")\n",
    "    keys, values = zip(*parameters.items())\n",
    "    for combination in product(*values):\n",
    "        settings = dict(zip(keys, combination))\n",
    "        print(settings)\n",
    "        feed_params.append(\n",
    "            FeedParams(\n",
    "                name=f\"{settings['num_docs']}_{settings['max_connections']}_{settings.get('max_workers', 0)}_{func}\",\n",
    "                function_name=func,\n",
    "                **settings,\n",
    "            )\n",
    "        )\n",
    "    print(\"\\n\")  # Just to add space between different functions"
   ]
  },
  {
   "cell_type": "code",
   "execution_count": 58,
   "id": "2b3f067c",
   "metadata": {},
   "outputs": [
    {
     "name": "stdout",
     "output_type": "stream",
     "text": [
      "Total number of feed_params: 8\n"
     ]
    }
   ],
   "source": [
    "print(f\"Total number of feed_params: {len(feed_params)}\")"
   ]
  },
  {
   "cell_type": "markdown",
   "id": "15648d56",
   "metadata": {},
   "source": [
    "Now, we will need a way to retrieve the callable function from the function name.\n"
   ]
  },
  {
   "cell_type": "code",
   "execution_count": 59,
   "id": "22044170",
   "metadata": {},
   "outputs": [],
   "source": [
    "# Get reference to function from string name\n",
    "def get_func_from_str(func_name: str) -> Callable:\n",
    "    return globals()[func_name]"
   ]
  },
  {
   "cell_type": "markdown",
   "id": "79f3f550",
   "metadata": {},
   "source": [
    "### Function to clean up after each feed\n",
    "\n",
    "For a fair comparison, we will delete the data before feeding it again.\n"
   ]
  },
  {
   "cell_type": "code",
   "execution_count": 60,
   "id": "1da9d3f9",
   "metadata": {},
   "outputs": [],
   "source": [
    "from typing import Iterable, Dict\n",
    "\n",
    "\n",
    "def delete_data(data: Iterable[Dict]):\n",
    "    app.feed_iterable(\n",
    "        iter=data,\n",
    "        schema=\"doc\",\n",
    "        namespace=\"pyvespa-feed\",\n",
    "        operation_type=\"delete\",\n",
    "        callback=callback,\n",
    "    )"
   ]
  },
  {
   "cell_type": "markdown",
   "id": "e081bf94",
   "metadata": {},
   "source": [
    "## Main experiment loop\n"
   ]
  },
  {
   "cell_type": "markdown",
   "id": "87c8700c",
   "metadata": {},
   "source": [
    "The line below is used to make the code run in Jupyter, as it is already running an event loop\n"
   ]
  },
  {
   "cell_type": "code",
   "execution_count": 61,
   "id": "aaa8f920",
   "metadata": {},
   "outputs": [],
   "source": [
    "import nest_asyncio\n",
    "\n",
    "nest_asyncio.apply()"
   ]
  },
  {
   "cell_type": "code",
   "execution_count": 62,
   "id": "7a55e1c9",
   "metadata": {},
   "outputs": [
    {
     "name": "stdout",
     "output_type": "stream",
     "text": [
      "--------------------------------------------------\n",
      "Starting feed with params:\n",
      "FeedParams(name='1000_16_0_feed_sync', num_docs=1000, max_connections=16, function_name='feed_sync', max_workers=None, max_queue_size=None, num_concurrent_requests=None)\n",
      "Skipping feed_sync\n",
      "--------------------------------------------------\n",
      "Starting feed with params:\n",
      "FeedParams(name='1000_64_0_feed_sync', num_docs=1000, max_connections=64, function_name='feed_sync', max_workers=None, max_queue_size=None, num_concurrent_requests=None)\n",
      "Skipping feed_sync\n",
      "--------------------------------------------------\n",
      "Starting feed with params:\n",
      "FeedParams(name='10000_16_0_feed_sync', num_docs=10000, max_connections=16, function_name='feed_sync', max_workers=None, max_queue_size=None, num_concurrent_requests=None)\n",
      "Skipping feed_sync\n",
      "--------------------------------------------------\n",
      "Starting feed with params:\n",
      "FeedParams(name='10000_64_0_feed_sync', num_docs=10000, max_connections=64, function_name='feed_sync', max_workers=None, max_queue_size=None, num_concurrent_requests=None)\n",
      "Skipping feed_sync\n",
      "--------------------------------------------------\n",
      "Starting feed with params:\n",
      "FeedParams(name='1000_16_0_feed_async', num_docs=1000, max_connections=16, function_name='feed_async', max_workers=None, max_queue_size=None, num_concurrent_requests=1000)\n",
      "Opening httpx client\n",
      "12.125793695449829\n",
      "Deleting data\n",
      "--------------------------------------------------\n",
      "Starting feed with params:\n",
      "FeedParams(name='10000_16_0_feed_async', num_docs=10000, max_connections=16, function_name='feed_async', max_workers=None, max_queue_size=None, num_concurrent_requests=1000)\n",
      "Opening httpx client\n",
      "77.86908006668091\n",
      "Deleting data\n",
      "--------------------------------------------------\n",
      "Starting feed with params:\n",
      "FeedParams(name='1000_64_64_feed_iterable', num_docs=1000, max_connections=64, function_name='feed_iterable', max_workers=64, max_queue_size=1000, num_concurrent_requests=None)\n",
      "6.911942005157471\n",
      "Deleting data\n",
      "--------------------------------------------------\n",
      "Starting feed with params:\n",
      "FeedParams(name='10000_64_64_feed_iterable', num_docs=10000, max_connections=64, function_name='feed_iterable', max_workers=64, max_queue_size=1000, num_concurrent_requests=None)\n",
      "39.70614695549011\n",
      "Deleting data\n"
     ]
    }
   ],
   "source": [
    "results = []\n",
    "for params in feed_params:\n",
    "    print(\"-\" * 50)\n",
    "    print(\"Starting feed with params:\")\n",
    "    print(params)\n",
    "    data = get_dataset(params.num_docs)\n",
    "    if \"async\" not in params.function_name:\n",
    "        if \"feed_sync\" in params.function_name:\n",
    "            print(\"Skipping feed_sync\")\n",
    "            continue\n",
    "        feed_result = get_func_from_str(params.function_name)(params=params, data=data)\n",
    "    else:\n",
    "        feed_result = asyncio.run(\n",
    "            get_func_from_str(params.function_name)(params=params, data=data)\n",
    "        )\n",
    "    print(feed_result.feed_time)\n",
    "    results.append(feed_result)\n",
    "    print(\"Deleting data\")\n",
    "    delete_data(data)"
   ]
  },
  {
   "cell_type": "code",
   "execution_count": null,
   "id": "6e02a682",
   "metadata": {},
   "outputs": [],
   "source": []
  },
  {
   "cell_type": "code",
   "execution_count": 20,
   "id": "e4b7f1a4",
   "metadata": {},
   "outputs": [
    {
     "data": {
      "text/html": [
       "<div>\n",
       "<style scoped>\n",
       "    .dataframe tbody tr th:only-of-type {\n",
       "        vertical-align: middle;\n",
       "    }\n",
       "\n",
       "    .dataframe tbody tr th {\n",
       "        vertical-align: top;\n",
       "    }\n",
       "\n",
       "    .dataframe thead th {\n",
       "        text-align: right;\n",
       "    }\n",
       "</style>\n",
       "<table border=\"1\" class=\"dataframe\">\n",
       "  <thead>\n",
       "    <tr style=\"text-align: right;\">\n",
       "      <th></th>\n",
       "      <th>name</th>\n",
       "      <th>num_docs</th>\n",
       "      <th>max_connections</th>\n",
       "      <th>function_name</th>\n",
       "      <th>max_workers</th>\n",
       "      <th>max_queue_size</th>\n",
       "      <th>num_concurrent_requests</th>\n",
       "      <th>feed_time</th>\n",
       "      <th>requests_per_second</th>\n",
       "    </tr>\n",
       "  </thead>\n",
       "  <tbody>\n",
       "    <tr>\n",
       "      <th>0</th>\n",
       "      <td>10000_16_0_feed_sync</td>\n",
       "      <td>10000</td>\n",
       "      <td>16</td>\n",
       "      <td>feed_sync</td>\n",
       "      <td>NaN</td>\n",
       "      <td>NaN</td>\n",
       "      <td>NaN</td>\n",
       "      <td>49.325479</td>\n",
       "      <td>202.734981</td>\n",
       "    </tr>\n",
       "    <tr>\n",
       "      <th>1</th>\n",
       "      <td>10000_64_0_feed_sync</td>\n",
       "      <td>10000</td>\n",
       "      <td>64</td>\n",
       "      <td>feed_sync</td>\n",
       "      <td>NaN</td>\n",
       "      <td>NaN</td>\n",
       "      <td>NaN</td>\n",
       "      <td>39.845676</td>\n",
       "      <td>250.968259</td>\n",
       "    </tr>\n",
       "    <tr>\n",
       "      <th>2</th>\n",
       "      <td>10000_16_0_feed_async</td>\n",
       "      <td>10000</td>\n",
       "      <td>16</td>\n",
       "      <td>feed_async</td>\n",
       "      <td>NaN</td>\n",
       "      <td>NaN</td>\n",
       "      <td>1000.0</td>\n",
       "      <td>32.393786</td>\n",
       "      <td>308.701182</td>\n",
       "    </tr>\n",
       "    <tr>\n",
       "      <th>3</th>\n",
       "      <td>10000_16_0_feed_async</td>\n",
       "      <td>10000</td>\n",
       "      <td>16</td>\n",
       "      <td>feed_async</td>\n",
       "      <td>NaN</td>\n",
       "      <td>NaN</td>\n",
       "      <td>10000.0</td>\n",
       "      <td>32.446093</td>\n",
       "      <td>308.203517</td>\n",
       "    </tr>\n",
       "    <tr>\n",
       "      <th>4</th>\n",
       "      <td>10000_64_0_feed_async</td>\n",
       "      <td>10000</td>\n",
       "      <td>64</td>\n",
       "      <td>feed_async</td>\n",
       "      <td>NaN</td>\n",
       "      <td>NaN</td>\n",
       "      <td>1000.0</td>\n",
       "      <td>32.581518</td>\n",
       "      <td>306.922469</td>\n",
       "    </tr>\n",
       "    <tr>\n",
       "      <th>5</th>\n",
       "      <td>10000_64_0_feed_async</td>\n",
       "      <td>10000</td>\n",
       "      <td>64</td>\n",
       "      <td>feed_async</td>\n",
       "      <td>NaN</td>\n",
       "      <td>NaN</td>\n",
       "      <td>10000.0</td>\n",
       "      <td>32.413599</td>\n",
       "      <td>308.512488</td>\n",
       "    </tr>\n",
       "    <tr>\n",
       "      <th>6</th>\n",
       "      <td>10000_64_16_feed_iterable</td>\n",
       "      <td>10000</td>\n",
       "      <td>64</td>\n",
       "      <td>feed_iterable</td>\n",
       "      <td>16.0</td>\n",
       "      <td>1000.0</td>\n",
       "      <td>NaN</td>\n",
       "      <td>23.700497</td>\n",
       "      <td>421.932082</td>\n",
       "    </tr>\n",
       "    <tr>\n",
       "      <th>7</th>\n",
       "      <td>10000_64_16_feed_iterable</td>\n",
       "      <td>10000</td>\n",
       "      <td>64</td>\n",
       "      <td>feed_iterable</td>\n",
       "      <td>16.0</td>\n",
       "      <td>10000.0</td>\n",
       "      <td>NaN</td>\n",
       "      <td>32.672392</td>\n",
       "      <td>306.068807</td>\n",
       "    </tr>\n",
       "    <tr>\n",
       "      <th>8</th>\n",
       "      <td>10000_64_64_feed_iterable</td>\n",
       "      <td>10000</td>\n",
       "      <td>64</td>\n",
       "      <td>feed_iterable</td>\n",
       "      <td>64.0</td>\n",
       "      <td>1000.0</td>\n",
       "      <td>NaN</td>\n",
       "      <td>20.216159</td>\n",
       "      <td>494.653810</td>\n",
       "    </tr>\n",
       "    <tr>\n",
       "      <th>9</th>\n",
       "      <td>10000_64_64_feed_iterable</td>\n",
       "      <td>10000</td>\n",
       "      <td>64</td>\n",
       "      <td>feed_iterable</td>\n",
       "      <td>64.0</td>\n",
       "      <td>10000.0</td>\n",
       "      <td>NaN</td>\n",
       "      <td>20.259803</td>\n",
       "      <td>493.588208</td>\n",
       "    </tr>\n",
       "    <tr>\n",
       "      <th>10</th>\n",
       "      <td>10000_128_16_feed_iterable</td>\n",
       "      <td>10000</td>\n",
       "      <td>128</td>\n",
       "      <td>feed_iterable</td>\n",
       "      <td>16.0</td>\n",
       "      <td>1000.0</td>\n",
       "      <td>NaN</td>\n",
       "      <td>23.754901</td>\n",
       "      <td>420.965763</td>\n",
       "    </tr>\n",
       "    <tr>\n",
       "      <th>11</th>\n",
       "      <td>10000_128_16_feed_iterable</td>\n",
       "      <td>10000</td>\n",
       "      <td>128</td>\n",
       "      <td>feed_iterable</td>\n",
       "      <td>16.0</td>\n",
       "      <td>10000.0</td>\n",
       "      <td>NaN</td>\n",
       "      <td>30.612012</td>\n",
       "      <td>326.669150</td>\n",
       "    </tr>\n",
       "    <tr>\n",
       "      <th>12</th>\n",
       "      <td>10000_128_64_feed_iterable</td>\n",
       "      <td>10000</td>\n",
       "      <td>128</td>\n",
       "      <td>feed_iterable</td>\n",
       "      <td>64.0</td>\n",
       "      <td>1000.0</td>\n",
       "      <td>NaN</td>\n",
       "      <td>20.107515</td>\n",
       "      <td>497.326501</td>\n",
       "    </tr>\n",
       "    <tr>\n",
       "      <th>13</th>\n",
       "      <td>10000_128_64_feed_iterable</td>\n",
       "      <td>10000</td>\n",
       "      <td>128</td>\n",
       "      <td>feed_iterable</td>\n",
       "      <td>64.0</td>\n",
       "      <td>10000.0</td>\n",
       "      <td>NaN</td>\n",
       "      <td>20.490501</td>\n",
       "      <td>488.031011</td>\n",
       "    </tr>\n",
       "  </tbody>\n",
       "</table>\n",
       "</div>"
      ],
      "text/plain": [
       "                          name  num_docs  max_connections  function_name  \\\n",
       "0         10000_16_0_feed_sync     10000               16      feed_sync   \n",
       "1         10000_64_0_feed_sync     10000               64      feed_sync   \n",
       "2        10000_16_0_feed_async     10000               16     feed_async   \n",
       "3        10000_16_0_feed_async     10000               16     feed_async   \n",
       "4        10000_64_0_feed_async     10000               64     feed_async   \n",
       "5        10000_64_0_feed_async     10000               64     feed_async   \n",
       "6    10000_64_16_feed_iterable     10000               64  feed_iterable   \n",
       "7    10000_64_16_feed_iterable     10000               64  feed_iterable   \n",
       "8    10000_64_64_feed_iterable     10000               64  feed_iterable   \n",
       "9    10000_64_64_feed_iterable     10000               64  feed_iterable   \n",
       "10  10000_128_16_feed_iterable     10000              128  feed_iterable   \n",
       "11  10000_128_16_feed_iterable     10000              128  feed_iterable   \n",
       "12  10000_128_64_feed_iterable     10000              128  feed_iterable   \n",
       "13  10000_128_64_feed_iterable     10000              128  feed_iterable   \n",
       "\n",
       "    max_workers  max_queue_size  num_concurrent_requests  feed_time  \\\n",
       "0           NaN             NaN                      NaN  49.325479   \n",
       "1           NaN             NaN                      NaN  39.845676   \n",
       "2           NaN             NaN                   1000.0  32.393786   \n",
       "3           NaN             NaN                  10000.0  32.446093   \n",
       "4           NaN             NaN                   1000.0  32.581518   \n",
       "5           NaN             NaN                  10000.0  32.413599   \n",
       "6          16.0          1000.0                      NaN  23.700497   \n",
       "7          16.0         10000.0                      NaN  32.672392   \n",
       "8          64.0          1000.0                      NaN  20.216159   \n",
       "9          64.0         10000.0                      NaN  20.259803   \n",
       "10         16.0          1000.0                      NaN  23.754901   \n",
       "11         16.0         10000.0                      NaN  30.612012   \n",
       "12         64.0          1000.0                      NaN  20.107515   \n",
       "13         64.0         10000.0                      NaN  20.490501   \n",
       "\n",
       "    requests_per_second  \n",
       "0            202.734981  \n",
       "1            250.968259  \n",
       "2            308.701182  \n",
       "3            308.203517  \n",
       "4            306.922469  \n",
       "5            308.512488  \n",
       "6            421.932082  \n",
       "7            306.068807  \n",
       "8            494.653810  \n",
       "9            493.588208  \n",
       "10           420.965763  \n",
       "11           326.669150  \n",
       "12           497.326501  \n",
       "13           488.031011  "
      ]
     },
     "execution_count": 20,
     "metadata": {},
     "output_type": "execute_result"
    }
   ],
   "source": [
    "# Create a pandas DataFrame with the results\n",
    "import pandas as pd\n",
    "\n",
    "df = pd.DataFrame([result.__dict__ for result in results])\n",
    "df[\"requests_per_second\"] = df[\"num_docs\"] / df[\"feed_time\"]\n",
    "df"
   ]
  },
  {
   "cell_type": "code",
   "execution_count": 21,
   "id": "b94ef835",
   "metadata": {},
   "outputs": [
    {
     "data": {
      "application/vnd.plotly.v1+json": {
       "config": {
        "plotlyServerURL": "https://plot.ly"
       },
       "data": [
        {
         "customdata": [
          [
           null,
           null,
           16,
           null
          ],
          [
           null,
           null,
           64,
           null
          ]
         ],
         "hovertemplate": "function_name=feed_sync<br>Number of Documents=%{x}<br>Requests per Second=%{y}<br>max_workers=%{customdata[0]}<br>max_queue_size=%{customdata[1]}<br>max_connections=%{customdata[2]}<br>num_concurrent_requests=%{customdata[3]}<extra></extra>",
         "legendgroup": "feed_sync",
         "marker": {
          "color": "#636efa",
          "opacity": 0.7,
          "size": 12,
          "symbol": "circle"
         },
         "mode": "markers",
         "name": "feed_sync",
         "orientation": "v",
         "showlegend": true,
         "type": "scatter",
         "x": [
          10000,
          10000
         ],
         "xaxis": "x",
         "y": [
          202.73498088341412,
          250.96825948936063
         ],
         "yaxis": "y"
        },
        {
         "customdata": [
          [
           null,
           null,
           16,
           1000
          ],
          [
           null,
           null,
           16,
           10000
          ],
          [
           null,
           null,
           64,
           1000
          ],
          [
           null,
           null,
           64,
           10000
          ]
         ],
         "hovertemplate": "function_name=feed_async<br>Number of Documents=%{x}<br>Requests per Second=%{y}<br>max_workers=%{customdata[0]}<br>max_queue_size=%{customdata[1]}<br>max_connections=%{customdata[2]}<br>num_concurrent_requests=%{customdata[3]}<extra></extra>",
         "legendgroup": "feed_async",
         "marker": {
          "color": "#EF553B",
          "opacity": 0.7,
          "size": 12,
          "symbol": "circle"
         },
         "mode": "markers",
         "name": "feed_async",
         "orientation": "v",
         "showlegend": true,
         "type": "scatter",
         "x": [
          10000,
          10000,
          10000,
          10000
         ],
         "xaxis": "x",
         "y": [
          308.70118158920656,
          308.20351697184026,
          306.92246895419584,
          308.5124878958632
         ],
         "yaxis": "y"
        },
        {
         "customdata": [
          [
           16,
           1000,
           64,
           null
          ],
          [
           16,
           10000,
           64,
           null
          ],
          [
           64,
           1000,
           64,
           null
          ],
          [
           64,
           10000,
           64,
           null
          ],
          [
           16,
           1000,
           128,
           null
          ],
          [
           16,
           10000,
           128,
           null
          ],
          [
           64,
           1000,
           128,
           null
          ],
          [
           64,
           10000,
           128,
           null
          ]
         ],
         "hovertemplate": "function_name=feed_iterable<br>Number of Documents=%{x}<br>Requests per Second=%{y}<br>max_workers=%{customdata[0]}<br>max_queue_size=%{customdata[1]}<br>max_connections=%{customdata[2]}<br>num_concurrent_requests=%{customdata[3]}<extra></extra>",
         "legendgroup": "feed_iterable",
         "marker": {
          "color": "#00cc96",
          "opacity": 0.7,
          "size": 12,
          "symbol": "circle"
         },
         "mode": "markers",
         "name": "feed_iterable",
         "orientation": "v",
         "showlegend": true,
         "type": "scatter",
         "x": [
          10000,
          10000,
          10000,
          10000,
          10000,
          10000,
          10000,
          10000
         ],
         "xaxis": "x",
         "y": [
          421.93208172507696,
          306.06880675325954,
          494.6538096503478,
          493.5882078579243,
          420.9657631700644,
          326.66915038725676,
          497.3265005893615,
          488.03101101747313
         ],
         "yaxis": "y"
        }
       ],
       "layout": {
        "font": {
         "size": 16
        },
        "legend": {
         "title": {
          "font": {
           "size": 16
          },
          "text": "Function Details"
         },
         "tracegroupgap": 0,
         "x": 800,
         "xanchor": "auto",
         "y": 1,
         "yanchor": "auto"
        },
        "template": {
         "data": {
          "bar": [
           {
            "error_x": {
             "color": "#2a3f5f"
            },
            "error_y": {
             "color": "#2a3f5f"
            },
            "marker": {
             "line": {
              "color": "white",
              "width": 0.5
             },
             "pattern": {
              "fillmode": "overlay",
              "size": 10,
              "solidity": 0.2
             }
            },
            "type": "bar"
           }
          ],
          "barpolar": [
           {
            "marker": {
             "line": {
              "color": "white",
              "width": 0.5
             },
             "pattern": {
              "fillmode": "overlay",
              "size": 10,
              "solidity": 0.2
             }
            },
            "type": "barpolar"
           }
          ],
          "carpet": [
           {
            "aaxis": {
             "endlinecolor": "#2a3f5f",
             "gridcolor": "#C8D4E3",
             "linecolor": "#C8D4E3",
             "minorgridcolor": "#C8D4E3",
             "startlinecolor": "#2a3f5f"
            },
            "baxis": {
             "endlinecolor": "#2a3f5f",
             "gridcolor": "#C8D4E3",
             "linecolor": "#C8D4E3",
             "minorgridcolor": "#C8D4E3",
             "startlinecolor": "#2a3f5f"
            },
            "type": "carpet"
           }
          ],
          "choropleth": [
           {
            "colorbar": {
             "outlinewidth": 0,
             "ticks": ""
            },
            "type": "choropleth"
           }
          ],
          "contour": [
           {
            "colorbar": {
             "outlinewidth": 0,
             "ticks": ""
            },
            "colorscale": [
             [
              0,
              "#0d0887"
             ],
             [
              0.1111111111111111,
              "#46039f"
             ],
             [
              0.2222222222222222,
              "#7201a8"
             ],
             [
              0.3333333333333333,
              "#9c179e"
             ],
             [
              0.4444444444444444,
              "#bd3786"
             ],
             [
              0.5555555555555556,
              "#d8576b"
             ],
             [
              0.6666666666666666,
              "#ed7953"
             ],
             [
              0.7777777777777778,
              "#fb9f3a"
             ],
             [
              0.8888888888888888,
              "#fdca26"
             ],
             [
              1,
              "#f0f921"
             ]
            ],
            "type": "contour"
           }
          ],
          "contourcarpet": [
           {
            "colorbar": {
             "outlinewidth": 0,
             "ticks": ""
            },
            "type": "contourcarpet"
           }
          ],
          "heatmap": [
           {
            "colorbar": {
             "outlinewidth": 0,
             "ticks": ""
            },
            "colorscale": [
             [
              0,
              "#0d0887"
             ],
             [
              0.1111111111111111,
              "#46039f"
             ],
             [
              0.2222222222222222,
              "#7201a8"
             ],
             [
              0.3333333333333333,
              "#9c179e"
             ],
             [
              0.4444444444444444,
              "#bd3786"
             ],
             [
              0.5555555555555556,
              "#d8576b"
             ],
             [
              0.6666666666666666,
              "#ed7953"
             ],
             [
              0.7777777777777778,
              "#fb9f3a"
             ],
             [
              0.8888888888888888,
              "#fdca26"
             ],
             [
              1,
              "#f0f921"
             ]
            ],
            "type": "heatmap"
           }
          ],
          "heatmapgl": [
           {
            "colorbar": {
             "outlinewidth": 0,
             "ticks": ""
            },
            "colorscale": [
             [
              0,
              "#0d0887"
             ],
             [
              0.1111111111111111,
              "#46039f"
             ],
             [
              0.2222222222222222,
              "#7201a8"
             ],
             [
              0.3333333333333333,
              "#9c179e"
             ],
             [
              0.4444444444444444,
              "#bd3786"
             ],
             [
              0.5555555555555556,
              "#d8576b"
             ],
             [
              0.6666666666666666,
              "#ed7953"
             ],
             [
              0.7777777777777778,
              "#fb9f3a"
             ],
             [
              0.8888888888888888,
              "#fdca26"
             ],
             [
              1,
              "#f0f921"
             ]
            ],
            "type": "heatmapgl"
           }
          ],
          "histogram": [
           {
            "marker": {
             "pattern": {
              "fillmode": "overlay",
              "size": 10,
              "solidity": 0.2
             }
            },
            "type": "histogram"
           }
          ],
          "histogram2d": [
           {
            "colorbar": {
             "outlinewidth": 0,
             "ticks": ""
            },
            "colorscale": [
             [
              0,
              "#0d0887"
             ],
             [
              0.1111111111111111,
              "#46039f"
             ],
             [
              0.2222222222222222,
              "#7201a8"
             ],
             [
              0.3333333333333333,
              "#9c179e"
             ],
             [
              0.4444444444444444,
              "#bd3786"
             ],
             [
              0.5555555555555556,
              "#d8576b"
             ],
             [
              0.6666666666666666,
              "#ed7953"
             ],
             [
              0.7777777777777778,
              "#fb9f3a"
             ],
             [
              0.8888888888888888,
              "#fdca26"
             ],
             [
              1,
              "#f0f921"
             ]
            ],
            "type": "histogram2d"
           }
          ],
          "histogram2dcontour": [
           {
            "colorbar": {
             "outlinewidth": 0,
             "ticks": ""
            },
            "colorscale": [
             [
              0,
              "#0d0887"
             ],
             [
              0.1111111111111111,
              "#46039f"
             ],
             [
              0.2222222222222222,
              "#7201a8"
             ],
             [
              0.3333333333333333,
              "#9c179e"
             ],
             [
              0.4444444444444444,
              "#bd3786"
             ],
             [
              0.5555555555555556,
              "#d8576b"
             ],
             [
              0.6666666666666666,
              "#ed7953"
             ],
             [
              0.7777777777777778,
              "#fb9f3a"
             ],
             [
              0.8888888888888888,
              "#fdca26"
             ],
             [
              1,
              "#f0f921"
             ]
            ],
            "type": "histogram2dcontour"
           }
          ],
          "mesh3d": [
           {
            "colorbar": {
             "outlinewidth": 0,
             "ticks": ""
            },
            "type": "mesh3d"
           }
          ],
          "parcoords": [
           {
            "line": {
             "colorbar": {
              "outlinewidth": 0,
              "ticks": ""
             }
            },
            "type": "parcoords"
           }
          ],
          "pie": [
           {
            "automargin": true,
            "type": "pie"
           }
          ],
          "scatter": [
           {
            "fillpattern": {
             "fillmode": "overlay",
             "size": 10,
             "solidity": 0.2
            },
            "type": "scatter"
           }
          ],
          "scatter3d": [
           {
            "line": {
             "colorbar": {
              "outlinewidth": 0,
              "ticks": ""
             }
            },
            "marker": {
             "colorbar": {
              "outlinewidth": 0,
              "ticks": ""
             }
            },
            "type": "scatter3d"
           }
          ],
          "scattercarpet": [
           {
            "marker": {
             "colorbar": {
              "outlinewidth": 0,
              "ticks": ""
             }
            },
            "type": "scattercarpet"
           }
          ],
          "scattergeo": [
           {
            "marker": {
             "colorbar": {
              "outlinewidth": 0,
              "ticks": ""
             }
            },
            "type": "scattergeo"
           }
          ],
          "scattergl": [
           {
            "marker": {
             "colorbar": {
              "outlinewidth": 0,
              "ticks": ""
             }
            },
            "type": "scattergl"
           }
          ],
          "scattermapbox": [
           {
            "marker": {
             "colorbar": {
              "outlinewidth": 0,
              "ticks": ""
             }
            },
            "type": "scattermapbox"
           }
          ],
          "scatterpolar": [
           {
            "marker": {
             "colorbar": {
              "outlinewidth": 0,
              "ticks": ""
             }
            },
            "type": "scatterpolar"
           }
          ],
          "scatterpolargl": [
           {
            "marker": {
             "colorbar": {
              "outlinewidth": 0,
              "ticks": ""
             }
            },
            "type": "scatterpolargl"
           }
          ],
          "scatterternary": [
           {
            "marker": {
             "colorbar": {
              "outlinewidth": 0,
              "ticks": ""
             }
            },
            "type": "scatterternary"
           }
          ],
          "surface": [
           {
            "colorbar": {
             "outlinewidth": 0,
             "ticks": ""
            },
            "colorscale": [
             [
              0,
              "#0d0887"
             ],
             [
              0.1111111111111111,
              "#46039f"
             ],
             [
              0.2222222222222222,
              "#7201a8"
             ],
             [
              0.3333333333333333,
              "#9c179e"
             ],
             [
              0.4444444444444444,
              "#bd3786"
             ],
             [
              0.5555555555555556,
              "#d8576b"
             ],
             [
              0.6666666666666666,
              "#ed7953"
             ],
             [
              0.7777777777777778,
              "#fb9f3a"
             ],
             [
              0.8888888888888888,
              "#fdca26"
             ],
             [
              1,
              "#f0f921"
             ]
            ],
            "type": "surface"
           }
          ],
          "table": [
           {
            "cells": {
             "fill": {
              "color": "#EBF0F8"
             },
             "line": {
              "color": "white"
             }
            },
            "header": {
             "fill": {
              "color": "#C8D4E3"
             },
             "line": {
              "color": "white"
             }
            },
            "type": "table"
           }
          ]
         },
         "layout": {
          "annotationdefaults": {
           "arrowcolor": "#2a3f5f",
           "arrowhead": 0,
           "arrowwidth": 1
          },
          "autotypenumbers": "strict",
          "coloraxis": {
           "colorbar": {
            "outlinewidth": 0,
            "ticks": ""
           }
          },
          "colorscale": {
           "diverging": [
            [
             0,
             "#8e0152"
            ],
            [
             0.1,
             "#c51b7d"
            ],
            [
             0.2,
             "#de77ae"
            ],
            [
             0.3,
             "#f1b6da"
            ],
            [
             0.4,
             "#fde0ef"
            ],
            [
             0.5,
             "#f7f7f7"
            ],
            [
             0.6,
             "#e6f5d0"
            ],
            [
             0.7,
             "#b8e186"
            ],
            [
             0.8,
             "#7fbc41"
            ],
            [
             0.9,
             "#4d9221"
            ],
            [
             1,
             "#276419"
            ]
           ],
           "sequential": [
            [
             0,
             "#0d0887"
            ],
            [
             0.1111111111111111,
             "#46039f"
            ],
            [
             0.2222222222222222,
             "#7201a8"
            ],
            [
             0.3333333333333333,
             "#9c179e"
            ],
            [
             0.4444444444444444,
             "#bd3786"
            ],
            [
             0.5555555555555556,
             "#d8576b"
            ],
            [
             0.6666666666666666,
             "#ed7953"
            ],
            [
             0.7777777777777778,
             "#fb9f3a"
            ],
            [
             0.8888888888888888,
             "#fdca26"
            ],
            [
             1,
             "#f0f921"
            ]
           ],
           "sequentialminus": [
            [
             0,
             "#0d0887"
            ],
            [
             0.1111111111111111,
             "#46039f"
            ],
            [
             0.2222222222222222,
             "#7201a8"
            ],
            [
             0.3333333333333333,
             "#9c179e"
            ],
            [
             0.4444444444444444,
             "#bd3786"
            ],
            [
             0.5555555555555556,
             "#d8576b"
            ],
            [
             0.6666666666666666,
             "#ed7953"
            ],
            [
             0.7777777777777778,
             "#fb9f3a"
            ],
            [
             0.8888888888888888,
             "#fdca26"
            ],
            [
             1,
             "#f0f921"
            ]
           ]
          },
          "colorway": [
           "#636efa",
           "#EF553B",
           "#00cc96",
           "#ab63fa",
           "#FFA15A",
           "#19d3f3",
           "#FF6692",
           "#B6E880",
           "#FF97FF",
           "#FECB52"
          ],
          "font": {
           "color": "#2a3f5f"
          },
          "geo": {
           "bgcolor": "white",
           "lakecolor": "white",
           "landcolor": "white",
           "showlakes": true,
           "showland": true,
           "subunitcolor": "#C8D4E3"
          },
          "hoverlabel": {
           "align": "left"
          },
          "hovermode": "closest",
          "mapbox": {
           "style": "light"
          },
          "paper_bgcolor": "white",
          "plot_bgcolor": "white",
          "polar": {
           "angularaxis": {
            "gridcolor": "#EBF0F8",
            "linecolor": "#EBF0F8",
            "ticks": ""
           },
           "bgcolor": "white",
           "radialaxis": {
            "gridcolor": "#EBF0F8",
            "linecolor": "#EBF0F8",
            "ticks": ""
           }
          },
          "scene": {
           "xaxis": {
            "backgroundcolor": "white",
            "gridcolor": "#DFE8F3",
            "gridwidth": 2,
            "linecolor": "#EBF0F8",
            "showbackground": true,
            "ticks": "",
            "zerolinecolor": "#EBF0F8"
           },
           "yaxis": {
            "backgroundcolor": "white",
            "gridcolor": "#DFE8F3",
            "gridwidth": 2,
            "linecolor": "#EBF0F8",
            "showbackground": true,
            "ticks": "",
            "zerolinecolor": "#EBF0F8"
           },
           "zaxis": {
            "backgroundcolor": "white",
            "gridcolor": "#DFE8F3",
            "gridwidth": 2,
            "linecolor": "#EBF0F8",
            "showbackground": true,
            "ticks": "",
            "zerolinecolor": "#EBF0F8"
           }
          },
          "shapedefaults": {
           "line": {
            "color": "#2a3f5f"
           }
          },
          "ternary": {
           "aaxis": {
            "gridcolor": "#DFE8F3",
            "linecolor": "#A2B1C6",
            "ticks": ""
           },
           "baxis": {
            "gridcolor": "#DFE8F3",
            "linecolor": "#A2B1C6",
            "ticks": ""
           },
           "bgcolor": "white",
           "caxis": {
            "gridcolor": "#DFE8F3",
            "linecolor": "#A2B1C6",
            "ticks": ""
           }
          },
          "title": {
           "x": 0.05
          },
          "xaxis": {
           "automargin": true,
           "gridcolor": "#EBF0F8",
           "linecolor": "#EBF0F8",
           "ticks": "",
           "title": {
            "standoff": 15
           },
           "zerolinecolor": "#EBF0F8",
           "zerolinewidth": 2
          },
          "yaxis": {
           "automargin": true,
           "gridcolor": "#EBF0F8",
           "linecolor": "#EBF0F8",
           "ticks": "",
           "title": {
            "standoff": 15
           },
           "zerolinecolor": "#EBF0F8",
           "zerolinewidth": 2
          }
         }
        },
        "title": {
         "text": "Performance: Requests per Second vs. Number of Documents"
        },
        "width": 800,
        "xaxis": {
         "anchor": "y",
         "domain": [
          0,
          1
         ],
         "ticktext": [
          "1k",
          "10k",
          "100k"
         ],
         "tickvals": [
          1000,
          10000,
          100000
         ],
         "title": {
          "text": "Number of Documents"
         },
         "type": "log"
        },
        "yaxis": {
         "anchor": "x",
         "domain": [
          0,
          1
         ],
         "title": {
          "text": "Requests per Second"
         }
        }
       }
      }
     },
     "metadata": {},
     "output_type": "display_data"
    }
   ],
   "source": [
    "import plotly.express as px\n",
    "\n",
    "\n",
    "def plot_performance(df: pd.DataFrame):\n",
    "    # Create a scatter plot with logarithmic scale for both axes using Plotly Express\n",
    "    fig = px.scatter(\n",
    "        df,\n",
    "        x=\"num_docs\",\n",
    "        y=\"requests_per_second\",\n",
    "        color=\"function_name\",  # Defines color based on different functions\n",
    "        log_x=True,  # Set x-axis to logarithmic scale\n",
    "        log_y=False,  # If you also want the y-axis in logarithmic scale, set this to True\n",
    "        title=\"Performance: Requests per Second vs. Number of Documents\",\n",
    "        labels={  # Customizing axis labels\n",
    "            \"num_docs\": \"Number of Documents\",\n",
    "            \"requests_per_second\": \"Requests per Second\",\n",
    "            \"max_workers\": \"max_workers\",\n",
    "            \"max_queue_size\": \"max_queue_size\",\n",
    "            \"max_connections\": \"max_connections\",\n",
    "            \"num_concurrent_requests\": \"num_concurrent_requests\",\n",
    "        },\n",
    "        template=\"plotly_white\",  # This sets the style to a white background, adhering to Tufte's minimalist principles\n",
    "        hover_data=[\n",
    "            \"max_workers\",\n",
    "            \"max_queue_size\",\n",
    "            \"max_connections\",\n",
    "            \"num_concurrent_requests\",\n",
    "        ],  # Additional information to show on hover\n",
    "    )\n",
    "\n",
    "    # Update layout for better readability, similar to 'talk' context in Seaborn\n",
    "    fig.update_layout(\n",
    "        font=dict(\n",
    "            size=16,  # Adjusting font size for better visibility, similar to 'talk' context\n",
    "        ),\n",
    "        legend_title_text=\"Function Details\",  # Custom legend title\n",
    "        legend=dict(\n",
    "            title_font_size=16,\n",
    "            x=800,  # Adjusting legend position similar to bbox_to_anchor in Matplotlib\n",
    "            xanchor=\"auto\",\n",
    "            y=1,\n",
    "            yanchor=\"auto\",\n",
    "        ),\n",
    "        width=800,  # Adjusting width of the plot\n",
    "    )\n",
    "    fig.update_xaxes(\n",
    "        tickvals=[1000, 10000, 100000],  # Set specific tick values\n",
    "        ticktext=[\"1k\", \"10k\", \"100k\"],  # Set corresponding tick labels\n",
    "    )\n",
    "\n",
    "    fig.update_traces(\n",
    "        marker=dict(size=12, opacity=0.7)\n",
    "    )  # Adjust marker size and opacity\n",
    "    # Show plot\n",
    "    fig.show()\n",
    "    # Save plot as HTML file\n",
    "    fig.write_html(\"performance.html\")\n",
    "\n",
    "\n",
    "plot_performance(df)"
   ]
  },
  {
   "cell_type": "markdown",
   "id": "87e85696",
   "metadata": {},
   "source": [
    "Here is the corresponding plot when run with 1k, 10k, and 100k documents:\n"
   ]
  },
  {
   "cell_type": "markdown",
   "id": "c585c5e5",
   "metadata": {},
   "source": [
    "![image](../../_static/feed_performance.png)\n"
   ]
  },
  {
   "cell_type": "markdown",
   "id": "46a28331",
   "metadata": {},
   "source": [
    "Interesting. Let's try to summarize the insights we got from this experiment:\n",
    "\n",
    "- The `feed_sync` method is the slowest, and does not benefit much from increasing 'max_connections'.\n",
    "  As there is no concurrency, and each request is blocking, this will be bound by the network latency, which in many cases will be a lot higher than when running against a local VespaDocker instance. For example, if you have 100ms latency against your Vespa instance, you can only feed 10 documents per second using the `VespaSync` method.\n",
    "- The `feed_async` method is the fastest, and benefits slightly from increasing 'max_connections' regardless of the number of documents. This method is non-blocking, and will likely be even more beneficial when running against a remote Vespa instance, such as [Vespa Cloud](https://cloud.vespa.ai/), when network latency is higher.\n",
    "- The `feed_iterable` performance is somewhere in between the other two methods, and benefits a lot from increasing `num_workers` when the number of documents increases.\n",
    "\n",
    "We have not looked at multiprocessing, but there is definitively room to utilize more cores to improve further upon these results.\n",
    "But there is one alternative that it is interesting to compare against, the Vespa CLI.\n"
   ]
  },
  {
   "cell_type": "markdown",
   "id": "5630e540",
   "metadata": {},
   "source": [
    "## Feeding with Vespa CLI\n",
    "\n",
    "[Vespa CLI](https://docs.vespa.ai/en/vespa-cli) is a command-line interface for interacting with Vespa.\n",
    "\n",
    "Among many useful features are a `vespa feed` command that is the recommended way of feeding large datasets into Vespa.\n",
    "This is optimized for high feeding performance, and it will be interesting to get a feel for how performant feeding to a local Vespa instance is using the CLI.\n",
    "\n",
    "Note that comparing feeding with the CLI is not entirely fair, as the CLI relies on prepared data files, while the pyvespa methods are streaming the data before feeding it.\n"
   ]
  },
  {
   "cell_type": "markdown",
   "id": "f82d48fd",
   "metadata": {},
   "source": [
    "## Prepare the data for Vespa CLI\n",
    "\n",
    "Vespa CLI can feed data from either many .json files or a single .jsonl file with many documents.\n",
    "The json format needs to be in the following format:\n",
    "\n",
    "```json\n",
    "{\n",
    "  \"put\": \"id:namespace:document-type::document-id\",\n",
    "  \"fields\": {\n",
    "    \"field1\": \"value1\",\n",
    "    \"field2\": \"value2\"\n",
    "  }\n",
    "}\n",
    "```\n",
    "\n",
    "Where, `put` is the document operation in this case. Other allowed operations are `get`, `update` and `remove`.\n",
    "\n",
    "For reference, see https://docs.vespa.ai/en/vespa-cli#cheat-sheet\n",
    "\n",
    "### Getting the datasets as .jsonl files\n",
    "\n",
    "Now, let`s save the dataset to 3 different jsonl files of 1k, 10k, and 100k documents.\n"
   ]
  },
  {
   "cell_type": "code",
   "execution_count": 22,
   "id": "9b377ee3",
   "metadata": {},
   "outputs": [
    {
     "name": "stdout",
     "output_type": "stream",
     "text": [
      "Getting dataset with 10000 docs...\n"
     ]
    },
    {
     "data": {
      "application/vnd.jupyter.widget-view+json": {
       "model_id": "31be2b06551d4d2abd581ca354ee9fd8",
       "version_major": 2,
       "version_minor": 0
      },
      "text/plain": [
       "Creating json from Arrow format:   0%|          | 0/10 [00:00<?, ?ba/s]"
      ]
     },
     "metadata": {},
     "output_type": "display_data"
    }
   ],
   "source": [
    "for n in num_docs:\n",
    "    print(f\"Getting dataset with {n} docs...\")\n",
    "    # First, let's load the dataset in non-streaming mode this time, as we want to save it to a jsonl file\n",
    "    dataset_cli = load_dataset(\n",
    "        \"Cohere/wikipedia-2023-11-embed-multilingual-v3\",\n",
    "        \"simple\",\n",
    "        split=f\"train[:{n}]\",  # Notice the slicing here, see https://huggingface.co/docs/datasets/loading#slice-splits\n",
    "        streaming=False,\n",
    "    )\n",
    "    # Map to the format expected by the CLI.\n",
    "    # Note that this differs a little bit from the format expected by the Python API.\n",
    "    dataset_cli = dataset_cli.map(\n",
    "        lambda x: {\n",
    "            \"put\": f\"id:pyvespa-feed:doc::{x['_id']}-json\",\n",
    "            \"fields\": {\"text\": x[\"text\"]},\n",
    "        }\n",
    "    ).select_columns([\"put\", \"fields\"])\n",
    "    # Save to a jsonl file\n",
    "    assert len(dataset_cli) == n\n",
    "    dataset_cli.to_json(f\"vespa_feed-{n}.json\", orient=\"records\", lines=True)"
   ]
  },
  {
   "cell_type": "markdown",
   "id": "fe173828",
   "metadata": {},
   "source": [
    "Let's look at the first line of one of the saved files to verify the format.\n"
   ]
  },
  {
   "cell_type": "code",
   "execution_count": 23,
   "id": "cd95d014",
   "metadata": {},
   "outputs": [
    {
     "name": "stdout",
     "output_type": "stream",
     "text": [
      "{'fields': {'text': 'April (Apr.) is the fourth month of the year in the '\n",
      "                    'Julian and Gregorian calendars, and comes between March '\n",
      "                    'and May. It is one of the four months to have 30 days.'},\n",
      " 'put': 'id:pyvespa-feed:doc::20231101.simple_1_0-json'}\n"
     ]
    }
   ],
   "source": [
    "from pprint import pprint\n",
    "import json\n",
    "\n",
    "with open(\"vespa_feed-1000.json\", \"r\") as f:\n",
    "    sample = f.readline()\n",
    "    pprint(json.loads(sample))"
   ]
  },
  {
   "cell_type": "markdown",
   "id": "68374774",
   "metadata": {},
   "source": [
    "Ok, now we are ready to feed the data using Vespa CLI.\n",
    "We also want to capture the output of feed statistics for each file.\n"
   ]
  },
  {
   "cell_type": "code",
   "execution_count": 24,
   "id": "2ea17d30",
   "metadata": {},
   "outputs": [
    {
     "name": "stdout",
     "output_type": "stream",
     "text": [
      "Feeding 10000 docs...\n",
      "{'feeder.error.count': 0,\n",
      " 'feeder.inflight.count': 0,\n",
      " 'feeder.ok.count': 10000,\n",
      " 'feeder.ok.rate': 10000.0,\n",
      " 'feeder.operation.count': 10000,\n",
      " 'feeder.seconds': 0.632,\n",
      " 'http.exception.count': 0,\n",
      " 'http.request.MBps': 2.906,\n",
      " 'http.request.bytes': 2905878,\n",
      " 'http.request.count': 10000,\n",
      " 'http.response.MBps': 1.317,\n",
      " 'http.response.bytes': 1317226,\n",
      " 'http.response.code.counts': {'200': 10000},\n",
      " 'http.response.count': 10000,\n",
      " 'http.response.error.count': 0,\n",
      " 'http.response.latency.millis.avg': 76,\n",
      " 'http.response.latency.millis.max': 123,\n",
      " 'http.response.latency.millis.min': 28}\n"
     ]
    }
   ],
   "source": [
    "cli_results = {}\n",
    "for n in num_docs:\n",
    "    print(f\"Feeding {n} docs...\")\n",
    "    output_list = !vespa feed vespa_feed-{n}.json\n",
    "    results = json.loads(\"\".join(output_list))\n",
    "    pprint(results)\n",
    "    cli_results[n] = results"
   ]
  },
  {
   "cell_type": "code",
   "execution_count": 25,
   "id": "be2c18ae",
   "metadata": {},
   "outputs": [
    {
     "data": {
      "text/plain": [
       "{10000: {'feeder.operation.count': 10000,\n",
       "  'feeder.seconds': 0.632,\n",
       "  'feeder.ok.count': 10000,\n",
       "  'feeder.ok.rate': 10000.0,\n",
       "  'feeder.error.count': 0,\n",
       "  'feeder.inflight.count': 0,\n",
       "  'http.request.count': 10000,\n",
       "  'http.request.bytes': 2905878,\n",
       "  'http.request.MBps': 2.906,\n",
       "  'http.exception.count': 0,\n",
       "  'http.response.count': 10000,\n",
       "  'http.response.bytes': 1317226,\n",
       "  'http.response.MBps': 1.317,\n",
       "  'http.response.error.count': 0,\n",
       "  'http.response.latency.millis.min': 28,\n",
       "  'http.response.latency.millis.avg': 76,\n",
       "  'http.response.latency.millis.max': 123,\n",
       "  'http.response.code.counts': {'200': 10000}}}"
      ]
     },
     "execution_count": 25,
     "metadata": {},
     "output_type": "execute_result"
    }
   ],
   "source": [
    "cli_results"
   ]
  },
  {
   "cell_type": "code",
   "execution_count": 26,
   "id": "812bac07",
   "metadata": {},
   "outputs": [
    {
     "data": {
      "text/html": [
       "<div>\n",
       "<style scoped>\n",
       "    .dataframe tbody tr th:only-of-type {\n",
       "        vertical-align: middle;\n",
       "    }\n",
       "\n",
       "    .dataframe tbody tr th {\n",
       "        vertical-align: top;\n",
       "    }\n",
       "\n",
       "    .dataframe thead th {\n",
       "        text-align: right;\n",
       "    }\n",
       "</style>\n",
       "<table border=\"1\" class=\"dataframe\">\n",
       "  <thead>\n",
       "    <tr style=\"text-align: right;\">\n",
       "      <th></th>\n",
       "      <th>name</th>\n",
       "      <th>num_docs</th>\n",
       "      <th>max_connections</th>\n",
       "      <th>function_name</th>\n",
       "      <th>max_workers</th>\n",
       "      <th>max_queue_size</th>\n",
       "      <th>feed_time</th>\n",
       "      <th>requests_per_second</th>\n",
       "    </tr>\n",
       "  </thead>\n",
       "  <tbody>\n",
       "    <tr>\n",
       "      <th>0</th>\n",
       "      <td>10000_cli</td>\n",
       "      <td>10000</td>\n",
       "      <td>unknown</td>\n",
       "      <td>cli</td>\n",
       "      <td>unknown</td>\n",
       "      <td>n/a</td>\n",
       "      <td>0.632</td>\n",
       "      <td>15822.78481</td>\n",
       "    </tr>\n",
       "  </tbody>\n",
       "</table>\n",
       "</div>"
      ],
      "text/plain": [
       "        name  num_docs max_connections function_name max_workers  \\\n",
       "0  10000_cli     10000         unknown           cli     unknown   \n",
       "\n",
       "  max_queue_size  feed_time  requests_per_second  \n",
       "0            n/a      0.632          15822.78481  "
      ]
     },
     "execution_count": 26,
     "metadata": {},
     "output_type": "execute_result"
    }
   ],
   "source": [
    "# Let's add the CLI results to the DataFrame\n",
    "df_cli = pd.DataFrame(\n",
    "    [\n",
    "        {\n",
    "            \"name\": f\"{n}_cli\",\n",
    "            \"num_docs\": n,\n",
    "            \"max_connections\": \"unknown\",\n",
    "            \"function_name\": \"cli\",\n",
    "            \"max_workers\": \"unknown\",\n",
    "            \"max_queue_size\": \"n/a\",\n",
    "            \"feed_time\": result[\"feeder.seconds\"],\n",
    "        }\n",
    "        for n, result in cli_results.items()\n",
    "    ]\n",
    ")\n",
    "df_cli[\"requests_per_second\"] = df_cli[\"num_docs\"] / df_cli[\"feed_time\"]\n",
    "df_cli"
   ]
  },
  {
   "cell_type": "code",
   "execution_count": 27,
   "id": "b3395710",
   "metadata": {},
   "outputs": [
    {
     "data": {
      "application/vnd.plotly.v1+json": {
       "config": {
        "plotlyServerURL": "https://plot.ly"
       },
       "data": [
        {
         "customdata": [
          [
           null,
           null,
           16,
           null
          ],
          [
           null,
           null,
           64,
           null
          ]
         ],
         "hovertemplate": "function_name=feed_sync<br>Number of Documents=%{x}<br>Requests per Second=%{y}<br>max_workers=%{customdata[0]}<br>max_queue_size=%{customdata[1]}<br>max_connections=%{customdata[2]}<br>num_concurrent_requests=%{customdata[3]}<extra></extra>",
         "legendgroup": "feed_sync",
         "marker": {
          "color": "#636efa",
          "opacity": 0.7,
          "size": 12,
          "symbol": "circle"
         },
         "mode": "markers",
         "name": "feed_sync",
         "orientation": "v",
         "showlegend": true,
         "type": "scatter",
         "x": [
          10000,
          10000
         ],
         "xaxis": "x",
         "y": [
          202.73498088341412,
          250.96825948936063
         ],
         "yaxis": "y"
        },
        {
         "customdata": [
          [
           null,
           null,
           16,
           1000
          ],
          [
           null,
           null,
           16,
           10000
          ],
          [
           null,
           null,
           64,
           1000
          ],
          [
           null,
           null,
           64,
           10000
          ]
         ],
         "hovertemplate": "function_name=feed_async<br>Number of Documents=%{x}<br>Requests per Second=%{y}<br>max_workers=%{customdata[0]}<br>max_queue_size=%{customdata[1]}<br>max_connections=%{customdata[2]}<br>num_concurrent_requests=%{customdata[3]}<extra></extra>",
         "legendgroup": "feed_async",
         "marker": {
          "color": "#EF553B",
          "opacity": 0.7,
          "size": 12,
          "symbol": "circle"
         },
         "mode": "markers",
         "name": "feed_async",
         "orientation": "v",
         "showlegend": true,
         "type": "scatter",
         "x": [
          10000,
          10000,
          10000,
          10000
         ],
         "xaxis": "x",
         "y": [
          308.70118158920656,
          308.20351697184026,
          306.92246895419584,
          308.5124878958632
         ],
         "yaxis": "y"
        },
        {
         "customdata": [
          [
           16,
           1000,
           64,
           null
          ],
          [
           16,
           10000,
           64,
           null
          ],
          [
           64,
           1000,
           64,
           null
          ],
          [
           64,
           10000,
           64,
           null
          ],
          [
           16,
           1000,
           128,
           null
          ],
          [
           16,
           10000,
           128,
           null
          ],
          [
           64,
           1000,
           128,
           null
          ],
          [
           64,
           10000,
           128,
           null
          ]
         ],
         "hovertemplate": "function_name=feed_iterable<br>Number of Documents=%{x}<br>Requests per Second=%{y}<br>max_workers=%{customdata[0]}<br>max_queue_size=%{customdata[1]}<br>max_connections=%{customdata[2]}<br>num_concurrent_requests=%{customdata[3]}<extra></extra>",
         "legendgroup": "feed_iterable",
         "marker": {
          "color": "#00cc96",
          "opacity": 0.7,
          "size": 12,
          "symbol": "circle"
         },
         "mode": "markers",
         "name": "feed_iterable",
         "orientation": "v",
         "showlegend": true,
         "type": "scatter",
         "x": [
          10000,
          10000,
          10000,
          10000,
          10000,
          10000,
          10000,
          10000
         ],
         "xaxis": "x",
         "y": [
          421.93208172507696,
          306.06880675325954,
          494.6538096503478,
          493.5882078579243,
          420.9657631700644,
          326.66915038725676,
          497.3265005893615,
          488.03101101747313
         ],
         "yaxis": "y"
        },
        {
         "customdata": [
          [
           "unknown",
           "n/a",
           "unknown",
           null
          ]
         ],
         "hovertemplate": "function_name=cli<br>Number of Documents=%{x}<br>Requests per Second=%{y}<br>max_workers=%{customdata[0]}<br>max_queue_size=%{customdata[1]}<br>max_connections=%{customdata[2]}<br>num_concurrent_requests=%{customdata[3]}<extra></extra>",
         "legendgroup": "cli",
         "marker": {
          "color": "#ab63fa",
          "opacity": 0.7,
          "size": 12,
          "symbol": "circle"
         },
         "mode": "markers",
         "name": "cli",
         "orientation": "v",
         "showlegend": true,
         "type": "scatter",
         "x": [
          10000
         ],
         "xaxis": "x",
         "y": [
          15822.784810126584
         ],
         "yaxis": "y"
        }
       ],
       "layout": {
        "font": {
         "size": 16
        },
        "legend": {
         "title": {
          "font": {
           "size": 16
          },
          "text": "Function Details"
         },
         "tracegroupgap": 0,
         "x": 800,
         "xanchor": "auto",
         "y": 1,
         "yanchor": "auto"
        },
        "template": {
         "data": {
          "bar": [
           {
            "error_x": {
             "color": "#2a3f5f"
            },
            "error_y": {
             "color": "#2a3f5f"
            },
            "marker": {
             "line": {
              "color": "white",
              "width": 0.5
             },
             "pattern": {
              "fillmode": "overlay",
              "size": 10,
              "solidity": 0.2
             }
            },
            "type": "bar"
           }
          ],
          "barpolar": [
           {
            "marker": {
             "line": {
              "color": "white",
              "width": 0.5
             },
             "pattern": {
              "fillmode": "overlay",
              "size": 10,
              "solidity": 0.2
             }
            },
            "type": "barpolar"
           }
          ],
          "carpet": [
           {
            "aaxis": {
             "endlinecolor": "#2a3f5f",
             "gridcolor": "#C8D4E3",
             "linecolor": "#C8D4E3",
             "minorgridcolor": "#C8D4E3",
             "startlinecolor": "#2a3f5f"
            },
            "baxis": {
             "endlinecolor": "#2a3f5f",
             "gridcolor": "#C8D4E3",
             "linecolor": "#C8D4E3",
             "minorgridcolor": "#C8D4E3",
             "startlinecolor": "#2a3f5f"
            },
            "type": "carpet"
           }
          ],
          "choropleth": [
           {
            "colorbar": {
             "outlinewidth": 0,
             "ticks": ""
            },
            "type": "choropleth"
           }
          ],
          "contour": [
           {
            "colorbar": {
             "outlinewidth": 0,
             "ticks": ""
            },
            "colorscale": [
             [
              0,
              "#0d0887"
             ],
             [
              0.1111111111111111,
              "#46039f"
             ],
             [
              0.2222222222222222,
              "#7201a8"
             ],
             [
              0.3333333333333333,
              "#9c179e"
             ],
             [
              0.4444444444444444,
              "#bd3786"
             ],
             [
              0.5555555555555556,
              "#d8576b"
             ],
             [
              0.6666666666666666,
              "#ed7953"
             ],
             [
              0.7777777777777778,
              "#fb9f3a"
             ],
             [
              0.8888888888888888,
              "#fdca26"
             ],
             [
              1,
              "#f0f921"
             ]
            ],
            "type": "contour"
           }
          ],
          "contourcarpet": [
           {
            "colorbar": {
             "outlinewidth": 0,
             "ticks": ""
            },
            "type": "contourcarpet"
           }
          ],
          "heatmap": [
           {
            "colorbar": {
             "outlinewidth": 0,
             "ticks": ""
            },
            "colorscale": [
             [
              0,
              "#0d0887"
             ],
             [
              0.1111111111111111,
              "#46039f"
             ],
             [
              0.2222222222222222,
              "#7201a8"
             ],
             [
              0.3333333333333333,
              "#9c179e"
             ],
             [
              0.4444444444444444,
              "#bd3786"
             ],
             [
              0.5555555555555556,
              "#d8576b"
             ],
             [
              0.6666666666666666,
              "#ed7953"
             ],
             [
              0.7777777777777778,
              "#fb9f3a"
             ],
             [
              0.8888888888888888,
              "#fdca26"
             ],
             [
              1,
              "#f0f921"
             ]
            ],
            "type": "heatmap"
           }
          ],
          "heatmapgl": [
           {
            "colorbar": {
             "outlinewidth": 0,
             "ticks": ""
            },
            "colorscale": [
             [
              0,
              "#0d0887"
             ],
             [
              0.1111111111111111,
              "#46039f"
             ],
             [
              0.2222222222222222,
              "#7201a8"
             ],
             [
              0.3333333333333333,
              "#9c179e"
             ],
             [
              0.4444444444444444,
              "#bd3786"
             ],
             [
              0.5555555555555556,
              "#d8576b"
             ],
             [
              0.6666666666666666,
              "#ed7953"
             ],
             [
              0.7777777777777778,
              "#fb9f3a"
             ],
             [
              0.8888888888888888,
              "#fdca26"
             ],
             [
              1,
              "#f0f921"
             ]
            ],
            "type": "heatmapgl"
           }
          ],
          "histogram": [
           {
            "marker": {
             "pattern": {
              "fillmode": "overlay",
              "size": 10,
              "solidity": 0.2
             }
            },
            "type": "histogram"
           }
          ],
          "histogram2d": [
           {
            "colorbar": {
             "outlinewidth": 0,
             "ticks": ""
            },
            "colorscale": [
             [
              0,
              "#0d0887"
             ],
             [
              0.1111111111111111,
              "#46039f"
             ],
             [
              0.2222222222222222,
              "#7201a8"
             ],
             [
              0.3333333333333333,
              "#9c179e"
             ],
             [
              0.4444444444444444,
              "#bd3786"
             ],
             [
              0.5555555555555556,
              "#d8576b"
             ],
             [
              0.6666666666666666,
              "#ed7953"
             ],
             [
              0.7777777777777778,
              "#fb9f3a"
             ],
             [
              0.8888888888888888,
              "#fdca26"
             ],
             [
              1,
              "#f0f921"
             ]
            ],
            "type": "histogram2d"
           }
          ],
          "histogram2dcontour": [
           {
            "colorbar": {
             "outlinewidth": 0,
             "ticks": ""
            },
            "colorscale": [
             [
              0,
              "#0d0887"
             ],
             [
              0.1111111111111111,
              "#46039f"
             ],
             [
              0.2222222222222222,
              "#7201a8"
             ],
             [
              0.3333333333333333,
              "#9c179e"
             ],
             [
              0.4444444444444444,
              "#bd3786"
             ],
             [
              0.5555555555555556,
              "#d8576b"
             ],
             [
              0.6666666666666666,
              "#ed7953"
             ],
             [
              0.7777777777777778,
              "#fb9f3a"
             ],
             [
              0.8888888888888888,
              "#fdca26"
             ],
             [
              1,
              "#f0f921"
             ]
            ],
            "type": "histogram2dcontour"
           }
          ],
          "mesh3d": [
           {
            "colorbar": {
             "outlinewidth": 0,
             "ticks": ""
            },
            "type": "mesh3d"
           }
          ],
          "parcoords": [
           {
            "line": {
             "colorbar": {
              "outlinewidth": 0,
              "ticks": ""
             }
            },
            "type": "parcoords"
           }
          ],
          "pie": [
           {
            "automargin": true,
            "type": "pie"
           }
          ],
          "scatter": [
           {
            "fillpattern": {
             "fillmode": "overlay",
             "size": 10,
             "solidity": 0.2
            },
            "type": "scatter"
           }
          ],
          "scatter3d": [
           {
            "line": {
             "colorbar": {
              "outlinewidth": 0,
              "ticks": ""
             }
            },
            "marker": {
             "colorbar": {
              "outlinewidth": 0,
              "ticks": ""
             }
            },
            "type": "scatter3d"
           }
          ],
          "scattercarpet": [
           {
            "marker": {
             "colorbar": {
              "outlinewidth": 0,
              "ticks": ""
             }
            },
            "type": "scattercarpet"
           }
          ],
          "scattergeo": [
           {
            "marker": {
             "colorbar": {
              "outlinewidth": 0,
              "ticks": ""
             }
            },
            "type": "scattergeo"
           }
          ],
          "scattergl": [
           {
            "marker": {
             "colorbar": {
              "outlinewidth": 0,
              "ticks": ""
             }
            },
            "type": "scattergl"
           }
          ],
          "scattermapbox": [
           {
            "marker": {
             "colorbar": {
              "outlinewidth": 0,
              "ticks": ""
             }
            },
            "type": "scattermapbox"
           }
          ],
          "scatterpolar": [
           {
            "marker": {
             "colorbar": {
              "outlinewidth": 0,
              "ticks": ""
             }
            },
            "type": "scatterpolar"
           }
          ],
          "scatterpolargl": [
           {
            "marker": {
             "colorbar": {
              "outlinewidth": 0,
              "ticks": ""
             }
            },
            "type": "scatterpolargl"
           }
          ],
          "scatterternary": [
           {
            "marker": {
             "colorbar": {
              "outlinewidth": 0,
              "ticks": ""
             }
            },
            "type": "scatterternary"
           }
          ],
          "surface": [
           {
            "colorbar": {
             "outlinewidth": 0,
             "ticks": ""
            },
            "colorscale": [
             [
              0,
              "#0d0887"
             ],
             [
              0.1111111111111111,
              "#46039f"
             ],
             [
              0.2222222222222222,
              "#7201a8"
             ],
             [
              0.3333333333333333,
              "#9c179e"
             ],
             [
              0.4444444444444444,
              "#bd3786"
             ],
             [
              0.5555555555555556,
              "#d8576b"
             ],
             [
              0.6666666666666666,
              "#ed7953"
             ],
             [
              0.7777777777777778,
              "#fb9f3a"
             ],
             [
              0.8888888888888888,
              "#fdca26"
             ],
             [
              1,
              "#f0f921"
             ]
            ],
            "type": "surface"
           }
          ],
          "table": [
           {
            "cells": {
             "fill": {
              "color": "#EBF0F8"
             },
             "line": {
              "color": "white"
             }
            },
            "header": {
             "fill": {
              "color": "#C8D4E3"
             },
             "line": {
              "color": "white"
             }
            },
            "type": "table"
           }
          ]
         },
         "layout": {
          "annotationdefaults": {
           "arrowcolor": "#2a3f5f",
           "arrowhead": 0,
           "arrowwidth": 1
          },
          "autotypenumbers": "strict",
          "coloraxis": {
           "colorbar": {
            "outlinewidth": 0,
            "ticks": ""
           }
          },
          "colorscale": {
           "diverging": [
            [
             0,
             "#8e0152"
            ],
            [
             0.1,
             "#c51b7d"
            ],
            [
             0.2,
             "#de77ae"
            ],
            [
             0.3,
             "#f1b6da"
            ],
            [
             0.4,
             "#fde0ef"
            ],
            [
             0.5,
             "#f7f7f7"
            ],
            [
             0.6,
             "#e6f5d0"
            ],
            [
             0.7,
             "#b8e186"
            ],
            [
             0.8,
             "#7fbc41"
            ],
            [
             0.9,
             "#4d9221"
            ],
            [
             1,
             "#276419"
            ]
           ],
           "sequential": [
            [
             0,
             "#0d0887"
            ],
            [
             0.1111111111111111,
             "#46039f"
            ],
            [
             0.2222222222222222,
             "#7201a8"
            ],
            [
             0.3333333333333333,
             "#9c179e"
            ],
            [
             0.4444444444444444,
             "#bd3786"
            ],
            [
             0.5555555555555556,
             "#d8576b"
            ],
            [
             0.6666666666666666,
             "#ed7953"
            ],
            [
             0.7777777777777778,
             "#fb9f3a"
            ],
            [
             0.8888888888888888,
             "#fdca26"
            ],
            [
             1,
             "#f0f921"
            ]
           ],
           "sequentialminus": [
            [
             0,
             "#0d0887"
            ],
            [
             0.1111111111111111,
             "#46039f"
            ],
            [
             0.2222222222222222,
             "#7201a8"
            ],
            [
             0.3333333333333333,
             "#9c179e"
            ],
            [
             0.4444444444444444,
             "#bd3786"
            ],
            [
             0.5555555555555556,
             "#d8576b"
            ],
            [
             0.6666666666666666,
             "#ed7953"
            ],
            [
             0.7777777777777778,
             "#fb9f3a"
            ],
            [
             0.8888888888888888,
             "#fdca26"
            ],
            [
             1,
             "#f0f921"
            ]
           ]
          },
          "colorway": [
           "#636efa",
           "#EF553B",
           "#00cc96",
           "#ab63fa",
           "#FFA15A",
           "#19d3f3",
           "#FF6692",
           "#B6E880",
           "#FF97FF",
           "#FECB52"
          ],
          "font": {
           "color": "#2a3f5f"
          },
          "geo": {
           "bgcolor": "white",
           "lakecolor": "white",
           "landcolor": "white",
           "showlakes": true,
           "showland": true,
           "subunitcolor": "#C8D4E3"
          },
          "hoverlabel": {
           "align": "left"
          },
          "hovermode": "closest",
          "mapbox": {
           "style": "light"
          },
          "paper_bgcolor": "white",
          "plot_bgcolor": "white",
          "polar": {
           "angularaxis": {
            "gridcolor": "#EBF0F8",
            "linecolor": "#EBF0F8",
            "ticks": ""
           },
           "bgcolor": "white",
           "radialaxis": {
            "gridcolor": "#EBF0F8",
            "linecolor": "#EBF0F8",
            "ticks": ""
           }
          },
          "scene": {
           "xaxis": {
            "backgroundcolor": "white",
            "gridcolor": "#DFE8F3",
            "gridwidth": 2,
            "linecolor": "#EBF0F8",
            "showbackground": true,
            "ticks": "",
            "zerolinecolor": "#EBF0F8"
           },
           "yaxis": {
            "backgroundcolor": "white",
            "gridcolor": "#DFE8F3",
            "gridwidth": 2,
            "linecolor": "#EBF0F8",
            "showbackground": true,
            "ticks": "",
            "zerolinecolor": "#EBF0F8"
           },
           "zaxis": {
            "backgroundcolor": "white",
            "gridcolor": "#DFE8F3",
            "gridwidth": 2,
            "linecolor": "#EBF0F8",
            "showbackground": true,
            "ticks": "",
            "zerolinecolor": "#EBF0F8"
           }
          },
          "shapedefaults": {
           "line": {
            "color": "#2a3f5f"
           }
          },
          "ternary": {
           "aaxis": {
            "gridcolor": "#DFE8F3",
            "linecolor": "#A2B1C6",
            "ticks": ""
           },
           "baxis": {
            "gridcolor": "#DFE8F3",
            "linecolor": "#A2B1C6",
            "ticks": ""
           },
           "bgcolor": "white",
           "caxis": {
            "gridcolor": "#DFE8F3",
            "linecolor": "#A2B1C6",
            "ticks": ""
           }
          },
          "title": {
           "x": 0.05
          },
          "xaxis": {
           "automargin": true,
           "gridcolor": "#EBF0F8",
           "linecolor": "#EBF0F8",
           "ticks": "",
           "title": {
            "standoff": 15
           },
           "zerolinecolor": "#EBF0F8",
           "zerolinewidth": 2
          },
          "yaxis": {
           "automargin": true,
           "gridcolor": "#EBF0F8",
           "linecolor": "#EBF0F8",
           "ticks": "",
           "title": {
            "standoff": 15
           },
           "zerolinecolor": "#EBF0F8",
           "zerolinewidth": 2
          }
         }
        },
        "title": {
         "text": "Performance: Requests per Second vs. Number of Documents"
        },
        "width": 800,
        "xaxis": {
         "anchor": "y",
         "domain": [
          0,
          1
         ],
         "ticktext": [
          "1k",
          "10k",
          "100k"
         ],
         "tickvals": [
          1000,
          10000,
          100000
         ],
         "title": {
          "text": "Number of Documents"
         },
         "type": "log"
        },
        "yaxis": {
         "anchor": "x",
         "domain": [
          0,
          1
         ],
         "title": {
          "text": "Requests per Second"
         }
        }
       }
      }
     },
     "metadata": {},
     "output_type": "display_data"
    }
   ],
   "source": [
    "df_total = pd.concat([df, df_cli])\n",
    "\n",
    "plot_performance(df_total)"
   ]
  },
  {
   "cell_type": "markdown",
   "id": "65295a17",
   "metadata": {},
   "source": [
    "And here is the corresponding plot when run with 1k, 10k, and 100k documents:\n"
   ]
  },
  {
   "cell_type": "markdown",
   "id": "0ce5a4ad",
   "metadata": {},
   "source": [
    "![image](../../_static/feed_performance-cli.png)\n"
   ]
  },
  {
   "cell_type": "markdown",
   "id": "1f745d73",
   "metadata": {},
   "source": [
    "As you can tell, the CLI is orders of magnitude faster.\n"
   ]
  },
  {
   "cell_type": "markdown",
   "id": "18fc6282",
   "metadata": {},
   "source": [
    "## Conclusion\n"
   ]
  },
  {
   "cell_type": "markdown",
   "id": "2d91581b",
   "metadata": {},
   "source": [
    "- Prefer to use the CLI if you care about performance. 🚀\n",
    "- If you are using Python, prefer the async method, as it is the fastest way to feed data using `pyvespa`.\n"
   ]
  },
  {
   "cell_type": "markdown",
   "id": "28591491",
   "metadata": {},
   "source": [
    "## Cleanup\n"
   ]
  },
  {
   "cell_type": "code",
   "execution_count": 28,
   "id": "e5064bd2",
   "metadata": {},
   "outputs": [],
   "source": [
    "app.delete()"
   ]
  },
  {
   "cell_type": "markdown",
   "id": "d1872b31",
   "metadata": {},
   "source": [
    "## Next steps\n",
    "\n",
    "Check out some of the other\n",
    "[examples](https://pyvespa.readthedocs.io/en/latest/examples.html) in the documentation.\n"
   ]
  }
 ],
 "metadata": {
  "kernelspec": {
   "display_name": "Python 3 (ipykernel)",
   "language": "python",
   "name": "python3"
  },
  "language_info": {
   "codemirror_mode": {
    "name": "ipython",
    "version": 3
   },
   "file_extension": ".py",
   "mimetype": "text/x-python",
   "name": "python",
   "nbconvert_exporter": "python",
   "pygments_lexer": "ipython3",
   "version": "3.9.6"
  },
  "vscode": {
   "interpreter": {
    "hash": "b0fa6594d8f4cbf19f97940f81e996739fb7646882a419484c72d19e05852a7e"
   }
  }
 },
 "nbformat": 4,
 "nbformat_minor": 5
}
